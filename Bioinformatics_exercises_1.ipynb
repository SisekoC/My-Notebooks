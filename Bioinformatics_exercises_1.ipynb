{
  "nbformat": 4,
  "nbformat_minor": 0,
  "metadata": {
    "colab": {
      "provenance": [],
      "authorship_tag": "ABX9TyP0nhP/Tb62Z+L0yQFh1xTn",
      "include_colab_link": true
    },
    "kernelspec": {
      "name": "python3",
      "display_name": "Python 3"
    },
    "language_info": {
      "name": "python"
    }
  },
  "cells": [
    {
      "cell_type": "markdown",
      "metadata": {
        "id": "view-in-github",
        "colab_type": "text"
      },
      "source": [
        "<a href=\"https://colab.research.google.com/github/SisekoC/My-Notebooks/blob/main/Bioinformatics_exercises_1.ipynb\" target=\"_parent\"><img src=\"https://colab.research.google.com/assets/colab-badge.svg\" alt=\"Open In Colab\"/></a>"
      ]
    },
    {
      "cell_type": "markdown",
      "source": [
        "### Chapter 4 exercises"
      ],
      "metadata": {
        "id": "WPSsvtpcge5G"
      }
    },
    {
      "cell_type": "markdown",
      "source": [
        "1 Write a program that reads a DNA sequence, converts it to capital letters, and counts how\n",
        " many nucleotides are purines and pyrimidines."
      ],
      "metadata": {
        "id": "7lj0Bs3BgxMP"
      }
    },
    {
      "cell_type": "code",
      "execution_count": 4,
      "metadata": {
        "colab": {
          "base_uri": "https://localhost:8080/"
        },
        "id": "hhicmvxHgVfi",
        "outputId": "2f0a887b-57bb-468f-b443-1620c4466a7e"
      },
      "outputs": [
        {
          "output_type": "stream",
          "name": "stdout",
          "text": [
            "Purines count: 28\n",
            "Pyrimidines count: 28\n"
          ]
        }
      ],
      "source": [
        "def count_nucleotides(dna_sequence):\n",
        "  # Convert DNA sequence to uppercase\n",
        "  dna_sequence = dna_sequence.upper()\n",
        "\n",
        "  # Initialize counts for purines and pyrimidines\n",
        "  purines_count = 0\n",
        "  pyrimidines_count = 0\n",
        "\n",
        "  # Define purines and pyrimidines\n",
        "  purines = {'A', 'G'}\n",
        "  pyrimidines = {'C', 'T'}\n",
        "\n",
        "  # Count the nucleotides\n",
        "  for nucleotide in dna_sequence:\n",
        "    if nucleotide in purines:\n",
        "      purines_count += 1\n",
        "    elif nucleotide in pyrimidines:\n",
        "      pyrimidines_count += 1\n",
        "\n",
        "  return purines_count, pyrimidines_count\n",
        "\n",
        "# Example usage\n",
        "dna_sequence = \"AGTCAGTCTAGCTAGCATCGATCGATCGTAGCTAGCTAGCTAGCTAGCATGCTAGC\"\n",
        "purines_count, pyrimidines_count = count_nucleotides(dna_sequence)\n",
        "\n",
        "print(f\"Purines count: {purines_count}\")\n",
        "print(f\"Pyrimidines count: {pyrimidines_count}\")"
      ]
    },
    {
      "cell_type": "markdown",
      "source": [
        "2 Write a program that reads a DNA sequence and checks if it is equal to its reverse com\n",
        "plement."
      ],
      "metadata": {
        "id": "NnQa06zhj_Fq"
      }
    },
    {
      "cell_type": "code",
      "source": [
        "def reverse_complement(dna_sequence):\n",
        "    # Create a dictionary for complementary bases\n",
        "    complement = {'A': 'T', 'T': 'A', 'C': 'G', 'G': 'C'}\n",
        "\n",
        "    # Generate the reverse complement\n",
        "    rev_comp_sequence = \"\".join(complement[base] for base in reversed(dna_sequence))\n",
        "\n",
        "    return rev_comp_sequence\n",
        "\n",
        "def is_reverse_complement_equal(dna_sequence):\n",
        "    # Convert DNA sequence to uppercase\n",
        "    dna_sequence = dna_sequence.upper()\n",
        "\n",
        "    # Generate the reverse complement\n",
        "    rev_comp_sequence = reverse_complement(dna_sequence)\n",
        "\n",
        "    # Check if the DNA sequence is equal to its reverse complement\n",
        "    return dna_sequence == rev_comp_sequence\n",
        "\n",
        "# Example usage\n",
        "dna_sequence = \"AGTCAGTCTAGCTAGCATCGATCGATCGTAGCTAGCTAGCTAGCTAGCATGCTAGC\"\n",
        "if is_reverse_complement_equal(dna_sequence):\n",
        "    print(\"The DNA sequence is equal to its reverse complement.\")\n",
        "else:\n",
        "    print(\"The DNA sequence is not equal to its reverse complement.\")\n"
      ],
      "metadata": {
        "colab": {
          "base_uri": "https://localhost:8080/"
        },
        "id": "PiLh-XJGh9v3",
        "outputId": "5e6dc2fb-c124-4844-bb6e-1acd367b0077"
      },
      "execution_count": 5,
      "outputs": [
        {
          "output_type": "stream",
          "name": "stdout",
          "text": [
            "The DNA sequence is not equal to its reverse complement.\n"
          ]
        }
      ]
    },
    {
      "cell_type": "markdown",
      "source": [
        "3 Write and test a function that, given a DNA sequence, returns the total number of “CG”\n",
        " duplets contained in it."
      ],
      "metadata": {
        "id": "d0B4TpowkkjA"
      }
    },
    {
      "cell_type": "code",
      "source": [
        "def count_cg_duplets(dna_sequence):\n",
        "    # Convert DNA sequence to uppercase\n",
        "    dna_sequence = dna_sequence.upper()\n",
        "\n",
        "    # Initialize count for \"CG\" duplets\n",
        "    cg_count = 0\n",
        "\n",
        "    # Loop through the DNA sequence and count \"CG\" duplets\n",
        "    for i in range(len(dna_sequence) - 1):\n",
        "        if dna_sequence[i:i+2] == \"CG\":\n",
        "            cg_count += 1\n",
        "\n",
        "    return cg_count\n",
        "\n",
        "# Example usage\n",
        "dna_sequence = \"AGTCAGTCTAGCTAGCATCGATCGATCGTAGCTAGCTAGCTAGCTAGCATGCTAGC\"\n",
        "cg_count = count_cg_duplets(dna_sequence)\n",
        "\n",
        "print(f\"Total number of 'CG' duplets: {cg_count}\")"
      ],
      "metadata": {
        "colab": {
          "base_uri": "https://localhost:8080/"
        },
        "id": "G_aLLMQ1katc",
        "outputId": "30fcac1f-160f-416e-eb23-0c13b8f521cf"
      },
      "execution_count": 7,
      "outputs": [
        {
          "output_type": "stream",
          "name": "stdout",
          "text": [
            "Total number of 'CG' duplets: 3\n"
          ]
        }
      ]
    },
    {
      "cell_type": "markdown",
      "source": [
        "4 Write and test a Python function that, given a DNA sequence, returns the size of the first\n",
        " protein that can be encoded by that sequence (in any of the three reading frames). The\n",
        " function should return −1 if no protein is found."
      ],
      "metadata": {
        "id": "TzvmpZszntiP"
      }
    },
    {
      "cell_type": "code",
      "source": [
        "# A protein-coding sequence starts with the start codon \"ATG\" and ends with a stop codon (\"TAA\", \"TAG\", or \"TGA\")\n",
        "def find_first_protein_size(dna_sequence):\n",
        "    # Convert DNA sequence to uppercase\n",
        "    dna_sequence = dna_sequence.upper()\n",
        "\n",
        "    # Define the start and stop codons\n",
        "    start_codon = \"ATG\"\n",
        "    stop_codons = {\"TAA\", \"TAG\", \"TGA\"}\n",
        "\n",
        "    def find_protein_size(sequence):\n",
        "        # Look for the start codon\n",
        "        start_index = sequence.find(start_codon)\n",
        "\n",
        "        if start_index != -1:\n",
        "            # Look for the stop codon\n",
        "            for i in range(start_index + 3, len(sequence), 3):\n",
        "                codon = sequence[i:i+3]\n",
        "                if codon in stop_codons:\n",
        "                    return (i + 3 - start_index) // 3\n",
        "\n",
        "        return -1\n",
        "\n",
        "    # Check all three reading frames\n",
        "    for frame in range(3):\n",
        "        size = find_protein_size(dna_sequence[frame:])\n",
        "        if size != -1:\n",
        "            return size\n",
        "\n",
        "    return -1\n",
        "\n",
        "# Example usage\n",
        "dna_sequence = \"ATGCGTACGTAGCGTACGTACTGATGCCCTGA\"\n",
        "protein_size = find_first_protein_size(dna_sequence)\n",
        "\n",
        "if protein_size != -1:\n",
        "    print(f\"The size of the first protein is {protein_size} amino acids.\")\n",
        "else:\n",
        "    print(\"No protein found in the given DNA sequence.\")\n"
      ],
      "metadata": {
        "colab": {
          "base_uri": "https://localhost:8080/"
        },
        "id": "tren4Ti2neMp",
        "outputId": "95782e1f-0d7e-475b-9b2d-4c160d97c99e"
      },
      "execution_count": 9,
      "outputs": [
        {
          "output_type": "stream",
          "name": "stdout",
          "text": [
            "The size of the first protein is 4 amino acids.\n"
          ]
        }
      ]
    },
    {
      "cell_type": "markdown",
      "source": [
        "5 Write and test a function that given an amino acid sequence returns a logic value indicating if the sequence can be a protein or not."
      ],
      "metadata": {
        "id": "WHBvdM_Pomok"
      }
    },
    {
      "cell_type": "markdown",
      "source": [
        "To determine if an amino acid sequence can be considered a protein, we'll use the following criteria:\n",
        "\n",
        "1 The sequence starts with a Methionine (M) amino acid, which represents the start codon.\n",
        "\n",
        "2 The sequence ends with a stop codon, represented by the stop amino acids: \"*\".\n",
        "\n",
        "3 The sequence must have a minimum length (e.g., a minimum of 30 amino acids)."
      ],
      "metadata": {
        "id": "VLUqseIppE3a"
      }
    },
    {
      "cell_type": "code",
      "source": [
        "def is_protein(amino_acid_sequence):\n",
        "    # Define minimum length for a protein\n",
        "    min_length = 8\n",
        "\n",
        "    # Check if the sequence starts with Methionine (M), ends with a stop codon (*), and meets the minimum length\n",
        "    if len(amino_acid_sequence) >= min_length and amino_acid_sequence[0] == 'M' and amino_acid_sequence[-1] == '*':\n",
        "        return True\n",
        "    else:\n",
        "        return False\n",
        "\n",
        "# Example usage\n",
        "amino_acid_sequence = \"MABCDEFGHIJKLQRSTUVWXY*\"\n",
        "if is_protein(amino_acid_sequence):\n",
        "    print(\"The sequence can be a protein.\")\n",
        "else:\n",
        "    print(\"The sequence cannot be a protein.\")\n"
      ],
      "metadata": {
        "colab": {
          "base_uri": "https://localhost:8080/"
        },
        "id": "Hx0RWwvJoT6e",
        "outputId": "c878a4dc-9b6c-4171-9e77-d24e8822d73c"
      },
      "execution_count": 22,
      "outputs": [
        {
          "output_type": "stream",
          "name": "stdout",
          "text": [
            "The sequence can be a protein.\n"
          ]
        }
      ]
    },
    {
      "cell_type": "markdown",
      "source": [
        "6 Write and test a Python function that, given a DNA sequence, creates a map (dictionary)\n",
        " with the frequencies of the amino acids it encodes (assuming the translation is initiated in\n",
        " the first position of the DNA sequence). Stop codons should be ignored."
      ],
      "metadata": {
        "id": "tEc5nVbiqY2n"
      }
    },
    {
      "cell_type": "code",
      "source": [
        "def dna_to_protein_frequencies(dna_sequence):\n",
        "    # Convert DNA sequence to uppercase\n",
        "    dna_sequence = dna_sequence.upper()\n",
        "\n",
        "    # Dictionary to store codon to amino acid mappings\n",
        "    codon_table = {\n",
        "        'ATA':'I', 'ATC':'I', 'ATT':'I', 'ATG':'M',\n",
        "        'ACA':'T', 'ACC':'T', 'ACG':'T', 'ACT':'T',\n",
        "        'AAC':'N', 'AAT':'N', 'AAA':'K', 'AAG':'K',\n",
        "        'AGC':'S', 'AGT':'S', 'AGA':'R', 'AGG':'R',\n",
        "        'CTA':'L', 'CTC':'L', 'CTG':'L', 'CTT':'L',\n",
        "        'CCA':'P', 'CCC':'P', 'CCG':'P', 'CCT':'P',\n",
        "        'CAC':'H', 'CAT':'H', 'CAA':'Q', 'CAG':'Q',\n",
        "        'CGA':'R', 'CGC':'R', 'CGG':'R', 'CGT':'R',\n",
        "        'GTA':'V', 'GTC':'V', 'GTG':'V', 'GTT':'V',\n",
        "        'GCA':'A', 'GCC':'A', 'GCG':'A', 'GCT':'A',\n",
        "        'GAC':'D', 'GAT':'D', 'GAA':'E', 'GAG':'E',\n",
        "        'GGA':'G', 'GGC':'G', 'GGG':'G', 'GGT':'G',\n",
        "        'TCA':'S', 'TCC':'S', 'TCG':'S', 'TCT':'S',\n",
        "        'TTC':'F', 'TTT':'F', 'TTA':'L', 'TTG':'L',\n",
        "        'TAC':'Y', 'TAT':'Y', 'TAA':'_', 'TAG':'_', 'TGA':'_',\n",
        "    }\n",
        "\n",
        "    # Dictionary to store amino acid frequencies\n",
        "    amino_acid_freq = {}\n",
        "\n",
        "    # Loop through the DNA sequence and translate to amino acids\n",
        "    for i in range(0, len(dna_sequence), 3):\n",
        "        codon = dna_sequence[i:i+3]\n",
        "        if len(codon) == 3:\n",
        "            amino_acid = codon_table.get(codon, '')\n",
        "            if amino_acid and amino_acid != '_':\n",
        "                amino_acid_freq[amino_acid] = amino_acid_freq.get(amino_acid, 0) + 1\n",
        "\n",
        "    return amino_acid_freq\n",
        "\n",
        "# Example usage\n",
        "dna_sequence = \"ATGCGTACGTAGCGTACGTACTGATGCCCTGA\"\n",
        "amino_acid_freq = dna_to_protein_frequencies(dna_sequence)\n",
        "\n",
        "print(\"Amino acid frequencies:\")\n",
        "for amino_acid, frequency in amino_acid_freq.items():\n",
        "    print(f\"{amino_acid}: {frequency}\")\n"
      ],
      "metadata": {
        "colab": {
          "base_uri": "https://localhost:8080/"
        },
        "id": "98OxhOjMpbXp",
        "outputId": "0a452348-5728-4e36-bbd5-073559ac4c51"
      },
      "execution_count": 24,
      "outputs": [
        {
          "output_type": "stream",
          "name": "stdout",
          "text": [
            "Amino acid frequencies:\n",
            "M: 1\n",
            "R: 2\n",
            "T: 2\n",
            "Y: 1\n",
            "P: 1\n"
          ]
        }
      ]
    },
    {
      "cell_type": "markdown",
      "source": [
        "7 Write a program that reads an aminoacid sequence and a DNA sequence and prints the\n",
        " list of all sub-sequences of the DNA sequence that encode the given protein sequence."
      ],
      "metadata": {
        "id": "1PlBopZbs6qC"
      }
    },
    {
      "cell_type": "code",
      "source": [
        "def get_codon_table():\n",
        "    return {\n",
        "        'ATA': 'I', 'ATC': 'I', 'ATT': 'I', 'ATG': 'M',\n",
        "        'ACA': 'T', 'ACC': 'T', 'ACG': 'T', 'ACT': 'T',\n",
        "        'AAC': 'N', 'AAT': 'N', 'AAA': 'K', 'AAG': 'K',\n",
        "        'AGC': 'S', 'AGT': 'S', 'AGA': 'R', 'AGG': 'R',\n",
        "        'CTA': 'L', 'CTC': 'L', 'CTG': 'L', 'CTT': 'L',\n",
        "        'CCA': 'P', 'CCC': 'P', 'CCG': 'P', 'CCT': 'P',\n",
        "        'CAC': 'H', 'CAT': 'H', 'CAA': 'Q', 'CAG': 'Q',\n",
        "        'CGA': 'R', 'CGC': 'R', 'CGG': 'R', 'CGT': 'R',\n",
        "        'GTA': 'V', 'GTC': 'V', 'GTG': 'V', 'GTT': 'V',\n",
        "        'GCA': 'A', 'GCC': 'A', 'GCG': 'A', 'GCT': 'A',\n",
        "        'GAC': 'D', 'GAT': 'D', 'GAA': 'E', 'GAG': 'E',\n",
        "        'GGA': 'G', 'GGC': 'G', 'GGG': 'G', 'GGT': 'G',\n",
        "        'TCA': 'S', 'TCC': 'S', 'TCG': 'S', 'TCT': 'S',\n",
        "        'TTC': 'F', 'TTT': 'F', 'TTA': 'L', 'TTG': 'L',\n",
        "        'TAC': 'Y', 'TAT': 'Y', 'TAA': '_', 'TAG': '_', 'TGA': '_'\n",
        "    }\n",
        "\n",
        "def translate_dna_to_protein(dna_sequence):\n",
        "    codon_table = get_codon_table()\n",
        "    protein_sequence = \"\"\n",
        "\n",
        "    for i in range(0, len(dna_sequence), 3):\n",
        "        codon = dna_sequence[i:i+3]\n",
        "        if len(codon) == 3:\n",
        "            amino_acid = codon_table.get(codon, '')\n",
        "            if amino_acid == '_':  # Stop codon\n",
        "                break\n",
        "            protein_sequence += amino_acid\n",
        "\n",
        "    return protein_sequence\n",
        "\n",
        "def find_subsequences(dna_sequence, protein_sequence):\n",
        "    subsequences = []\n",
        "    protein_length = len(protein_sequence)\n",
        "    dna_length = len(dna_sequence)\n",
        "    required_length = protein_length * 3\n",
        "\n",
        "    for i in range(dna_length - required_length + 1):\n",
        "        sub_dna = dna_sequence[i:i + required_length]\n",
        "        translated_sequence = translate_dna_to_protein(sub_dna)\n",
        "        if translated_sequence == protein_sequence:\n",
        "            subsequences.append(sub_dna)\n",
        "\n",
        "    return subsequences\n",
        "\n",
        "# Example usage\n",
        "dna_sequence = input(\"Enter a DNA sequence: \")\n",
        "protein_sequence = input(\"Enter an amino acid sequence: \")\n",
        "\n",
        "subsequences = find_subsequences(dna_sequence, protein_sequence)\n",
        "\n",
        "print(\"Sub-sequences of the DNA sequence that encode the given protein sequence:\")\n",
        "for subsequence in subsequences:\n",
        "    print(subsequence)"
      ],
      "metadata": {
        "colab": {
          "base_uri": "https://localhost:8080/"
        },
        "id": "OGz6_g-DvqYg",
        "outputId": "3c495973-716e-4cc4-b3a4-5a95e940d78a"
      },
      "execution_count": 39,
      "outputs": [
        {
          "output_type": "stream",
          "name": "stdout",
          "text": [
            "Enter a DNA sequence: ATGCGTACTACCAAAGCCGCGGAAGATGGGTGGACTATGATTGAGCAGAAACGGTATTTTAA\n",
            "Enter an amino acid sequence: MRTYQKPAEDGWTMIEQKRYF\n",
            "Sub-sequences of the DNA sequence that encode the given protein sequence:\n"
          ]
        }
      ]
    },
    {
      "cell_type": "markdown",
      "source": [
        "8 Write a function that, given a sequence as an argument, allows to detect if there are repeated sub-sequences of size k (the second argument of the function). The result should\n",
        " be a dictionary where keys are sub-sequences and values are the number of times they occur (at least 2). Use the function in a program that reads the sequence and k and prints the\n",
        " result by decreasing frequency."
      ],
      "metadata": {
        "id": "jzIZ2kS10psQ"
      }
    },
    {
      "cell_type": "code",
      "source": [
        "def find_repeated_subsequences(sequence, k):\n",
        "    # Dictionary to store sub-sequences and their frequencies\n",
        "    subsequences_freq = {}\n",
        "\n",
        "    # Loop through the sequence and count sub-sequences of size k\n",
        "    for i in range(len(sequence) - k + 1):\n",
        "        subsequence = sequence[i:i+k]\n",
        "        subsequences_freq[subsequence] = subsequences_freq.get(subsequence, 0) + 1\n",
        "\n",
        "    # Filter out sub-sequences that occur less than twice\n",
        "    repeated_subsequences = {seq: count for seq, count in subsequences_freq.items() if count >= 2}\n",
        "\n",
        "    return repeated_subsequences\n",
        "\n",
        "# Function to read input, call the find_repeated_subsequences function, and print the result\n",
        "def main():\n",
        "    sequence = input(\"Enter the sequence: \")\n",
        "    k = int(input(\"Enter the size of sub-sequences (k): \"))\n",
        "\n",
        "    repeated_subsequences = find_repeated_subsequences(sequence, k)\n",
        "\n",
        "    # Sort the dictionary by decreasing frequency\n",
        "    sorted_repeated_subsequences = dict(sorted(repeated_subsequences.items(), key=lambda item: item[1], reverse=True))\n",
        "\n",
        "    # Print the result\n",
        "    print(\"Repeated sub-sequences of size\", k, \"and their frequencies:\")\n",
        "    for subsequence, frequency in sorted_repeated_subsequences.items():\n",
        "        print(f\"{subsequence}: {frequency}\")\n",
        "\n",
        "# Example usage\n",
        "if __name__ == \"__main__\":\n",
        "    main()\n"
      ],
      "metadata": {
        "colab": {
          "base_uri": "https://localhost:8080/"
        },
        "id": "loq835Ul0PVS",
        "outputId": "86cb6a6f-b261-4c0f-a04a-3f5b7a965237"
      },
      "execution_count": 36,
      "outputs": [
        {
          "output_type": "stream",
          "name": "stdout",
          "text": [
            "Enter the sequence: ACGTACGTAC\n",
            "Enter the size of sub-sequences (k): 3\n",
            "Repeated sub-sequences of size 3 and their frequencies:\n",
            "ACG: 2\n",
            "CGT: 2\n",
            "GTA: 2\n",
            "TAC: 2\n"
          ]
        }
      ]
    }
  ]
}