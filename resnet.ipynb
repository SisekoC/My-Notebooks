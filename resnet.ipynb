{
  "nbformat": 4,
  "nbformat_minor": 0,
  "metadata": {
    "colab": {
      "provenance": [],
      "include_colab_link": true
    },
    "kernelspec": {
      "name": "python3",
      "display_name": "Python 3"
    }
  },
  "cells": [
    {
      "cell_type": "markdown",
      "metadata": {
        "id": "view-in-github",
        "colab_type": "text"
      },
      "source": [
        "<a href=\"https://colab.research.google.com/github/SisekoC/My-Notebooks/blob/main/resnet.ipynb\" target=\"_parent\"><img src=\"https://colab.research.google.com/assets/colab-badge.svg\" alt=\"Open In Colab\"/></a>"
      ]
    },
    {
      "cell_type": "code",
      "metadata": {
        "id": "j3rZ78_veaiL",
        "colab": {
          "base_uri": "https://localhost:8080/"
        },
        "outputId": "08b1babc-236f-4369-dae9-f851a25a6151"
      },
      "source": [
        "import tensorflow as tf\n",
        "from tensorflow.keras.layers import Layer , Conv2D , Dense\n",
        "from tensorflow.keras.models import Model\n",
        "from tensorflow.nn import relu\n",
        "print(\"Version of tensorflow is : \",tf.__version__)"
      ],
      "execution_count": 1,
      "outputs": [
        {
          "output_type": "stream",
          "name": "stdout",
          "text": [
            "Version of tensorflow is :  2.17.0\n"
          ]
        }
      ]
    },
    {
      "cell_type": "code",
      "metadata": {
        "id": "Xf7Hmr97ek5R"
      },
      "source": [
        "class CNNResidual(Layer):\n",
        "    def __init__(self , filter , layers , *kwarg):\n",
        "        super().__init__()\n",
        "        self.convBlock = [Conv2D(filter , (3,3) , activation=relu) for _ in range(layers)]\n",
        "    def call(self , inputs):\n",
        "        x = inputs\n",
        "        for layer in self.convBlock:\n",
        "            x = layer(x)\n",
        "        return inputs + x"
      ],
      "execution_count": 2,
      "outputs": []
    },
    {
      "cell_type": "code",
      "metadata": {
        "id": "AKUOY_PagxIX"
      },
      "source": [
        "class DNNResidual(Layer):\n",
        "    def __init__(self , neurons , layers , *kwarg):\n",
        "        super().__init__()\n",
        "        self.denseBlock = [Dense(neurons , activation=relu) for _ in range(layers)]\n",
        "    def call(self , inputs):\n",
        "        x = inputs\n",
        "        for layer in self.denseBlock:\n",
        "            x = layer(x)\n",
        "        return inputs + x"
      ],
      "execution_count": 3,
      "outputs": []
    },
    {
      "cell_type": "code",
      "metadata": {
        "id": "K-ZmedAPhEWG"
      },
      "source": [
        "class MyComplexModel(Model):\n",
        "    def __init__(self , **kwargs):\n",
        "        super().__init__(kwargs)\n",
        "        self.cnnBlock  = CNNResidual(32 , 2)\n",
        "        self.dnnBlock  = DNNResidual(64 , 2)\n",
        "        self.hiden1    = Dense(32 , activation=relu)\n",
        "        self.output    = Dense(1)\n",
        "    def call(self , input):\n",
        "        x = self.hidden1(input)\n",
        "        x = self.cnnBlock(x)\n",
        "        for _ in range(3):\n",
        "            x = self.dnnBlock(x)\n",
        "        x = self.output(x)\n",
        "\n",
        "        return x"
      ],
      "execution_count": 4,
      "outputs": []
    },
    {
      "cell_type": "code",
      "source": [],
      "metadata": {
        "id": "jI_Wl0YvuJh9"
      },
      "execution_count": null,
      "outputs": []
    }
  ]
}