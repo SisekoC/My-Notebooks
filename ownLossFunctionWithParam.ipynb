{
  "nbformat": 4,
  "nbformat_minor": 0,
  "metadata": {
    "colab": {
      "provenance": [],
      "include_colab_link": true
    },
    "kernelspec": {
      "name": "python3",
      "display_name": "Python 3"
    }
  },
  "cells": [
    {
      "cell_type": "markdown",
      "metadata": {
        "id": "view-in-github",
        "colab_type": "text"
      },
      "source": [
        "<a href=\"https://colab.research.google.com/github/SisekoC/My-Notebooks/blob/main/ownLossFunctionWithParam.ipynb\" target=\"_parent\"><img src=\"https://colab.research.google.com/assets/colab-badge.svg\" alt=\"Open In Colab\"/></a>"
      ]
    },
    {
      "cell_type": "code",
      "metadata": {
        "id": "Ncgsc7irz1CA",
        "colab": {
          "base_uri": "https://localhost:8080/"
        },
        "outputId": "70d94f48-68cb-4744-9cba-58f1df707dcc"
      },
      "source": [
        "import tensorflow as tf\n",
        "from tensorflow.keras.layers import Dense , Input\n",
        "from tensorflow.keras.losses import Loss\n",
        "import numpy as np\n",
        "print(\"Version of tensorflow is : \",tf.__version__)"
      ],
      "execution_count": 1,
      "outputs": [
        {
          "output_type": "stream",
          "name": "stdout",
          "text": [
            "Version of tensorflow is :  2.17.0\n"
          ]
        }
      ]
    },
    {
      "cell_type": "code",
      "metadata": {
        "id": "Ws0g7lwP08_3"
      },
      "source": [
        "xs = np.arange(-5,5,1).astype('float32')\n",
        "ys = xs * 2 - 1"
      ],
      "execution_count": 2,
      "outputs": []
    },
    {
      "cell_type": "markdown",
      "metadata": {
        "id": "Jk-4m7B20X5U"
      },
      "source": [
        "huber loss function **without wrapper**\n",
        "\n",
        "---\n",
        "\n",
        "In that case we can not pass any type of parameter to the function, thresold is the most important parameter in that type of loss function , so we need to tune this."
      ]
    },
    {
      "cell_type": "code",
      "metadata": {
        "id": "c16i1t_m0L5B"
      },
      "source": [
        "def huber_loss(y_true , y_pred):\n",
        "    thresold = 1\n",
        "    error = y_true - y_pred\n",
        "    return_type = tf.abs(error) <= thresold\n",
        "    r1 = 0.5 * tf.square(error)\n",
        "    r2 = thresold * (tf.abs(error) - (0.5*thresold))\n",
        "    return tf.where(return_type , r1 , r2)"
      ],
      "execution_count": 3,
      "outputs": []
    },
    {
      "cell_type": "code",
      "metadata": {
        "colab": {
          "base_uri": "https://localhost:8080/"
        },
        "id": "ffBzHdU5046x",
        "outputId": "ca0bf567-fc5e-4ab6-cb0d-2142c9243ffe"
      },
      "source": [
        "import numpy as np\n",
        "from tensorflow.keras.layers import Input, Dense\n",
        "import tensorflow as tf\n",
        "from tensorflow.keras.losses import Huber\n",
        "\n",
        "# Define the model\n",
        "input = Input(shape=(1,), name=\"input_layer\")\n",
        "output_layer = Dense(1, name=\"output_layer\")(input)\n",
        "model_huber_loss = tf.keras.models.Model(inputs=input, outputs=output_layer)\n",
        "\n",
        "# Compile the model with Huber loss\n",
        "model_huber_loss.compile(optimizer=\"sgd\", loss=Huber())\n",
        "\n",
        "# Fit the model\n",
        "model_huber_loss.fit(xs, ys, epochs=500, verbose=0)\n",
        "\n",
        "# Predict using a NumPy array\n",
        "prediction = model_huber_loss.predict(np.array([[10.0]]))\n",
        "print(prediction)"
      ],
      "execution_count": 5,
      "outputs": [
        {
          "output_type": "stream",
          "name": "stdout",
          "text": [
            "\u001b[1m1/1\u001b[0m \u001b[32m━━━━━━━━━━━━━━━━━━━━\u001b[0m\u001b[37m\u001b[0m \u001b[1m0s\u001b[0m 48ms/step\n",
            "[[19.025478]]\n"
          ]
        }
      ]
    },
    {
      "cell_type": "markdown",
      "metadata": {
        "id": "H1eLIZLf1BTD"
      },
      "source": [
        "huber loss function **with wrapper**\n",
        "\n",
        "---\n",
        "\n",
        "In that case we can pass any type of parameter to the function, thresold is the most important parameter in that type of loss function , so we need to tune this parameter."
      ]
    },
    {
      "cell_type": "code",
      "metadata": {
        "id": "4D61hNmN1AE1"
      },
      "source": [
        "def huber_loss_wrapper(thresold):\n",
        "    def huber_loss(y_true , y_pred):\n",
        "        error = y_true - y_pred\n",
        "        return_type = tf.abs(error) <= thresold\n",
        "        r1 = 0.5 * tf.square(error)\n",
        "        r2 = thresold * (tf.abs(error) - (0.5*thresold))\n",
        "        return tf.where(return_type , r1 , r2)\n",
        "    return huber_loss"
      ],
      "execution_count": 6,
      "outputs": []
    },
    {
      "cell_type": "code",
      "metadata": {
        "colab": {
          "base_uri": "https://localhost:8080/"
        },
        "id": "GdCQpz4E1mKW",
        "outputId": "a65ace08-047b-4a79-c864-5af9095c42f2"
      },
      "source": [
        "input = Input(shape=(1,) , name=\"input_layer\")\n",
        "output_layer = Dense(1 , name=\"output_layer\")(input)\n",
        "model_huber_loss_wrapper = tf.keras.models.Model(inputs=input , outputs=output_layer)\n",
        "model_huber_loss_wrapper.compile(optimizer=\"sgd\" , loss=huber_loss_wrapper(thresold=1))\n",
        "model_huber_loss_wrapper.fit(xs,ys,epochs=500,verbose=0)\n",
        "prediction = model_huber_loss_wrapper.predict(np.array([[10.0]]))\n",
        "print(prediction)"
      ],
      "execution_count": 7,
      "outputs": [
        {
          "output_type": "stream",
          "name": "stdout",
          "text": [
            "\u001b[1m1/1\u001b[0m \u001b[32m━━━━━━━━━━━━━━━━━━━━\u001b[0m\u001b[37m\u001b[0m \u001b[1m0s\u001b[0m 39ms/step\n",
            "[[19.013554]]\n"
          ]
        }
      ]
    },
    {
      "cell_type": "markdown",
      "metadata": {
        "id": "hDvPPj2b3FNh"
      },
      "source": [
        "**Own loss Class & Object**"
      ]
    },
    {
      "cell_type": "code",
      "metadata": {
        "id": "fs8bzlUW1wpm"
      },
      "source": [
        "class Huber(Loss):\n",
        "    thresold = 1\n",
        "    def __init__(self , thresold):\n",
        "        super().__init__()\n",
        "        self.thresold = thresold\n",
        "    def call(self , y_true , y_pred):\n",
        "        error = y_true - y_pred\n",
        "        return_type = tf.abs(error) <= self.thresold\n",
        "        r1 = 0.5 * tf.square(error)\n",
        "        r2 = self.thresold * (tf.abs(error) - (0.5*self.thresold))\n",
        "        return tf.where(return_type , r1 , r2)"
      ],
      "execution_count": 8,
      "outputs": []
    },
    {
      "cell_type": "code",
      "metadata": {
        "colab": {
          "base_uri": "https://localhost:8080/"
        },
        "id": "6a-eDndt2p8Z",
        "outputId": "d7d744de-ef26-487b-ceba-a1919b6530be"
      },
      "source": [
        "input = Input(shape=(1,) , name=\"input_layer\")\n",
        "output_layer = Dense(1 , name=\"output_layer\")(input)\n",
        "model_huber_loss_class = tf.keras.models.Model(inputs=input , outputs=output_layer)\n",
        "model_huber_loss_class.compile(optimizer=\"sgd\" , loss=Huber(thresold=1))\n",
        "model_huber_loss_class.fit(xs,ys,epochs=500,verbose=0)\n",
        "prediction = model_huber_loss_class.predict(np.array([[10.0]]))\n",
        "print(prediction)"
      ],
      "execution_count": 9,
      "outputs": [
        {
          "output_type": "stream",
          "name": "stdout",
          "text": [
            "\u001b[1m1/1\u001b[0m \u001b[32m━━━━━━━━━━━━━━━━━━━━\u001b[0m\u001b[37m\u001b[0m \u001b[1m0s\u001b[0m 39ms/step\n",
            "[[0.02811193]]\n"
          ]
        }
      ]
    },
    {
      "cell_type": "code",
      "source": [],
      "metadata": {
        "id": "PhmJw9BCslnG"
      },
      "execution_count": null,
      "outputs": []
    }
  ]
}