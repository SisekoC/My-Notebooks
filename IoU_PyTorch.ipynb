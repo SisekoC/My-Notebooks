{
  "cells": [
    {
      "cell_type": "markdown",
      "metadata": {
        "id": "view-in-github",
        "colab_type": "text"
      },
      "source": [
        "<a href=\"https://colab.research.google.com/github/SisekoC/My-Notebooks/blob/main/IoU_PyTorch.ipynb\" target=\"_parent\"><img src=\"https://colab.research.google.com/assets/colab-badge.svg\" alt=\"Open In Colab\"/></a>"
      ]
    },
    {
      "cell_type": "markdown",
      "id": "3d2f04f5",
      "metadata": {
        "id": "3d2f04f5"
      },
      "source": [
        "# IOU Calculation Using PyTorch"
      ]
    },
    {
      "cell_type": "markdown",
      "id": "658f78ec",
      "metadata": {
        "id": "658f78ec"
      },
      "source": [
        "<img src=\"https://learnopencv.com/wp-content/uploads/2022/06/kites-iou-calculate.jpg\" alt=\"Kite detection\">"
      ]
    },
    {
      "cell_type": "markdown",
      "id": "bb375549",
      "metadata": {
        "id": "bb375549"
      },
      "source": [
        "## 1. Using built-in ops module from TorchVision\n",
        "Pytorch already has a built-in function to calculate IoU. [**Documentation here**](https://pytorch.org/vision/main/generated/torchvision.ops.box_iou.html)."
      ]
    },
    {
      "cell_type": "markdown",
      "id": "03012c43",
      "metadata": {
        "id": "03012c43"
      },
      "source": [
        "### Import dependecies"
      ]
    },
    {
      "cell_type": "code",
      "execution_count": 1,
      "id": "aa26fd1b",
      "metadata": {
        "colab": {
          "base_uri": "https://localhost:8080/",
          "height": 35
        },
        "id": "aa26fd1b",
        "outputId": "7a048fea-b775-42f8-dec4-92f378e9255f"
      },
      "outputs": [
        {
          "output_type": "execute_result",
          "data": {
            "text/plain": [
              "'2.4.1+cu121'"
            ],
            "application/vnd.google.colaboratory.intrinsic+json": {
              "type": "string"
            }
          },
          "metadata": {},
          "execution_count": 1
        }
      ],
      "source": [
        "import torch\n",
        "from torchvision import ops\n",
        "torch.__version__"
      ]
    },
    {
      "cell_type": "markdown",
      "id": "3784292e",
      "metadata": {
        "id": "3784292e"
      },
      "source": [
        "### Bounding Box Coordinates"
      ]
    },
    {
      "cell_type": "code",
      "execution_count": 2,
      "id": "0314d02d",
      "metadata": {
        "id": "0314d02d"
      },
      "outputs": [],
      "source": [
        "ground_truth_bbox = torch.tensor([[1202, 123, 1650, 868]], dtype=torch.float)\n",
        "\n",
        "prediction_bbox = torch.tensor([[1162.0001, 92.0021, 1619.9832, 694.0033]], dtype=torch.float)"
      ]
    },
    {
      "cell_type": "markdown",
      "id": "48f8a72c",
      "metadata": {
        "id": "48f8a72c"
      },
      "source": [
        "### Get IoU"
      ]
    },
    {
      "cell_type": "code",
      "execution_count": 3,
      "id": "8de3292e",
      "metadata": {
        "colab": {
          "base_uri": "https://localhost:8080/"
        },
        "id": "8de3292e",
        "outputId": "936185c2-f0b5-4fdc-fb45-801e987344ef"
      },
      "outputs": [
        {
          "output_type": "stream",
          "name": "stdout",
          "text": [
            "tensor([[0.6437]])\n"
          ]
        }
      ],
      "source": [
        "iou = ops.box_iou(ground_truth_bbox, prediction_bbox)\n",
        "print(iou)"
      ]
    },
    {
      "cell_type": "code",
      "execution_count": 4,
      "id": "6e8cb950",
      "metadata": {
        "colab": {
          "base_uri": "https://localhost:8080/"
        },
        "id": "6e8cb950",
        "outputId": "356bece8-a47f-4488-e6ef-8e8b9483685a"
      },
      "outputs": [
        {
          "output_type": "stream",
          "name": "stdout",
          "text": [
            "IOU: 0.6436676\n"
          ]
        }
      ],
      "source": [
        "print('IOU:', iou.numpy()[0][0])"
      ]
    },
    {
      "cell_type": "markdown",
      "id": "d9ca6249",
      "metadata": {
        "id": "d9ca6249"
      },
      "source": [
        "## 2. Defining a Function Manually"
      ]
    },
    {
      "cell_type": "markdown",
      "id": "a183afbb",
      "metadata": {
        "id": "a183afbb"
      },
      "source": [
        "### Function to Calculate IOU\n",
        "Since images are not continuous but discrete, we are adding 1 while calculating height and width to counter zero division error. However, it introduces some error. We will keep iot that way for sake of simplicity."
      ]
    },
    {
      "cell_type": "code",
      "execution_count": 5,
      "id": "989916e2",
      "metadata": {
        "id": "989916e2"
      },
      "outputs": [],
      "source": [
        "def get_iou(ground_truth, pred):\n",
        "    # coordinates of the area of intersection.\n",
        "    ix1 = torch.max(ground_truth[0][0], pred[0][0])\n",
        "    iy1 = torch.max(ground_truth[0][1], pred[0][1])\n",
        "    ix2 = torch.min(ground_truth[0][2], pred[0][2])\n",
        "    iy2 = torch.min(ground_truth[0][3], pred[0][3])\n",
        "\n",
        "    # Intersection height and width.\n",
        "    i_height = torch.max(iy2 - iy1 + 1, torch.tensor(0.))\n",
        "    i_width = torch.max(ix2 - ix1 + 1, torch.tensor(0.))\n",
        "\n",
        "    area_of_intersection = i_height * i_width\n",
        "\n",
        "    # Ground Truth dimensions.\n",
        "    gt_height = ground_truth[0][3] - ground_truth[0][1] + 1\n",
        "    gt_width = ground_truth[0][2] - ground_truth[0][0] + 1\n",
        "\n",
        "    # Prediction dimensions.\n",
        "    pd_height = pred[0][3] - pred[0][1] + 1\n",
        "    pd_width = pred[0][2] - pred[0][0] + 1\n",
        "\n",
        "    area_of_union = gt_height * gt_width + pd_height * pd_width - area_of_intersection\n",
        "\n",
        "    iou = area_of_intersection / area_of_union\n",
        "\n",
        "    return iou"
      ]
    },
    {
      "cell_type": "code",
      "execution_count": 6,
      "id": "0f037e73",
      "metadata": {
        "colab": {
          "base_uri": "https://localhost:8080/"
        },
        "id": "0f037e73",
        "outputId": "3d1c589f-8eb6-46f4-bac8-a1fceab167d4"
      },
      "outputs": [
        {
          "output_type": "stream",
          "name": "stdout",
          "text": [
            "IOU :  0.64413995\n"
          ]
        }
      ],
      "source": [
        "# Get IOU.\n",
        "iou_val = get_iou(ground_truth_bbox, prediction_bbox)\n",
        "print('IOU : ', iou_val.numpy())"
      ]
    },
    {
      "cell_type": "code",
      "source": [],
      "metadata": {
        "id": "Fi-ftqp5bsuO"
      },
      "id": "Fi-ftqp5bsuO",
      "execution_count": 6,
      "outputs": []
    }
  ],
  "metadata": {
    "colab": {
      "provenance": [],
      "include_colab_link": true
    },
    "kernelspec": {
      "display_name": "yolor-ipyKernel",
      "language": "python",
      "name": "yolor"
    },
    "language_info": {
      "codemirror_mode": {
        "name": "ipython",
        "version": 3
      },
      "file_extension": ".py",
      "mimetype": "text/x-python",
      "name": "python",
      "nbconvert_exporter": "python",
      "pygments_lexer": "ipython3",
      "version": "3.6.13"
    }
  },
  "nbformat": 4,
  "nbformat_minor": 5
}