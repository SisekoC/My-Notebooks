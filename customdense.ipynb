{
  "nbformat": 4,
  "nbformat_minor": 0,
  "metadata": {
    "colab": {
      "provenance": [],
      "include_colab_link": true
    },
    "kernelspec": {
      "name": "python3",
      "display_name": "Python 3"
    }
  },
  "cells": [
    {
      "cell_type": "markdown",
      "metadata": {
        "id": "view-in-github",
        "colab_type": "text"
      },
      "source": [
        "<a href=\"https://colab.research.google.com/github/SisekoC/My-Notebooks/blob/main/customdense.ipynb\" target=\"_parent\"><img src=\"https://colab.research.google.com/assets/colab-badge.svg\" alt=\"Open In Colab\"/></a>"
      ]
    },
    {
      "cell_type": "code",
      "metadata": {
        "id": "Wa4AXXw-mvuZ"
      },
      "source": [
        "import tensorflow as tf\n",
        "import numpy as np"
      ],
      "execution_count": 1,
      "outputs": []
    },
    {
      "cell_type": "code",
      "metadata": {
        "id": "7MiHa1kcoezd"
      },
      "source": [
        "class SimpleDense(tf.keras.layers.Layer):\n",
        "    def __init__(self , units):\n",
        "        super(SimpleDense , self).__init__()\n",
        "        self.units = units\n",
        "    def build(self , input_shape):\n",
        "        w_init = tf.random_normal_initializer()\n",
        "        self.w = tf.Variable(initial_value=w_init((input_shape[-1] , self.units)) , trainable=True , dtype=tf.float32 , name=\"kernal\")\n",
        "        b_init = tf.zeros_initializer()\n",
        "        self.b = tf.Variable(initial_value=b_init((self.units)) , trainable=True , dtype=tf.float32 , name=\"bias\")\n",
        "    def call(self , inputs):\n",
        "        return tf.multiply(inputs , self.w) + self.b"
      ],
      "execution_count": 2,
      "outputs": []
    },
    {
      "cell_type": "code",
      "metadata": {
        "colab": {
          "base_uri": "https://localhost:8080/"
        },
        "id": "3oddGL4Go2bD",
        "outputId": "ca5fc01b-ad3d-4751-c4c7-54a9783fd667"
      },
      "source": [
        "dense = SimpleDense(units = 1)\n",
        "x = tf.zeros((1,1))\n",
        "y = dense(x)\n",
        "dense.variables"
      ],
      "execution_count": 3,
      "outputs": [
        {
          "output_type": "execute_result",
          "data": {
            "text/plain": [
              "[]"
            ]
          },
          "metadata": {},
          "execution_count": 3
        }
      ]
    },
    {
      "cell_type": "code",
      "metadata": {
        "colab": {
          "base_uri": "https://localhost:8080/"
        },
        "id": "YgEu8Zarp2l9",
        "outputId": "47c27dcd-fac0-4473-9f71-e62ec5dabe04"
      },
      "source": [
        "dense = SimpleDense(units = 4)\n",
        "x = tf.zeros((4,4))\n",
        "y = dense(x)\n",
        "dense.variables"
      ],
      "execution_count": 4,
      "outputs": [
        {
          "output_type": "execute_result",
          "data": {
            "text/plain": [
              "[]"
            ]
          },
          "metadata": {},
          "execution_count": 4
        }
      ]
    },
    {
      "cell_type": "code",
      "source": [],
      "metadata": {
        "id": "zwrVH6v9mnNq"
      },
      "execution_count": null,
      "outputs": []
    }
  ]
}