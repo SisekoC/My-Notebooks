{
  "cells": [
    {
      "cell_type": "markdown",
      "metadata": {
        "id": "view-in-github",
        "colab_type": "text"
      },
      "source": [
        "<a href=\"https://colab.research.google.com/github/SisekoC/My-Notebooks/blob/main/Genome_Assembly.ipynb\" target=\"_parent\"><img src=\"https://colab.research.google.com/assets/colab-badge.svg\" alt=\"Open In Colab\"/></a>"
      ]
    },
    {
      "cell_type": "markdown",
      "metadata": {
        "id": "206qTJH7X53r"
      },
      "source": [
        "# Lab 3 - Genome Assembly\n",
        "## Graph Algorithms\n",
        "Material and embedded lab.\n",
        "\n",
        "Motivation and some exercises are variations on those available in Bioinformatics Algorithms: An Active-Learning Approach by Phillip Compeau & Pavel Pevzner."
      ]
    },
    {
      "cell_type": "code",
      "execution_count": null,
      "metadata": {
        "id": "km_sdEHsX53t",
        "outputId": "dabcd847-3aa9-4a48-c4fe-a29ce98b12ff"
      },
      "outputs": [
        {
          "data": {
            "text/plain": [
              "['../tests/answers_Lab3.joblib']"
            ]
          },
          "execution_count": 1,
          "metadata": {},
          "output_type": "execute_result"
        }
      ],
      "source": []
    },
    {
      "cell_type": "markdown",
      "metadata": {
        "id": "SirLZ_itX53v"
      },
      "source": [
        "# History and motivation"
      ]
    },
    {
      "cell_type": "markdown",
      "metadata": {
        "id": "3bl_A5ANX53v"
      },
      "source": [
        "## Why do we sequence different species?\n",
        "\n",
        "<table>\n",
        "    <tr>\n",
        "                <td><img src=\"https://www.akcchf.org/assets/images/Dog-Genome-Nature.jpg\"></td>\n",
        "                <td><img src=\"http://www.scienceagainstevolution.org/images/v10i1g1.jpg\" width=300></td>\n",
        "                <td><img src=\"https://www.ncbi.nlm.nih.gov/genome/guide/bee/cover_nature.jpg\"></td>\n",
        "    </tr>\n",
        "    </table>\n",
        "Many applications in medicine, agriculture, biotechnology, etc begin with a sequenced and annotated genome."
      ]
    },
    {
      "cell_type": "markdown",
      "metadata": {
        "id": "Or4JbUc8X53w"
      },
      "source": [
        "## Brief History of Genome Sequencing\n",
        "* 1977 - Walter Gilbert and Frederick Sanger develop independent DNA sequencing methods.\n",
        "* 1980 - They share the Nobel Prize.\n",
        "* Sequencing methods were too expensive ($3 billion to sequence the human genome)"
      ]
    },
    {
      "cell_type": "markdown",
      "metadata": {
        "id": "YHx-FTcdX53w"
      },
      "source": [
        "## The Race to Sequence the Human Genome\n",
        "* 1990 - The public Human Genome Project, headed by Francis Collins, aims to sequence the human genome by 2005.\n",
        "* 1997 - Craig Venter founds Celera Genomics, a private firm with the same goal :)\n",
        "* Genome become available 5 years early in 2000"
      ]
    },
    {
      "cell_type": "markdown",
      "metadata": {
        "id": "Xn5lI-4PX53x"
      },
      "source": [
        "<img src=\"https://thumbs-prod.si-cdn.com/CZYSL1uFzN85JMfOk1XBKFSA9uI=/fit-in/1600x0/https://public-media.si-cdn.com/filer/f5/45/f545637b-13e4-42a8-927b-a1f59d326e0b/biogenome.jpg\">"
      ]
    },
    {
      "cell_type": "markdown",
      "metadata": {
        "id": "FpANp_xkX53x"
      },
      "source": [
        "# Exploding Newspapers"
      ]
    },
    {
      "cell_type": "markdown",
      "metadata": {
        "id": "mosy9lysX53x"
      },
      "source": [
        "## Consider a silly example\n",
        "<img src=\"http://bioinformaticsalgorithms.com/images/Assembly/newspaper_blowup.png\">"
      ]
    },
    {
      "cell_type": "markdown",
      "metadata": {
        "id": "8u8aF9IeX53x"
      },
      "source": [
        "\"Imagine that we stack a hundred copies of the June 27, 2000 edition of the New York Times on a pile of dynamite, and then we light the fuse. We ask you to further suspend your disbelief and assume that the newspapers are not all incinerated but instead explode cartoonishly into smoldering pieces of confetti. How could we use the tiny snippets of newspaper to figure out what the news was on June 27, 2000? We will call this crazy conundrum the Newspaper Problem.\" - Bioinformatics Chapter 3"
      ]
    },
    {
      "cell_type": "markdown",
      "metadata": {
        "id": "oULlny82X53x"
      },
      "source": [
        "<img src=\"http://bioinformaticsalgorithms.com/images/Assembly/overlapping_newspaper.png\" width=400>\n",
        "\n",
        "Use overlapping shreds of paper to figure out the news.\n",
        "\n",
        "\"Fine, you ask, but what do exploding newspapers have to do with biology? Determining the order of nucleotides in a genome, or genome sequencing, presents a fundamental task in bioinformatics. Genomes vary in length; your own genome is roughly 3 billion nucleotides long, whereas the genome of Amoeba dubia, an amorphous unicellular organism, is approximately 200 times longer! This unicellular organism competes with the rare Japanese flower Paris japonica for the title of species with the longest genome.\" - Bioinformatics Algorithms, Chapter 3."
      ]
    },
    {
      "cell_type": "markdown",
      "metadata": {
        "id": "ymQwfUBVX53x"
      },
      "source": [
        "## Traditional Method for Genome Sequencing\n",
        "\n",
        "<img src=\"http://bioinformaticsalgorithms.com/images/Assembly/sequencing_overview.png\">"
      ]
    },
    {
      "cell_type": "markdown",
      "metadata": {
        "id": "TQqGxYJIX53y"
      },
      "source": [
        "## What makes genome sequencing difficult?\n",
        "* Modern sequencing machines cannot read an entire genome one nucleotide at a time from beginning to end (like we read a book)\n",
        "* They can only shred the genome and generate short  reads (though we can now mix longer reads with these shorter reads)\n",
        "* The genome assembly is not the same as a jigsaw puzzle: we must use overlapping reads to reconstruct the genome, a  giant overlap puzzle!"
      ]
    },
    {
      "cell_type": "markdown",
      "metadata": {
        "id": "a_rOR91YX53y"
      },
      "source": [
        "## Into the language of computer scientists: String Reconstruction Problem"
      ]
    },
    {
      "cell_type": "markdown",
      "metadata": {
        "id": "mlY-5bgXX53y"
      },
      "source": [
        "**Exercise 1** String composition problem: Generate the k-mer composition of a string.\n",
        "    \n",
        "Input: An integer $k$ and a string $text$.\n",
        "\n",
        "Output: The lexicographic ordered collection of all k-mer substrings in text (including repeated k-mers) ``composition(k,text)``, where the k-mers are arranged in lexicographic order.\n",
        "\n",
        "Example: ``composition(3,TATGGGGTGC)`` => [ATG, GGG, GGG, GGT, GTG, TAT, TGC, TGG]. Notice how there are two entries for GGG, so we keep duplicates.\n",
        "\n",
        "Learning objective: Build up the skills and vocabulary we need to solve the reconstruction problem."
      ]
    },
    {
      "cell_type": "code",
      "execution_count": 1,
      "metadata": {
        "colab": {
          "base_uri": "https://localhost:8080/"
        },
        "id": "tqX1snH0X53y",
        "outputId": "bd0a1afc-51cf-4551-8988-35ab8a7e1083"
      },
      "outputs": [
        {
          "output_type": "execute_result",
          "data": {
            "text/plain": [
              "['ATG', 'GGG', 'GGG', 'GGT', 'GTG', 'TAT', 'TGC', 'TGG']"
            ]
          },
          "metadata": {},
          "execution_count": 1
        }
      ],
      "source": [
        "def composition(k,text):\n",
        "    '''Generate the k-mer composition of a string.'''\n",
        "    patterns = []\n",
        "    for i in range(len(text)-k+1):\n",
        "        patterns.append(text[i:i+k])\n",
        "    patterns.sort()\n",
        "    return patterns\n",
        "\n",
        "composition(3,\"TATGGGGTGC\")"
      ]
    },
    {
      "cell_type": "markdown",
      "metadata": {
        "id": "kqxlQF4hX53y"
      },
      "source": [
        "Well that's great and pretty straightfoward, but we need to solve the inverse problem...\n",
        "\n",
        "String Reconstruction Problem: Reconstruct a string from its k-mer composition.\n",
        "\n",
        "Input: An integer $k$ and a collection ``patterns`` of $k$-mers\n",
        "\n",
        "Output: A string ``text`` with $k$-mer composition equal to ``patterns`` if such a string exists."
      ]
    },
    {
      "cell_type": "markdown",
      "metadata": {
        "id": "b4u-wqBlX53z"
      },
      "source": [
        "### Easy string reconstruction problem first\n",
        "Consider ``patterns`` = [AAT ATG GTT TAA TGT]\n",
        "\n",
        "Most straightfoward way to solve this is to \"connect\" a pair of $k$-mers if they overlap in $k$-1 symbols. Where should we start? Let's start with ``TAA`` because there is no 3-mer ending in ``TA``. The next $k$-mer has to be ``AAT`` because it is the only one that satisfies. We can continue with this pattern easily for this example:\n",
        "<pre>\n",
        "TAA    \n",
        " AAT   \n",
        "  ATG  \n",
        "   TGT\n",
        "    GTT\n",
        "TAATGTT\n",
        "</pre>\n",
        "Nice! We did it, so time to move on to another chapter..."
      ]
    },
    {
      "cell_type": "markdown",
      "metadata": {
        "id": "n8kunQ4oX53z"
      },
      "source": [
        "### A harder string reconstruction problem\n",
        "\n",
        "AAT  ATG  ATG  ATG  CAT  CCA  GAT  GCC  GGA  GGG  GTT  TAA  TGC  TGG  TGT\n",
        "\n",
        "Let's start with ``TAA`` again:\n",
        "<pre>\n",
        "TAA  \n",
        " AAT\n",
        "  ATG\n",
        "</pre>\n",
        "So far so good! Let's try to continue. ``ATG`` can be extended by either ``TGC`` or ``TGG`` or ``TGT``. How do we choose? In other words, how good are you at chess because we need to be able to look ahead. For now, let's choose ``TGT``."
      ]
    },
    {
      "cell_type": "markdown",
      "metadata": {
        "id": "BJQZJFRdX53z"
      },
      "source": [
        "After we choose ``TGT`` our only choose is ``GTT`` so we get:\n",
        "<pre>\n",
        "TAA   \n",
        " AAT  \n",
        "  ATG\n",
        "   TGT\n",
        "    GTT\n",
        "</pre>\n",
        "But we are now stuck! There is nothing that matches :(\n",
        "\n",
        "If you are good at looking ahead you could have extended ``ATG`` by ``TGC`` instead.\n"
      ]
    },
    {
      "cell_type": "markdown",
      "metadata": {
        "id": "UUjdQgpzX53z"
      },
      "source": [
        "If we make that change, then we obtain the following assembly:\n",
        "<pre>\n",
        "TAA             \n",
        " AAT            \n",
        "  ATG           \n",
        "   TGC          \n",
        "    GCC         \n",
        "     CCA        \n",
        "      CAT       \n",
        "       ATG      \n",
        "        TGG     \n",
        "         GGA    \n",
        "          GAT   \n",
        "           ATG  \n",
        "            TGT\n",
        "             GTT\n",
        "TAATGCCATGGATGTT\n",
        "</pre>"
      ]
    },
    {
      "cell_type": "markdown",
      "metadata": {
        "id": "ffJd68v6X53z"
      },
      "source": [
        "## So what was the problem?\n",
        "Repeats complicate genome assembly!\n",
        "\n",
        "Our previous problem came from the fact that ``ATG`` is repeated three times which causes us to have the three choices by which to extend ``ATG``. This doesn't pose too much of a problem for small examples, but consider having this happen when we have millions of reads!"
      ]
    },
    {
      "cell_type": "markdown",
      "metadata": {
        "id": "HsoH5u9aX53z"
      },
      "source": [
        "## String Reconstruction: A reverse approach/order from the book\n",
        "The book builds up from walking overlap graphs to an *Algorithm for Finding Eulerian Cycles* (wait what are those words!).\n",
        "\n",
        "We are going to work our way backwards because it is a good thing to have different complementary approaches. Please please read the book and listen to the textbook online lectures.\n",
        "\n",
        "Our big goal is the following..."
      ]
    },
    {
      "cell_type": "markdown",
      "metadata": {
        "id": "KldoTJprX53z"
      },
      "source": [
        "**Solve the string reconstruction problem** using the algorithm for finding Eulerian Cycles. Our approach is as follows:\n",
        "<pre>\n",
        "def string_reconstruction(patterns):\n",
        "    dB = de_bruijn(patterns)\n",
        "    path = eulerian_path(dB)\n",
        "    text = path_to_genome(path)\n",
        "    return text\n",
        "</pre>"
      ]
    },
    {
      "cell_type": "markdown",
      "metadata": {
        "id": "7jFy1AgIX53z"
      },
      "source": [
        "## Constructing de Bruijn graphs from $k$-mer composition\n",
        "Given a collection of $k$-mers Patterns, the nodes of de_bruijn(k,patterns) are simply all unique (k−1)-mers occurring as a prefix or suffix in Patterns. For example, say we are given the following collection of 3-mers:\n",
        "<pre>\n",
        "AAT   ATG   ATG   ATG    CAT   CCA   GAT   GCC   GGA   GGG   GTT   TAA   TGC   TGG   TGT\n",
        "</pre>\n",
        "Then the set of eleven unique 2-mers is:\n",
        "<pre>\n",
        "AA   AT   CA   CC   GA   GC   GG   GT   TA   TG   TT\n",
        "</pre>"
      ]
    },
    {
      "cell_type": "markdown",
      "metadata": {
        "id": "gLE2CW3aX530"
      },
      "source": [
        "For every $k$-mer in ``patterns`` we will connect its prefix node to its suffix node by a directed edge in order to produce our final graph.\n",
        "\n",
        "<img src=\"http://bioinformaticsalgorithms.com/images/Assembly/debruijn_graph_alternate_rendering.png\">"
      ]
    },
    {
      "cell_type": "markdown",
      "metadata": {
        "id": "Oq65sggQX530"
      },
      "source": [
        "**Exercise 2** Construct the de Bruijn graph from a set of k-mers.\n",
        "\n",
        "Input: a collection of $k$-mers ``patterns``.\n",
        "\n",
        "Output: NetworkX directed graph that corresponds to the adjacency list of the de Bruijn graph.\n",
        "\n",
        "Now that you know how to use ``networkx``... use it to make your life easier for representing your graph."
      ]
    },
    {
      "cell_type": "code",
      "execution_count": 2,
      "metadata": {
        "id": "NaLuZ2tYX530"
      },
      "outputs": [],
      "source": [
        "# Just code to help you out here\n",
        "%matplotlib inline\n",
        "\n",
        "import networkx as nx\n",
        "import pandas as pd\n",
        "import copy\n",
        "from collections import Counter\n",
        "\n",
        "def to_adj(T):\n",
        "    '''Makes adjacency matrix for a graph using a pandas DataFrame.'''\n",
        "    return pd.DataFrame(nx.adjacency_matrix(T).todense(),index=T.nodes(),columns=T.nodes())\n",
        "\n",
        "def show(T):\n",
        "    T = copy.deepcopy(T)\n",
        "    width_dict = Counter(T.edges())\n",
        "    edge_width = [ (u, v, {'width': value})\n",
        "                  for ((u, v), value) in width_dict.items()]\n",
        "\n",
        "    G_new = nx.DiGraph()\n",
        "    G_new.add_edges_from(edge_width)\n",
        "    pos=nx.kamada_kawai_layout(G_new)\n",
        "    #pos=nx.spring_layout(G_new)\n",
        "    nx.draw(G_new, pos)\n",
        "    edge_labels=dict([((u,v,),d['width'])\n",
        "                 for u,v,d in G_new.edges(data=True)])\n",
        "\n",
        "    nx.draw(G_new,pos,with_labels=True)\n",
        "    nx.draw_networkx_edges(G_new, pos=pos)\n",
        "    nx.draw_networkx_edge_labels(G_new, pos, edge_labels=edge_labels,\n",
        "                                 label_pos=0.55, font_size=10)"
      ]
    },
    {
      "cell_type": "code",
      "execution_count": 3,
      "metadata": {
        "colab": {
          "base_uri": "https://localhost:8080/",
          "height": 516
        },
        "id": "vZU-fRwuX530",
        "outputId": "d6b23510-7995-4b74-9b78-fdb6f59e61b4"
      },
      "outputs": [
        {
          "output_type": "display_data",
          "data": {
            "text/plain": [
              "<Figure size 640x480 with 1 Axes>"
            ],
            "image/png": "[encoded data removed]"
          },
          "metadata": {}
        }
      ],
      "source": [
        "def de_bruijn(patterns):\n",
        "    '''Constructs the de Bruijn graph from a set of k-mers.'''\n",
        "    dB = nx.MultiDiGraph()\n",
        "    for i in patterns:\n",
        "        prefix = i[:-1]\n",
        "        suffix = i[1:]\n",
        "        dB.add_edge(prefix,suffix)\n",
        "    return dB\n",
        "\n",
        "dB = de_bruijn([\"AAT\",\"ATG\",\"ATG\",\"ATG\",\"CAT\",\"CCA\",\"GAT\",\"GCC\",\"GGA\",\"GGG\",\"GTT\",\"TAA\",\"TGC\",\"TGG\",\"TGT\"])\n",
        "show(dB)"
      ]
    },
    {
      "cell_type": "code",
      "execution_count": 4,
      "metadata": {
        "colab": {
          "base_uri": "https://localhost:8080/",
          "height": 395
        },
        "id": "nxBSeLXPX530",
        "outputId": "11a07084-e17d-429b-9032-922ba56aadd0"
      },
      "outputs": [
        {
          "output_type": "execute_result",
          "data": {
            "text/plain": [
              "    AA  AT  TG  CA  CC  GA  GC  GG  GT  TT  TA\n",
              "AA   0   1   0   0   0   0   0   0   0   0   0\n",
              "AT   0   0   3   0   0   0   0   0   0   0   0\n",
              "TG   0   0   0   0   0   0   1   1   1   0   0\n",
              "CA   0   1   0   0   0   0   0   0   0   0   0\n",
              "CC   0   0   0   1   0   0   0   0   0   0   0\n",
              "GA   0   1   0   0   0   0   0   0   0   0   0\n",
              "GC   0   0   0   0   1   0   0   0   0   0   0\n",
              "GG   0   0   0   0   0   1   0   1   0   0   0\n",
              "GT   0   0   0   0   0   0   0   0   0   1   0\n",
              "TT   0   0   0   0   0   0   0   0   0   0   0\n",
              "TA   1   0   0   0   0   0   0   0   0   0   0"
            ],
            "text/html": [
              "\n",
              "  <div id=\"df-2ffe514f-e66e-40d8-aa0c-662c947bbc79\" class=\"colab-df-container\">\n",
              "    <div>\n",
              "<style scoped>\n",
              "    .dataframe tbody tr th:only-of-type {\n",
              "        vertical-align: middle;\n",
              "    }\n",
              "\n",
              "    .dataframe tbody tr th {\n",
              "        vertical-align: top;\n",
              "    }\n",
              "\n",
              "    .dataframe thead th {\n",
              "        text-align: right;\n",
              "    }\n",
              "</style>\n",
              "<table border=\"1\" class=\"dataframe\">\n",
              "  <thead>\n",
              "    <tr style=\"text-align: right;\">\n",
              "      <th></th>\n",
              "      <th>AA</th>\n",
              "      <th>AT</th>\n",
              "      <th>TG</th>\n",
              "      <th>CA</th>\n",
              "      <th>CC</th>\n",
              "      <th>GA</th>\n",
              "      <th>GC</th>\n",
              "      <th>GG</th>\n",
              "      <th>GT</th>\n",
              "      <th>TT</th>\n",
              "      <th>TA</th>\n",
              "    </tr>\n",
              "  </thead>\n",
              "  <tbody>\n",
              "    <tr>\n",
              "      <th>AA</th>\n",
              "      <td>0</td>\n",
              "      <td>1</td>\n",
              "      <td>0</td>\n",
              "      <td>0</td>\n",
              "      <td>0</td>\n",
              "      <td>0</td>\n",
              "      <td>0</td>\n",
              "      <td>0</td>\n",
              "      <td>0</td>\n",
              "      <td>0</td>\n",
              "      <td>0</td>\n",
              "    </tr>\n",
              "    <tr>\n",
              "      <th>AT</th>\n",
              "      <td>0</td>\n",
              "      <td>0</td>\n",
              "      <td>3</td>\n",
              "      <td>0</td>\n",
              "      <td>0</td>\n",
              "      <td>0</td>\n",
              "      <td>0</td>\n",
              "      <td>0</td>\n",
              "      <td>0</td>\n",
              "      <td>0</td>\n",
              "      <td>0</td>\n",
              "    </tr>\n",
              "    <tr>\n",
              "      <th>TG</th>\n",
              "      <td>0</td>\n",
              "      <td>0</td>\n",
              "      <td>0</td>\n",
              "      <td>0</td>\n",
              "      <td>0</td>\n",
              "      <td>0</td>\n",
              "      <td>1</td>\n",
              "      <td>1</td>\n",
              "      <td>1</td>\n",
              "      <td>0</td>\n",
              "      <td>0</td>\n",
              "    </tr>\n",
              "    <tr>\n",
              "      <th>CA</th>\n",
              "      <td>0</td>\n",
              "      <td>1</td>\n",
              "      <td>0</td>\n",
              "      <td>0</td>\n",
              "      <td>0</td>\n",
              "      <td>0</td>\n",
              "      <td>0</td>\n",
              "      <td>0</td>\n",
              "      <td>0</td>\n",
              "      <td>0</td>\n",
              "      <td>0</td>\n",
              "    </tr>\n",
              "    <tr>\n",
              "      <th>CC</th>\n",
              "      <td>0</td>\n",
              "      <td>0</td>\n",
              "      <td>0</td>\n",
              "      <td>1</td>\n",
              "      <td>0</td>\n",
              "      <td>0</td>\n",
              "      <td>0</td>\n",
              "      <td>0</td>\n",
              "      <td>0</td>\n",
              "      <td>0</td>\n",
              "      <td>0</td>\n",
              "    </tr>\n",
              "    <tr>\n",
              "      <th>GA</th>\n",
              "      <td>0</td>\n",
              "      <td>1</td>\n",
              "      <td>0</td>\n",
              "      <td>0</td>\n",
              "      <td>0</td>\n",
              "      <td>0</td>\n",
              "      <td>0</td>\n",
              "      <td>0</td>\n",
              "      <td>0</td>\n",
              "      <td>0</td>\n",
              "      <td>0</td>\n",
              "    </tr>\n",
              "    <tr>\n",
              "      <th>GC</th>\n",
              "      <td>0</td>\n",
              "      <td>0</td>\n",
              "      <td>0</td>\n",
              "      <td>0</td>\n",
              "      <td>1</td>\n",
              "      <td>0</td>\n",
              "      <td>0</td>\n",
              "      <td>0</td>\n",
              "      <td>0</td>\n",
              "      <td>0</td>\n",
              "      <td>0</td>\n",
              "    </tr>\n",
              "    <tr>\n",
              "      <th>GG</th>\n",
              "      <td>0</td>\n",
              "      <td>0</td>\n",
              "      <td>0</td>\n",
              "      <td>0</td>\n",
              "      <td>0</td>\n",
              "      <td>1</td>\n",
              "      <td>0</td>\n",
              "      <td>1</td>\n",
              "      <td>0</td>\n",
              "      <td>0</td>\n",
              "      <td>0</td>\n",
              "    </tr>\n",
              "    <tr>\n",
              "      <th>GT</th>\n",
              "      <td>0</td>\n",
              "      <td>0</td>\n",
              "      <td>0</td>\n",
              "      <td>0</td>\n",
              "      <td>0</td>\n",
              "      <td>0</td>\n",
              "      <td>0</td>\n",
              "      <td>0</td>\n",
              "      <td>0</td>\n",
              "      <td>1</td>\n",
              "      <td>0</td>\n",
              "    </tr>\n",
              "    <tr>\n",
              "      <th>TT</th>\n",
              "      <td>0</td>\n",
              "      <td>0</td>\n",
              "      <td>0</td>\n",
              "      <td>0</td>\n",
              "      <td>0</td>\n",
              "      <td>0</td>\n",
              "      <td>0</td>\n",
              "      <td>0</td>\n",
              "      <td>0</td>\n",
              "      <td>0</td>\n",
              "      <td>0</td>\n",
              "    </tr>\n",
              "    <tr>\n",
              "      <th>TA</th>\n",
              "      <td>1</td>\n",
              "      <td>0</td>\n",
              "      <td>0</td>\n",
              "      <td>0</td>\n",
              "      <td>0</td>\n",
              "      <td>0</td>\n",
              "      <td>0</td>\n",
              "      <td>0</td>\n",
              "      <td>0</td>\n",
              "      <td>0</td>\n",
              "      <td>0</td>\n",
              "    </tr>\n",
              "  </tbody>\n",
              "</table>\n",
              "</div>\n",
              "    <div class=\"colab-df-buttons\">\n",
              "\n",
              "  <div class=\"colab-df-container\">\n",
              "    <button class=\"colab-df-convert\" onclick=\"convertToInteractive('df-2ffe514f-e66e-40d8-aa0c-662c947bbc79')\"\n",
              "            title=\"Convert this dataframe to an interactive table.\"\n",
              "            style=\"display:none;\">\n",
              "\n",
              "  <svg xmlns=\"http://www.w3.org/2000/svg\" height=\"24px\" viewBox=\"0 -960 960 960\">\n",
              "    <path d=\"M120-120v-720h720v720H120Zm60-500h600v-160H180v160Zm220 220h160v-160H400v160Zm0 220h160v-160H400v160ZM180-400h160v-160H180v160Zm440 0h160v-160H620v160ZM180-180h160v-160H180v160Zm440 0h160v-160H620v160Z\"/>\n",
              "  </svg>\n",
              "    </button>\n",
              "\n",
              "  <style>\n",
              "    .colab-df-container {\n",
              "      display:flex;\n",
              "      gap: 12px;\n",
              "    }\n",
              "\n",
              "    .colab-df-convert {\n",
              "      background-color: #E8F0FE;\n",
              "      border: none;\n",
              "      border-radius: 50%;\n",
              "      cursor: pointer;\n",
              "      display: none;\n",
              "      fill: #1967D2;\n",
              "      height: 32px;\n",
              "      padding: 0 0 0 0;\n",
              "      width: 32px;\n",
              "    }\n",
              "\n",
              "    .colab-df-convert:hover {\n",
              "      background-color: #E2EBFA;\n",
              "      box-shadow: 0px 1px 2px rgba(60, 64, 67, 0.3), 0px 1px 3px 1px rgba(60, 64, 67, 0.15);\n",
              "      fill: #174EA6;\n",
              "    }\n",
              "\n",
              "    .colab-df-buttons div {\n",
              "      margin-bottom: 4px;\n",
              "    }\n",
              "\n",
              "    [theme=dark] .colab-df-convert {\n",
              "      background-color: #3B4455;\n",
              "      fill: #D2E3FC;\n",
              "    }\n",
              "\n",
              "    [theme=dark] .colab-df-convert:hover {\n",
              "      background-color: #434B5C;\n",
              "      box-shadow: 0px 1px 3px 1px rgba(0, 0, 0, 0.15);\n",
              "      filter: drop-shadow(0px 1px 2px rgba(0, 0, 0, 0.3));\n",
              "      fill: #FFFFFF;\n",
              "    }\n",
              "  </style>\n",
              "\n",
              "    <script>\n",
              "      const buttonEl =\n",
              "        document.querySelector('#df-2ffe514f-e66e-40d8-aa0c-662c947bbc79 button.colab-df-convert');\n",
              "      buttonEl.style.display =\n",
              "        google.colab.kernel.accessAllowed ? 'block' : 'none';\n",
              "\n",
              "      async function convertToInteractive(key) {\n",
              "        const element = document.querySelector('#df-2ffe514f-e66e-40d8-aa0c-662c947bbc79');\n",
              "        const dataTable =\n",
              "          await google.colab.kernel.invokeFunction('convertToInteractive',\n",
              "                                                    [key], {});\n",
              "        if (!dataTable) return;\n",
              "\n",
              "        const docLinkHtml = 'Like what you see? Visit the ' +\n",
              "          '<a target=\"_blank\" href=https://colab.research.google.com/notebooks/data_table.ipynb>data table notebook</a>'\n",
              "          + ' to learn more about interactive tables.';\n",
              "        element.innerHTML = '';\n",
              "        dataTable['output_type'] = 'display_data';\n",
              "        await google.colab.output.renderOutput(dataTable, element);\n",
              "        const docLink = document.createElement('div');\n",
              "        docLink.innerHTML = docLinkHtml;\n",
              "        element.appendChild(docLink);\n",
              "      }\n",
              "    </script>\n",
              "  </div>\n",
              "\n",
              "\n",
              "<div id=\"df-3883af2e-eb8f-4b9d-b2b6-7769e4e5e61b\">\n",
              "  <button class=\"colab-df-quickchart\" onclick=\"quickchart('df-3883af2e-eb8f-4b9d-b2b6-7769e4e5e61b')\"\n",
              "            title=\"Suggest charts\"\n",
              "            style=\"display:none;\">\n",
              "\n",
              "<svg xmlns=\"http://www.w3.org/2000/svg\" height=\"24px\"viewBox=\"0 0 24 24\"\n",
              "     width=\"24px\">\n",
              "    <g>\n",
              "        <path d=\"M19 3H5c-1.1 0-2 .9-2 2v14c0 1.1.9 2 2 2h14c1.1 0 2-.9 2-2V5c0-1.1-.9-2-2-2zM9 17H7v-7h2v7zm4 0h-2V7h2v10zm4 0h-2v-4h2v4z\"/>\n",
              "    </g>\n",
              "</svg>\n",
              "  </button>\n",
              "\n",
              "<style>\n",
              "  .colab-df-quickchart {\n",
              "      --bg-color: #E8F0FE;\n",
              "      --fill-color: #1967D2;\n",
              "      --hover-bg-color: #E2EBFA;\n",
              "      --hover-fill-color: #174EA6;\n",
              "      --disabled-fill-color: #AAA;\n",
              "      --disabled-bg-color: #DDD;\n",
              "  }\n",
              "\n",
              "  [theme=dark] .colab-df-quickchart {\n",
              "      --bg-color: #3B4455;\n",
              "      --fill-color: #D2E3FC;\n",
              "      --hover-bg-color: #434B5C;\n",
              "      --hover-fill-color: #FFFFFF;\n",
              "      --disabled-bg-color: #3B4455;\n",
              "      --disabled-fill-color: #666;\n",
              "  }\n",
              "\n",
              "  .colab-df-quickchart {\n",
              "    background-color: var(--bg-color);\n",
              "    border: none;\n",
              "    border-radius: 50%;\n",
              "    cursor: pointer;\n",
              "    display: none;\n",
              "    fill: var(--fill-color);\n",
              "    height: 32px;\n",
              "    padding: 0;\n",
              "    width: 32px;\n",
              "  }\n",
              "\n",
              "  .colab-df-quickchart:hover {\n",
              "    background-color: var(--hover-bg-color);\n",
              "    box-shadow: 0 1px 2px rgba(60, 64, 67, 0.3), 0 1px 3px 1px rgba(60, 64, 67, 0.15);\n",
              "    fill: var(--button-hover-fill-color);\n",
              "  }\n",
              "\n",
              "  .colab-df-quickchart-complete:disabled,\n",
              "  .colab-df-quickchart-complete:disabled:hover {\n",
              "    background-color: var(--disabled-bg-color);\n",
              "    fill: var(--disabled-fill-color);\n",
              "    box-shadow: none;\n",
              "  }\n",
              "\n",
              "  .colab-df-spinner {\n",
              "    border: 2px solid var(--fill-color);\n",
              "    border-color: transparent;\n",
              "    border-bottom-color: var(--fill-color);\n",
              "    animation:\n",
              "      spin 1s steps(1) infinite;\n",
              "  }\n",
              "\n",
              "  @keyframes spin {\n",
              "    0% {\n",
              "      border-color: transparent;\n",
              "      border-bottom-color: var(--fill-color);\n",
              "      border-left-color: var(--fill-color);\n",
              "    }\n",
              "    20% {\n",
              "      border-color: transparent;\n",
              "      border-left-color: var(--fill-color);\n",
              "      border-top-color: var(--fill-color);\n",
              "    }\n",
              "    30% {\n",
              "      border-color: transparent;\n",
              "      border-left-color: var(--fill-color);\n",
              "      border-top-color: var(--fill-color);\n",
              "      border-right-color: var(--fill-color);\n",
              "    }\n",
              "    40% {\n",
              "      border-color: transparent;\n",
              "      border-right-color: var(--fill-color);\n",
              "      border-top-color: var(--fill-color);\n",
              "    }\n",
              "    60% {\n",
              "      border-color: transparent;\n",
              "      border-right-color: var(--fill-color);\n",
              "    }\n",
              "    80% {\n",
              "      border-color: transparent;\n",
              "      border-right-color: var(--fill-color);\n",
              "      border-bottom-color: var(--fill-color);\n",
              "    }\n",
              "    90% {\n",
              "      border-color: transparent;\n",
              "      border-bottom-color: var(--fill-color);\n",
              "    }\n",
              "  }\n",
              "</style>\n",
              "\n",
              "  <script>\n",
              "    async function quickchart(key) {\n",
              "      const quickchartButtonEl =\n",
              "        document.querySelector('#' + key + ' button');\n",
              "      quickchartButtonEl.disabled = true;  // To prevent multiple clicks.\n",
              "      quickchartButtonEl.classList.add('colab-df-spinner');\n",
              "      try {\n",
              "        const charts = await google.colab.kernel.invokeFunction(\n",
              "            'suggestCharts', [key], {});\n",
              "      } catch (error) {\n",
              "        console.error('Error during call to suggestCharts:', error);\n",
              "      }\n",
              "      quickchartButtonEl.classList.remove('colab-df-spinner');\n",
              "      quickchartButtonEl.classList.add('colab-df-quickchart-complete');\n",
              "    }\n",
              "    (() => {\n",
              "      let quickchartButtonEl =\n",
              "        document.querySelector('#df-3883af2e-eb8f-4b9d-b2b6-7769e4e5e61b button');\n",
              "      quickchartButtonEl.style.display =\n",
              "        google.colab.kernel.accessAllowed ? 'block' : 'none';\n",
              "    })();\n",
              "  </script>\n",
              "</div>\n",
              "\n",
              "    </div>\n",
              "  </div>\n"
            ],
            "application/vnd.google.colaboratory.intrinsic+json": {
              "type": "dataframe",
              "summary": "{\n  \"name\": \"to_adj(dB)\",\n  \"rows\": 11,\n  \"fields\": [\n    {\n      \"column\": \"AA\",\n      \"properties\": {\n        \"dtype\": \"number\",\n        \"std\": 0,\n        \"min\": 0,\n        \"max\": 1,\n        \"num_unique_values\": 2,\n        \"samples\": [\n          1,\n          0\n        ],\n        \"semantic_type\": \"\",\n        \"description\": \"\"\n      }\n    },\n    {\n      \"column\": \"AT\",\n      \"properties\": {\n        \"dtype\": \"number\",\n        \"std\": 0,\n        \"min\": 0,\n        \"max\": 1,\n        \"num_unique_values\": 2,\n        \"samples\": [\n          0,\n          1\n        ],\n        \"semantic_type\": \"\",\n        \"description\": \"\"\n      }\n    },\n    {\n      \"column\": \"TG\",\n      \"properties\": {\n        \"dtype\": \"number\",\n        \"std\": 0,\n        \"min\": 0,\n        \"max\": 3,\n        \"num_unique_values\": 2,\n        \"samples\": [\n          3,\n          0\n        ],\n        \"semantic_type\": \"\",\n        \"description\": \"\"\n      }\n    },\n    {\n      \"column\": \"CA\",\n      \"properties\": {\n        \"dtype\": \"number\",\n        \"std\": 0,\n        \"min\": 0,\n        \"max\": 1,\n        \"num_unique_values\": 2,\n        \"samples\": [\n          1,\n          0\n        ],\n        \"semantic_type\": \"\",\n        \"description\": \"\"\n      }\n    },\n    {\n      \"column\": \"CC\",\n      \"properties\": {\n        \"dtype\": \"number\",\n        \"std\": 0,\n        \"min\": 0,\n        \"max\": 1,\n        \"num_unique_values\": 2,\n        \"samples\": [\n          1,\n          0\n        ],\n        \"semantic_type\": \"\",\n        \"description\": \"\"\n      }\n    },\n    {\n      \"column\": \"GA\",\n      \"properties\": {\n        \"dtype\": \"number\",\n        \"std\": 0,\n        \"min\": 0,\n        \"max\": 1,\n        \"num_unique_values\": 2,\n        \"samples\": [\n          1,\n          0\n        ],\n        \"semantic_type\": \"\",\n        \"description\": \"\"\n      }\n    },\n    {\n      \"column\": \"GC\",\n      \"properties\": {\n        \"dtype\": \"number\",\n        \"std\": 0,\n        \"min\": 0,\n        \"max\": 1,\n        \"num_unique_values\": 2,\n        \"samples\": [\n          1,\n          0\n        ],\n        \"semantic_type\": \"\",\n        \"description\": \"\"\n      }\n    },\n    {\n      \"column\": \"GG\",\n      \"properties\": {\n        \"dtype\": \"number\",\n        \"std\": 0,\n        \"min\": 0,\n        \"max\": 1,\n        \"num_unique_values\": 2,\n        \"samples\": [\n          1,\n          0\n        ],\n        \"semantic_type\": \"\",\n        \"description\": \"\"\n      }\n    },\n    {\n      \"column\": \"GT\",\n      \"properties\": {\n        \"dtype\": \"number\",\n        \"std\": 0,\n        \"min\": 0,\n        \"max\": 1,\n        \"num_unique_values\": 2,\n        \"samples\": [\n          1,\n          0\n        ],\n        \"semantic_type\": \"\",\n        \"description\": \"\"\n      }\n    },\n    {\n      \"column\": \"TT\",\n      \"properties\": {\n        \"dtype\": \"number\",\n        \"std\": 0,\n        \"min\": 0,\n        \"max\": 1,\n        \"num_unique_values\": 2,\n        \"samples\": [\n          1,\n          0\n        ],\n        \"semantic_type\": \"\",\n        \"description\": \"\"\n      }\n    },\n    {\n      \"column\": \"TA\",\n      \"properties\": {\n        \"dtype\": \"number\",\n        \"std\": 0,\n        \"min\": 0,\n        \"max\": 0,\n        \"num_unique_values\": 1,\n        \"samples\": [\n          0\n        ],\n        \"semantic_type\": \"\",\n        \"description\": \"\"\n      }\n    }\n  ]\n}"
            }
          },
          "metadata": {},
          "execution_count": 4
        }
      ],
      "source": [
        "to_adj(dB)"
      ]
    },
    {
      "cell_type": "markdown",
      "metadata": {
        "id": "4j6PCSEIX531"
      },
      "source": [
        "We now have step 1 completed. The next step is to find the Eulerian path, but we will start by talking about and finding Eulerian cycles. More undefined words! Don't forget. For a different bottom up approach (we are taking top down in this lab), then see the textbook.\n",
        "\n",
        "A Eulerian path is a path in a graph traversing each edge of a graph exactly once. A cycle that traverses each edge of a graph exactly once is called an Eulerian cycle.\n",
        "\n",
        "The book works in a lot more detail, but if we assume an arbitrary directed graph is balanced (in-degree of each node is equal to out-degree) and it is strongly connected, then we can find the Eulerian cycle by just walking around! We just need to make sure we always leave out of a different edge.\n"
      ]
    },
    {
      "cell_type": "markdown",
      "metadata": {
        "id": "WRwvdv-MX531"
      },
      "source": [
        "**Exercise 3** Given a Eulerian directed graph, find the Eulerian cycle.\n",
        "\n",
        "Given: An Eulerian directed graph, in the form of a MultiDiGraph networkx object.\n",
        "\n",
        "Return: An Eulerian cycle in this graph returned as a list."
      ]
    },
    {
      "cell_type": "code",
      "execution_count": 5,
      "metadata": {
        "colab": {
          "base_uri": "https://localhost:8080/",
          "height": 551
        },
        "id": "Xk5OpWHbX531",
        "outputId": "3b153771-3d5b-400e-c927-d4623b583f85"
      },
      "outputs": [
        {
          "output_type": "stream",
          "name": "stdout",
          "text": [
            "[0, 3, 2, 6, 8, 7, 9, 6, 5, 4, 2, 1, 0]\n",
            "[6, 5, 4, 2, 1, 0, 3, 2, 6, 8, 7, 9, 6]\n"
          ]
        },
        {
          "output_type": "display_data",
          "data": {
            "text/plain": [
              "<Figure size 640x480 with 1 Axes>"
            ],
            "image/png": "[encoded data removed]"
          },
          "metadata": {}
        }
      ],
      "source": [
        "def eulerian_cycle(G,start=None):\n",
        "    '''Given a directed graph, find the Eulerian cycle. Returns None if no Eulerian Cycle.'''\n",
        "    G = copy.deepcopy(G)\n",
        "    # Check if conditions are met to have an Euler Circuit in this graph using networkx features\n",
        "    for i in G.in_degree:\n",
        "        if i[1] != G.out_degree(i[0]):\n",
        "            return None\n",
        "    start = list(G.nodes)[0] if start is None else start\n",
        "    cycle = []\n",
        "    stack = [start]\n",
        "    # Finding the Euler Circuit (Using Hierholzer’s Algorithm)\n",
        "    while len(stack) > 0:\n",
        "        current = stack[-1]\n",
        "        neighbors = list(G.neighbors(current))\n",
        "        if len(neighbors) > 0:\n",
        "            next_node = neighbors[0]\n",
        "            stack.append(next_node)\n",
        "            G.remove_edge(current,next_node)\n",
        "        else:\n",
        "            cycle.insert(0,stack.pop())\n",
        "    return cycle\n",
        "\n",
        "G = nx.MultiDiGraph()\n",
        "G.add_edge(0,3)\n",
        "G.add_edge(1,0)\n",
        "G.add_edge(2,1)\n",
        "G.add_edge(2,6)\n",
        "G.add_edge(3,2)\n",
        "G.add_edge(4,2)\n",
        "G.add_edge(5,4)\n",
        "G.add_edge(6,5)\n",
        "G.add_edge(6,8)\n",
        "G.add_edge(7,9)\n",
        "G.add_edge(8,7)\n",
        "G.add_edge(9,6)\n",
        "\n",
        "show(G)\n",
        "print(eulerian_cycle(G))\n",
        "\n",
        "\n",
        "print(eulerian_cycle(G,start=6)) # Should also result in a shifted but equivalent answer.\n",
        "# If your code isn't working, please carefully read the section on the ant moving around the graph and getting stuck :)"
      ]
    },
    {
      "cell_type": "markdown",
      "metadata": {
        "id": "leNSU4MbX531"
      },
      "source": [
        "## Eulerian path\n",
        "Consider the following graph that does not contain a Eulerian cycle."
      ]
    },
    {
      "cell_type": "code",
      "execution_count": 6,
      "metadata": {
        "colab": {
          "base_uri": "https://localhost:8080/",
          "height": 516
        },
        "id": "g-GUgf4FX531",
        "outputId": "eb50964f-5896-4e13-e35d-fc3362d1652d"
      },
      "outputs": [
        {
          "output_type": "display_data",
          "data": {
            "text/plain": [
              "<Figure size 640x480 with 1 Axes>"
            ],
            "image/png": "[encoded data removed]"
          },
          "metadata": {}
        }
      ],
      "source": [
        "G2 = nx.MultiDiGraph()\n",
        "G2.add_edge(0,2);G2.add_edge(1,3);G2.add_edge(2,1);G2.add_edge(3,0);G2.add_edge(3,4);G2.add_edge(6,3);G2.add_edge(6,7);G2.add_edge(7,8);G2.add_edge(8,9);G2.add_edge(9,6)\n",
        "show(G2)"
      ]
    },
    {
      "cell_type": "markdown",
      "metadata": {
        "id": "Cs30UVPZX532"
      },
      "source": [
        "Consider the following function that finds the in and out degree of every node."
      ]
    },
    {
      "cell_type": "code",
      "execution_count": 15,
      "metadata": {
        "colab": {
          "base_uri": "https://localhost:8080/"
        },
        "id": "u7o2E3xEX532",
        "outputId": "d3d9ed40-7d73-429a-f51d-8ca3c77e6a8e"
      },
      "outputs": [
        {
          "output_type": "stream",
          "name": "stdout",
          "text": [
            "GGCTTACCA\n"
          ]
        }
      ],
      "source": [
        "import networkx as nx\n",
        "\n",
        "def de_bruijn(kmers):\n",
        "    '''Construct the de Bruijn graph from k-mers.'''\n",
        "    dB = nx.DiGraph()\n",
        "    for kmer in kmers:\n",
        "        prefix = kmer[:-1]\n",
        "        suffix = kmer[1:]\n",
        "        dB.add_edge(prefix, suffix)\n",
        "    return dB\n",
        "\n",
        "def find_eulerian_path(G):\n",
        "    '''Find an Eulerian or semi-Eulerian path in the given graph.'''\n",
        "    try:\n",
        "        path = list(nx.eulerian_path(G))\n",
        "        return [node for node, _ in path] + [path[-1][1]]\n",
        "    except nx.NetworkXError:\n",
        "        raise ValueError(\"Graph does not have an Eulerian path\")\n",
        "\n",
        "def reconstruct(kmers):\n",
        "    '''Reconstruct a string from its k-mer composition.'''\n",
        "    k = len(kmers[0])\n",
        "    dB = de_bruijn(kmers)\n",
        "    path = find_eulerian_path(dB)\n",
        "    text = \"\"\n",
        "    for node in path:\n",
        "        text += node[0]\n",
        "    return text + path[-1][-(k-2):]\n",
        "\n",
        "kmers = [\"CTTA\",\"ACCA\",\"TACC\",\"GGCT\",\"GCTT\",\"TTAC\"]\n",
        "print(reconstruct(kmers))\n"
      ]
    },
    {
      "cell_type": "code",
      "execution_count": 16,
      "metadata": {
        "colab": {
          "base_uri": "https://localhost:8080/",
          "height": 53
        },
        "id": "bhqpIoEjX532",
        "outputId": "6948fde9-524c-4900-9c17-09403fb791f9"
      },
      "outputs": [
        {
          "output_type": "execute_result",
          "data": {
            "text/plain": [
              "Empty DataFrame\n",
              "Columns: [in, out]\n",
              "Index: []"
            ],
            "text/html": [
              "\n",
              "  <div id=\"df-88296e36-8e9f-4966-9615-3bbde3c4878e\" class=\"colab-df-container\">\n",
              "    <div>\n",
              "<style scoped>\n",
              "    .dataframe tbody tr th:only-of-type {\n",
              "        vertical-align: middle;\n",
              "    }\n",
              "\n",
              "    .dataframe tbody tr th {\n",
              "        vertical-align: top;\n",
              "    }\n",
              "\n",
              "    .dataframe thead th {\n",
              "        text-align: right;\n",
              "    }\n",
              "</style>\n",
              "<table border=\"1\" class=\"dataframe\">\n",
              "  <thead>\n",
              "    <tr style=\"text-align: right;\">\n",
              "      <th></th>\n",
              "      <th>in</th>\n",
              "      <th>out</th>\n",
              "    </tr>\n",
              "  </thead>\n",
              "  <tbody>\n",
              "  </tbody>\n",
              "</table>\n",
              "</div>\n",
              "    <div class=\"colab-df-buttons\">\n",
              "\n",
              "  <div class=\"colab-df-container\">\n",
              "    <button class=\"colab-df-convert\" onclick=\"convertToInteractive('df-88296e36-8e9f-4966-9615-3bbde3c4878e')\"\n",
              "            title=\"Convert this dataframe to an interactive table.\"\n",
              "            style=\"display:none;\">\n",
              "\n",
              "  <svg xmlns=\"http://www.w3.org/2000/svg\" height=\"24px\" viewBox=\"0 -960 960 960\">\n",
              "    <path d=\"M120-120v-720h720v720H120Zm60-500h600v-160H180v160Zm220 220h160v-160H400v160Zm0 220h160v-160H400v160ZM180-400h160v-160H180v160Zm440 0h160v-160H620v160ZM180-180h160v-160H180v160Zm440 0h160v-160H620v160Z\"/>\n",
              "  </svg>\n",
              "    </button>\n",
              "\n",
              "  <style>\n",
              "    .colab-df-container {\n",
              "      display:flex;\n",
              "      gap: 12px;\n",
              "    }\n",
              "\n",
              "    .colab-df-convert {\n",
              "      background-color: #E8F0FE;\n",
              "      border: none;\n",
              "      border-radius: 50%;\n",
              "      cursor: pointer;\n",
              "      display: none;\n",
              "      fill: #1967D2;\n",
              "      height: 32px;\n",
              "      padding: 0 0 0 0;\n",
              "      width: 32px;\n",
              "    }\n",
              "\n",
              "    .colab-df-convert:hover {\n",
              "      background-color: #E2EBFA;\n",
              "      box-shadow: 0px 1px 2px rgba(60, 64, 67, 0.3), 0px 1px 3px 1px rgba(60, 64, 67, 0.15);\n",
              "      fill: #174EA6;\n",
              "    }\n",
              "\n",
              "    .colab-df-buttons div {\n",
              "      margin-bottom: 4px;\n",
              "    }\n",
              "\n",
              "    [theme=dark] .colab-df-convert {\n",
              "      background-color: #3B4455;\n",
              "      fill: #D2E3FC;\n",
              "    }\n",
              "\n",
              "    [theme=dark] .colab-df-convert:hover {\n",
              "      background-color: #434B5C;\n",
              "      box-shadow: 0px 1px 3px 1px rgba(0, 0, 0, 0.15);\n",
              "      filter: drop-shadow(0px 1px 2px rgba(0, 0, 0, 0.3));\n",
              "      fill: #FFFFFF;\n",
              "    }\n",
              "  </style>\n",
              "\n",
              "    <script>\n",
              "      const buttonEl =\n",
              "        document.querySelector('#df-88296e36-8e9f-4966-9615-3bbde3c4878e button.colab-df-convert');\n",
              "      buttonEl.style.display =\n",
              "        google.colab.kernel.accessAllowed ? 'block' : 'none';\n",
              "\n",
              "      async function convertToInteractive(key) {\n",
              "        const element = document.querySelector('#df-88296e36-8e9f-4966-9615-3bbde3c4878e');\n",
              "        const dataTable =\n",
              "          await google.colab.kernel.invokeFunction('convertToInteractive',\n",
              "                                                    [key], {});\n",
              "        if (!dataTable) return;\n",
              "\n",
              "        const docLinkHtml = 'Like what you see? Visit the ' +\n",
              "          '<a target=\"_blank\" href=https://colab.research.google.com/notebooks/data_table.ipynb>data table notebook</a>'\n",
              "          + ' to learn more about interactive tables.';\n",
              "        element.innerHTML = '';\n",
              "        dataTable['output_type'] = 'display_data';\n",
              "        await google.colab.output.renderOutput(dataTable, element);\n",
              "        const docLink = document.createElement('div');\n",
              "        docLink.innerHTML = docLinkHtml;\n",
              "        element.appendChild(docLink);\n",
              "      }\n",
              "    </script>\n",
              "  </div>\n",
              "\n",
              "\n",
              "    </div>\n",
              "  </div>\n"
            ],
            "application/vnd.google.colaboratory.intrinsic+json": {
              "type": "dataframe",
              "repr_error": "Out of range float values are not JSON compliant: nan"
            }
          },
          "metadata": {},
          "execution_count": 16
        }
      ],
      "source": [
        "calc_in_out(G2)"
      ]
    },
    {
      "cell_type": "markdown",
      "metadata": {
        "id": "ZMY2SurZX532"
      },
      "source": [
        "Is there \"nearly\" a cycle? If so, how would you find it? What two nodes would you connect?"
      ]
    },
    {
      "cell_type": "markdown",
      "metadata": {
        "id": "Q5bwlGwSX533"
      },
      "source": [
        "**Exercise 4** Given a Eulerian directed graph, find the Eulerian path.\n",
        "\n",
        "Given: An Eulerian directed graph, in the form of a MultiDiGraph networkx object.\n",
        "\n",
        "Return: An Eulerian path in this graph returned as a list.\n",
        "\n",
        "Hint: Can you find the correct starting node from the output of ``in_out``?"
      ]
    },
    {
      "cell_type": "code",
      "execution_count": 12,
      "metadata": {
        "id": "oUTjsys1X533"
      },
      "outputs": [],
      "source": [
        "import networkx as nx\n",
        "\n",
        "def eulerian_path(G):\n",
        "    try:\n",
        "        # Check for None nodes\n",
        "        for node in G.nodes:\n",
        "            if node is None:\n",
        "                raise ValueError(\"Graph contains a None node\")\n",
        "\n",
        "        # Your existing logic to find Eulerian path\n",
        "        # ...\n",
        "\n",
        "    except ValueError as e:\n",
        "        print(e)\n",
        "        return None\n",
        "\n",
        "# Example graph creation\n",
        "G2 = nx.DiGraph()\n",
        "# Add nodes and edges to G2\n",
        "# ...\n",
        "\n",
        "# Check and find Eulerian path\n",
        "eulerian_path(G2)\n"
      ]
    },
    {
      "cell_type": "markdown",
      "metadata": {
        "id": "H8QTPpoTX533"
      },
      "source": [
        "We can finally put everything together!\n",
        "\n",
        "**Exercise 5:** Reconstruct a string from its k-mer composition.\n",
        "\n",
        "Given: Given a list of $k$-mers patterns.\n",
        "\n",
        "Return: A string ``text`` with $k$-mer composition equal to patterns."
      ]
    },
    {
      "cell_type": "code",
      "execution_count": 13,
      "metadata": {
        "colab": {
          "base_uri": "https://localhost:8080/",
          "height": 297
        },
        "id": "o2WLgqiSX533",
        "outputId": "3647d9fc-d620-40e9-8152-85537f7cbd63"
      },
      "outputs": [
        {
          "output_type": "error",
          "ename": "TypeError",
          "evalue": "'NoneType' object is not iterable",
          "traceback": [
            "\u001b[0;31m---------------------------------------------------------------------------\u001b[0m",
            "\u001b[0;31mTypeError\u001b[0m                                 Traceback (most recent call last)",
            "\u001b[0;32m<ipython-input-13-e3087a88f8a8>\u001b[0m in \u001b[0;36m<cell line: 12>\u001b[0;34m()\u001b[0m\n\u001b[1;32m     10\u001b[0m \u001b[0;34m\u001b[0m\u001b[0m\n\u001b[1;32m     11\u001b[0m \u001b[0mkmers\u001b[0m \u001b[0;34m=\u001b[0m \u001b[0;34m[\u001b[0m\u001b[0;34m\"CTTA\"\u001b[0m\u001b[0;34m,\u001b[0m\u001b[0;34m\"ACCA\"\u001b[0m\u001b[0;34m,\u001b[0m\u001b[0;34m\"TACC\"\u001b[0m\u001b[0;34m,\u001b[0m\u001b[0;34m\"GGCT\"\u001b[0m\u001b[0;34m,\u001b[0m\u001b[0;34m\"GCTT\"\u001b[0m\u001b[0;34m,\u001b[0m\u001b[0;34m\"TTAC\"\u001b[0m\u001b[0;34m]\u001b[0m\u001b[0;34m\u001b[0m\u001b[0;34m\u001b[0m\u001b[0m\n\u001b[0;32m---> 12\u001b[0;31m \u001b[0mreconstruct\u001b[0m\u001b[0;34m(\u001b[0m\u001b[0mkmers\u001b[0m\u001b[0;34m)\u001b[0m\u001b[0;34m\u001b[0m\u001b[0;34m\u001b[0m\u001b[0m\n\u001b[0m",
            "\u001b[0;32m<ipython-input-13-e3087a88f8a8>\u001b[0m in \u001b[0;36mreconstruct\u001b[0;34m(kmers)\u001b[0m\n\u001b[1;32m      5\u001b[0m     \u001b[0mpath\u001b[0m \u001b[0;34m=\u001b[0m \u001b[0meulerian_path\u001b[0m\u001b[0;34m(\u001b[0m\u001b[0mdB\u001b[0m\u001b[0;34m)\u001b[0m\u001b[0;34m\u001b[0m\u001b[0;34m\u001b[0m\u001b[0m\n\u001b[1;32m      6\u001b[0m     \u001b[0mtext\u001b[0m \u001b[0;34m=\u001b[0m \u001b[0;34m\"\"\u001b[0m\u001b[0;34m\u001b[0m\u001b[0;34m\u001b[0m\u001b[0m\n\u001b[0;32m----> 7\u001b[0;31m     \u001b[0;32mfor\u001b[0m \u001b[0mnode\u001b[0m \u001b[0;32min\u001b[0m \u001b[0mpath\u001b[0m\u001b[0;34m:\u001b[0m\u001b[0;34m\u001b[0m\u001b[0;34m\u001b[0m\u001b[0m\n\u001b[0m\u001b[1;32m      8\u001b[0m         \u001b[0mtext\u001b[0m \u001b[0;34m+=\u001b[0m \u001b[0mnode\u001b[0m\u001b[0;34m[\u001b[0m\u001b[0;36m0\u001b[0m\u001b[0;34m]\u001b[0m\u001b[0;34m\u001b[0m\u001b[0;34m\u001b[0m\u001b[0m\n\u001b[1;32m      9\u001b[0m     \u001b[0;32mreturn\u001b[0m \u001b[0mtext\u001b[0m \u001b[0;34m+\u001b[0m \u001b[0mpath\u001b[0m\u001b[0;34m[\u001b[0m\u001b[0;34m-\u001b[0m\u001b[0;36m1\u001b[0m\u001b[0;34m]\u001b[0m\u001b[0;34m[\u001b[0m\u001b[0;34m-\u001b[0m\u001b[0;34m(\u001b[0m\u001b[0mk\u001b[0m\u001b[0;34m-\u001b[0m\u001b[0;36m2\u001b[0m\u001b[0;34m)\u001b[0m\u001b[0;34m:\u001b[0m\u001b[0;34m]\u001b[0m\u001b[0;34m\u001b[0m\u001b[0;34m\u001b[0m\u001b[0m\n",
            "\u001b[0;31mTypeError\u001b[0m: 'NoneType' object is not iterable"
          ]
        }
      ],
      "source": [
        "def reconstruct(kmers):\n",
        "    '''Reconstruct a string from its k-mer composition.'''\n",
        "    k = len(kmers[0])\n",
        "    dB = de_bruijn(kmers)\n",
        "    path = eulerian_path(dB)\n",
        "    text = \"\"\n",
        "    for node in path:\n",
        "        text += node[0]\n",
        "    return text + path[-1][-(k-2):]\n",
        "\n",
        "kmers = [\"CTTA\",\"ACCA\",\"TACC\",\"GGCT\",\"GCTT\",\"TTAC\"]\n",
        "reconstruct(kmers)"
      ]
    },
    {
      "cell_type": "code",
      "execution_count": null,
      "metadata": {
        "id": "pDprOB9LX533",
        "outputId": "bea050f6-d83f-42ec-f31a-71884293e2c9"
      },
      "outputs": [
        {
          "data": {
            "text/plain": [
              "['../tests/answers_Lab3.joblib']"
            ]
          },
          "execution_count": 12,
          "metadata": {},
          "output_type": "execute_result"
        }
      ],
      "source": [
        "# Don't forget to push!"
      ]
    }
  ],
  "metadata": {
    "celltoolbar": "Slideshow",
    "jupytext": {
      "formats": "ipynb,md,py"
    },
    "kernelspec": {
      "display_name": "Python 3",
      "language": "python",
      "name": "python3"
    },
    "language_info": {
      "codemirror_mode": {
        "name": "ipython",
        "version": 3
      },
      "file_extension": ".py",
      "mimetype": "text/x-python",
      "name": "python",
      "nbconvert_exporter": "python",
      "pygments_lexer": "ipython3",
      "version": "3.8.2"
    },
    "colab": {
      "provenance": [],
      "include_colab_link": true
    }
  },
  "nbformat": 4,
  "nbformat_minor": 0
}