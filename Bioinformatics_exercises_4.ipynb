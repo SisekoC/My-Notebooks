{
  "nbformat": 4,
  "nbformat_minor": 0,
  "metadata": {
    "colab": {
      "provenance": [],
      "authorship_tag": "ABX9TyNvNeDIayb/WzFpqip+DnCy",
      "include_colab_link": true
    },
    "kernelspec": {
      "name": "python3",
      "display_name": "Python 3"
    },
    "language_info": {
      "name": "python"
    }
  },
  "cells": [
    {
      "cell_type": "markdown",
      "metadata": {
        "id": "view-in-github",
        "colab_type": "text"
      },
      "source": [
        "<a href=\"https://colab.research.google.com/github/SisekoC/My-Notebooks/blob/main/Bioinformatics_exercises_4.ipynb\" target=\"_parent\"><img src=\"https://colab.research.google.com/assets/colab-badge.svg\" alt=\"Open In Colab\"/></a>"
      ]
    },
    {
      "cell_type": "markdown",
      "source": [
        "1. Consider the function get_hits above. Create a variant that allows at most 1 character to\n",
        " be different between the sequence and the query words."
      ],
      "metadata": {
        "id": "4EKqogxlLek8"
      }
    },
    {
      "cell_type": "code",
      "execution_count": 1,
      "metadata": {
        "id": "eBA_2fbGLBUw"
      },
      "outputs": [],
      "source": [
        "def get_hits_with_tolerance(seq, m, w):\n",
        "    def hamming_distance(s1, s2):\n",
        "        return sum(1 for x, y in zip(s1, s2) if x != y)\n",
        "\n",
        "    res = []  # list of tuples\n",
        "    for i in range(len(seq) - w + 1):\n",
        "        subseq = seq[i:i + w]\n",
        "        for query in m:\n",
        "            if len(query) == w and hamming_distance(subseq, query) <= 1:\n",
        "                indices = m[query]\n",
        "                for ind in indices:\n",
        "                    res.append((ind, i))\n",
        "    return res\n"
      ]
    },
    {
      "cell_type": "markdown",
      "source": [
        "2. a. Write afunction that given two sequences of the same length, determines if they\n",
        " have at most d mismatches (d is an argument of the function). The function returns\n",
        " True if the number of mismatches is less or equal to d,andFalse otherwise."
      ],
      "metadata": {
        "id": "xX9dXYnFMR-M"
      }
    },
    {
      "cell_type": "code",
      "source": [
        "def has_at_most_d_mismatches(seq1, seq2, d):\n",
        "    # Ensure the sequences are of the same length\n",
        "    if len(seq1) != len(seq2):\n",
        "        raise ValueError(\"Sequences must be of the same length.\")\n",
        "\n",
        "    # Count the number of mismatches\n",
        "    mismatch_count = sum(1 for x, y in zip(seq1, seq2) if x != y)\n",
        "\n",
        "    # Return True if mismatches are less than or equal to d, else False\n",
        "    return mismatch_count <= d\n",
        "\n",
        "# Example usage:\n",
        "seq1 = \"ACGTAGC\"\n",
        "seq2 = \"ACCTACC\"\n",
        "d = 1\n",
        "print(has_at_most_d_mismatches(seq1, seq2, d))  # Output: True\n"
      ],
      "metadata": {
        "colab": {
          "base_uri": "https://localhost:8080/"
        },
        "id": "thoYX9xVMBa6",
        "outputId": "594da291-f750-4d90-937d-aa147bf1f9d8"
      },
      "execution_count": 5,
      "outputs": [
        {
          "output_type": "stream",
          "name": "stdout",
          "text": [
            "False\n"
          ]
        }
      ]
    },
    {
      "cell_type": "markdown",
      "source": [
        "b. Using the previous function find all approximate matches of a pattern p in a sequence. An approximate match of the pattern can have at most d characters that do\n",
        " not match (d is an argument of the function)."
      ],
      "metadata": {
        "id": "rjaSnn-XNJXM"
      }
    },
    {
      "cell_type": "code",
      "source": [
        "def has_at_most_d_mismatches(seq1, seq2, d):\n",
        "    if len(seq1) != len(seq2):\n",
        "        raise ValueError(\"Sequences must be of the same length.\")\n",
        "    mismatch_count = sum(1 for x, y in zip(seq1, seq2) if x != y)\n",
        "    return mismatch_count <= d\n",
        "\n",
        "def find_approximate_matches(seq, pattern, d):\n",
        "    w = len(pattern)\n",
        "    matches = []  # list to store the starting indices of approximate matches\n",
        "    for i in range(len(seq) - w + 1):\n",
        "        subseq = seq[i:i + w]\n",
        "        if has_at_most_d_mismatches(subseq, pattern, d):\n",
        "            matches.append(i)\n",
        "    return matches\n",
        "\n",
        "# Example usage:\n",
        "seq = \"ACGTAGCTAGC\"\n",
        "pattern = \"AGC\"\n",
        "d = 1\n",
        "print(find_approximate_matches(seq, pattern, d))  # Output: [2, 6, 8]\n"
      ],
      "metadata": {
        "colab": {
          "base_uri": "https://localhost:8080/"
        },
        "id": "LssgepvMMoBk",
        "outputId": "7345eaff-17f6-4c2f-966d-01596384686d"
      },
      "execution_count": 6,
      "outputs": [
        {
          "output_type": "stream",
          "name": "stdout",
          "text": [
            "[4, 8]\n"
          ]
        }
      ]
    },
    {
      "cell_type": "markdown",
      "source": [
        "3. Search in the UniProt database the record for the human protein APAF (O14727). Save it\n",
        " in the FASTA format. Using BioPython perform the following operations:\n",
        " a. Load the file and check that the protein contains 1248 aminoacids."
      ],
      "metadata": {
        "id": "E0pWZ9GYOGrV"
      }
    },
    {
      "cell_type": "code",
      "source": [
        "!pip install biopython"
      ],
      "metadata": {
        "colab": {
          "base_uri": "https://localhost:8080/"
        },
        "id": "reA0D7qUTAbG",
        "outputId": "6ac69999-3275-4108-a9e9-5989ee0acb68"
      },
      "execution_count": 8,
      "outputs": [
        {
          "output_type": "stream",
          "name": "stdout",
          "text": [
            "Collecting biopython\n",
            "  Downloading biopython-1.85-cp311-cp311-manylinux_2_17_x86_64.manylinux2014_x86_64.whl.metadata (13 kB)\n",
            "Requirement already satisfied: numpy in /usr/local/lib/python3.11/dist-packages (from biopython) (1.26.4)\n",
            "Downloading biopython-1.85-cp311-cp311-manylinux_2_17_x86_64.manylinux2014_x86_64.whl (3.3 MB)\n",
            "\u001b[2K   \u001b[90m━━━━━━━━━━━━━━━━━━━━━━━━━━━━━━━━━━━━━━━━\u001b[0m \u001b[32m3.3/3.3 MB\u001b[0m \u001b[31m27.5 MB/s\u001b[0m eta \u001b[36m0:00:00\u001b[0m\n",
            "\u001b[?25hInstalling collected packages: biopython\n",
            "Successfully installed biopython-1.85\n"
          ]
        }
      ]
    },
    {
      "cell_type": "code",
      "source": [
        "from Bio import SeqIO\n",
        "\n",
        "# Load the FASTA file\n",
        "fasta_file = \"uniprotkb_2025_02_06.fasta\"\n",
        "record = SeqIO.read(fasta_file, \"fasta\")\n",
        "\n",
        "# Check the length of the protein\n",
        "protein_length = len(record.seq)\n",
        "print(f\"The protein contains {protein_length} amino acids.\")\n",
        "\n",
        "# Verify that the protein contains 1248 amino acids\n",
        "assert protein_length == 1248, \"The protein does not contain 1248 amino acids.\"\n",
        "print(\"The protein contains 1248 amino acids.\")\n"
      ],
      "metadata": {
        "colab": {
          "base_uri": "https://localhost:8080/"
        },
        "id": "GPaDm5SrN6G6",
        "outputId": "415315a9-e72b-48d5-9832-6b3ca375cfdd"
      },
      "execution_count": 11,
      "outputs": [
        {
          "output_type": "stream",
          "name": "stdout",
          "text": [
            "The protein contains 1248 amino acids.\n",
            "The protein contains 1248 amino acids.\n"
          ]
        }
      ]
    },
    {
      "cell_type": "markdown",
      "source": [
        "b. Using BLASTP, search for sequences with high similarity to this sequence, in the\n",
        " “swissprot” database."
      ],
      "metadata": {
        "id": "S_8KBYsYUliX"
      }
    },
    {
      "cell_type": "markdown",
      "source": [
        "I found that the most similar match is the following based on the following criteria: RecName: Full=Apoptotic protease-activating factor 1; Short=APAF-1 [Homo sapiens]"
      ],
      "metadata": {
        "id": "WAPTBCqkV6H9"
      }
    },
    {
      "cell_type": "markdown",
      "source": [
        "1 It achieved the lowest E-value in the entire list.\n",
        "\n",
        "2 It had 100% identity percentage, which shows closeness of the two matches.\n",
        "\n",
        "3 It had the best Query cover, Total Score and Max score. Which shows that the match was of the highest quality you could ever get in the swissport database."
      ],
      "metadata": {
        "id": "rdrqDhReWauU"
      }
    },
    {
      "cell_type": "markdown",
      "source": [
        "c. Check which the global parameters were used in the search: the database, the substitution matrix, and the gap penalties."
      ],
      "metadata": {
        "id": "uJtQP5esYAMZ"
      }
    },
    {
      "cell_type": "markdown",
      "source": [
        "The database is swissport\n",
        "\n",
        "The substitution matrix is BLOSUM62\n",
        "\n",
        "The gap penalties are 11,1"
      ],
      "metadata": {
        "id": "n_ct5MHsYKPx"
      }
    },
    {
      "cell_type": "markdown",
      "source": [
        " d. List the best alignments returned, showing the accession numbers of the sequences,\n",
        " the E value of the alignments, and the alignment length."
      ],
      "metadata": {
        "id": "VwqLTjHbaSNP"
      }
    },
    {
      "cell_type": "markdown",
      "source": [
        "The best alignment returned: RecName: Full=Apoptotic protease-activating factor 1; Short=APAF-1 [Homo sapiens], RecName: Full=Apoptotic protease-activating factor 1; Short=APAF-1 [Rattus norvegicus], RecName: Full=Apoptotic protease-activating factor 1; Short=APAF-1 [Mus musculus]\n",
        "\n",
        "Accession number: O1472.7, Q9EPV5.1, Q88879.3\n",
        "\n",
        "E values: 0.0, 0.0, 0.0\n",
        "\n",
        "Alignment length: 1248, 1249, 1249"
      ],
      "metadata": {
        "id": "BsOo04HyckIo"
      }
    },
    {
      "cell_type": "markdown",
      "source": [
        " e. Repeat the search restricting the target sequences to the organism S. cerevisiae (sug\n",
        "gestion: use the argument entrez_query in the qblast function)."
      ],
      "metadata": {
        "id": "984HdBfYeGIO"
      }
    },
    {
      "cell_type": "code",
      "source": [
        "from Bio.Blast import NCBIWWW\n",
        "from Bio import SeqIO\n",
        "\n",
        "# Load the FASTA file\n",
        "fasta_file = \"uniprotkb_2025_02_06.fasta\"\n",
        "record = SeqIO.read(fasta_file, \"fasta\")\n",
        "\n",
        "# Perform the BLASTP search\n",
        "result_handle = NCBIWWW.qblast(\"blastp\", \"swissprot\", record.seq, entrez_query=\"Saccharomyces cerevisiae[ORGN]\")\n",
        "\n",
        "# Save the results to a file\n",
        "blast_result = open(\"S_cerevisiae_blast_results.xml\", \"w\")\n",
        "blast_result.write(result_handle.read())\n",
        "blast_result.close()\n",
        "\n",
        "# Close the result handle\n",
        "result_handle.close()\n"
      ],
      "metadata": {
        "id": "m18r6NzlWX1b"
      },
      "execution_count": 12,
      "outputs": []
    },
    {
      "cell_type": "markdown",
      "source": [
        "f. Check the results from the last operation, listing the best alignments, and checking\n",
        " carefully in each the start position of the alignment in the query and in the sequence."
      ],
      "metadata": {
        "id": "65nvJHk6fjkH"
      }
    },
    {
      "cell_type": "code",
      "source": [
        "from Bio.Blast import NCBIXML\n",
        "\n",
        "# Load the BLAST results file\n",
        "result_handle = open(\"S_cerevisiae_blast_results.xml\")\n",
        "\n",
        "# Parse the results\n",
        "blast_records = NCBIXML.parse(result_handle)\n",
        "blast_record = next(blast_records)  # Get the first BLAST record\n"
      ],
      "metadata": {
        "id": "5e5aOEEtev10"
      },
      "execution_count": 13,
      "outputs": []
    },
    {
      "cell_type": "code",
      "source": [
        "# List to store the best alignments\n",
        "best_alignments = []\n",
        "\n",
        "for alignment in blast_record.alignments:\n",
        "    for hsp in alignment.hsps:\n",
        "        best_alignments.append({\n",
        "            \"accession\": alignment.accession,\n",
        "            \"e_value\": hsp.expect,\n",
        "            \"alignment_length\": hsp.align_length,\n",
        "            \"query_start\": hsp.query_start,\n",
        "            \"subject_start\": hsp.sbjct_start\n",
        "        })\n",
        "\n",
        "# Print the best alignments\n",
        "for alignment in best_alignments:\n",
        "    print(f\"Accession: {alignment['accession']}, E-Value: {alignment['e_value']}, Alignment Length: {alignment['alignment_length']}\")\n",
        "    print(f\"Query Start: {alignment['query_start']}, Subject Start: {alignment['subject_start']}\\n\")\n"
      ],
      "metadata": {
        "colab": {
          "base_uri": "https://localhost:8080/"
        },
        "id": "z45G0-eGfp3M",
        "outputId": "5da00714-2bf3-4e8c-fc4c-6debaf877915"
      },
      "execution_count": 14,
      "outputs": [
        {
          "output_type": "stream",
          "name": "stdout",
          "text": [
            "Accession: P25382, E-Value: 8.81845e-25, Alignment Length: 346\n",
            "Query Start: 629, Subject Start: 158\n",
            "\n",
            "Accession: P25382, E-Value: 2.72387e-11, Alignment Length: 220\n",
            "Query Start: 610, Subject Start: 315\n",
            "\n",
            "Accession: P25382, E-Value: 6.98148e-11, Alignment Length: 331\n",
            "Query Start: 838, Subject Start: 141\n",
            "\n",
            "Accession: P25382, E-Value: 1.08419e-10, Alignment Length: 105\n",
            "Query Start: 1084, Subject Start: 142\n",
            "\n",
            "Accession: Q05946, E-Value: 6.63484e-18, Alignment Length: 159\n",
            "Query Start: 655, Subject Start: 489\n",
            "\n",
            "Accession: Q05946, E-Value: 1.09265e-15, Alignment Length: 218\n",
            "Query Start: 560, Subject Start: 442\n",
            "\n",
            "Accession: Q05946, E-Value: 1.33817e-13, Alignment Length: 556\n",
            "Query Start: 630, Subject Start: 117\n",
            "\n",
            "Accession: Q05946, E-Value: 9.70153e-08, Alignment Length: 157\n",
            "Query Start: 623, Subject Start: 69\n",
            "\n",
            "Accession: Q05946, E-Value: 3.32579e-07, Alignment Length: 174\n",
            "Query Start: 614, Subject Start: 387\n",
            "\n",
            "Accession: Q05946, E-Value: 0.00324507, Alignment Length: 75\n",
            "Query Start: 614, Subject Start: 574\n",
            "\n",
            "Accession: Q05946, E-Value: 0.0949091, Alignment Length: 72\n",
            "Query Start: 1121, Subject Start: 138\n",
            "\n",
            "Accession: Q05946, E-Value: 2.37943, Alignment Length: 84\n",
            "Query Start: 1125, Subject Start: 489\n",
            "\n",
            "Accession: P38129, E-Value: 2.47905e-15, Alignment Length: 168\n",
            "Query Start: 614, Subject Start: 524\n",
            "\n",
            "Accession: P38129, E-Value: 1.16072e-13, Alignment Length: 359\n",
            "Query Start: 692, Subject Start: 459\n",
            "\n",
            "Accession: P38129, E-Value: 5.29547e-09, Alignment Length: 249\n",
            "Query Start: 1019, Subject Start: 438\n",
            "\n",
            "Accession: Q12220, E-Value: 6.55822e-14, Alignment Length: 175\n",
            "Query Start: 614, Subject Start: 472\n",
            "\n",
            "Accession: Q12220, E-Value: 8.09151e-11, Alignment Length: 238\n",
            "Query Start: 966, Subject Start: 435\n",
            "\n",
            "Accession: Q12220, E-Value: 0.000375216, Alignment Length: 71\n",
            "Query Start: 614, Subject Start: 614\n",
            "\n",
            "Accession: P41318, E-Value: 2.05373e-13, Alignment Length: 286\n",
            "Query Start: 897, Subject Start: 5\n",
            "\n",
            "Accession: P41318, E-Value: 2.3714e-11, Alignment Length: 316\n",
            "Query Start: 630, Subject Start: 5\n",
            "\n",
            "Accession: P41318, E-Value: 3.74877e-08, Alignment Length: 94\n",
            "Query Start: 612, Subject Start: 204\n",
            "\n",
            "Accession: P41318, E-Value: 5.33696e-05, Alignment Length: 193\n",
            "Query Start: 1058, Subject Start: 5\n",
            "\n",
            "Accession: P41811, E-Value: 2.43911e-13, Alignment Length: 193\n",
            "Query Start: 636, Subject Start: 76\n",
            "\n",
            "Accession: P41811, E-Value: 2.22565e-09, Alignment Length: 273\n",
            "Query Start: 658, Subject Start: 14\n",
            "\n",
            "Accession: P41811, E-Value: 1.18553e-08, Alignment Length: 261\n",
            "Query Start: 910, Subject Start: 4\n",
            "\n",
            "Accession: P41811, E-Value: 1.03845e-06, Alignment Length: 245\n",
            "Query Start: 840, Subject Start: 55\n",
            "\n",
            "Accession: P16649, E-Value: 2.93173e-12, Alignment Length: 272\n",
            "Query Start: 884, Subject Start: 445\n",
            "\n",
            "Accession: P16649, E-Value: 3.24091e-05, Alignment Length: 196\n",
            "Query Start: 715, Subject Start: 457\n",
            "\n",
            "Accession: Q12417, E-Value: 6.80051e-12, Alignment Length: 154\n",
            "Query Start: 626, Subject Start: 151\n",
            "\n",
            "Accession: P18851, E-Value: 1.091e-11, Alignment Length: 392\n",
            "Query Start: 572, Subject Start: 45\n",
            "\n",
            "Accession: P18851, E-Value: 4.43355e-06, Alignment Length: 224\n",
            "Query Start: 1034, Subject Start: 82\n",
            "\n",
            "Accession: P18851, E-Value: 1.64863e-05, Alignment Length: 361\n",
            "Query Start: 806, Subject Start: 100\n",
            "\n",
            "Accession: P25635, E-Value: 1.3949e-11, Alignment Length: 562\n",
            "Query Start: 662, Subject Start: 99\n",
            "\n",
            "Accession: P25635, E-Value: 1.91482e-08, Alignment Length: 182\n",
            "Query Start: 985, Subject Start: 37\n",
            "\n",
            "Accession: P25635, E-Value: 3.18581e-08, Alignment Length: 242\n",
            "Query Start: 639, Subject Start: 327\n",
            "\n",
            "Accession: P40968, E-Value: 1.0343e-10, Alignment Length: 228\n",
            "Query Start: 687, Subject Start: 150\n",
            "\n",
            "Accession: P40968, E-Value: 0.000274084, Alignment Length: 280\n",
            "Query Start: 899, Subject Start: 73\n",
            "\n",
            "Accession: P40968, E-Value: 1.74011, Alignment Length: 80\n",
            "Query Start: 1102, Subject Start: 180\n",
            "\n",
            "Accession: P42841, E-Value: 1.46607e-10, Alignment Length: 275\n",
            "Query Start: 610, Subject Start: 130\n",
            "\n",
            "Accession: P42841, E-Value: 1.84447e-07, Alignment Length: 203\n",
            "Query Start: 660, Subject Start: 96\n",
            "\n",
            "Accession: P42841, E-Value: 3.97391e-07, Alignment Length: 121\n",
            "Query Start: 996, Subject Start: 127\n",
            "\n",
            "Accession: P42841, E-Value: 6.43982e-07, Alignment Length: 333\n",
            "Query Start: 702, Subject Start: 96\n",
            "\n",
            "Accession: A6ZYM0, E-Value: 1.68274e-10, Alignment Length: 195\n",
            "Query Start: 598, Subject Start: 41\n",
            "\n",
            "Accession: Q05583, E-Value: 1.85719e-10, Alignment Length: 181\n",
            "Query Start: 612, Subject Start: 67\n",
            "\n",
            "Accession: P53622, E-Value: 2.54706e-10, Alignment Length: 205\n",
            "Query Start: 614, Subject Start: 94\n",
            "\n",
            "Accession: P53622, E-Value: 2.1661e-08, Alignment Length: 278\n",
            "Query Start: 821, Subject Start: 35\n",
            "\n",
            "Accession: P53622, E-Value: 1.42913e-07, Alignment Length: 173\n",
            "Query Start: 1063, Subject Start: 31\n",
            "\n",
            "Accession: P53622, E-Value: 9.50591e-07, Alignment Length: 228\n",
            "Query Start: 975, Subject Start: 68\n",
            "\n",
            "Accession: P53622, E-Value: 3.54797e-05, Alignment Length: 163\n",
            "Query Start: 998, Subject Start: 5\n",
            "\n",
            "Accession: P39014, E-Value: 2.75659e-10, Alignment Length: 321\n",
            "Query Start: 735, Subject Start: 293\n",
            "\n",
            "Accession: P39014, E-Value: 1.46124e-06, Alignment Length: 260\n",
            "Query Start: 979, Subject Start: 358\n",
            "\n",
            "Accession: P39014, E-Value: 0.000457006, Alignment Length: 222\n",
            "Query Start: 612, Subject Start: 379\n",
            "\n",
            "Accession: P38011, E-Value: 1.50453e-09, Alignment Length: 259\n",
            "Query Start: 964, Subject Start: 68\n",
            "\n",
            "Accession: P38011, E-Value: 0.000220542, Alignment Length: 352\n",
            "Query Start: 691, Subject Start: 9\n",
            "\n",
            "Accession: Q04491, E-Value: 3.72423e-09, Alignment Length: 188\n",
            "Query Start: 609, Subject Start: 3\n",
            "\n",
            "Accession: P32479, E-Value: 2.31146e-08, Alignment Length: 191\n",
            "Query Start: 1088, Subject Start: 20\n",
            "\n",
            "Accession: A6ZQL5, E-Value: 2.6529e-08, Alignment Length: 169\n",
            "Query Start: 653, Subject Start: 498\n",
            "\n",
            "Accession: A6ZQL5, E-Value: 0.00129921, Alignment Length: 119\n",
            "Query Start: 1106, Subject Start: 420\n",
            "\n",
            "Accession: P47025, E-Value: 2.96362e-08, Alignment Length: 169\n",
            "Query Start: 653, Subject Start: 498\n",
            "\n",
            "Accession: P47025, E-Value: 0.00135562, Alignment Length: 119\n",
            "Query Start: 1106, Subject Start: 420\n",
            "\n",
            "Accession: A6ZZZ8, E-Value: 9.57163e-07, Alignment Length: 142\n",
            "Query Start: 656, Subject Start: 425\n",
            "\n",
            "Accession: P36130, E-Value: 1.173e-06, Alignment Length: 142\n",
            "Query Start: 656, Subject Start: 423\n",
            "\n",
            "Accession: A6ZMK5, E-Value: 1.86625e-05, Alignment Length: 110\n",
            "Query Start: 649, Subject Start: 2\n",
            "\n",
            "Accession: A6ZMK5, E-Value: 2.30016, Alignment Length: 59\n",
            "Query Start: 1102, Subject Start: 27\n",
            "\n",
            "Accession: P38262, E-Value: 2.4558e-05, Alignment Length: 257\n",
            "Query Start: 882, Subject Start: 226\n",
            "\n",
            "Accession: P38262, E-Value: 2.86492e-05, Alignment Length: 83\n",
            "Query Start: 688, Subject Start: 352\n",
            "\n",
            "Accession: P38262, E-Value: 0.0486586, Alignment Length: 238\n",
            "Query Start: 682, Subject Start: 196\n",
            "\n",
            "Accession: P38262, E-Value: 0.530951, Alignment Length: 63\n",
            "Query Start: 623, Subject Start: 367\n",
            "\n",
            "Accession: P53196, E-Value: 4.80269e-05, Alignment Length: 106\n",
            "Query Start: 972, Subject Start: 105\n",
            "\n",
            "Accession: P53196, E-Value: 0.0210477, Alignment Length: 124\n",
            "Query Start: 716, Subject Start: 151\n",
            "\n",
            "Accession: P07834, E-Value: 0.000100479, Alignment Length: 120\n",
            "Query Start: 653, Subject Start: 377\n",
            "\n",
            "Accession: P07834, E-Value: 0.000273723, Alignment Length: 163\n",
            "Query Start: 610, Subject Start: 525\n",
            "\n",
            "Accession: P07834, E-Value: 0.00257519, Alignment Length: 106\n",
            "Query Start: 1031, Subject Start: 364\n",
            "\n",
            "Accession: Q08924, E-Value: 0.000151192, Alignment Length: 132\n",
            "Query Start: 649, Subject Start: 171\n",
            "\n",
            "Accession: Q08924, E-Value: 0.00130952, Alignment Length: 173\n",
            "Query Start: 746, Subject Start: 39\n",
            "\n",
            "Accession: Q08924, E-Value: 0.00957149, Alignment Length: 51\n",
            "Query Start: 727, Subject Start: 163\n",
            "\n",
            "Accession: P33750, E-Value: 0.000299381, Alignment Length: 256\n",
            "Query Start: 716, Subject Start: 83\n",
            "\n",
            "Accession: P33750, E-Value: 0.153892, Alignment Length: 385\n",
            "Query Start: 811, Subject Start: 38\n",
            "\n",
            "Accession: Q04305, E-Value: 0.00327693, Alignment Length: 216\n",
            "Query Start: 893, Subject Start: 136\n",
            "\n",
            "Accession: Q06078, E-Value: 0.0032793, Alignment Length: 137\n",
            "Query Start: 635, Subject Start: 480\n",
            "\n",
            "Accession: Q06078, E-Value: 0.157257, Alignment Length: 124\n",
            "Query Start: 821, Subject Start: 526\n",
            "\n",
            "Accession: P36104, E-Value: 0.00376714, Alignment Length: 194\n",
            "Query Start: 858, Subject Start: 89\n",
            "\n",
            "Accession: P40066, E-Value: 0.0112253, Alignment Length: 216\n",
            "Query Start: 744, Subject Start: 37\n",
            "\n",
            "Accession: P39706, E-Value: 0.0122591, Alignment Length: 255\n",
            "Query Start: 690, Subject Start: 18\n",
            "\n",
            "Accession: A6ZPA6, E-Value: 0.0128092, Alignment Length: 169\n",
            "Query Start: 630, Subject Start: 222\n",
            "\n",
            "Accession: C7GWC1, E-Value: 0.0165584, Alignment Length: 169\n",
            "Query Start: 630, Subject Start: 222\n",
            "\n",
            "Accession: C8ZH19, E-Value: 0.0196492, Alignment Length: 169\n",
            "Query Start: 630, Subject Start: 222\n",
            "\n",
            "Accession: B3LJT5, E-Value: 0.0201601, Alignment Length: 169\n",
            "Query Start: 630, Subject Start: 222\n",
            "\n",
            "Accession: Q03177, E-Value: 0.0215996, Alignment Length: 68\n",
            "Query Start: 630, Subject Start: 292\n",
            "\n",
            "Accession: Q03177, E-Value: 5.90849, Alignment Length: 25\n",
            "Query Start: 660, Subject Start: 176\n",
            "\n",
            "Accession: P53011, E-Value: 0.0514948, Alignment Length: 68\n",
            "Query Start: 1090, Subject Start: 267\n",
            "\n",
            "Accession: P36037, E-Value: 0.0647831, Alignment Length: 223\n",
            "Query Start: 1040, Subject Start: 9\n",
            "\n",
            "Accession: P46680, E-Value: 0.0780941, Alignment Length: 176\n",
            "Query Start: 657, Subject Start: 127\n",
            "\n",
            "Accession: P32330, E-Value: 0.251196, Alignment Length: 88\n",
            "Query Start: 610, Subject Start: 275\n",
            "\n",
            "Accession: Q12523, E-Value: 0.253312, Alignment Length: 199\n",
            "Query Start: 715, Subject Start: 258\n",
            "\n",
            "Accession: Q04225, E-Value: 0.325169, Alignment Length: 109\n",
            "Query Start: 1096, Subject Start: 333\n",
            "\n",
            "Accession: P42935, E-Value: 0.716076, Alignment Length: 69\n",
            "Query Start: 1095, Subject Start: 24\n",
            "\n",
            "Accession: P40960, E-Value: 0.923621, Alignment Length: 102\n",
            "Query Start: 742, Subject Start: 433\n",
            "\n",
            "Accession: P38123, E-Value: 1.03912, Alignment Length: 203\n",
            "Query Start: 890, Subject Start: 63\n",
            "\n",
            "Accession: P25365, E-Value: 1.24852, Alignment Length: 49\n",
            "Query Start: 742, Subject Start: 303\n",
            "\n",
            "Accession: P40042, E-Value: 1.37344, Alignment Length: 77\n",
            "Query Start: 718, Subject Start: 28\n",
            "\n"
          ]
        }
      ]
    },
    {
      "cell_type": "markdown",
      "source": [
        "Accession: The unique identifier for the subject sequence in the SwissProt database.\n",
        "\n",
        "E-Value: The expect value of the alignment, indicating the significance of the match.\n",
        "\n",
        "Alignment Length: The length of the alignment between the query and the subject sequence.\n",
        "\n",
        "Query Start: The starting position of the alignment in the query sequence.\n",
        "\n",
        "Subject Start: The starting position of the alignment in the subject sequence."
      ],
      "metadata": {
        "id": "UC7z8kBygO4w"
      }
    },
    {
      "cell_type": "markdown",
      "source": [
        "g. What do you conclude about the existence of homologous genes in the yeast for the\n",
        " human protein APAF ?"
      ],
      "metadata": {
        "id": "tvlJwCBUg0Q8"
      }
    },
    {
      "cell_type": "markdown",
      "source": [
        "Based on the BLASTP search results, it appears that there are homologous genes in *S. cerevisiae* (yeast) for the human protein APAF. The presence of significant alignments with low E-values and substantial alignment lengths suggests that the yeast genome contains sequences that are similar to the human APAF protein.\n",
        "\n",
        "This indicates that the function of APAF may be conserved across these species, despite the evolutionary distance between them. Homologous genes often retain similar functions, which can be crucial for understanding the role of APAF in yeast and potentially leveraging yeast as a model organism for studying APAF-related processes."
      ],
      "metadata": {
        "id": "3W4FaIcQg60w"
      }
    },
    {
      "cell_type": "code",
      "source": [],
      "metadata": {
        "id": "V5OqieRKg7oN"
      },
      "execution_count": null,
      "outputs": []
    }
  ]
}