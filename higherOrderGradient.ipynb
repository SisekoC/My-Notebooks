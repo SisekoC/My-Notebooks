{
  "nbformat": 4,
  "nbformat_minor": 0,
  "metadata": {
    "colab": {
      "provenance": [],
      "include_colab_link": true
    },
    "kernelspec": {
      "name": "python3",
      "display_name": "Python 3"
    }
  },
  "cells": [
    {
      "cell_type": "markdown",
      "metadata": {
        "id": "view-in-github",
        "colab_type": "text"
      },
      "source": [
        "<a href=\"https://colab.research.google.com/github/SisekoC/My-Notebooks/blob/main/higherOrderGradient.ipynb\" target=\"_parent\"><img src=\"https://colab.research.google.com/assets/colab-badge.svg\" alt=\"Open In Colab\"/></a>"
      ]
    },
    {
      "cell_type": "code",
      "metadata": {
        "id": "CdnziduAv432",
        "colab": {
          "base_uri": "https://localhost:8080/"
        },
        "outputId": "b72ceef2-4b87-44df-f8aa-2bba9c246bc1"
      },
      "source": [
        "import tensorflow as tf\n",
        "print(\"Version of tensorflow is : \",tf.__version__)\n",
        "import numpy as np"
      ],
      "execution_count": 1,
      "outputs": [
        {
          "output_type": "stream",
          "name": "stdout",
          "text": [
            "Version of tensorflow is :  2.17.0\n"
          ]
        }
      ]
    },
    {
      "cell_type": "code",
      "metadata": {
        "colab": {
          "base_uri": "https://localhost:8080/"
        },
        "id": "SlaaZsIjwNUM",
        "outputId": "88749c0f-3ee6-4aeb-f384-5709b78e6457"
      },
      "source": [
        "x = tf.Variable([[4.0]])\n",
        "with tf.GradientTape() as tape:\n",
        "    loss = tf.square(x)\n",
        "dx = tape.gradient(loss , x)\n",
        "print(\"Value of dx : \",dx.numpy())\n",
        "print(\"dx   : \",dx)\n",
        "print(\"loss :\" , loss)"
      ],
      "execution_count": 2,
      "outputs": [
        {
          "output_type": "stream",
          "name": "stdout",
          "text": [
            "Value of dx :  [[8.]]\n",
            "dx   :  tf.Tensor([[8.]], shape=(1, 1), dtype=float32)\n",
            "loss : tf.Tensor([[16.]], shape=(1, 1), dtype=float32)\n"
          ]
        }
      ]
    },
    {
      "cell_type": "code",
      "metadata": {
        "colab": {
          "base_uri": "https://localhost:8080/"
        },
        "id": "-0dM_yX7w0rM",
        "outputId": "23d680c5-86e1-4331-c5d2-92403addbe16"
      },
      "source": [
        "x = tf.Variable([4.0])\n",
        "with tf.GradientTape() as tape:\n",
        "    loss = tf.square(x)\n",
        "dx = tape.gradient(loss , x)\n",
        "print(\"Value of dx : \",dx.numpy())\n",
        "print(\"dx   : \",dx)\n",
        "print(\"loss :\" , loss)"
      ],
      "execution_count": 3,
      "outputs": [
        {
          "output_type": "stream",
          "name": "stdout",
          "text": [
            "Value of dx :  [8.]\n",
            "dx   :  tf.Tensor([8.], shape=(1,), dtype=float32)\n",
            "loss : tf.Tensor([16.], shape=(1,), dtype=float32)\n"
          ]
        }
      ]
    },
    {
      "cell_type": "code",
      "metadata": {
        "colab": {
          "base_uri": "https://localhost:8080/"
        },
        "id": "5Mjd4OcPw-oQ",
        "outputId": "58d1f0b3-07aa-4d59-e30a-44bd8078ee8f"
      },
      "source": [
        "x = tf.Variable(4.0)\n",
        "with tf.GradientTape() as tape:\n",
        "    loss = tf.square(x)\n",
        "dx = tape.gradient(loss , x)\n",
        "print(\"Value of dx : \",dx.numpy())\n",
        "print(\"dx   : \",dx)\n",
        "print(\"loss :\" , loss)"
      ],
      "execution_count": 4,
      "outputs": [
        {
          "output_type": "stream",
          "name": "stdout",
          "text": [
            "Value of dx :  8.0\n",
            "dx   :  tf.Tensor(8.0, shape=(), dtype=float32)\n",
            "loss : tf.Tensor(16.0, shape=(), dtype=float32)\n"
          ]
        }
      ]
    },
    {
      "cell_type": "code",
      "metadata": {
        "colab": {
          "base_uri": "https://localhost:8080/"
        },
        "id": "LG7BHKG1xBkQ",
        "outputId": "93ff63b4-8509-4cdd-e506-47605340cd40"
      },
      "source": [
        "x = tf.ones((2,2))\n",
        "with tf.GradientTape() as t:\n",
        "    t.watch(x)\n",
        "    y = tf.reduce_sum(x)\n",
        "    z = tf.square(y)\n",
        "dz_dx = t.gradient(z , x)\n",
        "print(\"dz_dx : \",dz_dx)\n",
        "print(\"z : \",z)\n",
        "print(\"y : \",y)\n",
        "print(\"x : \",x)"
      ],
      "execution_count": 5,
      "outputs": [
        {
          "output_type": "stream",
          "name": "stdout",
          "text": [
            "dz_dx :  tf.Tensor(\n",
            "[[8. 8.]\n",
            " [8. 8.]], shape=(2, 2), dtype=float32)\n",
            "z :  tf.Tensor(16.0, shape=(), dtype=float32)\n",
            "y :  tf.Tensor(4.0, shape=(), dtype=float32)\n",
            "x :  tf.Tensor(\n",
            "[[1. 1.]\n",
            " [1. 1.]], shape=(2, 2), dtype=float32)\n"
          ]
        }
      ]
    },
    {
      "cell_type": "markdown",
      "metadata": {
        "id": "dxoTy7oyzTPK"
      },
      "source": [
        "**Persistent & Higher_order derivatives**"
      ]
    },
    {
      "cell_type": "code",
      "metadata": {
        "colab": {
          "base_uri": "https://localhost:8080/"
        },
        "id": "7Y-Mk4xwxgvR",
        "outputId": "2df246eb-8bba-40db-d5ba-38e64b2f4aba"
      },
      "source": [
        "x = tf.Variable(2.0)\n",
        "with tf.GradientTape(persistent=True) as t: #GradientTape.gradient can only be called once on non-persistent tapes.(if don't use persistent=True)\n",
        "    t.watch(x)\n",
        "    y = x * x\n",
        "    z = y * y\n",
        "print(\"dy_dx : \",t.gradient(y , x))\n",
        "print(\"dz_dx : \",t.gradient(z, x))\n",
        "print(\"dz_dy : \",t.gradient(z , y))\n",
        "print(\"d2y_dx2 : \",t.gradient(t.gradient(y , x) , x))"
      ],
      "execution_count": 6,
      "outputs": [
        {
          "output_type": "stream",
          "name": "stdout",
          "text": [
            "dy_dx :  tf.Tensor(4.0, shape=(), dtype=float32)\n",
            "dz_dx :  tf.Tensor(32.0, shape=(), dtype=float32)\n",
            "dz_dy :  tf.Tensor(8.0, shape=(), dtype=float32)\n",
            "d2y_dx2 :  None\n"
          ]
        }
      ]
    },
    {
      "cell_type": "code",
      "metadata": {
        "colab": {
          "base_uri": "https://localhost:8080/"
        },
        "id": "BbWi37VNzySJ",
        "outputId": "235730c1-1ee8-42fa-e697-1a92bf66f868"
      },
      "source": [
        "x = tf.Variable(3.0)\n",
        "with tf.GradientTape() as t1:\n",
        "    with tf.GradientTape() as t2:\n",
        "        y = x * x * x\n",
        "    dy_dx = t2.gradient(y , x)\n",
        "d2y_dx2 = t1.gradient(dy_dx , x)\n",
        "\n",
        "print(\"dy_dx   : \",dy_dx)\n",
        "print(\"d2y_dx2 : \",d2y_dx2)"
      ],
      "execution_count": 7,
      "outputs": [
        {
          "output_type": "stream",
          "name": "stdout",
          "text": [
            "dy_dx   :  tf.Tensor(27.0, shape=(), dtype=float32)\n",
            "d2y_dx2 :  tf.Tensor(18.0, shape=(), dtype=float32)\n"
          ]
        }
      ]
    },
    {
      "cell_type": "code",
      "source": [],
      "metadata": {
        "id": "zQAHN2-m1xbo"
      },
      "execution_count": 7,
      "outputs": []
    }
  ]
}