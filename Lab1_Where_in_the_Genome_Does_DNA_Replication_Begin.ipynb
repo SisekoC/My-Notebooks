{
  "cells": [
    {
      "cell_type": "markdown",
      "metadata": {
        "id": "view-in-github",
        "colab_type": "text"
      },
      "source": [
        "<a href=\"https://colab.research.google.com/github/SisekoC/My-Notebooks/blob/main/Lab1_Where_in_the_Genome_Does_DNA_Replication_Begin.ipynb\" target=\"_parent\"><img src=\"https://colab.research.google.com/assets/colab-badge.svg\" alt=\"Open In Colab\"/></a>"
      ]
    },
    {
      "cell_type": "markdown",
      "metadata": {
        "id": "FoVn92ywRRKQ"
      },
      "source": [
        "# Lab 1 - Where in the Genome Does DNA Replication Begin?\n",
        "## Secondary Title: Algorithm Warmup\n",
        "Material and embedded lab.\n",
        "\n",
        "Motivation and some exercises are variations on those available in Bioinformatics Algorithms: An Active-Learning Approach by Phillip Compeau & Pavel Pevzner."
      ]
    },
    {
      "cell_type": "markdown",
      "metadata": {
        "id": "wW0bw4llRRKS"
      },
      "source": [
        "## Genome Replication\n",
        "* One of most important tasks carried out in the cell.\n",
        "* Must be carried out before cell division\n",
        "* In 1953, James Watson and Francis Crick ended their paper on DNA double helix with:\n",
        "\n",
        "\"It has not escaped our notice that the specific pairing we have postulated immediately suggests a possible copying mechanism for the genetic material.\"\n",
        "\n",
        "<img src=\"https://images.fineartamerica.com/images/artworkimages/mediumlarge/1/watson-and-crick-a-barrington-brown-and-photo-researchers.jpg\" alt=\"drawing\" width=\"200\"/>"
      ]
    },
    {
      "cell_type": "markdown",
      "metadata": {
        "id": "i9lJWpcYRRKS"
      },
      "source": [
        "## Let's talk some biology\n",
        "<img src=\"https://upload.wikimedia.org/wikipedia/commons/thumb/3/37/Difference_DNA_RNA-EN.svg/1200px-Difference_DNA_RNA-EN.svg.png\" width=\"600\"/>\n",
        "\n"
      ]
    },
    {
      "cell_type": "markdown",
      "metadata": {
        "id": "D8BXt2AeRRKT"
      },
      "source": [
        "## DNA and RNA code\n",
        "* Not a binary alphabet\n",
        "* DNA alphabet: AGCT\n",
        "* RNA alphabet: AGCU\n",
        "* Nucleotides are complementary (A binds to T and G binds to C)\n",
        "* Replication begins at replication origin (*ori*)\n",
        "* **Binary is a base-2 system, what is DNA/RNA?**"
      ]
    },
    {
      "cell_type": "markdown",
      "metadata": {
        "id": "di-StJfeRRKT"
      },
      "source": [
        "## Why should I care?\n",
        "There are molecular copy machines known as DNA polymerases that start by locating a *ori*. Some gene therapy methods use genetically engineered mini-genomes, which are called **viral vectors** because they are able to penetrate cell walls. Viral vectors carry artificial genes that have been used to engineer frost-resistant tomatoes and pesticide-resistant corn. In 1990, gene therapy was successfully performed on humans when it saved the life of a four year old girl suffered from Severe Combined Immunodeficiency Disorder. To ensure the treatment works, scientists must know the location of *ori* and avoid disrupting this site."
      ]
    },
    {
      "cell_type": "markdown",
      "metadata": {
        "id": "9XtnnpnfRRKU"
      },
      "source": [
        "## Looking for *ori*\n",
        "Verified *ori* of Vibrio cholerae, the bacterium that causes cholera (~500 nucleotides):\n",
        "<pre>\n",
        "atcaatgatcaacgtaagcttctaagcatgatcaaggtgctcacacagtttatccacaac\n",
        "ctgagtggatgacatcaagataggtcgttgtatctccttcctctcgtactctcatgacca\n",
        "cggaaagatgatcaagagaggatgatttcttggccatatcgcaatgaatacttgtgactt\n",
        "gtgcttccaattgacatcttcagcgccatattgcgctggccaaggtgacggagcgggatt\n",
        "acgaaagcatgatcatggctgttgttctgtttatcttgttttgactgagacttgttagga\n",
        "tagacggtttttcatcactgactagccaaagccttactctgcctgacatcgaccgtaaat\n",
        "tgataatgaatttacatgcttccgcgacgatttacctcttgatcatcgatccgattgaag\n",
        "atcttcaattgttaattctcttgcctcgactcatagccatgatgagctcttgatcatgtt\n",
        "tccttaaccctctattttttacggaagaatgatcaagctgctgctcttgatcatcgtttc\n",
        "</pre>"
      ]
    },
    {
      "cell_type": "markdown",
      "metadata": {
        "id": "iMxYsTAdRRKU"
      },
      "source": [
        "## DnaA box\n",
        "* There is a hidden message in *ori* that orders the cell to begin replication here.\n",
        "* We know that the initiation of replication is mediated by a protein called **DnaA** that looks for a short segment within *ori*.\n",
        "* This short segment is known as a *DnaA box*\n",
        "* Biologists want to find this hidden message, but is that clearly defined enough for us CS/STAT/MATH/EGR folks?"
      ]
    },
    {
      "cell_type": "markdown",
      "metadata": {
        "id": "UErweVoCRRKU"
      },
      "source": [
        "## Counting words\n",
        "* Turns out that the patterns in our DNA are not random.\n",
        "* Some patterns are more common than others.\n",
        "* Biologically speaking this helps because certain protins can only bind to DNA if a specific string of nucleotides is present and if that string is more prevelant then we have a greater chance of success (and less likely a mutation will cause problems).\n",
        "* We are going to refer to a *k*-mer as a string of length *k*."
      ]
    },
    {
      "cell_type": "markdown",
      "metadata": {
        "id": "imeT0gyZRRKU"
      },
      "source": [
        "### Why? Why? Why?\n",
        "\"Nothing in biology makes sense except in the light of evolution.\" - Theodosius Dobzhansky"
      ]
    },
    {
      "cell_type": "markdown",
      "metadata": {
        "id": "sJgH_LDoRRKV"
      },
      "source": [
        "We are looking for surprisingly frequent substrings (contiguous strings appearing within) this *ori*.\n",
        "<pre>\n",
        "atcaatgatcaacgtaagcttctaagcatgatcaaggtgctcacacagtttatccacaac\n",
        "ctgagtggatgacatcaagataggtcgttgtatctccttcctctcgtactctcatgacca\n",
        "cggaaagatgatcaagagaggatgatttcttggccatatcgcaatgaatacttgtgactt\n",
        "gtgcttccaattgacatcttcagcgccatattgcgctggccaaggtgacggagcgggatt\n",
        "acgaaagcatgatcatggctgttgttctgtttatcttgttttgactgagacttgttagga\n",
        "tagacggtttttcatcactgactagccaaagccttactctgcctgacatcgaccgtaaat\n",
        "tgataatgaatttacatgcttccgcgacgatttacctcttgatcatcgatccgattgaag\n",
        "atcttcaattgttaattctcttgcctcgactcatagccatgatgagctcttgatcatgtt\n",
        "tccttaaccctctattttttacggaagaatgatcaagctgctgctcttgatcatcgtttc\n",
        "</pre>\n",
        "Are there any substrings that occur more frequent than others?\n",
        "\n",
        "Before we go about searching for unknown substrings, we'll write a function that counts the number of occurances of a specific substring."
      ]
    },
    {
      "cell_type": "code",
      "execution_count": null,
      "metadata": {
        "id": "7PKLhIf3RRKV"
      },
      "outputs": [],
      "source": []
    },
    {
      "cell_type": "markdown",
      "metadata": {
        "id": "7EDNJU3uRRKV"
      },
      "source": [
        "**Exercise 1.**\n",
        "A *k*-mer is a string of length ``k``. For this exercise, define a function ``count(text, pattern)`` as the number of times that a k-mer ``pattern`` appears as a substring of ``text``. For example,\n",
        "\n",
        "For example:\n",
        "<pre>\n",
        "count(\"ACAACTATGCATACTATCGGGAACTATCCT\",\"ACTAT\")=3.\n",
        "</pre>\n",
        "Please note that count(\"CGATATATCCATAG\", \"ATA\") is equal to 3 (not 2) since we should account for overlapping occurrences of ``pattern`` in ``text``."
      ]
    },
    {
      "cell_type": "code",
      "execution_count": 1,
      "metadata": {
        "id": "-J2YtxiURRKV"
      },
      "outputs": [],
      "source": [
        "def count(text,pattern):\n",
        "    return sum(text[i:].startswith(pattern) for i in range(len(text)))"
      ]
    },
    {
      "cell_type": "code",
      "execution_count": 2,
      "metadata": {
        "colab": {
          "base_uri": "https://localhost:8080/"
        },
        "id": "QPzHMSMeRRKW",
        "outputId": "87925d5c-b8db-4de3-ea71-bed1a3e77969"
      },
      "outputs": [
        {
          "output_type": "execute_result",
          "data": {
            "text/plain": [
              "3"
            ]
          },
          "metadata": {},
          "execution_count": 2
        }
      ],
      "source": [
        "count(\"ACAACTATGCATACTATCGGGAACTATCCT\",\"ACTAT\")"
      ]
    },
    {
      "cell_type": "markdown",
      "metadata": {
        "id": "5hSBlf2XRRKW"
      },
      "source": [
        "### A word about embedded lab questions\n",
        "In general, I will skip over most lab questions when recording and presenting unless I want them to be used as part of the lecture/discussion."
      ]
    },
    {
      "cell_type": "markdown",
      "metadata": {
        "id": "QLr9Z96-RRKW"
      },
      "source": [
        "**Exercise 2.** Find the most frequent *k*-mers in a string.\n",
        "* Input: A string ``text`` and an integer ``k``.\n",
        "* Output: All most frequent *k*-mers in ``text`` and their count.\n",
        "* Requirements: Do not use a dictionary/map"
      ]
    },
    {
      "cell_type": "code",
      "execution_count": 3,
      "metadata": {
        "id": "f41d2tfyRRKX"
      },
      "outputs": [],
      "source": [
        "def frequent_words(text,k):\n",
        "    counts = []\n",
        "    all_patterns = []\n",
        "    for i in range(len(text)):\n",
        "        current_pattern = text[i:i+k]\n",
        "        if current_pattern in all_patterns:\n",
        "            counts[all_patterns.index(current_pattern)] += 1\n",
        "        else:\n",
        "            all_patterns.append(current_pattern)\n",
        "            counts.append(1)\n",
        "    max_count = max(counts)\n",
        "    frequent_patterns = [el for i,el in enumerate(all_patterns) if counts[i] == max_count]\n",
        "    return frequent_patterns,max_count"
      ]
    },
    {
      "cell_type": "code",
      "execution_count": 4,
      "metadata": {
        "colab": {
          "base_uri": "https://localhost:8080/"
        },
        "id": "6o-_9phVRRKX",
        "outputId": "10451ca2-884a-41f3-a009-914dc30cb8b4"
      },
      "outputs": [
        {
          "output_type": "stream",
          "name": "stdout",
          "text": [
            "(['ACTAT'], 3)\n",
            "(['ACTA', 'CTAT'], 3)\n"
          ]
        }
      ],
      "source": [
        "print(frequent_words(\"ACAACTATGCATACTATCGGGAACTATCCT\",5))\n",
        "print(frequent_words(\"ACAACTATGCATACTATCGGGAACTATCCT\",4))"
      ]
    },
    {
      "cell_type": "markdown",
      "metadata": {
        "id": "_g_uYC3rRRKX"
      },
      "source": [
        "**Question 1.**\n",
        "What is the Big-O of frequent words? Define $|text|$ as the length of text. Assume the unit of measurement is comparing a single charater (i.e., comparing ABC to DEF costs 3 units).\n",
        "\n",
        "A. $|\\mbox{text}|^2$\n",
        "\n",
        "B. $|\\mbox{text}|^2*k$\n",
        "\n",
        "C. $k^2$"
      ]
    },
    {
      "cell_type": "code",
      "execution_count": 5,
      "metadata": {
        "colab": {
          "base_uri": "https://localhost:8080/"
        },
        "id": "AqpFCyBTRRKX",
        "outputId": "aae7809e-095a-4834-d736-67bb81517c00"
      },
      "outputs": [
        {
          "output_type": "execute_result",
          "data": {
            "text/plain": [
              "True"
            ]
          },
          "metadata": {},
          "execution_count": 5
        }
      ],
      "source": [
        "def question_1(answer):\n",
        "    answers = {\n",
        "        \"A\": False,\n",
        "        \"B\": True,\n",
        "        \"C\": False\n",
        "    }\n",
        "    try:\n",
        "        return answers[answer]\n",
        "    except:\n",
        "        return \"Not a valid answer\"\n",
        "\n",
        "answer_question_1 = lambda: question_1(\"B\")\n",
        "answer_question_1()"
      ]
    },
    {
      "cell_type": "markdown",
      "metadata": {
        "id": "BltvGq6wRRKX"
      },
      "source": [
        "### Now let's look at the *ori* and see what 9-mers appear"
      ]
    },
    {
      "cell_type": "code",
      "execution_count": 6,
      "metadata": {
        "colab": {
          "base_uri": "https://localhost:8080/"
        },
        "id": "b-Bh_KOpRRKX",
        "outputId": "6f8c54b1-cdcc-4ea0-9953-505185414608"
      },
      "outputs": [
        {
          "output_type": "execute_result",
          "data": {
            "text/plain": [
              "(['atgatcaag', 'ctcttgatc', 'tcttgatca', 'cttgatcat'], 3)"
            ]
          },
          "metadata": {},
          "execution_count": 6
        }
      ],
      "source": [
        "text = \"atcaatgatcaacgtaagcttctaagcatgatcaaggtgctcacacagtttatccacaacctgagtggatgacatcaagataggtcgttgtatctccttcctctcgtactctcatgaccacggaaagatgatcaagagaggatgatttcttggccatatcgcaatgaatacttgtgacttgtgcttccaattgacatcttcagcgccatattgcgctggccaaggtgacggagcgggattacgaaagcatgatcatggctgttgttctgtttatcttgttttgactgagacttgttaggatagacggtttttcatcactgactagccaaagccttactctgcctgacatcgaccgtaaattgataatgaatttacatgcttccgcgacgatttacctcttgatcatcgatccgattgaagatcttcaattgttaattctcttgcctcgactcatagccatgatgagctcttgatcatgtttccttaaccctctattttttacggaagaatgatcaagctgctgctcttgatcatcgtttc\"\n",
        "frequent_words(text,9)"
      ]
    },
    {
      "cell_type": "markdown",
      "metadata": {
        "id": "arCj6l0aRRKY"
      },
      "source": [
        "Notice anything interesting about the sequences?"
      ]
    },
    {
      "cell_type": "markdown",
      "metadata": {
        "id": "8niAjrsERRKY"
      },
      "source": [
        "As previously stated, nucleotides only bind to their complement, so A and T bind and G and C bind. It is also true that DNA is read in specific direction. Very much in the same way we read left to right. DNA is read from what is called the 5' end to the 3' end.\n",
        "\n",
        "<img src=\"https://image.slidesharecdn.com/dna-replication-lin-140210083429-phpapp02/95/dna-replicationlin-4-638.jpg?cb=1392021295\" width=400/>\n",
        "\n",
        "So we can now understand and look for something very important called a reverse complement. The definition of which is right there in the name. ACTG is the reverse complement of CAGT. Let's now write a simple funciton to find the reverse complement."
      ]
    },
    {
      "cell_type": "markdown",
      "metadata": {
        "id": "ECFqCMXeRRKY"
      },
      "source": [
        "**Exercise 3.** Write a function that find the reverse complement of a DNA sequence.\n",
        "* Input: A string ``text`` representing DNA.\n",
        "* Output: The reverse complement of ``text``."
      ]
    },
    {
      "cell_type": "code",
      "execution_count": 7,
      "metadata": {
        "id": "-_jOpoIHRRKY"
      },
      "outputs": [],
      "source": [
        "def reverse_complement(text):\n",
        "    text = text[::-1].lower()\n",
        "    chars = {'a':'t','t':'a','c':'g','g':'c'}\n",
        "    rev_comp = map(lambda c : chars[c], text)\n",
        "    return ''.join(rev_comp)"
      ]
    },
    {
      "cell_type": "code",
      "execution_count": 8,
      "metadata": {
        "colab": {
          "base_uri": "https://localhost:8080/",
          "height": 35
        },
        "id": "sdjKdbZERRKY",
        "outputId": "e505a038-9fd4-4bee-fc2f-80d6d3a332d0"
      },
      "outputs": [
        {
          "output_type": "execute_result",
          "data": {
            "text/plain": [
              "'actg'"
            ],
            "application/vnd.google.colaboratory.intrinsic+json": {
              "type": "string"
            }
          },
          "metadata": {},
          "execution_count": 8
        }
      ],
      "source": [
        "reverse_complement(\"cagt\")"
      ]
    },
    {
      "cell_type": "markdown",
      "metadata": {
        "id": "Bzwlp-F_RRKY"
      },
      "source": [
        "### Back to our 9-mers"
      ]
    },
    {
      "cell_type": "code",
      "execution_count": 9,
      "metadata": {
        "colab": {
          "base_uri": "https://localhost:8080/"
        },
        "id": "FpFYDxlhRRKY",
        "outputId": "916c3a74-0591-4b8c-e2ef-0d6e1d74907a"
      },
      "outputs": [
        {
          "output_type": "stream",
          "name": "stdout",
          "text": [
            "(['atgatcaag', 'ctcttgatc', 'tcttgatca', 'cttgatcat'], 3)\n",
            "Reverse complement of first 9-mer: cttgatcat\n"
          ]
        }
      ],
      "source": [
        "solutions = frequent_words(text,9)\n",
        "print(solutions)\n",
        "print(\"Reverse complement of first 9-mer:\",reverse_complement(solutions[0][0]))"
      ]
    },
    {
      "cell_type": "markdown",
      "metadata": {
        "id": "14VLYVgYRRKZ"
      },
      "source": [
        "What is interesting about the reverse complement of the first 9-mer?"
      ]
    },
    {
      "cell_type": "markdown",
      "metadata": {
        "id": "xZgGbUI-RRKZ"
      },
      "source": [
        "### Writing faster code\n",
        "**Exercise 4.** Let's now write faster code that produces a frequency map.\n",
        "* Input: A string ``text`` representing DNA and integer ``k``.\n",
        "* Output: a frequency map (Python dictionary) that maps every pattern of size ``k`` to the number of times that pattern occurs."
      ]
    },
    {
      "cell_type": "code",
      "execution_count": 10,
      "metadata": {
        "id": "cLYdNB6CRRKZ"
      },
      "outputs": [],
      "source": [
        "def frequency_table(text,k):\n",
        "    freq_map = {}\n",
        "    n = len(text)\n",
        "    for i in range(n-k+1):\n",
        "        pattern = text[i:i+k]\n",
        "        if pattern in freq_map:\n",
        "            freq_map[pattern] += 1\n",
        "        else:\n",
        "            freq_map[pattern] = 1\n",
        "    return freq_map"
      ]
    },
    {
      "cell_type": "code",
      "execution_count": 11,
      "metadata": {
        "colab": {
          "base_uri": "https://localhost:8080/"
        },
        "id": "YEPVrVCvRRKZ",
        "outputId": "fef3efe9-3948-4133-8dfa-5909d1b07dd4"
      },
      "outputs": [
        {
          "output_type": "stream",
          "name": "stdout",
          "text": [
            "{'atc': 21, 'tca': 17, 'caa': 12, 'aat': 10, 'atg': 15, 'tga': 25, 'gat': 21, 'aac': 3, 'acg': 7, 'cgt': 5, 'gta': 4, 'taa': 6, 'aag': 12, 'agc': 10, 'gct': 10, 'ctt': 17, 'ttc': 12, 'tct': 16, 'cta': 3, 'gca': 3, 'cat': 16, 'agg': 5, 'ggt': 4, 'gtg': 5, 'tgc': 8, 'ctc': 14, 'cac': 5, 'aca': 7, 'cag': 2, 'agt': 2, 'gtt': 11, 'ttt': 16, 'tta': 10, 'tat': 6, 'tcc': 7, 'cca': 8, 'acc': 5, 'cct': 9, 'ctg': 10, 'gag': 6, 'tgg': 4, 'gga': 7, 'gac': 13, 'aga': 8, 'ata': 7, 'tag': 5, 'gtc': 1, 'tcg': 7, 'ttg': 17, 'tgt': 10, 'tac': 7, 'act': 9, 'cgg': 5, 'gaa': 7, 'aaa': 4, 'att': 11, 'ggc': 3, 'gcc': 8, 'cgc': 4, 'gcg': 4, 'ggg': 1, 'cga': 7, 'ccg': 3, 'ccc': 1}\n"
          ]
        }
      ],
      "source": [
        "freq_map = frequency_table(text,3)\n",
        "print(freq_map)"
      ]
    },
    {
      "cell_type": "code",
      "execution_count": 12,
      "metadata": {
        "colab": {
          "base_uri": "https://localhost:8080/",
          "height": 459
        },
        "id": "Sxryp5t5RRKZ",
        "outputId": "81c96d6e-f170-474d-8391-5760815fcf9c"
      },
      "outputs": [
        {
          "output_type": "execute_result",
          "data": {
            "text/plain": [
              "atc    21\n",
              "tca    17\n",
              "caa    12\n",
              "aat    10\n",
              "atg    15\n",
              "       ..\n",
              "gcg     4\n",
              "ggg     1\n",
              "cga     7\n",
              "ccg     3\n",
              "ccc     1\n",
              "Length: 64, dtype: int64"
            ],
            "text/html": [
              "<div>\n",
              "<style scoped>\n",
              "    .dataframe tbody tr th:only-of-type {\n",
              "        vertical-align: middle;\n",
              "    }\n",
              "\n",
              "    .dataframe tbody tr th {\n",
              "        vertical-align: top;\n",
              "    }\n",
              "\n",
              "    .dataframe thead th {\n",
              "        text-align: right;\n",
              "    }\n",
              "</style>\n",
              "<table border=\"1\" class=\"dataframe\">\n",
              "  <thead>\n",
              "    <tr style=\"text-align: right;\">\n",
              "      <th></th>\n",
              "      <th>0</th>\n",
              "    </tr>\n",
              "  </thead>\n",
              "  <tbody>\n",
              "    <tr>\n",
              "      <th>atc</th>\n",
              "      <td>21</td>\n",
              "    </tr>\n",
              "    <tr>\n",
              "      <th>tca</th>\n",
              "      <td>17</td>\n",
              "    </tr>\n",
              "    <tr>\n",
              "      <th>caa</th>\n",
              "      <td>12</td>\n",
              "    </tr>\n",
              "    <tr>\n",
              "      <th>aat</th>\n",
              "      <td>10</td>\n",
              "    </tr>\n",
              "    <tr>\n",
              "      <th>atg</th>\n",
              "      <td>15</td>\n",
              "    </tr>\n",
              "    <tr>\n",
              "      <th>...</th>\n",
              "      <td>...</td>\n",
              "    </tr>\n",
              "    <tr>\n",
              "      <th>gcg</th>\n",
              "      <td>4</td>\n",
              "    </tr>\n",
              "    <tr>\n",
              "      <th>ggg</th>\n",
              "      <td>1</td>\n",
              "    </tr>\n",
              "    <tr>\n",
              "      <th>cga</th>\n",
              "      <td>7</td>\n",
              "    </tr>\n",
              "    <tr>\n",
              "      <th>ccg</th>\n",
              "      <td>3</td>\n",
              "    </tr>\n",
              "    <tr>\n",
              "      <th>ccc</th>\n",
              "      <td>1</td>\n",
              "    </tr>\n",
              "  </tbody>\n",
              "</table>\n",
              "<p>64 rows × 1 columns</p>\n",
              "</div><br><label><b>dtype:</b> int64</label>"
            ]
          },
          "metadata": {},
          "execution_count": 12
        }
      ],
      "source": [
        "# I'm only using pandas here so the output is reasonable, you can remove it of course and see the full dictionary\n",
        "import pandas as pd\n",
        "pd.Series(frequency_table(text,3))"
      ]
    },
    {
      "cell_type": "markdown",
      "metadata": {
        "id": "yROhwaceRRKZ"
      },
      "source": [
        "### Write better frequent words\n",
        "**Exercise 5.** Write a function that finds the frequent patterns using a dictionary/map.\n",
        "* Input: A string ``text`` representing DNA and integer ``k``.\n",
        "* Output: All most frequent *k*-mers in ``text`` and their count.\n",
        "* Requirements: Use your frequency_table function (i.e., use the dictionary)."
      ]
    },
    {
      "cell_type": "code",
      "execution_count": 13,
      "metadata": {
        "id": "uxThVb2sRRKZ"
      },
      "outputs": [],
      "source": [
        "def better_frequent_words(text,k):\n",
        "    frequent_patterns = []\n",
        "    freq_map = frequency_table(text,k)\n",
        "    max_count = max(freq_map.values())\n",
        "    frequent_patterns = [k for k,v in freq_map.items() if v == max_count]\n",
        "    return frequent_patterns,max_count"
      ]
    },
    {
      "cell_type": "code",
      "execution_count": 14,
      "metadata": {
        "colab": {
          "base_uri": "https://localhost:8080/"
        },
        "id": "b3U-ZCHYRRKa",
        "outputId": "6b89e736-8033-4dd9-e3c7-3a914bfd01df"
      },
      "outputs": [
        {
          "output_type": "execute_result",
          "data": {
            "text/plain": [
              "(['atgatcaag', 'ctcttgatc', 'tcttgatca', 'cttgatcat'], 3)"
            ]
          },
          "metadata": {},
          "execution_count": 14
        }
      ],
      "source": [
        "better_frequent_words(text,9)"
      ]
    },
    {
      "cell_type": "markdown",
      "metadata": {
        "id": "ml1krhlxRRKa"
      },
      "source": [
        "### Clump Finding Problem\n",
        "* Please read the section in the texbook on the clump finding problem\n",
        "* Even if we solve the clump finding problem, we still have an issue\n",
        "* Specifically, for the *E. coli* genome we find hundreds of different 9-mers forming (500,3)-clumps\n",
        "* This makes it absolutely unclear which of these 9-mers might represent a DnaA box in the bacterium’s *ori* region.\n",
        "* Please read the next sections entitled \"The Simplest Way to Replicate DNA\" and \"Asymmetry of Replication\". Take a stab at the biology. Chat with me in Slack about what you find confusing and interesting. We don't have exams and the details of biochemistry at this point aren't as important."
      ]
    },
    {
      "cell_type": "markdown",
      "metadata": {
        "id": "7nzq9cSRRRKa"
      },
      "source": [
        "### Statistics of the Foward and Reverse Half-Strands\n",
        "* The most important consequent for us from the discussion of DNA replication is that we now have four pieces\n",
        "    1. Forward half-strand x 2\n",
        "    2. Reverse half-strand x 2\n",
        "\n",
        "<img src=\"http://bioinformaticsalgorithms.com/images/Replication/half_strands.png\" width=400>\n",
        "\n"
      ]
    },
    {
      "cell_type": "markdown",
      "metadata": {
        "id": "8NKsrpwxRRKb"
      },
      "source": [
        "### Why does this matter?\n",
        "Consider the genome of *Thermotoga petrophila*. If we count the nucleotides in the forward and reverse half strands, then we get the following:\n",
        "\n",
        "<img src=\"http://bioinformaticsalgorithms.com/images/Replication/forward_reverse_nucleotide_counts.png\" width=400>\n",
        "\n",
        "Notice that the number of C's and G's is different in the reverse and forward half-strand. Why is this?"
      ]
    },
    {
      "cell_type": "markdown",
      "metadata": {
        "id": "azhvpJI2RRKb"
      },
      "source": [
        "\"It turns out that we observe these discrepancies because cytosine (C) has a tendency to mutate into thymine (T) through a process called deamination. Deamination rates rise 100-fold when DNA is single-stranded, which leads to a decrease in cytosine on the forward half-strand. Also, since C-G base pairs eventually change into T-A base pairs, deamination results in the observed decrease in guanine (G) on the reverse half-strand (recall that a forward parent half-strand synthesizes a reverse daughter half-strand, and vice-versa).\" - Bioinformatics Algorithms 3rd Edition"
      ]
    },
    {
      "cell_type": "markdown",
      "metadata": {
        "id": "C4IIy-KhRRKb"
      },
      "source": [
        "### Minimum skew problem\n",
        "We can use this statistic to find the *ori*. We need to define We define $Skew_i(Genome)$ as the difference between the total number of occurrences of G and the total number of occurrences of C in the first $i$ nucleotides of Genome.\n",
        "\n",
        "Note that we can compute $Skew_i(Genome)$ incrementally.  If the next nucleotide is G, then $Skew_{i+1}(Genome)$ = $Skew_i(Genome)$ + 1; if this nucleotide is C, then $Skew_{i+1}(Genome)$ = $Skew_i(Genome)$ – 1; otherwise, $Skew_{i+1}(Genome)$ = $Skew_i(Genome)$."
      ]
    },
    {
      "cell_type": "markdown",
      "metadata": {
        "id": "3y102DGMRRKb"
      },
      "source": [
        "**Exercise 6:** Compute the skew at every position of a Genome\n",
        "\n",
        "Input: A DNA string Genome.\n",
        "\n",
        "Output: An array that computes the $Skew_i(Genome)$. You can assume $Skew_0(Genome)$=0"
      ]
    },
    {
      "cell_type": "code",
      "execution_count": 15,
      "metadata": {
        "id": "e-1C6VT0RRKc"
      },
      "outputs": [],
      "source": [
        "def skew(genome):\n",
        "    skews = [0]\n",
        "    for n in genome:\n",
        "        n = n.lower()\n",
        "        if n == 'c':\n",
        "            skews.append(skews[-1] - 1)\n",
        "        elif n == 'g':\n",
        "            skews.append(skews[-1] + 1)\n",
        "        else:\n",
        "            skews.append(skews[-1])\n",
        "    return skews"
      ]
    },
    {
      "cell_type": "markdown",
      "metadata": {
        "id": "BG3Js4qORRKc"
      },
      "source": [
        "### Reading in the *E coli* genome\n",
        "I'll do this for you."
      ]
    },
    {
      "cell_type": "code",
      "execution_count": 16,
      "metadata": {
        "id": "A-9vP6EJRRKc"
      },
      "outputs": [],
      "source": [
        "import pandas as pd\n",
        "data = pd.read_table(\"http://bioinformaticsalgorithms.com/data/realdatasets/Rearrangements/E_coli.txt\",header=None)\n",
        "genome = data.values[0,0]"
      ]
    },
    {
      "cell_type": "code",
      "execution_count": 17,
      "metadata": {
        "id": "AyyccDxQRRKc"
      },
      "outputs": [],
      "source": [
        "skews = skew(genome)"
      ]
    },
    {
      "cell_type": "code",
      "execution_count": 18,
      "metadata": {
        "colab": {
          "base_uri": "https://localhost:8080/",
          "height": 459
        },
        "id": "Pv6Y72uiRRKc",
        "outputId": "ee2cc369-2729-4a58-a5a2-5d2a59572465"
      },
      "outputs": [
        {
          "output_type": "execute_result",
          "data": {
            "text/plain": [
              "0             0\n",
              "1             0\n",
              "2             1\n",
              "3             0\n",
              "4             0\n",
              "           ... \n",
              "4639671   -2630\n",
              "4639672   -2630\n",
              "4639673   -2630\n",
              "4639674   -2630\n",
              "4639675   -2631\n",
              "Length: 4639676, dtype: int64"
            ],
            "text/html": [
              "<div>\n",
              "<style scoped>\n",
              "    .dataframe tbody tr th:only-of-type {\n",
              "        vertical-align: middle;\n",
              "    }\n",
              "\n",
              "    .dataframe tbody tr th {\n",
              "        vertical-align: top;\n",
              "    }\n",
              "\n",
              "    .dataframe thead th {\n",
              "        text-align: right;\n",
              "    }\n",
              "</style>\n",
              "<table border=\"1\" class=\"dataframe\">\n",
              "  <thead>\n",
              "    <tr style=\"text-align: right;\">\n",
              "      <th></th>\n",
              "      <th>0</th>\n",
              "    </tr>\n",
              "  </thead>\n",
              "  <tbody>\n",
              "    <tr>\n",
              "      <th>0</th>\n",
              "      <td>0</td>\n",
              "    </tr>\n",
              "    <tr>\n",
              "      <th>1</th>\n",
              "      <td>0</td>\n",
              "    </tr>\n",
              "    <tr>\n",
              "      <th>2</th>\n",
              "      <td>1</td>\n",
              "    </tr>\n",
              "    <tr>\n",
              "      <th>3</th>\n",
              "      <td>0</td>\n",
              "    </tr>\n",
              "    <tr>\n",
              "      <th>4</th>\n",
              "      <td>0</td>\n",
              "    </tr>\n",
              "    <tr>\n",
              "      <th>...</th>\n",
              "      <td>...</td>\n",
              "    </tr>\n",
              "    <tr>\n",
              "      <th>4639671</th>\n",
              "      <td>-2630</td>\n",
              "    </tr>\n",
              "    <tr>\n",
              "      <th>4639672</th>\n",
              "      <td>-2630</td>\n",
              "    </tr>\n",
              "    <tr>\n",
              "      <th>4639673</th>\n",
              "      <td>-2630</td>\n",
              "    </tr>\n",
              "    <tr>\n",
              "      <th>4639674</th>\n",
              "      <td>-2630</td>\n",
              "    </tr>\n",
              "    <tr>\n",
              "      <th>4639675</th>\n",
              "      <td>-2631</td>\n",
              "    </tr>\n",
              "  </tbody>\n",
              "</table>\n",
              "<p>4639676 rows × 1 columns</p>\n",
              "</div><br><label><b>dtype:</b> int64</label>"
            ]
          },
          "metadata": {},
          "execution_count": 18
        }
      ],
      "source": [
        "# Again I'm using pandas because the display would be horrible otherwise.\n",
        "# I will either give you the pandas code or teach you that pandas/numpy code\n",
        "skews = pd.Series(skew(genome))\n",
        "skews"
      ]
    },
    {
      "cell_type": "code",
      "execution_count": 19,
      "metadata": {
        "colab": {
          "base_uri": "https://localhost:8080/",
          "height": 465
        },
        "id": "2adPzTnRRRKc",
        "outputId": "8e79da96-3d95-41d1-c3c1-3ebcb49b9a72"
      },
      "outputs": [
        {
          "output_type": "execute_result",
          "data": {
            "text/plain": [
              "<Axes: >"
            ]
          },
          "metadata": {},
          "execution_count": 19
        },
        {
          "output_type": "display_data",
          "data": {
            "text/plain": [
              "<Figure size 640x480 with 1 Axes>"
            ],
            "image/png": "[encoded data removed]"
          },
          "metadata": {}
        }
      ],
      "source": [
        "%matplotlib inline\n",
        "skews.plot.line()"
      ]
    },
    {
      "cell_type": "markdown",
      "metadata": {
        "id": "IHu6drnBRRKd"
      },
      "source": [
        "Where do you think the *ori* is located?"
      ]
    },
    {
      "cell_type": "code",
      "execution_count": 20,
      "metadata": {
        "colab": {
          "base_uri": "https://localhost:8080/"
        },
        "id": "NzGjDUoQRRKd",
        "outputId": "565b4c96-1f5d-4db5-8eb6-f58d6adf166d"
      },
      "outputs": [
        {
          "output_type": "stream",
          "name": "stdout",
          "text": [
            "Position: 3923621\n"
          ]
        }
      ],
      "source": [
        "print('Position:',skews.idxmin()+1)"
      ]
    },
    {
      "cell_type": "code",
      "execution_count": null,
      "metadata": {
        "id": "6EMT75usRRKd"
      },
      "outputs": [],
      "source": [
        "# Don't forget to push!"
      ]
    },
    {
      "cell_type": "code",
      "execution_count": null,
      "metadata": {
        "id": "8U_UUacSRRKd"
      },
      "outputs": [],
      "source": []
    }
  ],
  "metadata": {
    "celltoolbar": "Slideshow",
    "jupytext": {
      "formats": "ipynb,md,py:percent"
    },
    "kernelspec": {
      "display_name": "Python 3",
      "language": "python",
      "name": "python3"
    },
    "language_info": {
      "codemirror_mode": {
        "name": "ipython",
        "version": 3
      },
      "file_extension": ".py",
      "mimetype": "text/x-python",
      "name": "python",
      "nbconvert_exporter": "python",
      "pygments_lexer": "ipython3",
      "version": "3.7.6"
    },
    "colab": {
      "provenance": [],
      "include_colab_link": true
    }
  },
  "nbformat": 4,
  "nbformat_minor": 0
}