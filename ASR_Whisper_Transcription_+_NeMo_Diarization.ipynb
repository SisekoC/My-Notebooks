{
  "cells": [
    {
      "cell_type": "markdown",
      "metadata": {
        "id": "view-in-github",
        "colab_type": "text"
      },
      "source": [
        "<a href=\"https://colab.research.google.com/github/SisekoC/OpenCV/blob/main/ASR_Whisper_Transcription_%2B_NeMo_Diarization.ipynb\" target=\"_parent\"><img src=\"https://colab.research.google.com/assets/colab-badge.svg\" alt=\"Open In Colab\"/></a>"
      ]
    },
    {
      "cell_type": "markdown",
      "metadata": {
        "id": "eCmjcOc9yEtQ"
      },
      "source": [
        "## **Installing Dependencies**"
      ]
    },
    {
      "cell_type": "markdown",
      "metadata": {
        "id": "ZoXSTfK5kLLs"
      },
      "source": [
        "<div style=\"text-align: center;\">\n",
        "    <img src=\"https://learnopencv.com/wp-content/uploads/2024/05/ASR-Feature-Automatic-Speech-Recognition.gif\" alt=\"ASR Diarization\">\n",
        "</div>\n"
      ]
    },
    {
      "cell_type": "markdown",
      "metadata": {
        "id": "cPsHAyR1IGGu"
      },
      "source": [
        "**Change runtime type to `T4 GPU` in Colab**"
      ]
    },
    {
      "cell_type": "markdown",
      "metadata": {
        "id": "DfGsFFQvR3oj"
      },
      "source": [
        "**OpenAI's whisper** does not natively support batching, and can be inaccurate by several seconds. So we will leverage [**whisperX**](https://github.com/m-bain/whisperX) which supports batched inference and  offers realtime transcription.\n"
      ]
    },
    {
      "cell_type": "code",
      "execution_count": 1,
      "metadata": {
        "colab": {
          "base_uri": "https://localhost:8080/"
        },
        "id": "Tn1c-CoDv2kw",
        "outputId": "8d0bed86-7ab0-43de-e27b-f32ebdfc3535"
      },
      "outputs": [
        {
          "output_type": "stream",
          "name": "stdout",
          "text": [
            "  Preparing metadata (setup.py) ... \u001b[?25l\u001b[?25hdone\n",
            "\u001b[2K     \u001b[90m━━━━━━━━━━━━━━━━━━━━━━━━━━━━━━━━━━━━━━━━\u001b[0m \u001b[32m43.7/43.7 kB\u001b[0m \u001b[31m4.1 MB/s\u001b[0m eta \u001b[36m0:00:00\u001b[0m\n",
            "\u001b[2K     \u001b[90m━━━━━━━━━━━━━━━━━━━━━━━━━━━━━━━━━━━━━━━━\u001b[0m \u001b[32m43.7/43.7 kB\u001b[0m \u001b[31m4.5 MB/s\u001b[0m eta \u001b[36m0:00:00\u001b[0m\n",
            "\u001b[2K     \u001b[90m━━━━━━━━━━━━━━━━━━━━━━━━━━━━━━━━━━━━━━━━\u001b[0m \u001b[32m43.7/43.7 kB\u001b[0m \u001b[31m4.9 MB/s\u001b[0m eta \u001b[36m0:00:00\u001b[0m\n",
            "\u001b[2K     \u001b[90m━━━━━━━━━━━━━━━━━━━━━━━━━━━━━━━━━━━━━━━━\u001b[0m \u001b[32m43.7/43.7 kB\u001b[0m \u001b[31m4.4 MB/s\u001b[0m eta \u001b[36m0:00:00\u001b[0m\n",
            "\u001b[2K     \u001b[90m━━━━━━━━━━━━━━━━━━━━━━━━━━━━━━━━━━━━━━━━\u001b[0m \u001b[32m43.7/43.7 kB\u001b[0m \u001b[31m4.7 MB/s\u001b[0m eta \u001b[36m0:00:00\u001b[0m\n",
            "\u001b[2K     \u001b[90m━━━━━━━━━━━━━━━━━━━━━━━━━━━━━━━━━━━━━━━━\u001b[0m \u001b[32m43.7/43.7 kB\u001b[0m \u001b[31m4.8 MB/s\u001b[0m eta \u001b[36m0:00:00\u001b[0m\n",
            "\u001b[2K     \u001b[90m━━━━━━━━━━━━━━━━━━━━━━━━━━━━━━━━━━━━━━━━\u001b[0m \u001b[32m43.6/43.6 kB\u001b[0m \u001b[31m4.5 MB/s\u001b[0m eta \u001b[36m0:00:00\u001b[0m\n",
            "\u001b[2K     \u001b[90m━━━━━━━━━━━━━━━━━━━━━━━━━━━━━━━━━━━━━━━━\u001b[0m \u001b[32m43.6/43.6 kB\u001b[0m \u001b[31m4.6 MB/s\u001b[0m eta \u001b[36m0:00:00\u001b[0m\n",
            "\u001b[2K     \u001b[90m━━━━━━━━━━━━━━━━━━━━━━━━━━━━━━━━━━━━━━━━\u001b[0m \u001b[32m43.6/43.6 kB\u001b[0m \u001b[31m4.5 MB/s\u001b[0m eta \u001b[36m0:00:00\u001b[0m\n",
            "\u001b[2K     \u001b[90m━━━━━━━━━━━━━━━━━━━━━━━━━━━━━━━━━━━━━━━━\u001b[0m \u001b[32m43.6/43.6 kB\u001b[0m \u001b[31m4.7 MB/s\u001b[0m eta \u001b[36m0:00:00\u001b[0m\n",
            "\u001b[2K     \u001b[90m━━━━━━━━━━━━━━━━━━━━━━━━━━━━━━━━━━━━━━━━\u001b[0m \u001b[32m43.8/43.8 kB\u001b[0m \u001b[31m4.7 MB/s\u001b[0m eta \u001b[36m0:00:00\u001b[0m\n",
            "\u001b[2K     \u001b[90m━━━━━━━━━━━━━━━━━━━━━━━━━━━━━━━━━━━━━━━━\u001b[0m \u001b[32m43.8/43.8 kB\u001b[0m \u001b[31m4.5 MB/s\u001b[0m eta \u001b[36m0:00:00\u001b[0m\n",
            "\u001b[2K     \u001b[90m━━━━━━━━━━━━━━━━━━━━━━━━━━━━━━━━━━━━━━━━\u001b[0m \u001b[32m43.8/43.8 kB\u001b[0m \u001b[31m4.8 MB/s\u001b[0m eta \u001b[36m0:00:00\u001b[0m\n",
            "\u001b[2K     \u001b[90m━━━━━━━━━━━━━━━━━━━━━━━━━━━━━━━━━━━━━━━━\u001b[0m \u001b[32m138.0/138.0 kB\u001b[0m \u001b[31m14.5 MB/s\u001b[0m eta \u001b[36m0:00:00\u001b[0m\n",
            "\u001b[2K     \u001b[90m━━━━━━━━━━━━━━━━━━━━━━━━━━━━━━━━━━━━━━━━\u001b[0m \u001b[32m138.0/138.0 kB\u001b[0m \u001b[31m14.7 MB/s\u001b[0m eta \u001b[36m0:00:00\u001b[0m\n",
            "\u001b[2K     \u001b[90m━━━━━━━━━━━━━━━━━━━━━━━━━━━━━━━━━━━━━━━━\u001b[0m \u001b[32m137.6/137.6 kB\u001b[0m \u001b[31m15.2 MB/s\u001b[0m eta \u001b[36m0:00:00\u001b[0m\n",
            "\u001b[2K     \u001b[90m━━━━━━━━━━━━━━━━━━━━━━━━━━━━━━━━━━━━━━━━\u001b[0m \u001b[32m134.8/134.8 kB\u001b[0m \u001b[31m2.1 MB/s\u001b[0m eta \u001b[36m0:00:00\u001b[0m\n",
            "\u001b[2K     \u001b[90m━━━━━━━━━━━━━━━━━━━━━━━━━━━━━━━━━━━━━━━━\u001b[0m \u001b[32m117.0/117.0 kB\u001b[0m \u001b[31m14.8 MB/s\u001b[0m eta \u001b[36m0:00:00\u001b[0m\n",
            "\u001b[?25h  Preparing metadata (setup.py) ... \u001b[?25l\u001b[?25hdone\n",
            "  Preparing metadata (setup.py) ... \u001b[?25l\u001b[?25hdone\n",
            "\u001b[2K     \u001b[90m━━━━━━━━━━━━━━━━━━━━━━━━━━━━━━━━━━━━━━━━\u001b[0m \u001b[32m59.6/59.6 kB\u001b[0m \u001b[31m6.2 MB/s\u001b[0m eta \u001b[36m0:00:00\u001b[0m\n",
            "\u001b[?25h  Preparing metadata (setup.py) ... \u001b[?25l\u001b[?25hdone\n",
            "\u001b[2K   \u001b[90m━━━━━━━━━━━━━━━━━━━━━━━━━━━━━━━━━━━━━━━━\u001b[0m \u001b[32m1.5/1.5 MB\u001b[0m \u001b[31m81.0 MB/s\u001b[0m eta \u001b[36m0:00:00\u001b[0m\n",
            "\u001b[2K   \u001b[90m━━━━━━━━━━━━━━━━━━━━━━━━━━━━━━━━━━━━━━━━\u001b[0m \u001b[32m208.7/208.7 kB\u001b[0m \u001b[31m23.0 MB/s\u001b[0m eta \u001b[36m0:00:00\u001b[0m\n",
            "\u001b[2K   \u001b[90m━━━━━━━━━━━━━━━━━━━━━━━━━━━━━━━━━━━━━━━━\u001b[0m \u001b[32m32.9/32.9 MB\u001b[0m \u001b[31m60.9 MB/s\u001b[0m eta \u001b[36m0:00:00\u001b[0m\n",
            "\u001b[2K   \u001b[90m━━━━━━━━━━━━━━━━━━━━━━━━━━━━━━━━━━━━━━━━\u001b[0m \u001b[32m8.8/8.8 MB\u001b[0m \u001b[31m18.4 MB/s\u001b[0m eta \u001b[36m0:00:00\u001b[0m\n",
            "\u001b[2K   \u001b[90m━━━━━━━━━━━━━━━━━━━━━━━━━━━━━━━━━━━━━━━━\u001b[0m \u001b[32m192.3/192.3 MB\u001b[0m \u001b[31m6.1 MB/s\u001b[0m eta \u001b[36m0:00:00\u001b[0m\n",
            "\u001b[2K   \u001b[90m━━━━━━━━━━━━━━━━━━━━━━━━━━━━━━━━━━━━━━━━\u001b[0m \u001b[32m811.0/811.0 kB\u001b[0m \u001b[31m56.5 MB/s\u001b[0m eta \u001b[36m0:00:00\u001b[0m\n",
            "\u001b[2K   \u001b[90m━━━━━━━━━━━━━━━━━━━━━━━━━━━━━━━━━━━━━━━━\u001b[0m \u001b[32m79.5/79.5 kB\u001b[0m \u001b[31m9.4 MB/s\u001b[0m eta \u001b[36m0:00:00\u001b[0m\n",
            "\u001b[2K   \u001b[90m━━━━━━━━━━━━━━━━━━━━━━━━━━━━━━━━━━━━━━━━\u001b[0m \u001b[32m13.2/13.2 MB\u001b[0m \u001b[31m86.3 MB/s\u001b[0m eta \u001b[36m0:00:00\u001b[0m\n",
            "\u001b[2K   \u001b[90m━━━━━━━━━━━━━━━━━━━━━━━━━━━━━━━━━━━━━━━━\u001b[0m \u001b[32m58.5/58.5 kB\u001b[0m \u001b[31m6.5 MB/s\u001b[0m eta \u001b[36m0:00:00\u001b[0m\n",
            "\u001b[2K   \u001b[90m━━━━━━━━━━━━━━━━━━━━━━━━━━━━━━━━━━━━━━━━\u001b[0m \u001b[32m48.1/48.1 kB\u001b[0m \u001b[31m5.4 MB/s\u001b[0m eta \u001b[36m0:00:00\u001b[0m\n",
            "\u001b[2K   \u001b[90m━━━━━━━━━━━━━━━━━━━━━━━━━━━━━━━━━━━━━━━━\u001b[0m \u001b[32m51.4/51.4 kB\u001b[0m \u001b[31m5.8 MB/s\u001b[0m eta \u001b[36m0:00:00\u001b[0m\n",
            "\u001b[2K   \u001b[90m━━━━━━━━━━━━━━━━━━━━━━━━━━━━━━━━━━━━━━━━\u001b[0m \u001b[32m119.3/119.3 kB\u001b[0m \u001b[31m14.6 MB/s\u001b[0m eta \u001b[36m0:00:00\u001b[0m\n",
            "\u001b[2K   \u001b[90m━━━━━━━━━━━━━━━━━━━━━━━━━━━━━━━━━━━━━━━━\u001b[0m \u001b[32m760.1/760.1 kB\u001b[0m \u001b[31m55.4 MB/s\u001b[0m eta \u001b[36m0:00:00\u001b[0m\n",
            "\u001b[2K   \u001b[90m━━━━━━━━━━━━━━━━━━━━━━━━━━━━━━━━━━━━━━━━\u001b[0m \u001b[32m101.7/101.7 kB\u001b[0m \u001b[31m11.8 MB/s\u001b[0m eta \u001b[36m0:00:00\u001b[0m\n",
            "\u001b[2K   \u001b[90m━━━━━━━━━━━━━━━━━━━━━━━━━━━━━━━━━━━━━━━━\u001b[0m \u001b[32m3.6/3.6 MB\u001b[0m \u001b[31m67.4 MB/s\u001b[0m eta \u001b[36m0:00:00\u001b[0m\n",
            "\u001b[2K   \u001b[90m━━━━━━━━━━━━━━━━━━━━━━━━━━━━━━━━━━━━━━━━\u001b[0m \u001b[32m50.1/50.1 kB\u001b[0m \u001b[31m5.6 MB/s\u001b[0m eta \u001b[36m0:00:00\u001b[0m\n",
            "\u001b[2K   \u001b[90m━━━━━━━━━━━━━━━━━━━━━━━━━━━━━━━━━━━━━━━━\u001b[0m \u001b[32m866.2/866.2 kB\u001b[0m \u001b[31m61.4 MB/s\u001b[0m eta \u001b[36m0:00:00\u001b[0m\n",
            "\u001b[2K   \u001b[90m━━━━━━━━━━━━━━━━━━━━━━━━━━━━━━━━━━━━━━━━\u001b[0m \u001b[32m380.1/380.1 kB\u001b[0m \u001b[31m37.0 MB/s\u001b[0m eta \u001b[36m0:00:00\u001b[0m\n",
            "\u001b[2K   \u001b[90m━━━━━━━━━━━━━━━━━━━━━━━━━━━━━━━━━━━━━━━━\u001b[0m \u001b[32m46.0/46.0 kB\u001b[0m \u001b[31m5.0 MB/s\u001b[0m eta \u001b[36m0:00:00\u001b[0m\n",
            "\u001b[2K   \u001b[90m━━━━━━━━━━━━━━━━━━━━━━━━━━━━━━━━━━━━━━━━\u001b[0m \u001b[32m815.2/815.2 kB\u001b[0m \u001b[31m59.4 MB/s\u001b[0m eta \u001b[36m0:00:00\u001b[0m\n",
            "\u001b[2K   \u001b[90m━━━━━━━━━━━━━━━━━━━━━━━━━━━━━━━━━━━━━━━━\u001b[0m \u001b[32m233.0/233.0 kB\u001b[0m \u001b[31m26.7 MB/s\u001b[0m eta \u001b[36m0:00:00\u001b[0m\n",
            "\u001b[2K   \u001b[90m━━━━━━━━━━━━━━━━━━━━━━━━━━━━━━━━━━━━━━━━\u001b[0m \u001b[32m86.8/86.8 kB\u001b[0m \u001b[31m9.5 MB/s\u001b[0m eta \u001b[36m0:00:00\u001b[0m\n",
            "\u001b[2K   \u001b[90m━━━━━━━━━━━━━━━━━━━━━━━━━━━━━━━━━━━━━━━━\u001b[0m \u001b[32m117.8/117.8 kB\u001b[0m \u001b[31m14.5 MB/s\u001b[0m eta \u001b[36m0:00:00\u001b[0m\n",
            "\u001b[2K   \u001b[90m━━━━━━━━━━━━━━━━━━━━━━━━━━━━━━━━━━━━━━━━\u001b[0m \u001b[32m526.7/526.7 kB\u001b[0m \u001b[31m41.4 MB/s\u001b[0m eta \u001b[36m0:00:00\u001b[0m\n",
            "\u001b[2K   \u001b[90m━━━━━━━━━━━━━━━━━━━━━━━━━━━━━━━━━━━━━━━━\u001b[0m \u001b[32m78.6/78.6 kB\u001b[0m \u001b[31m8.7 MB/s\u001b[0m eta \u001b[36m0:00:00\u001b[0m\n",
            "\u001b[?25h  Building wheel for whisperx (setup.py) ... \u001b[?25l\u001b[?25hdone\n",
            "  Building wheel for antlr4-python3-runtime (setup.py) ... \u001b[?25l\u001b[?25hdone\n",
            "  Building wheel for docopt (setup.py) ... \u001b[?25l\u001b[?25hdone\n",
            "  Building wheel for julius (setup.py) ... \u001b[?25l\u001b[?25hdone\n"
          ]
        }
      ],
      "source": [
        "!pip install -qq git+https://github.com/m-bain/whisperX.git@78dcfaab51005aa703ee21375f81ed31bc248560"
      ]
    },
    {
      "cell_type": "markdown",
      "metadata": {
        "id": "vZsBjYptwsSL"
      },
      "source": [
        "**Restart Session (recommended)**\n",
        "\n",
        "Next let’s install the Nvidia [Nemo Toolkit for ASR](https://github.com/NVIDIA/NeMo/tree/main/tutorials/speaker_tasks)"
      ]
    },
    {
      "cell_type": "code",
      "source": [
        "!pip install numpy"
      ],
      "metadata": {
        "colab": {
          "base_uri": "https://localhost:8080/"
        },
        "id": "C0GFCBJXU3vO",
        "outputId": "69bb9d93-5924-4150-a117-db173d6f9f42"
      },
      "execution_count": 3,
      "outputs": [
        {
          "output_type": "stream",
          "name": "stdout",
          "text": [
            "Requirement already satisfied: numpy in /usr/local/lib/python3.10/dist-packages (1.23.5)\n"
          ]
        }
      ]
    },
    {
      "cell_type": "code",
      "execution_count": 2,
      "metadata": {
        "colab": {
          "base_uri": "https://localhost:8080/"
        },
        "id": "RGX-qPp4uQ8r",
        "outputId": "6f6219bb-4be7-4f8d-81d5-ea373dca9654"
      },
      "outputs": [
        {
          "output_type": "stream",
          "name": "stdout",
          "text": [
            "  Preparing metadata (setup.py) ... \u001b[?25l\u001b[?25hdone\n",
            "  Preparing metadata (setup.py) ... \u001b[?25l\u001b[?25hdone\n",
            "\u001b[2K     \u001b[90m━━━━━━━━━━━━━━━━━━━━━━━━━━━━━━━━━━━━━━━━\u001b[0m \u001b[32m63.9/63.9 kB\u001b[0m \u001b[31m7.7 MB/s\u001b[0m eta \u001b[36m0:00:00\u001b[0m\n",
            "\u001b[?25h  Preparing metadata (setup.py) ... \u001b[?25l\u001b[?25hdone\n",
            "  Preparing metadata (setup.py) ... \u001b[?25l\u001b[?25hdone\n",
            "\u001b[2K     \u001b[90m━━━━━━━━━━━━━━━━━━━━━━━━━━━━━━━━━━━━━━━━\u001b[0m \u001b[32m151.6/151.6 kB\u001b[0m \u001b[31m15.8 MB/s\u001b[0m eta \u001b[36m0:00:00\u001b[0m\n",
            "\u001b[2K     \u001b[90m━━━━━━━━━━━━━━━━━━━━━━━━━━━━━━━━━━━━━━━━\u001b[0m \u001b[32m86.7/86.7 kB\u001b[0m \u001b[31m10.1 MB/s\u001b[0m eta \u001b[36m0:00:00\u001b[0m\n",
            "\u001b[?25h  Preparing metadata (setup.py) ... \u001b[?25l\u001b[?25hdone\n",
            "\u001b[2K     \u001b[90m━━━━━━━━━━━━━━━━━━━━━━━━━━━━━━━━━━━━━━━━\u001b[0m \u001b[32m180.3/180.3 kB\u001b[0m \u001b[31m17.6 MB/s\u001b[0m eta \u001b[36m0:00:00\u001b[0m\n",
            "\u001b[?25h  Preparing metadata (setup.py) ... \u001b[?25l\u001b[?25hdone\n",
            "\u001b[2K   \u001b[90m━━━━━━━━━━━━━━━━━━━━━━━━━━━━━━━━━━━━━━━━\u001b[0m \u001b[32m2.7/2.7 MB\u001b[0m \u001b[31m44.6 MB/s\u001b[0m eta \u001b[36m0:00:00\u001b[0m\n",
            "\u001b[2K   \u001b[90m━━━━━━━━━━━━━━━━━━━━━━━━━━━━━━━━━━━━━━━━\u001b[0m \u001b[32m154.5/154.5 kB\u001b[0m \u001b[31m15.8 MB/s\u001b[0m eta \u001b[36m0:00:00\u001b[0m\n",
            "\u001b[2K   \u001b[90m━━━━━━━━━━━━━━━━━━━━━━━━━━━━━━━━━━━━━━━━\u001b[0m \u001b[32m17.1/17.1 MB\u001b[0m \u001b[31m42.2 MB/s\u001b[0m eta \u001b[36m0:00:00\u001b[0m\n",
            "\u001b[2K   \u001b[90m━━━━━━━━━━━━━━━━━━━━━━━━━━━━━━━━━━━━━━━━\u001b[0m \u001b[32m15.9/15.9 MB\u001b[0m \u001b[31m30.2 MB/s\u001b[0m eta \u001b[36m0:00:00\u001b[0m\n",
            "\u001b[2K   \u001b[90m━━━━━━━━━━━━━━━━━━━━━━━━━━━━━━━━━━━━━━━━\u001b[0m \u001b[32m3.1/3.1 MB\u001b[0m \u001b[31m77.9 MB/s\u001b[0m eta \u001b[36m0:00:00\u001b[0m\n",
            "\u001b[2K   \u001b[90m━━━━━━━━━━━━━━━━━━━━━━━━━━━━━━━━━━━━━━━━\u001b[0m \u001b[32m725.0/725.0 kB\u001b[0m \u001b[31m38.7 MB/s\u001b[0m eta \u001b[36m0:00:00\u001b[0m\n",
            "\u001b[2K   \u001b[90m━━━━━━━━━━━━━━━━━━━━━━━━━━━━━━━━━━━━━━━━\u001b[0m \u001b[32m897.5/897.5 kB\u001b[0m \u001b[31m48.4 MB/s\u001b[0m eta \u001b[36m0:00:00\u001b[0m\n",
            "\u001b[2K   \u001b[90m━━━━━━━━━━━━━━━━━━━━━━━━━━━━━━━━━━━━━━━━\u001b[0m \u001b[32m527.3/527.3 kB\u001b[0m \u001b[31m35.7 MB/s\u001b[0m eta \u001b[36m0:00:00\u001b[0m\n",
            "\u001b[2K   \u001b[90m━━━━━━━━━━━━━━━━━━━━━━━━━━━━━━━━━━━━━━━━\u001b[0m \u001b[32m3.1/3.1 MB\u001b[0m \u001b[31m72.3 MB/s\u001b[0m eta \u001b[36m0:00:00\u001b[0m\n",
            "\u001b[2K   \u001b[90m━━━━━━━━━━━━━━━━━━━━━━━━━━━━━━━━━━━━━━━━\u001b[0m \u001b[32m49.2/49.2 kB\u001b[0m \u001b[31m5.3 MB/s\u001b[0m eta \u001b[36m0:00:00\u001b[0m\n",
            "\u001b[2K   \u001b[90m━━━━━━━━━━━━━━━━━━━━━━━━━━━━━━━━━━━━━━━━\u001b[0m \u001b[32m3.1/3.1 MB\u001b[0m \u001b[31m69.6 MB/s\u001b[0m eta \u001b[36m0:00:00\u001b[0m\n",
            "\u001b[2K   \u001b[90m━━━━━━━━━━━━━━━━━━━━━━━━━━━━━━━━━━━━━━━━\u001b[0m \u001b[32m9.3/9.3 MB\u001b[0m \u001b[31m52.2 MB/s\u001b[0m eta \u001b[36m0:00:00\u001b[0m\n",
            "\u001b[2K   \u001b[90m━━━━━━━━━━━━━━━━━━━━━━━━━━━━━━━━━━━━━━━━\u001b[0m \u001b[32m116.3/116.3 kB\u001b[0m \u001b[31m10.4 MB/s\u001b[0m eta \u001b[36m0:00:00\u001b[0m\n",
            "\u001b[2K   \u001b[90m━━━━━━━━━━━━━━━━━━━━━━━━━━━━━━━━━━━━━━━━\u001b[0m \u001b[32m207.3/207.3 kB\u001b[0m \u001b[31m16.1 MB/s\u001b[0m eta \u001b[36m0:00:00\u001b[0m\n",
            "\u001b[2K   \u001b[90m━━━━━━━━━━━━━━━━━━━━━━━━━━━━━━━━━━━━━━━━\u001b[0m \u001b[32m39.9/39.9 MB\u001b[0m \u001b[31m11.4 MB/s\u001b[0m eta \u001b[36m0:00:00\u001b[0m\n",
            "\u001b[2K   \u001b[90m━━━━━━━━━━━━━━━━━━━━━━━━━━━━━━━━━━━━━━━━\u001b[0m \u001b[32m3.4/3.4 MB\u001b[0m \u001b[31m49.6 MB/s\u001b[0m eta \u001b[36m0:00:00\u001b[0m\n",
            "\u001b[2K   \u001b[90m━━━━━━━━━━━━━━━━━━━━━━━━━━━━━━━━━━━━━━━━\u001b[0m \u001b[32m309.1/309.1 kB\u001b[0m \u001b[31m27.4 MB/s\u001b[0m eta \u001b[36m0:00:00\u001b[0m\n",
            "\u001b[2K   \u001b[90m━━━━━━━━━━━━━━━━━━━━━━━━━━━━━━━━━━━━━━━━\u001b[0m \u001b[32m177.4/177.4 kB\u001b[0m \u001b[31m20.4 MB/s\u001b[0m eta \u001b[36m0:00:00\u001b[0m\n",
            "\u001b[2K   \u001b[90m━━━━━━━━━━━━━━━━━━━━━━━━━━━━━━━━━━━━━━━━\u001b[0m \u001b[32m62.5/62.5 kB\u001b[0m \u001b[31m7.4 MB/s\u001b[0m eta \u001b[36m0:00:00\u001b[0m\n",
            "\u001b[2K   \u001b[90m━━━━━━━━━━━━━━━━━━━━━━━━━━━━━━━━━━━━━━━━\u001b[0m \u001b[32m134.8/134.8 kB\u001b[0m \u001b[31m15.2 MB/s\u001b[0m eta \u001b[36m0:00:00\u001b[0m\n",
            "\u001b[2K   \u001b[90m━━━━━━━━━━━━━━━━━━━━━━━━━━━━━━━━━━━━━━━━\u001b[0m \u001b[32m194.1/194.1 kB\u001b[0m \u001b[31m21.8 MB/s\u001b[0m eta \u001b[36m0:00:00\u001b[0m\n",
            "\u001b[2K   \u001b[90m━━━━━━━━━━━━━━━━━━━━━━━━━━━━━━━━━━━━━━━━\u001b[0m \u001b[32m62.7/62.7 kB\u001b[0m \u001b[31m7.0 MB/s\u001b[0m eta \u001b[36m0:00:00\u001b[0m\n",
            "\u001b[?25h  Building wheel for youtokentome (setup.py) ... \u001b[?25l\u001b[?25hdone\n",
            "  Building wheel for kaldi-python-io (setup.py) ... \u001b[?25l\u001b[?25hdone\n",
            "  Building wheel for sox (setup.py) ... \u001b[?25l\u001b[?25hdone\n",
            "  Building wheel for texterrors (setup.py) ... \u001b[?25l\u001b[?25hdone\n",
            "  Building wheel for wget (setup.py) ... \u001b[?25l\u001b[?25hdone\n",
            "  Building wheel for distance (setup.py) ... \u001b[?25l\u001b[?25hdone\n",
            "\u001b[31mERROR: pip's dependency resolver does not currently take into account all the packages that are installed. This behaviour is the source of the following dependency conflicts.\n",
            "albucore 0.0.13 requires numpy<2,>=1.24.4, but you have numpy 1.23.5 which is incompatible.\n",
            "albumentations 1.4.13 requires numpy>=1.24.4, but you have numpy 1.23.5 which is incompatible.\n",
            "albumentations 1.4.13 requires pydantic>=2.7.0, but you have pydantic 1.10.17 which is incompatible.\n",
            "chex 0.1.86 requires numpy>=1.24.1, but you have numpy 1.23.5 which is incompatible.\n",
            "cudf-cu12 24.4.1 requires pyarrow<15.0.0a0,>=14.0.1, but you have pyarrow 17.0.0 which is incompatible.\n",
            "ibis-framework 8.0.0 requires pyarrow<16,>=2, but you have pyarrow 17.0.0 which is incompatible.\n",
            "lightning 2.4.0 requires lightning-utilities<2.0,>=0.10.0, but you have lightning-utilities 0.9.0 which is incompatible.\n",
            "pandas-stubs 2.1.4.231227 requires numpy>=1.26.0; python_version < \"3.13\", but you have numpy 1.23.5 which is incompatible.\u001b[0m\u001b[31m\n",
            "\u001b[0m"
          ]
        }
      ],
      "source": [
        "!pip install -qq --no-build-isolation nemo_toolkit[asr]==1.22.0"
      ]
    },
    {
      "cell_type": "markdown",
      "metadata": {
        "id": "2d9uhmtRpLiO"
      },
      "source": [
        "**Restart Session**\n",
        "\n",
        "And other dependencies like\n",
        "* `Demucs` to separate music and vocals from audio source.\n",
        "\n",
        "* `Dora search` for grid search and optimization.\n",
        "* `Deepmultilingualpunctuation` for cleaning and structuring transcription.\n",
        "* `Pydub` for manipulating audio.\n"
      ]
    },
    {
      "cell_type": "code",
      "execution_count": 4,
      "metadata": {
        "colab": {
          "base_uri": "https://localhost:8080/"
        },
        "id": "WhCQxzfNZhXO",
        "outputId": "483b3668-557b-421e-8bba-e9ddeca3f229"
      },
      "outputs": [
        {
          "output_type": "stream",
          "name": "stdout",
          "text": [
            "  Preparing metadata (setup.py) ... \u001b[?25l\u001b[?25hdone\n",
            "  Building wheel for demucs (setup.py) ... \u001b[?25l\u001b[?25hdone\n",
            "\u001b[2K     \u001b[90m━━━━━━━━━━━━━━━━━━━━━━━━━━━━━━━━━━━━━━━━\u001b[0m \u001b[32m87.1/87.1 kB\u001b[0m \u001b[31m7.4 MB/s\u001b[0m eta \u001b[36m0:00:00\u001b[0m\n",
            "\u001b[?25h  Installing build dependencies ... \u001b[?25l\u001b[?25hdone\n",
            "  Getting requirements to build wheel ... \u001b[?25l\u001b[?25hdone\n",
            "  Preparing metadata (pyproject.toml) ... \u001b[?25l\u001b[?25hdone\n",
            "  Preparing metadata (setup.py) ... \u001b[?25l\u001b[?25hdone\n",
            "\u001b[2K   \u001b[90m━━━━━━━━━━━━━━━━━━━━━━━━━━━━━━━━━━━━━━━━\u001b[0m \u001b[32m239.8/239.8 kB\u001b[0m \u001b[31m21.0 MB/s\u001b[0m eta \u001b[36m0:00:00\u001b[0m\n",
            "\u001b[2K   \u001b[90m━━━━━━━━━━━━━━━━━━━━━━━━━━━━━━━━━━━━━━━━\u001b[0m \u001b[32m40.0/40.0 kB\u001b[0m \u001b[31m4.0 MB/s\u001b[0m eta \u001b[36m0:00:00\u001b[0m\n",
            "\u001b[2K   \u001b[90m━━━━━━━━━━━━━━━━━━━━━━━━━━━━━━━━━━━━━━━━\u001b[0m \u001b[32m74.7/74.7 kB\u001b[0m \u001b[31m7.9 MB/s\u001b[0m eta \u001b[36m0:00:00\u001b[0m\n",
            "\u001b[?25h  Building wheel for dora-search (pyproject.toml) ... \u001b[?25l\u001b[?25hdone\n",
            "  Building wheel for treetable (setup.py) ... \u001b[?25l\u001b[?25hdone\n",
            "\u001b[31mERROR: pip's dependency resolver does not currently take into account all the packages that are installed. This behaviour is the source of the following dependency conflicts.\n",
            "demucs 4.1.0a2 requires torchaudio<2.1,>=0.8, but you have torchaudio 2.3.1+cu121 which is incompatible.\u001b[0m\u001b[31m\n",
            "\u001b[0m"
          ]
        }
      ],
      "source": [
        "!pip install -q --no-deps git+https://github.com/facebookresearch/demucs #egg=demucs\n",
        "!pip install -q dora-search \"lameenc>=1.2\" openunmix\n",
        "!pip install -q deepmultilingualpunctuation\n",
        "!pip install -q wget pydub"
      ]
    },
    {
      "cell_type": "markdown",
      "metadata": {
        "id": "mFTu9wSTS2Pw"
      },
      "source": [
        "## **Import Dependencies**"
      ]
    },
    {
      "cell_type": "code",
      "execution_count": 5,
      "metadata": {
        "colab": {
          "base_uri": "https://localhost:8080/"
        },
        "id": "YzhncHP0ytbQ",
        "outputId": "e3cf2b16-40e7-416b-b7e0-acfb27c48c62"
      },
      "outputs": [
        {
          "output_type": "stream",
          "name": "stderr",
          "text": [
            "/usr/local/lib/python3.10/dist-packages/pyannote/audio/core/io.py:43: UserWarning: torchaudio._backend.set_audio_backend has been deprecated. With dispatcher enabled, this function is no-op. You can remove the function call.\n",
            "  torchaudio.set_audio_backend(\"soundfile\")\n",
            "[NeMo W 2024-08-20 01:09:34 transformer_bpe_models:59] Could not import NeMo NLP collection which is required for speech translation model.\n"
          ]
        }
      ],
      "source": [
        "import os\n",
        "import wget\n",
        "import requests\n",
        "import zipfile\n",
        "from omegaconf import OmegaConf\n",
        "import json\n",
        "import shutil\n",
        "from faster_whisper import WhisperModel\n",
        "import whisperx\n",
        "import torch\n",
        "from pydub import AudioSegment\n",
        "from nemo.collections.asr.models.msdd_models import NeuralDiarizer\n",
        "from deepmultilingualpunctuation import PunctuationModel\n",
        "import re\n",
        "import logging\n",
        "import nltk\n",
        "from whisperx.alignment import DEFAULT_ALIGN_MODELS_HF, DEFAULT_ALIGN_MODELS_TORCH\n",
        "from whisperx.utils import LANGUAGES, TO_LANGUAGE_CODE"
      ]
    },
    {
      "cell_type": "markdown",
      "metadata": {
        "id": "YOrgRmlR1RWp"
      },
      "source": [
        "### **Download Files**"
      ]
    },
    {
      "cell_type": "code",
      "execution_count": 6,
      "metadata": {
        "colab": {
          "base_uri": "https://localhost:8080/"
        },
        "id": "oFO1ydTkhKs8",
        "outputId": "b417b382-2a63-4706-9091-5bd3867dcc98"
      },
      "outputs": [
        {
          "output_type": "stream",
          "name": "stdout",
          "text": [
            "Extracted all to: ./whisper_examples\n"
          ]
        }
      ],
      "source": [
        "# Ensure the directory exists\n",
        "if not os.path.exists('whisper_examples'):\n",
        "    os.mkdir('whisper_examples')\n",
        "\n",
        "def download_file(url, save_name):\n",
        "    if not os.path.exists(save_name):\n",
        "        # Handling potential redirection in requests\n",
        "        with requests.get(url, allow_redirects=True) as r:\n",
        "            if r.status_code == 200:\n",
        "                with open(save_name, 'wb') as f:\n",
        "                    f.write(r.content)\n",
        "            else:\n",
        "                print(\"Failed to download the file, status code:\", r.status_code)\n",
        "\n",
        "def unzip(zip_file=None, target_dir='./whisper_examples'):\n",
        "    try:\n",
        "        with zipfile.ZipFile(zip_file, 'r') as z:\n",
        "            z.extractall(target_dir)\n",
        "            print(\"Extracted all to:\", target_dir)\n",
        "    except zipfile.BadZipFile:\n",
        "        print(\"Invalid file or error during extraction: Bad Zip File\")\n",
        "    except Exception as e:\n",
        "        print(\"An error occurred:\", e)\n",
        "\n",
        "# Correct Dropbox link (Ensure this is the direct download link or properly redirects)\n",
        "download_url = 'https://www.dropbox.com/scl/fi/gaxpaq6d8aqnbz9mpzlr6/whisper_examples.zip?rlkey=x69vv03tu657bbxbmbe7z322m&st=iabgc5et&dl=1'\n",
        "save_path = 'whisper_examples/whisper_examples.zip'\n",
        "\n",
        "download_file(download_url, save_path)\n",
        "unzip(zip_file=save_path)\n"
      ]
    },
    {
      "cell_type": "markdown",
      "metadata": {
        "id": "7ZS4xXmE2NGP"
      },
      "source": [
        "\n",
        "\n",
        "As our goal is to get a highly accurate and reliable transcription,  we will be using a whisper `large-v3` multilingual model of 1550M parameters with a WER of 4.1 on Google Fleurs dataset.\n",
        "The enable_stemming flag determines to preprocess the audio with Demucs to remove music. Setting `batch_size=8` indicates that 8 chunks will be processed at a time to make transcription coherent, so increasing batch_size may produce better results.\n",
        "Additionally the ` suppress_numeral=True` flag helps to increase the accuracy by reducing WER. In this ASR pipeline, whisper automatically identifies the language using the first 30 sec of input audio sample, as it is set as `language=None`.\n"
      ]
    },
    {
      "cell_type": "code",
      "execution_count": 7,
      "metadata": {
        "id": "ONlFrSnD0FOp"
      },
      "outputs": [],
      "source": [
        "# Name of the audio file\n",
        "audio_path = \"whisper_examples/Old_Farmer.mp3\"\n",
        "\n",
        "# Whether to enable music removal from speech, helps increase diarization quality but uses alot of ram\n",
        "enable_stemming = True\n",
        "\n",
        "# (choose from 'tiny.en', 'tiny', 'base.en', 'base', 'small.en', 'small', 'medium.en', 'medium', 'large-v1', 'large-v2', 'large-v3', 'large')\n",
        "whisper_model_name = \"large-v3\"\n",
        "\n",
        "# replaces numerical digits with their pronounciation, increases diarization accuracy\n",
        "suppress_numerals = True\n",
        "\n",
        "batch_size = 8\n",
        "\n",
        "language = None  # autodetect language\n",
        "\n",
        "device = \"cuda\" if torch.cuda.is_available() else \"cpu\""
      ]
    },
    {
      "cell_type": "markdown",
      "metadata": {
        "id": "h-cY1ZEy2KVI"
      },
      "source": [
        "## **Processing Audio with Demucs**\n",
        "\n",
        "\n",
        "This preprocessing step, conditionally isolates vocals from an audio file using the Meta Demucs model  which increases the diarization quality otherwise, it defaults to using the original audio file."
      ]
    },
    {
      "cell_type": "code",
      "execution_count": 8,
      "metadata": {
        "id": "HKcgQUrAzsJZ"
      },
      "outputs": [],
      "source": [
        "if enable_stemming:\n",
        "    # Isolate vocals from the rest of the audio\n",
        "\n",
        "    return_code = os.system(\n",
        "        f'python3 -m demucs.separate -n htdemucs --two-stems=vocals \"{audio_path}\" -o \"temp_outputs\"'\n",
        "    )\n",
        "\n",
        "    if return_code != 0:\n",
        "        logging.warning(\"Source splitting failed, using original audio file.\")\n",
        "        vocal_target = audio_path\n",
        "    else:\n",
        "        vocal_target = os.path.join(\n",
        "            \"temp_outputs\",\n",
        "            \"htdemucs\",\n",
        "            os.path.splitext(os.path.basename(audio_path))[0],\n",
        "            \"vocals.wav\",\n",
        "        )\n",
        "else:\n",
        "    vocal_target = audio_path"
      ]
    },
    {
      "cell_type": "markdown",
      "metadata": {
        "id": "E1-w8B2HzX55"
      },
      "source": [
        "## **WHISPER: ASR PIPELINE**\n",
        "\n",
        "Next, the `find_numeral_symbol_tokens` function identifies and returns a list of token IDs , inherited from whisper’s pretrained tokenizer's vocabulary that contain numeral symbols or characters such as digits and currency symbols. The vocab size of whisper is 51865.\n",
        "Eg: $100 , suppressing numeral tokens will result in one hundred dollars.\n"
      ]
    },
    {
      "cell_type": "code",
      "execution_count": 9,
      "metadata": {
        "id": "nji0SxE3zE17"
      },
      "outputs": [],
      "source": [
        "def find_numeral_symbol_tokens(tokenizer):\n",
        "    numeral_symbol_tokens = [\n",
        "        -1,\n",
        "    ]\n",
        "    for token, token_id in tokenizer.get_vocab().items():\n",
        "        has_numeral_symbol = any(c in \"0123456789%$£\" for c in token)\n",
        "        if has_numeral_symbol:\n",
        "            numeral_symbol_tokens.append(token_id)\n",
        "    return numeral_symbol_tokens"
      ]
    },
    {
      "cell_type": "markdown",
      "metadata": {
        "id": "KFw7eEpHXt1b"
      },
      "source": [
        "**Transcribe with Faster Whisper**"
      ]
    },
    {
      "cell_type": "code",
      "execution_count": 10,
      "metadata": {
        "id": "Se6Hc7CZygxu"
      },
      "outputs": [],
      "source": [
        "def transcribe(\n",
        "    audio_file: str,\n",
        "    language: str,\n",
        "    model_name: str,\n",
        "    compute_dtype: str,\n",
        "    suppress_numerals: bool,\n",
        "    device: str,\n",
        "):\n",
        "\n",
        "    # Faster Whisper non-batched\n",
        "    # Run on GPU with FP16\n",
        "    whisper_model = WhisperModel(model_name, device=device, compute_type=compute_dtype)\n",
        "\n",
        "    # or run on GPU with INT8\n",
        "    # model = WhisperModel(model_size, device=\"cuda\", compute_type=\"int8_float16\")\n",
        "    # or run on CPU with INT8\n",
        "    # model = WhisperModel(model_size, device=\"cpu\", compute_type=\"int8\")\n",
        "\n",
        "    if suppress_numerals:\n",
        "        numeral_symbol_tokens = find_numeral_symbol_tokens(whisper_model.hf_tokenizer)\n",
        "    else:\n",
        "        numeral_symbol_tokens = None\n",
        "\n",
        "    if language is not None and language in wav2vec2_langs:\n",
        "        word_timestamps = False\n",
        "    else:\n",
        "        word_timestamps = True\n",
        "\n",
        "    segments, info = whisper_model.transcribe(\n",
        "        audio_file,\n",
        "        language=language,\n",
        "        beam_size=5,\n",
        "        word_timestamps=word_timestamps,\n",
        "        suppress_tokens=numeral_symbol_tokens,\n",
        "        vad_filter=True,\n",
        "    )\n",
        "    whisper_results = []\n",
        "    for segment in segments:\n",
        "        whisper_results.append(segment._asdict())\n",
        "    # clear gpu vram\n",
        "    del whisper_model\n",
        "    torch.cuda.empty_cache()\n",
        "    return whisper_results, language"
      ]
    },
    {
      "cell_type": "markdown",
      "metadata": {
        "id": "u953_-bnXzww"
      },
      "source": [
        "**WhisperX**"
      ]
    },
    {
      "cell_type": "markdown",
      "metadata": {
        "id": "pFOtBF6jXehI"
      },
      "source": [
        "This section is responsible for performing ASR on our input audio file. The `transcribe_batched` function handles batched audio transcription using the Whisper model, configured for a  specific language, numeral and symbol suppression, and computation settings. This streamlined approach optimizes resource utilization during batch processing.\n"
      ]
    },
    {
      "cell_type": "markdown",
      "metadata": {
        "id": "f0wFzDZZXOsP"
      },
      "source": [
        "* In a typical **whisperX pipeline**, input audio gets chopped , only where a sound activity is detected with a **VAD** model, into 30-second chunks and sent on a two-track adventure. Track one is the OpenAI Whisper model, a transcription maestro adept at capturing spoken words but occasionally stumbling over precise timings. It's like a talented lyricist who can't quite keep up with the rhythm.\n",
        "\n",
        "* Running parallel is track two, the timestamp tsar **Wav2Vec2.0**, which may not have Whisper's lyrical prowess but boasts an uncanny ability to pinpoint each word's timing in the audio. So, why not combine the strengths of these two models and get the best of both worlds? It's like having a dynamic duo – one handles the lyrics, and the other keeps the beat. Together, they can create a harmonious symphony of transcriptions with accurate timestamps.\n"
      ]
    },
    {
      "cell_type": "markdown",
      "metadata": {
        "id": "oPLnjTWf7VxV"
      },
      "source": [
        "<img src=\"https://learnopencv.com/wp-content/uploads/2024/05/whisperx-Automatic-Speech-Recognition.png\">"
      ]
    },
    {
      "cell_type": "code",
      "execution_count": 11,
      "metadata": {
        "id": "dMZ07T6JzStl"
      },
      "outputs": [],
      "source": [
        "def transcribe_batched(\n",
        "    audio_file: str,\n",
        "    language: str,\n",
        "    batch_size: int,\n",
        "    model_name: str,\n",
        "    compute_dtype: str,\n",
        "    suppress_numerals: bool,\n",
        "    device: str,\n",
        "):\n",
        "\n",
        "\n",
        "    # Faster Whisper batched\n",
        "    whisper_model = whisperx.load_model(\n",
        "        model_name,\n",
        "        device,\n",
        "        compute_type=compute_dtype,\n",
        "        asr_options={\"suppress_numerals\": suppress_numerals},\n",
        "    )\n",
        "    audio = whisperx.load_audio(audio_file)\n",
        "    result = whisper_model.transcribe(audio, language=language, batch_size=batch_size)\n",
        "    del whisper_model\n",
        "    torch.cuda.empty_cache()\n",
        "    return result[\"segments\"], result[\"language\"]"
      ]
    },
    {
      "cell_type": "markdown",
      "metadata": {
        "id": "UYg9VWb22Tz8"
      },
      "source": [
        "### **Transcribing audio using WhisperX**\n",
        "---\n",
        "\n",
        "This snippet results in the transcription using batch processing on input audio with the WhisperX inference pipeline based on the specified `batch_size`, applying settings for computation type, numeral suppression, and device with a fp16 compute precision.\n",
        "\n"
      ]
    },
    {
      "cell_type": "code",
      "execution_count": 12,
      "metadata": {
        "colab": {
          "base_uri": "https://localhost:8080/",
          "height": 318,
          "referenced_widgets": [
            "ef68ab08c6ab4924864ad3d454d6816b",
            "81fc18fd53254fb29446bd585130abbc",
            "c814514c5f3e4bce8975739054c7430b",
            "3844dbb1480d46c79716e5ebcecc79b2",
            "fb761c95657b4518a80dde42391b1443",
            "1c03acb1e882488ca9612a2272537923",
            "6a531de95f694e3ab5d3110077a1d75e",
            "dbcf74829e03434aa97583827e822819",
            "8fe66ba3151f44a692228e9228fb3773",
            "9e0a322f8c974770a19a08479dd6232a",
            "f586ab3edc7d4c55a5cd34060ba439c7",
            "7dca26843cde48abb93cf5c33f25fff5",
            "bc955ec33a4446218e8a2d32c99f17f4",
            "62c23f5c69bd4505bc381132d3be0eeb",
            "25c9273574174aeeaa395f42b0d88a71",
            "0d614ceebfde4034a302ef30679d2827",
            "43ec34bd451147208972ed720a3e239a",
            "633655344c754994ba79430048c971c0",
            "37aaac1f1830479b9b7889046cb0dbdd",
            "33de383efc8c4ce2ae9fbc343e879ce8",
            "6537a911e5ca498fa74376664d331826",
            "a4868a34bad8420d94b0d6ced58ace92",
            "8a0dad88bc2d48439450bba51d072c85",
            "0dd8620178c54b60b1a2f224a62cda16",
            "346b8f2f1000420ca5d0a2ac0f928481",
            "351afa4e42654cc0b96e07b64e869e46",
            "0beb631c43fd4e1487f295e33f63b814",
            "41e0408dbc374b7a92bae675ad91bc96",
            "6832d25058a549969d49519cbab3f79a",
            "a2a82d1735274f2eb53917575453f0d6",
            "b80003c694e5496c9df677003d066d7f",
            "e693144e30fe439183e5da05e0efd8ef",
            "9990de2fb46a403aa5e1f5b654d2afb6",
            "832c85ddc8c842989ac60d1fa670c7ec",
            "af5980a101dd430bb81a6d8a005e8a18",
            "bde3539826c84ffa97eea20e5cd68da4",
            "08fd9e3f2ef44a20ae127a08e4ecda04",
            "9d9474af6edf4d6e8318f1035983d417",
            "61066883abae4a27bc458cc0f3a63b3a",
            "eb5b647e232245fbac2f20fd510c4b54",
            "e9511ac34c8d4c2392b8d1b5787bf93c",
            "c312a8868261484299fdb3ad6f981eb2",
            "bff43658003b46b68798096f6b824c93",
            "b8ee7ef2352a4e85b551017a6f98a3fe",
            "fc8be0a445034403a5770245f4650a4c",
            "16ab59eee8314dc28cc7cfe62661dd5d",
            "b9c4daae4da4479d9943799fafeb2147",
            "3c5291a5c0c54f18a4f6a44112fd0006",
            "64a9b07efe4f4373a302a33fb5656545",
            "8099eb4c19b84f53b6100d7afd8c8d34",
            "82d929773e58485fbecafc4f95ecda9e",
            "bdd082a7b3ea4d499b0e141ad97810a6",
            "a53240816ef1438cbb23df50d25ed7c0",
            "b94cbce2a43e4e449fb0192ebbc5318c",
            "b58d31695b9f452fad50fce736dbfa79"
          ]
        },
        "id": "5-VKFn530oTl",
        "outputId": "c18a7036-9f45-40e7-ba14-d6009b4d86cf"
      },
      "outputs": [
        {
          "output_type": "display_data",
          "data": {
            "text/plain": [
              "model.bin:   0%|          | 0.00/3.09G [00:00<?, ?B/s]"
            ],
            "application/vnd.jupyter.widget-view+json": {
              "version_major": 2,
              "version_minor": 0,
              "model_id": "ef68ab08c6ab4924864ad3d454d6816b"
            }
          },
          "metadata": {}
        },
        {
          "output_type": "display_data",
          "data": {
            "text/plain": [
              "tokenizer.json:   0%|          | 0.00/2.48M [00:00<?, ?B/s]"
            ],
            "application/vnd.jupyter.widget-view+json": {
              "version_major": 2,
              "version_minor": 0,
              "model_id": "7dca26843cde48abb93cf5c33f25fff5"
            }
          },
          "metadata": {}
        },
        {
          "output_type": "display_data",
          "data": {
            "text/plain": [
              "vocabulary.json:   0%|          | 0.00/1.07M [00:00<?, ?B/s]"
            ],
            "application/vnd.jupyter.widget-view+json": {
              "version_major": 2,
              "version_minor": 0,
              "model_id": "8a0dad88bc2d48439450bba51d072c85"
            }
          },
          "metadata": {}
        },
        {
          "output_type": "display_data",
          "data": {
            "text/plain": [
              "preprocessor_config.json:   0%|          | 0.00/340 [00:00<?, ?B/s]"
            ],
            "application/vnd.jupyter.widget-view+json": {
              "version_major": 2,
              "version_minor": 0,
              "model_id": "832c85ddc8c842989ac60d1fa670c7ec"
            }
          },
          "metadata": {}
        },
        {
          "output_type": "display_data",
          "data": {
            "text/plain": [
              "config.json:   0%|          | 0.00/2.39k [00:00<?, ?B/s]"
            ],
            "application/vnd.jupyter.widget-view+json": {
              "version_major": 2,
              "version_minor": 0,
              "model_id": "fc8be0a445034403a5770245f4650a4c"
            }
          },
          "metadata": {}
        },
        {
          "output_type": "stream",
          "name": "stdout",
          "text": [
            "No language specified, language will be first be detected for each audio file (increases inference time).\n"
          ]
        },
        {
          "output_type": "stream",
          "name": "stderr",
          "text": [
            "100%|█████████████████████████████████████| 16.9M/16.9M [00:02<00:00, 8.51MiB/s]\n",
            "INFO:pytorch_lightning.utilities.migration.utils:Lightning automatically upgraded your loaded checkpoint from v1.5.4 to v2.0.7. To apply the upgrade to your files permanently, run `python -m pytorch_lightning.utilities.upgrade_checkpoint --file ../root/.cache/torch/whisperx-vad-segmentation.bin`\n"
          ]
        },
        {
          "output_type": "stream",
          "name": "stdout",
          "text": [
            "Model was trained with pyannote.audio 0.0.1, yours is 3.1.1. Bad things might happen unless you revert pyannote.audio to 0.x.\n",
            "Model was trained with torch 1.10.0+cu102, yours is 2.3.1+cu121. Bad things might happen unless you revert torch to 1.x.\n",
            "Detected language: en (0.67) in first 30s of audio...\n",
            "Suppressing numeral and symbol tokens\n"
          ]
        }
      ],
      "source": [
        "compute_type = \"float16\"\n",
        "# or run on GPU with INT8\n",
        "# compute_type = \"int8_float16\"\n",
        "# or run on CPU with INT8\n",
        "# compute_type = \"int8\"\n",
        "\n",
        "if batch_size != 0:\n",
        "    whisper_results, language = transcribe_batched(\n",
        "        vocal_target,\n",
        "        language,\n",
        "        batch_size,\n",
        "        whisper_model_name,\n",
        "        compute_type,\n",
        "        suppress_numerals,\n",
        "        device,\n",
        "    )\n",
        "else:\n",
        "    whisper_results, language = transcribe(\n",
        "        vocal_target,\n",
        "        language,\n",
        "        whisper_model_name,\n",
        "        compute_type,\n",
        "        suppress_numerals,\n",
        "        device,\n",
        "    )"
      ]
    },
    {
      "cell_type": "markdown",
      "metadata": {
        "id": "AfGHFa1goBUJ"
      },
      "source": [
        "### Forced Alignment with Wav2Vec2.0: WhisperX\n",
        "---\n",
        "Forced alignment refers to the process by which orthographic transcriptions are aligned to audio recordings to automatically generate phone level segmentation.\n",
        "\n",
        "From default alignment models, `wav2vec2_langs` list combines all languages, offered by [PyTorch](https://pytorch.org/audio/stable/tutorials/forced_alignment_tutorial.html) and HuggingFace. Meanwhile, `whisper_langs` brings together languages supported by the Whisper model, including a wide array of global languages and additional language codes, ensuring extensive multilingual capabilities for Automatic Speech Recognition (ASR).\n"
      ]
    },
    {
      "cell_type": "markdown",
      "metadata": {
        "id": "3cSQG5qOmDbh"
      },
      "source": [
        "<img src=\"https://learnopencv.com/wp-content/uploads/2024/05/forced-alignment-wav2vec-Automatic-Speech-Recognition.png\">"
      ]
    },
    {
      "cell_type": "code",
      "execution_count": 13,
      "metadata": {
        "id": "kD76iufYy6fY"
      },
      "outputs": [],
      "source": [
        "wav2vec2_langs = list(DEFAULT_ALIGN_MODELS_TORCH.keys()) + list(\n",
        "    DEFAULT_ALIGN_MODELS_HF.keys()\n",
        ")\n",
        "\n",
        "whisper_langs = sorted(LANGUAGES.keys()) + sorted(\n",
        "    [k.title() for k in TO_LANGUAGE_CODE.keys()]\n",
        ")"
      ]
    },
    {
      "cell_type": "markdown",
      "metadata": {
        "id": "-qDtVqCzYo4C"
      },
      "source": [
        "Here, the `_get_next_start_timestamp` function is responsible for figuring out when the next word in a list of word timestamps should start. If we're looking at the last word in the list, it simply returns the start time of that word. However, if the next word doesn't have a timestamp defined, things get a bit trickier. In that case, the function merges the current word with the word lacking a timestamp, essentially extending the current word's duration until it either encounters a word with a defined start time or reaches the end of the list. If it's the latter scenario, the function returns a predefined final timestamp value."
      ]
    },
    {
      "cell_type": "code",
      "execution_count": 14,
      "metadata": {
        "id": "UbV-IBYTzHEM"
      },
      "outputs": [],
      "source": [
        "def _get_next_start_timestamp(word_timestamps, current_word_index, final_timestamp):\n",
        "    # if current word is the last word\n",
        "    if current_word_index == len(word_timestamps) - 1:\n",
        "        return word_timestamps[current_word_index][\"start\"]\n",
        "\n",
        "    next_word_index = current_word_index + 1\n",
        "    while current_word_index < len(word_timestamps) - 1:\n",
        "        if word_timestamps[next_word_index].get(\"start\") is None:\n",
        "            # if next word doesn't have a start timestamp\n",
        "            # merge it with the current word and delete it\n",
        "            word_timestamps[current_word_index][\"word\"] += (\n",
        "                \" \" + word_timestamps[next_word_index][\"word\"]\n",
        "            )\n",
        "\n",
        "            word_timestamps[next_word_index][\"word\"] = None\n",
        "            next_word_index += 1\n",
        "            if next_word_index == len(word_timestamps):\n",
        "                return final_timestamp\n",
        "\n",
        "        else:\n",
        "            return word_timestamps[next_word_index][\"start\"]"
      ]
    },
    {
      "cell_type": "markdown",
      "metadata": {
        "id": "Y0CSqrpJYsbf"
      },
      "source": [
        "\n",
        "This `filter_missing_timestamps` utility processes a list of word timestamps, ensuring each word has a start and end time by filling missing values based on adjacent timestamps or specified default boundaries, and compiles the cleaned list into `result`.\n"
      ]
    },
    {
      "cell_type": "code",
      "execution_count": 15,
      "metadata": {
        "id": "R5zzvSjYzKny"
      },
      "outputs": [],
      "source": [
        "def filter_missing_timestamps(\n",
        "    word_timestamps, initial_timestamp=0, final_timestamp=None\n",
        "):\n",
        "    # handle the first and last word\n",
        "    if word_timestamps[0].get(\"start\") is None:\n",
        "        word_timestamps[0][\"start\"] = (\n",
        "            initial_timestamp if initial_timestamp is not None else 0\n",
        "        )\n",
        "        word_timestamps[0][\"end\"] = _get_next_start_timestamp(\n",
        "            word_timestamps, 0, final_timestamp\n",
        "        )\n",
        "\n",
        "    result = [\n",
        "        word_timestamps[0],\n",
        "    ]\n",
        "\n",
        "    for i, ws in enumerate(word_timestamps[1:], start=1):\n",
        "        # if ws doesn't have a start and end\n",
        "        # use the previous end as start and next start as end\n",
        "        if ws.get(\"start\") is None and ws.get(\"word\") is not None:\n",
        "            ws[\"start\"] = word_timestamps[i - 1][\"end\"]\n",
        "            ws[\"end\"] = _get_next_start_timestamp(word_timestamps, i, final_timestamp)\n",
        "\n",
        "        if ws[\"word\"] is not None:\n",
        "            result.append(ws)\n",
        "    return result"
      ]
    },
    {
      "cell_type": "markdown",
      "metadata": {
        "id": "KaDqRUPCYvTc"
      },
      "source": [
        "After Whisper generates the transcription, the next step in the WhisperX pipeline utilizes Wav2Vec 2.0 for forced alignment if the language is supported. If the language is unsupported and batch processing is not being used, WhisperX extracts the timestamps directly from Whisper's output instead. As we know  it is not as accurate as Wav2Vec's forced alignment, but this method ensures that each word in the transcription has an associated start and end time. Once the timestamping process is complete, the GPU memory is freed up to save resources.\n",
        "\n"
      ]
    },
    {
      "cell_type": "code",
      "execution_count": 16,
      "metadata": {
        "colab": {
          "base_uri": "https://localhost:8080/"
        },
        "id": "jkHV6kLYoBUJ",
        "outputId": "43f67acf-5486-4fc1-fcc6-3e4df810c2aa"
      },
      "outputs": [
        {
          "output_type": "stream",
          "name": "stderr",
          "text": [
            "Downloading: \"https://download.pytorch.org/torchaudio/models/wav2vec2_fairseq_base_ls960_asr_ls960.pth\" to /root/.cache/torch/hub/checkpoints/wav2vec2_fairseq_base_ls960_asr_ls960.pth\n",
            "100%|██████████| 360M/360M [00:01<00:00, 264MB/s]\n"
          ]
        }
      ],
      "source": [
        "if language in wav2vec2_langs:\n",
        "    device = \"cuda\"\n",
        "    alignment_model, metadata = whisperx.load_align_model(\n",
        "        language_code=language, device=device\n",
        "    )\n",
        "    result_aligned = whisperx.align(\n",
        "        whisper_results, alignment_model, metadata, vocal_target, device\n",
        "    )\n",
        "    word_timestamps = filter_missing_timestamps(\n",
        "        result_aligned[\"word_segments\"],\n",
        "        initial_timestamp=whisper_results[0].get(\"start\"),\n",
        "        final_timestamp=whisper_results[-1].get(\"end\"),\n",
        "    )\n",
        "\n",
        "    # clear gpu vram\n",
        "    del alignment_model\n",
        "    torch.cuda.empty_cache()\n",
        "else:\n",
        "    assert batch_size == 0, (  # TODO: add a better check for word timestamps existence\n",
        "        f\"Unsupported language: {language}, use --batch_size to 0\"\n",
        "        \" to generate word timestamps using whisper directly and fix this error.\"\n",
        "    )\n",
        "    word_timestamps = []\n",
        "    for segment in whisper_results:\n",
        "        for word in segment[\"words\"]:\n",
        "            word_timestamps.append({\"word\": word[2], \"start\": word[0], \"end\": word[1]})\n",
        "\n"
      ]
    },
    {
      "cell_type": "code",
      "execution_count": 17,
      "metadata": {
        "colab": {
          "base_uri": "https://localhost:8080/"
        },
        "id": "MjcvIZ0g-H1_",
        "outputId": "c726a289-d6c8-4ee0-c897-3e07d96174a9"
      },
      "outputs": [
        {
          "output_type": "stream",
          "name": "stdout",
          "text": [
            "Transcription after Forced Alignment with Wav2Vec2.0:\n",
            "[{'word': \"I'm\", 'start': 1.155, 'end': 1.295, 'score': 0.466}, {'word': 'going', 'start': 1.315, 'end': 1.475, 'score': 0.892}, {'word': 'to', 'start': 1.515, 'end': 1.575, 'score': 0.764}, {'word': 'introduce', 'start': 1.635, 'end': 1.995, 'score': 0.882}, {'word': 'you', 'start': 2.036, 'end': 2.136, 'score': 0.857}, {'word': 'to', 'start': 2.176, 'end': 2.316, 'score': 0.961}, {'word': 'a', 'start': 2.336, 'end': 2.356, 'score': 0.0}, {'word': 'rather', 'start': 2.656, 'end': 2.896, 'score': 0.862}, {'word': 'remarkable', 'start': 2.956, 'end': 3.496, 'score': 0.937}, {'word': 'man.', 'start': 3.556, 'end': 3.776, 'score': 0.837}, {'word': \"He's\", 'start': 4.577, 'end': 4.717, 'score': 0.715}, {'word': 'Mr.', 'start': 4.757, 'end': 4.997, 'score': 0.648}, {'word': 'Michael', 'start': 5.037, 'end': 5.277, 'score': 0.464}, {'word': 'Fitzpatrick', 'start': 5.297, 'end': 5.918, 'score': 0.826}, {'word': 'from', 'start': 5.958, 'end': 6.138, 'score': 0.861}, {'word': 'Killeney,', 'start': 6.258, 'end': 6.678, 'score': 0.788}, {'word': 'Maynooth.', 'start': 7.118, 'end': 7.479, 'score': 0.774}, {'word': 'Now,', 'start': 8.619, 'end': 8.859, 'score': 0.894}, {'word': 'he', 'start': 10.02, 'end': 10.14, 'score': 0.756}, {'word': 'started', 'start': 10.18, 'end': 10.5, 'score': 0.95}, {'word': 'to', 'start': 10.56, 'end': 10.7, 'score': 0.704}, {'word': 'draw', 'start': 10.941, 'end': 11.161, 'score': 0.962}, {'word': 'the', 'start': 11.201, 'end': 11.301, 'score': 0.866}, {'word': 'old', 'start': 11.401, 'end': 11.541, 'score': 0.865}, {'word': 'age', 'start': 11.601, 'end': 11.801, 'score': 0.848}, {'word': 'pension', 'start': 11.841, 'end': 12.181, 'score': 0.849}, {'word': 'in', 'start': 12.201, 'end': 12.261, 'score': 0.75}, {'word': 'nineteen', 'start': 12.301, 'end': 12.541, 'score': 0.88}, {'word': 'twenty', 'start': 12.581, 'end': 12.802, 'score': 0.869}, {'word': 'seven', 'start': 12.862, 'end': 13.082, 'score': 0.925}, {'word': 'and', 'start': 13.922, 'end': 14.062, 'score': 0.623}, {'word': 'seven', 'start': 14.563, 'end': 14.803, 'score': 0.763}, {'word': 'years', 'start': 14.843, 'end': 15.023, 'score': 0.796}, {'word': 'ago', 'start': 15.083, 'end': 15.283, 'score': 0.837}, {'word': 'he', 'start': 15.463, 'end': 15.543, 'score': 0.554}, {'word': 'got', 'start': 15.583, 'end': 15.743, 'score': 0.844}, {'word': 'the', 'start': 15.783, 'end': 15.903, 'score': 0.748}, {'word': \"president's\", 'start': 16.043, 'end': 16.464, 'score': 0.927}, {'word': 'bounty', 'start': 16.504, 'end': 16.864, 'score': 0.697}, {'word': 'on', 'start': 17.644, 'end': 17.724, 'score': 0.834}, {'word': 'his', 'start': 17.764, 'end': 17.904, 'score': 0.608}, {'word': 'hundredth', 'start': 17.925, 'end': 18.205, 'score': 0.609}, {'word': 'birthday.', 'start': 18.245, 'end': 18.625, 'score': 0.97}, {'word': 'Now,', 'start': 19.665, 'end': 19.866, 'score': 0.874}, {'word': \"he's\", 'start': 20.046, 'end': 20.226, 'score': 0.799}, {'word': 'from', 'start': 20.246, 'end': 20.386, 'score': 0.985}, {'word': 'County', 'start': 20.446, 'end': 20.746, 'score': 0.921}, {'word': 'Clare.', 'start': 20.786, 'end': 21.146, 'score': 0.854}, {'word': 'He', 'start': 22.107, 'end': 22.187, 'score': 0.597}, {'word': 'came', 'start': 22.207, 'end': 22.387, 'score': 0.804}, {'word': 'up', 'start': 22.447, 'end': 22.527, 'score': 0.748}, {'word': 'from', 'start': 22.687, 'end': 22.927, 'score': 0.812}, {'word': 'Clare', 'start': 23.268, 'end': 23.608, 'score': 0.864}, {'word': 'in', 'start': 24.088, 'end': 24.148, 'score': 0.996}, {'word': 'nineteen', 'start': 24.188, 'end': 24.528, 'score': 0.85}, {'word': 'forty', 'start': 24.568, 'end': 24.948, 'score': 0.92}, {'word': 'to', 'start': 25.089, 'end': 25.249, 'score': 0.78}, {'word': 'a', 'start': 25.269, 'end': 25.289, 'score': 0.0}, {'word': 'land', 'start': 25.469, 'end': 25.649, 'score': 0.858}, {'word': 'commission', 'start': 25.669, 'end': 26.029, 'score': 0.935}, {'word': 'farm', 'start': 26.049, 'end': 26.349, 'score': 0.854}, {'word': 'in', 'start': 27.09, 'end': 27.21, 'score': 0.838}, {'word': 'Maynooth,', 'start': 27.35, 'end': 27.71, 'score': 0.69}, {'word': 'where', 'start': 28.11, 'end': 28.29, 'score': 0.984}, {'word': 'he', 'start': 28.35, 'end': 28.45, 'score': 0.827}, {'word': 'lives', 'start': 28.49, 'end': 28.711, 'score': 0.897}, {'word': 'now.', 'start': 28.771, 'end': 28.891, 'score': 0.914}, {'word': 'You', 'start': 29.81, 'end': 29.97, 'score': 0.687}, {'word': 'have', 'start': 30.01, 'end': 30.21, 'score': 0.965}, {'word': 'seen', 'start': 30.431, 'end': 30.671, 'score': 0.893}, {'word': 'a', 'start': 30.691, 'end': 30.711, 'score': 0.0}, {'word': 'lot', 'start': 31.071, 'end': 31.211, 'score': 0.991}, {'word': 'of', 'start': 31.251, 'end': 31.311, 'score': 0.744}, {'word': 'changes,', 'start': 31.371, 'end': 31.832, 'score': 0.777}, {'word': 'Mr', 'start': 31.912, 'end': 32.112, 'score': 0.74}, {'word': 'Fitzpatrick,', 'start': 32.132, 'end': 32.672, 'score': 0.817}, {'word': 'in', 'start': 32.792, 'end': 32.892, 'score': 0.963}, {'word': 'farming.', 'start': 32.992, 'end': 33.453, 'score': 0.68}, {'word': 'What', 'start': 34.173, 'end': 34.273, 'score': 1.0}, {'word': 'would', 'start': 34.293, 'end': 34.434, 'score': 0.92}, {'word': 'you', 'start': 34.454, 'end': 34.554, 'score': 0.724}, {'word': 'say', 'start': 34.574, 'end': 34.734, 'score': 0.71}, {'word': 'was', 'start': 34.774, 'end': 34.874, 'score': 0.901}, {'word': 'the', 'start': 34.894, 'end': 34.974, 'score': 0.831}, {'word': 'biggest', 'start': 34.994, 'end': 35.254, 'score': 0.876}, {'word': 'change?', 'start': 35.294, 'end': 35.655, 'score': 0.752}, {'word': 'Well,', 'start': 36.195, 'end': 36.435, 'score': 0.493}, {'word': 'machinery.', 'start': 36.475, 'end': 36.996, 'score': 0.923}, {'word': 'And', 'start': 37.956, 'end': 38.056, 'score': 0.812}, {'word': 'what', 'start': 38.136, 'end': 38.297, 'score': 0.829}, {'word': 'sort', 'start': 38.337, 'end': 38.517, 'score': 0.99}, {'word': 'of', 'start': 38.557, 'end': 38.597, 'score': 0.986}, {'word': 'a', 'start': 38.637, 'end': 38.677, 'score': 0.457}, {'word': 'machine', 'start': 38.737, 'end': 39.077, 'score': 0.832}, {'word': 'would', 'start': 39.097, 'end': 39.798, 'score': 0.193}, {'word': 'you', 'start': 40.418, 'end': 40.558, 'score': 0.257}, {'word': 'think', 'start': 40.578, 'end': 40.738, 'score': 0.912}, {'word': 'made', 'start': 40.879, 'end': 41.039, 'score': 0.783}, {'word': 'the', 'start': 41.059, 'end': 41.139, 'score': 0.826}, {'word': 'biggest', 'start': 41.159, 'end': 41.419, 'score': 0.846}, {'word': 'impression?', 'start': 41.459, 'end': 41.879, 'score': 0.867}, {'word': 'Well,', 'start': 42.139, 'end': 42.34, 'score': 0.781}, {'word': 'the', 'start': 43.34, 'end': 43.44, 'score': 0.869}, {'word': 'reaper', 'start': 43.481, 'end': 43.781, 'score': 0.759}, {'word': 'and', 'start': 43.821, 'end': 43.921, 'score': 0.445}, {'word': 'binder', 'start': 43.961, 'end': 44.181, 'score': 0.413}, {'word': 'is', 'start': 44.201, 'end': 44.301, 'score': 0.362}, {'word': 'a', 'start': 44.361, 'end': 44.421, 'score': 0.619}, {'word': 'great', 'start': 44.441, 'end': 44.701, 'score': 0.668}, {'word': 'one,', 'start': 44.762, 'end': 44.862, 'score': 0.558}, {'word': 'but', 'start': 45.262, 'end': 45.402, 'score': 0.871}, {'word': 'by', 'start': 45.442, 'end': 45.602, 'score': 0.724}, {'word': 'God,', 'start': 45.622, 'end': 45.862, 'score': 0.706}, {'word': 'the', 'start': 46.203, 'end': 46.323, 'score': 0.549}, {'word': 'one', 'start': 46.383, 'end': 46.503, 'score': 0.872}, {'word': 'for', 'start': 46.523, 'end': 46.723, 'score': 0.454}, {'word': 'cutting', 'start': 47.063, 'end': 47.364, 'score': 0.552}, {'word': 'up', 'start': 47.424, 'end': 47.504, 'score': 0.889}, {'word': 'the', 'start': 47.544, 'end': 47.644, 'score': 0.853}, {'word': 'ground', 'start': 47.664, 'end': 47.944, 'score': 0.76}, {'word': 'and', 'start': 47.984, 'end': 48.084, 'score': 0.692}, {'word': 'throwing', 'start': 48.364, 'end': 48.604, 'score': 0.599}, {'word': 'the', 'start': 48.624, 'end': 48.685, 'score': 0.001}, {'word': 'crop', 'start': 48.705, 'end': 48.925, 'score': 0.881}, {'word': 'is', 'start': 49.365, 'end': 49.465, 'score': 0.802}, {'word': 'a', 'start': 49.525, 'end': 49.565, 'score': 0.825}, {'word': 'powerful', 'start': 49.605, 'end': 49.925, 'score': 0.392}, {'word': 'one', 'start': 50.026, 'end': 50.106, 'score': 0.481}, {'word': 'too.', 'start': 50.126, 'end': 50.246, 'score': 0.327}, {'word': 'Well,', 'start': 51.271, 'end': 51.651, 'score': 0.562}, {'word': 'you', 'start': 51.891, 'end': 51.971, 'score': 0.956}, {'word': 'were', 'start': 52.011, 'end': 52.112, 'score': 0.942}, {'word': 'saying', 'start': 52.152, 'end': 52.892, 'score': 0.891}, {'word': 'at', 'start': 53.072, 'end': 53.112, 'score': 0.992}, {'word': 'the', 'start': 53.152, 'end': 53.232, 'score': 0.786}, {'word': 'time', 'start': 53.252, 'end': 53.452, 'score': 0.858}, {'word': 'you', 'start': 53.492, 'end': 53.613, 'score': 0.875}, {'word': 'saw', 'start': 53.653, 'end': 53.873, 'score': 0.845}, {'word': 'the', 'start': 53.933, 'end': 54.033, 'score': 0.867}, {'word': 'mowing', 'start': 54.053, 'end': 54.293, 'score': 0.9}, {'word': 'machine', 'start': 54.333, 'end': 54.693, 'score': 0.855}, {'word': 'first,', 'start': 54.973, 'end': 55.214, 'score': 0.887}, {'word': 'it', 'start': 55.934, 'end': 56.014, 'score': 0.79}, {'word': 'made', 'start': 56.074, 'end': 56.234, 'score': 0.912}, {'word': 'a', 'start': 56.274, 'end': 56.314, 'score': 0.508}, {'word': 'tremendous', 'start': 56.354, 'end': 56.735, 'score': 0.9}, {'word': 'impression', 'start': 56.775, 'end': 57.135, 'score': 0.907}, {'word': 'on', 'start': 57.195, 'end': 57.255, 'score': 0.96}, {'word': 'you.', 'start': 57.275, 'end': 57.395, 'score': 0.753}, {'word': 'It', 'start': 57.475, 'end': 57.595, 'score': 0.62}, {'word': 'did,', 'start': 57.635, 'end': 57.795, 'score': 0.419}, {'word': 'because', 'start': 58.256, 'end': 58.536, 'score': 0.927}, {'word': 'you', 'start': 58.556, 'end': 58.696, 'score': 0.369}, {'word': \"didn't\", 'start': 58.716, 'end': 58.836, 'score': 0.168}, {'word': 'wonder', 'start': 58.856, 'end': 59.256, 'score': 0.78}, {'word': 'how', 'start': 59.677, 'end': 59.917, 'score': 0.854}, {'word': 'could', 'start': 59.937, 'end': 60.077, 'score': 0.399}, {'word': 'it', 'start': 60.137, 'end': 60.217, 'score': 0.547}, {'word': 'be', 'start': 60.257, 'end': 60.377, 'score': 0.699}, {'word': 'done', 'start': 60.397, 'end': 60.557, 'score': 0.614}, {'word': 'at', 'start': 60.597, 'end': 60.657, 'score': 0.53}, {'word': 'all.', 'start': 60.797, 'end': 60.917, 'score': 0.665}, {'word': 'What', 'start': 62.438, 'end': 62.578, 'score': 0.85}, {'word': 'was', 'start': 62.598, 'end': 62.719, 'score': 0.758}, {'word': 'the', 'start': 63.179, 'end': 63.319, 'score': 0.981}, {'word': 'reaction', 'start': 63.499, 'end': 64.099, 'score': 0.868}, {'word': 'of', 'start': 64.34, 'end': 64.42, 'score': 0.836}, {'word': 'the', 'start': 64.46, 'end': 64.66, 'score': 0.715}, {'word': 'people', 'start': 65.06, 'end': 65.4, 'score': 0.836}, {'word': 'at', 'start': 65.52, 'end': 65.58, 'score': 0.799}, {'word': 'that', 'start': 65.62, 'end': 65.761, 'score': 0.847}, {'word': 'time', 'start': 65.821, 'end': 66.081, 'score': 0.943}, {'word': 'to', 'start': 66.121, 'end': 66.201, 'score': 0.964}, {'word': 'the', 'start': 66.221, 'end': 66.301, 'score': 0.818}, {'word': 'mowing', 'start': 66.321, 'end': 66.501, 'score': 0.425}, {'word': 'machine,', 'start': 66.541, 'end': 66.801, 'score': 0.833}, {'word': 'Mr.', 'start': 66.821, 'end': 66.881, 'score': 0.168}, {'word': 'Scott?', 'start': 66.901, 'end': 67.021, 'score': 0.136}, {'word': 'They', 'start': 67.041, 'end': 67.262, 'score': 0.383}, {'word': 'had', 'start': 67.302, 'end': 67.522, 'score': 0.584}, {'word': 'money,', 'start': 67.582, 'end': 67.842, 'score': 0.807}, {'word': 'but', 'start': 67.882, 'end': 68.042, 'score': 0.561}, {'word': 'they', 'start': 68.062, 'end': 68.182, 'score': 0.256}, {'word': \"weren't\", 'start': 68.202, 'end': 68.362, 'score': 0.231}, {'word': 'minding', 'start': 68.542, 'end': 68.863, 'score': 0.747}, {'word': 'it.', 'start': 68.923, 'end': 68.983, 'score': 0.494}, {'word': 'They', 'start': 69.003, 'end': 69.143, 'score': 0.434}, {'word': 'could', 'start': 69.163, 'end': 69.303, 'score': 0.322}, {'word': 'afford', 'start': 69.363, 'end': 69.743, 'score': 0.486}, {'word': 'it,', 'start': 69.783, 'end': 69.883, 'score': 0.623}, {'word': 'but', 'start': 69.923, 'end': 70.043, 'score': 0.883}, {'word': 'more', 'start': 70.103, 'end': 70.203, 'score': 0.161}, {'word': 'of', 'start': 70.424, 'end': 70.504, 'score': 0.712}, {'word': 'them', 'start': 70.524, 'end': 70.604, 'score': 0.074}, {'word': 'got', 'start': 70.624, 'end': 70.684, 'score': 0.01}, {'word': 'out', 'start': 72.005, 'end': 72.145, 'score': 0.401}, {'word': 'of', 'start': 72.205, 'end': 72.305, 'score': 0.412}, {'word': 'it.', 'start': 72.345, 'end': 72.405, 'score': 0.726}, {'word': 'And', 'start': 73.757, 'end': 73.857, 'score': 0.828}, {'word': 'some', 'start': 73.918, 'end': 74.078, 'score': 0.793}, {'word': 'of', 'start': 74.118, 'end': 74.178, 'score': 0.788}, {'word': 'them,', 'start': 74.198, 'end': 74.319, 'score': 0.785}, {'word': 'I', 'start': 74.359, 'end': 74.439, 'score': 0.81}, {'word': 'think', 'start': 74.459, 'end': 74.639, 'score': 0.948}, {'word': 'you', 'start': 74.659, 'end': 74.78, 'score': 0.855}, {'word': 'told', 'start': 74.8, 'end': 75.0, 'score': 0.869}, {'word': 'me,', 'start': 75.04, 'end': 75.181, 'score': 0.703}, {'word': \"wouldn't\", 'start': 75.822, 'end': 76.083, 'score': 0.819}, {'word': 'have', 'start': 76.123, 'end': 76.243, 'score': 0.91}, {'word': 'it', 'start': 76.283, 'end': 76.324, 'score': 0.617}, {'word': 'on', 'start': 76.384, 'end': 76.444, 'score': 0.928}, {'word': 'the', 'start': 76.464, 'end': 76.544, 'score': 0.851}, {'word': 'land', 'start': 76.564, 'end': 76.745, 'score': 0.932}, {'word': 'at', 'start': 76.805, 'end': 76.865, 'score': 0.765}, {'word': 'all.', 'start': 77.005, 'end': 77.085, 'score': 0.995}, {'word': 'You', 'start': 84.244, 'end': 84.424, 'score': 0.65}, {'word': 'see,', 'start': 84.444, 'end': 84.624, 'score': 0.386}, {'word': 'ten', 'start': 84.644, 'end': 84.884, 'score': 0.405}, {'word': 'men', 'start': 84.924, 'end': 85.365, 'score': 0.547}, {'word': 'cut', 'start': 85.385, 'end': 85.585, 'score': 0.716}, {'word': 'it', 'start': 85.605, 'end': 85.705, 'score': 0.347}, {'word': 'at', 'start': 86.285, 'end': 86.385, 'score': 0.58}, {'word': 'three', 'start': 86.405, 'end': 86.585, 'score': 0.79}, {'word': 'and', 'start': 86.645, 'end': 86.785, 'score': 0.529}, {'word': 'six', 'start': 86.805, 'end': 87.005, 'score': 0.69}, {'word': 'months', 'start': 87.045, 'end': 87.245, 'score': 0.373}, {'word': 'a', 'start': 87.305, 'end': 87.365, 'score': 0.75}, {'word': 'day.', 'start': 87.385, 'end': 87.646, 'score': 0.598}, {'word': 'Do', 'start': 88.146, 'end': 88.346, 'score': 0.72}, {'word': 'you', 'start': 88.466, 'end': 88.586, 'score': 0.651}, {'word': 'remember', 'start': 88.606, 'end': 89.086, 'score': 0.689}, {'word': 'cutting', 'start': 91.427, 'end': 91.667, 'score': 0.945}, {'word': 'the', 'start': 91.687, 'end': 91.767, 'score': 0.79}, {'word': 'harvest', 'start': 91.807, 'end': 92.128, 'score': 0.783}, {'word': 'with', 'start': 92.148, 'end': 92.248, 'score': 0.86}, {'word': 'the', 'start': 92.268, 'end': 92.328, 'score': 0.577}, {'word': 'reaping', 'start': 92.368, 'end': 92.608, 'score': 0.629}, {'word': 'hook?', 'start': 92.628, 'end': 92.828, 'score': 0.862}, {'word': 'Oh,', 'start': 93.068, 'end': 93.248, 'score': 0.676}, {'word': 'all', 'start': 93.328, 'end': 93.568, 'score': 0.591}, {'word': 'of', 'start': 93.648, 'end': 94.008, 'score': 0.7}, {'word': 'it.', 'start': 94.088, 'end': 94.188, 'score': 0.558}, {'word': 'Of', 'start': 94.228, 'end': 94.429, 'score': 0.576}, {'word': 'course,', 'start': 95.389, 'end': 95.689, 'score': 0.517}, {'word': 'for', 'start': 96.77, 'end': 96.99, 'score': 0.867}, {'word': 'years', 'start': 97.07, 'end': 97.41, 'score': 0.853}, {'word': 'and', 'start': 97.49, 'end': 97.59, 'score': 0.674}, {'word': 'years', 'start': 97.63, 'end': 97.97, 'score': 0.753}, {'word': 'and', 'start': 98.05, 'end': 98.13, 'score': 0.739}, {'word': 'years,', 'start': 98.17, 'end': 98.37, 'score': 0.409}, {'word': 'nothing', 'start': 98.41, 'end': 98.63, 'score': 0.381}, {'word': 'else', 'start': 98.69, 'end': 98.77, 'score': 0.186}, {'word': 'about', 'start': 98.85, 'end': 99.111, 'score': 0.621}, {'word': 'cutting.', 'start': 99.131, 'end': 99.431, 'score': 0.511}, {'word': 'And', 'start': 99.911, 'end': 99.991, 'score': 0.895}, {'word': 'how', 'start': 100.551, 'end': 100.691, 'score': 0.973}, {'word': 'do', 'start': 100.731, 'end': 100.811, 'score': 0.734}, {'word': 'you', 'start': 100.851, 'end': 100.951, 'score': 0.781}, {'word': 'think', 'start': 100.971, 'end': 101.151, 'score': 0.997}, {'word': 'that', 'start': 101.212, 'end': 101.352, 'score': 0.812}, {'word': 'the', 'start': 101.372, 'end': 101.452, 'score': 0.957}, {'word': 'reaping', 'start': 101.512, 'end': 101.772, 'score': 0.661}, {'word': 'hook', 'start': 101.792, 'end': 101.952, 'score': 0.9}, {'word': 'compares', 'start': 101.992, 'end': 102.372, 'score': 0.856}, {'word': 'with', 'start': 102.412, 'end': 102.512, 'score': 0.877}, {'word': 'the', 'start': 102.532, 'end': 102.592, 'score': 0.816}, {'word': 'combine', 'start': 102.632, 'end': 103.032, 'score': 0.824}, {'word': 'at', 'start': 103.052, 'end': 103.092, 'score': 0.145}, {'word': 'the', 'start': 103.132, 'end': 103.192, 'score': 0.965}, {'word': 'present', 'start': 103.212, 'end': 103.452, 'score': 0.983}, {'word': 'time?', 'start': 103.473, 'end': 103.693, 'score': 0.719}, {'word': 'Oh,', 'start': 104.173, 'end': 104.273, 'score': 0.536}, {'word': 'well,', 'start': 104.313, 'end': 104.453, 'score': 0.604}, {'word': \"there's\", 'start': 104.473, 'end': 104.793, 'score': 0.346}, {'word': 'an', 'start': 104.813, 'end': 104.853, 'score': 0.5}, {'word': 'awful', 'start': 104.913, 'end': 105.213, 'score': 0.561}, {'word': 'difference.', 'start': 105.253, 'end': 105.693, 'score': 0.573}, {'word': 'An', 'start': 107.354, 'end': 107.474, 'score': 0.847}, {'word': 'awful', 'start': 107.554, 'end': 107.934, 'score': 0.682}, {'word': 'difference', 'start': 107.954, 'end': 108.275, 'score': 0.521}, {'word': 'I', 'start': 108.375, 'end': 108.455, 'score': 0.766}, {'word': 'see', 'start': 108.475, 'end': 108.655, 'score': 0.544}, {'word': 'anywhere.', 'start': 108.715, 'end': 109.055, 'score': 0.437}, {'word': 'Because', 'start': 110.498, 'end': 110.758, 'score': 0.286}, {'word': 'if', 'start': 110.798, 'end': 110.858, 'score': 0.138}, {'word': 'you', 'start': 110.878, 'end': 110.978, 'score': 0.479}, {'word': \"couldn't\", 'start': 111.018, 'end': 111.199, 'score': 0.293}, {'word': 'find', 'start': 111.219, 'end': 111.419, 'score': 0.639}, {'word': 'it,', 'start': 111.439, 'end': 111.479, 'score': 0.052}, {'word': 'if', 'start': 111.499, 'end': 111.559, 'score': 0.374}, {'word': 'you', 'start': 111.579, 'end': 111.739, 'score': 0.382}, {'word': \"wouldn't\", 'start': 111.779, 'end': 112.079, 'score': 0.388}, {'word': 'want', 'start': 112.099, 'end': 112.299, 'score': 0.554}, {'word': 'it,', 'start': 112.359, 'end': 112.48, 'score': 0.576}, {'word': 'start', 'start': 112.52, 'end': 112.82, 'score': 0.593}, {'word': 'to', 'start': 112.84, 'end': 112.9, 'score': 0.235}, {'word': 'put', 'start': 112.92, 'end': 113.0, 'score': 0.159}, {'word': 'it', 'start': 113.02, 'end': 113.1, 'score': 0.562}, {'word': 'there,', 'start': 113.12, 'end': 113.4, 'score': 0.552}, {'word': 'if', 'start': 113.981, 'end': 114.061, 'score': 0.685}, {'word': 'you', 'start': 114.081, 'end': 114.221, 'score': 0.394}, {'word': 'put', 'start': 114.261, 'end': 114.481, 'score': 0.704}, {'word': 'it', 'start': 114.661, 'end': 114.881, 'score': 0.6}, {'word': 'on', 'start': 114.901, 'end': 115.021, 'score': 0.694}, {'word': 'the', 'start': 115.041, 'end': 115.102, 'score': 0.015}, {'word': 'vine,', 'start': 115.122, 'end': 115.202, 'score': 0.042}, {'word': 'there', 'start': 115.222, 'end': 115.342, 'score': 0.234}, {'word': \"wouldn't\", 'start': 115.362, 'end': 115.582, 'score': 0.734}, {'word': 'be', 'start': 115.602, 'end': 115.682, 'score': 0.892}, {'word': 'no', 'start': 115.762, 'end': 115.962, 'score': 0.65}, {'word': 'mice.', 'start': 116.002, 'end': 116.242, 'score': 0.437}, {'word': 'Now,', 'start': 116.743, 'end': 116.923, 'score': 0.817}, {'word': 'you', 'start': 117.143, 'end': 117.323, 'score': 0.937}, {'word': 'also', 'start': 117.463, 'end': 117.904, 'score': 0.962}, {'word': 'remember,', 'start': 118.164, 'end': 118.604, 'score': 0.875}, {'word': 'I', 'start': 118.664, 'end': 118.724, 'score': 0.693}, {'word': 'think,', 'start': 118.764, 'end': 119.065, 'score': 0.95}, {'word': 'a', 'start': 119.145, 'end': 119.205, 'score': 0.754}, {'word': 'rather', 'start': 119.245, 'end': 119.485, 'score': 0.953}, {'word': 'historic', 'start': 119.605, 'end': 120.085, 'score': 0.847}, {'word': 'thing', 'start': 120.145, 'end': 120.446, 'score': 0.91}, {'word': 'in', 'start': 120.726, 'end': 120.846, 'score': 0.893}, {'word': 'the', 'start': 121.286, 'end': 121.386, 'score': 0.943}, {'word': 'land', 'start': 121.426, 'end': 121.707, 'score': 0.852}, {'word': 'history', 'start': 121.747, 'end': 122.047, 'score': 0.831}, {'word': 'of', 'start': 122.067, 'end': 122.127, 'score': 0.758}, {'word': 'this', 'start': 122.167, 'end': 122.287, 'score': 0.88}, {'word': 'country,', 'start': 122.347, 'end': 122.727, 'score': 0.903}, {'word': 'the', 'start': 122.787, 'end': 122.927, 'score': 0.943}, {'word': 'Bowdike', 'start': 123.028, 'end': 124.088, 'score': 0.746}, {'word': 'evictions.', 'start': 124.168, 'end': 124.629, 'score': 0.853}, {'word': 'I', 'start': 124.889, 'end': 124.969, 'score': 0.832}, {'word': 'remember.', 'start': 125.029, 'end': 126.27, 'score': 0.469}, {'word': 'Could', 'start': 126.49, 'end': 126.61, 'score': 0.955}, {'word': 'you', 'start': 126.65, 'end': 126.73, 'score': 0.764}, {'word': 'describe', 'start': 126.77, 'end': 127.191, 'score': 0.677}, {'word': 'for', 'start': 127.211, 'end': 127.351, 'score': 0.934}, {'word': 'us', 'start': 127.411, 'end': 127.511, 'score': 0.708}, {'word': 'what', 'start': 127.911, 'end': 128.071, 'score': 0.886}, {'word': 'happened', 'start': 128.131, 'end': 128.452, 'score': 0.861}, {'word': 'at', 'start': 128.592, 'end': 128.672, 'score': 0.79}, {'word': 'those', 'start': 128.692, 'end': 128.892, 'score': 0.867}, {'word': 'evictions?', 'start': 128.932, 'end': 129.252, 'score': 0.867}, {'word': 'You', 'start': 129.292, 'end': 129.372, 'score': 0.997}, {'word': 'were', 'start': 129.412, 'end': 129.532, 'score': 0.778}, {'word': 'at', 'start': 129.593, 'end': 129.673, 'score': 0.688}, {'word': 'them.', 'start': 129.693, 'end': 129.833, 'score': 0.635}, {'word': 'I', 'start': 130.113, 'end': 130.173, 'score': 0.233}, {'word': 'was', 'start': 130.193, 'end': 130.313, 'score': 0.379}, {'word': 'at', 'start': 130.373, 'end': 130.473, 'score': 0.576}, {'word': 'one', 'start': 130.553, 'end': 130.653, 'score': 0.706}, {'word': 'of', 'start': 130.713, 'end': 130.773, 'score': 0.804}, {'word': 'them', 'start': 130.793, 'end': 131.014, 'score': 0.558}, {'word': 'about', 'start': 132.335, 'end': 132.655, 'score': 0.776}, {'word': 'five', 'start': 132.735, 'end': 133.415, 'score': 0.711}, {'word': 'hours.', 'start': 135.017, 'end': 135.997, 'score': 0.535}, {'word': 'And', 'start': 136.318, 'end': 136.398, 'score': 0.918}, {'word': 'what', 'start': 136.438, 'end': 136.598, 'score': 0.931}, {'word': 'happened?', 'start': 136.618, 'end': 136.918, 'score': 0.927}, {'word': 'Ah,', 'start': 137.478, 'end': 138.259, 'score': 0.656}, {'word': 'that', 'start': 138.499, 'end': 138.619, 'score': 0.523}, {'word': 'was', 'start': 138.659, 'end': 138.759, 'score': 0.395}, {'word': 'very', 'start': 138.799, 'end': 138.96, 'score': 0.914}, {'word': 'cruel.', 'start': 139.02, 'end': 139.26, 'score': 0.915}, {'word': 'They', 'start': 140.526, 'end': 140.646, 'score': 0.623}, {'word': 'throw', 'start': 140.686, 'end': 141.066, 'score': 0.666}, {'word': 'children', 'start': 141.806, 'end': 142.146, 'score': 0.579}, {'word': 'and', 'start': 142.206, 'end': 142.306, 'score': 0.77}, {'word': 'women', 'start': 142.346, 'end': 142.626, 'score': 0.927}, {'word': 'on', 'start': 142.686, 'end': 142.766, 'score': 0.413}, {'word': 'the', 'start': 142.786, 'end': 142.886, 'score': 0.71}, {'word': 'roadside.', 'start': 142.906, 'end': 143.347, 'score': 0.563}, {'word': 'Well,', 'start': 143.707, 'end': 143.847, 'score': 0.535}, {'word': 'there', 'start': 143.867, 'end': 144.007, 'score': 0.92}, {'word': 'was', 'start': 144.047, 'end': 144.147, 'score': 0.837}, {'word': 'one', 'start': 144.247, 'end': 144.347, 'score': 0.93}, {'word': 'of', 'start': 144.367, 'end': 144.407, 'score': 0.001}, {'word': 'them', 'start': 144.427, 'end': 144.507, 'score': 0.002}, {'word': 'thrown', 'start': 144.547, 'end': 144.827, 'score': 0.864}, {'word': 'out,', 'start': 144.887, 'end': 145.027, 'score': 0.54}, {'word': 'but', 'start': 145.067, 'end': 145.327, 'score': 0.631}, {'word': 'one', 'start': 145.427, 'end': 145.527, 'score': 0.9}, {'word': 'day', 'start': 145.547, 'end': 145.727, 'score': 0.779}, {'word': 'I', 'start': 145.807, 'end': 145.907, 'score': 0.562}, {'word': 'was', 'start': 145.927, 'end': 146.047, 'score': 0.539}, {'word': 'in', 'start': 146.107, 'end': 146.167, 'score': 0.492}, {'word': 'it,', 'start': 146.227, 'end': 146.307, 'score': 0.416}, {'word': 'and', 'start': 146.907, 'end': 146.987, 'score': 0.781}, {'word': 'the', 'start': 147.027, 'end': 147.127, 'score': 0.771}, {'word': 'baby', 'start': 147.167, 'end': 147.507, 'score': 0.918}, {'word': 'was', 'start': 147.547, 'end': 147.727, 'score': 0.791}, {'word': 'only', 'start': 147.807, 'end': 148.047, 'score': 0.947}, {'word': 'about', 'start': 148.067, 'end': 148.327, 'score': 0.657}, {'word': 'three', 'start': 148.347, 'end': 148.547, 'score': 0.774}, {'word': 'days', 'start': 148.587, 'end': 148.807, 'score': 0.68}, {'word': 'old.', 'start': 148.967, 'end': 149.128, 'score': 0.618}, {'word': 'And', 'start': 149.768, 'end': 149.848, 'score': 0.84}, {'word': 'they', 'start': 149.868, 'end': 149.988, 'score': 0.732}, {'word': 'were', 'start': 150.028, 'end': 150.128, 'score': 0.407}, {'word': 'sitting,', 'start': 150.148, 'end': 150.468, 'score': 0.614}, {'word': 'they', 'start': 150.768, 'end': 150.888, 'score': 0.794}, {'word': 'were', 'start': 150.928, 'end': 151.048, 'score': 0.533}, {'word': 'thrown', 'start': 151.068, 'end': 151.288, 'score': 0.509}, {'word': 'on', 'start': 151.328, 'end': 151.408, 'score': 0.48}, {'word': 'the', 'start': 151.448, 'end': 151.548, 'score': 0.555}, {'word': 'bank', 'start': 151.568, 'end': 151.748, 'score': 0.878}, {'word': 'of', 'start': 151.808, 'end': 151.868, 'score': 0.307}, {'word': 'the', 'start': 151.888, 'end': 152.028, 'score': 0.268}, {'word': 'river,', 'start': 152.048, 'end': 152.708, 'score': 0.194}, {'word': 'and', 'start': 152.728, 'end': 152.848, 'score': 0.413}, {'word': 'they', 'start': 152.868, 'end': 152.988, 'score': 0.172}, {'word': 'went', 'start': 153.008, 'end': 153.088, 'score': 0.014}, {'word': 'off', 'start': 153.108, 'end': 153.188, 'score': 0.227}, {'word': 'on', 'start': 153.208, 'end': 153.268, 'score': 0.322}, {'word': 'their', 'start': 153.308, 'end': 153.448, 'score': 0.255}, {'word': 'legs.', 'start': 153.468, 'end': 153.728, 'score': 0.534}, {'word': 'Oh,', 'start': 155.149, 'end': 155.189, 'score': 0.012}, {'word': 'that', 'start': 155.209, 'end': 155.329, 'score': 0.181}, {'word': 'was', 'start': 155.349, 'end': 155.509, 'score': 0.551}, {'word': 'cruel.', 'start': 155.529, 'end': 155.869, 'score': 0.734}, {'word': 'And', 'start': 156.829, 'end': 156.929, 'score': 0.852}, {'word': 'how', 'start': 156.989, 'end': 157.149, 'score': 0.97}, {'word': 'about', 'start': 157.189, 'end': 157.449, 'score': 0.908}, {'word': 'the', 'start': 157.489, 'end': 157.689, 'score': 0.835}, {'word': 'type', 'start': 160.069, 'end': 160.289, 'score': 0.537}, {'word': 'of', 'start': 160.309, 'end': 160.349, 'score': 0.01}, {'word': 'food', 'start': 160.409, 'end': 160.65, 'score': 0.871}, {'word': 'you', 'start': 160.67, 'end': 160.79, 'score': 0.901}, {'word': 'had', 'start': 160.81, 'end': 160.91, 'score': 0.945}, {'word': 'to', 'start': 160.95, 'end': 161.03, 'score': 0.744}, {'word': 'eat', 'start': 161.09, 'end': 161.21, 'score': 0.904}, {'word': 'at', 'start': 161.25, 'end': 161.29, 'score': 0.946}, {'word': 'that', 'start': 161.33, 'end': 161.45, 'score': 0.862}, {'word': 'time,', 'start': 161.49, 'end': 161.67, 'score': 0.916}, {'word': 'Mr.', 'start': 161.71, 'end': 161.89, 'score': 0.522}, {'word': 'Fitzpatrick?', 'start': 161.91, 'end': 162.35, 'score': 0.454}, {'word': 'What', 'start': 162.37, 'end': 162.53, 'score': 0.866}, {'word': 'sort', 'start': 162.55, 'end': 162.73, 'score': 0.802}, {'word': 'of,', 'start': 162.75, 'end': 162.81, 'score': 0.692}, {'word': 'what', 'start': 163.07, 'end': 163.19, 'score': 0.862}, {'word': 'did', 'start': 163.21, 'end': 163.29, 'score': 0.438}, {'word': 'you', 'start': 163.31, 'end': 163.41, 'score': 0.252}, {'word': 'live', 'start': 163.43, 'end': 163.55, 'score': 0.927}, {'word': 'on?', 'start': 163.63, 'end': 163.71, 'score': 0.904}, {'word': 'Well,', 'start': 163.87, 'end': 164.47, 'score': 0.587}, {'word': 'we', 'start': 164.75, 'end': 164.89, 'score': 0.976}, {'word': 'had', 'start': 164.93, 'end': 165.05, 'score': 0.821}, {'word': 'to', 'start': 165.07, 'end': 165.21, 'score': 0.608}, {'word': 'live', 'start': 165.23, 'end': 165.75, 'score': 0.512}, {'word': 'there', 'start': 165.79, 'end': 165.99, 'score': 0.808}, {'word': 'a', 'start': 166.03, 'end': 166.07, 'score': 0.924}, {'word': 'long', 'start': 166.09, 'end': 166.311, 'score': 0.856}, {'word': 'time', 'start': 166.331, 'end': 166.571, 'score': 0.552}, {'word': 'on', 'start': 167.071, 'end': 167.191, 'score': 0.272}, {'word': 'an', 'start': 167.231, 'end': 167.291, 'score': 0.642}, {'word': 'Indian', 'start': 167.351, 'end': 167.651, 'score': 0.748}, {'word': 'maid', 'start': 167.671, 'end': 167.971, 'score': 0.706}, {'word': 'and', 'start': 168.211, 'end': 168.331, 'score': 0.815}, {'word': 'flowers.', 'start': 168.451, 'end': 168.771, 'score': 0.543}]\n"
          ]
        }
      ],
      "source": [
        "print(\"Transcription after Forced Alignment with Wav2Vec2.0:\")\n",
        "print(word_timestamps)"
      ]
    },
    {
      "cell_type": "markdown",
      "metadata": {
        "id": "EykjKgJnlvJp"
      },
      "source": [
        "<img src=\"https://learnopencv.com/wp-content/uploads/2024/05/ASRDiarization-Automatic-Speech-Recognition.jpg\">"
      ]
    },
    {
      "cell_type": "markdown",
      "metadata": {
        "id": "P2l3cNnnzuz3"
      },
      "source": [
        "## **NEMO: DIARIZATION PIPELINE**\n",
        "\n",
        "Now let’s understand the Nemo inference  pipeline and configuration. The input audio is passed to a  MarbleNet VAD model which helps to find the occurrence of voice as timestamps. Following this it's passed to a TitatNet model which does speaker extraction as embeddings. Finally a MSDD model adeptly does speaker diarization with exact timestamps with milliseconds precision. Now let’s describe these one by one in code implementation.\n"
      ]
    },
    {
      "cell_type": "markdown",
      "metadata": {
        "id": "iw8tyL9KZ8Ts"
      },
      "source": [
        "**Nemo Models Configuration**\n",
        "\n",
        "Ok, it's time to define configuration for Nemo, so the create_config  utility function is used to set up the environment for speaker diarization. As we are processing a support call in our experiment , this fetches a YAML configuration file and it downloads a pre-configured model from NVIDIA's NeMo project that is optimized for telephonic or phone call audio. Finally, it generates a JSON manifest file. This manifest file contains metadata about the audio file that needs to be processed, like the file path and name.\n",
        "\n",
        "If you want to try other audio samples, like online meetings or general conversations, feel free to change the domain type accordingly in the configuration.\n"
      ]
    },
    {
      "cell_type": "markdown",
      "metadata": {
        "id": "kycqUIVpyj2a"
      },
      "source": [
        "#### **VAD Configuration**\n",
        "\n",
        "\n",
        "Voice Activity Detection (VAD) is the detection of the presence or absence of human speech for a particular timestamp which is helpful in diarization.\n",
        "As discussed initially, we will use a lightweight vad_multilingual_marblenet having trained on Google Speech Command v2 dataset offering robust and real time VAD.\n",
        "\n",
        "For our tasks which require speaker verification and to capture the essence of the speaker's voice, TitaNet-Large model is used. It uses 1D depth-wise separable convolutions enhanced with Squeeze-and-Excitation (SE) layers and a channel attention-based statistics pooling layer. This architecture efficiently converts variable-length speech utterances into fixed-length speaker embeddings.\n"
      ]
    },
    {
      "cell_type": "markdown",
      "metadata": {
        "id": "4WFtUTxgaKWG"
      },
      "source": [
        "Additionally, we will configure our  system, that not to assume a fixed number of speakers (`config.diarizer.clustering.parameters.oracle_num_speakers = False`), allowing it to dynamically adapt to the actual number of speakers in each audio session.\n",
        "\n",
        "Then we will specify the `config.diarizer.vad.model_path`, which is a pretrained model that optimizes voice activity detection with onset sensitivity set at `0.8` and offset at `0.6`. These settings enhance the VAD’s responsiveness, while a `pad_offset` of  `-0.05` fine-tunes segment endpoints for cleaner and more precise speech boundaries.\n",
        "\n"
      ]
    },
    {
      "cell_type": "code",
      "execution_count": 18,
      "metadata": {
        "id": "RSDbckUyyilV"
      },
      "outputs": [],
      "source": [
        "def create_config(output_dir):\n",
        "    DOMAIN_TYPE = \"telephonic\"  # Can be meeting, telephonic, or general based on domain type of the audio file\n",
        "    CONFIG_FILE_NAME = f\"diar_infer_{DOMAIN_TYPE}.yaml\"\n",
        "    CONFIG_URL = f\"https://raw.githubusercontent.com/NVIDIA/NeMo/main/examples/speaker_tasks/diarization/conf/inference/{CONFIG_FILE_NAME}\"\n",
        "    MODEL_CONFIG = os.path.join(output_dir, CONFIG_FILE_NAME)\n",
        "    if not os.path.exists(MODEL_CONFIG):\n",
        "        MODEL_CONFIG = wget.download(CONFIG_URL, output_dir)\n",
        "\n",
        "    config = OmegaConf.load(MODEL_CONFIG)\n",
        "\n",
        "    data_dir = os.path.join(output_dir, \"data\")\n",
        "    os.makedirs(data_dir, exist_ok=True)\n",
        "\n",
        "    meta = {\n",
        "        \"audio_filepath\": os.path.join(output_dir, \"mono_file.wav\"),\n",
        "        \"offset\": 0,\n",
        "        \"duration\": None,\n",
        "        \"label\": \"infer\",\n",
        "        \"text\": \"-\",\n",
        "        \"rttm_filepath\": None,\n",
        "        \"uem_filepath\": None,\n",
        "    }\n",
        "    with open(os.path.join(data_dir, \"input_manifest.json\"), \"w\") as fp:\n",
        "        json.dump(meta, fp)\n",
        "        fp.write(\"\\n\")\n",
        "\n",
        "    pretrained_vad = \"vad_multilingual_marblenet\"\n",
        "    pretrained_speaker_model = \"titanet_large\"\n",
        "    config.num_workers = 0  # Workaround for multiprocessing hanging with ipython issue\n",
        "    config.diarizer.manifest_filepath = os.path.join(data_dir, \"input_manifest.json\")\n",
        "    config.diarizer.out_dir = (\n",
        "        output_dir  # Directory to store intermediate files and prediction outputs\n",
        "    )\n",
        "\n",
        "    config.diarizer.speaker_embeddings.model_path = pretrained_speaker_model\n",
        "    config.diarizer.oracle_vad = (\n",
        "        False  # compute VAD provided with model_path to vad config\n",
        "    )\n",
        "    config.diarizer.clustering.parameters.oracle_num_speakers = False\n",
        "\n",
        "    # Here, we use our in-house pretrained NeMo VAD model\n",
        "    config.diarizer.vad.model_path = pretrained_vad\n",
        "    config.diarizer.vad.parameters.onset = 0.8\n",
        "    config.diarizer.vad.parameters.offset = 0.6\n",
        "    config.diarizer.vad.parameters.pad_offset = -0.05\n",
        "    config.diarizer.msdd_model.model_path = (\n",
        "        \"diar_msdd_telephonic\"  # Telephonic speaker diarization model\n",
        "    )\n",
        "\n",
        "    return config"
      ]
    },
    {
      "cell_type": "markdown",
      "metadata": {
        "id": "deF8dULcaOk7"
      },
      "source": [
        "* This output from VAD is passed to the Titanet model for speaker embedding extraction on multiple scales, which is then clustered to average the multi speaker clusters to pass through next stages in the Nemo pipeline.\n",
        "\n",
        "* **MSDD Configuration**\n",
        "The MSDD (Multiscale Diarization Decoder) model is a sequence model optimized for diarization, using a diligent technique that selectively weighs speaker embeddings at multiple scales. This enhances performance, particularly in transcribing a telephonic speech handling the overlapping speech. It operates on five scales with varying hop lengths to provide flexible temporal resolution, with the default being 0.25 seconds, adjustable for finer detail.\n",
        "\n",
        "\n",
        "* Using Binary Cross entropy loss function, time corresponding speaker labels are identified by the neural Diarizer(MSDD)."
      ]
    },
    {
      "cell_type": "markdown",
      "metadata": {
        "id": "7EEaJPsQ21Rx"
      },
      "source": [
        "### **Convert audio to mono for NeMo compatibility**\n",
        "\n",
        "Further we need to convert our audio file to mono channel for Nemo’s audio processing compatible format using Pydub, as a .wav file to a designated temporary directory,"
      ]
    },
    {
      "cell_type": "code",
      "execution_count": 19,
      "metadata": {
        "colab": {
          "base_uri": "https://localhost:8080/"
        },
        "id": "lq1kviFJoBUK",
        "outputId": "d37ca1ae-39b5-4a3d-e967-dca4fa07ed74"
      },
      "outputs": [
        {
          "output_type": "execute_result",
          "data": {
            "text/plain": [
              "<_io.BufferedRandom name='/content/temp_outputs/mono_file.wav'>"
            ]
          },
          "metadata": {},
          "execution_count": 19
        }
      ],
      "source": [
        "sound = AudioSegment.from_file(vocal_target).set_channels(1)\n",
        "ROOT = os.getcwd()\n",
        "temp_path = os.path.join(ROOT, \"temp_outputs\")\n",
        "os.makedirs(temp_path, exist_ok=True)\n",
        "sound.export(os.path.join(temp_path, \"mono_file.wav\"), format=\"wav\")"
      ]
    },
    {
      "cell_type": "markdown",
      "metadata": {
        "id": "D1gkViCf2-CV"
      },
      "source": [
        "### **Speaker Diarization with MSDD -  Nvidia Nemo Toolkit for ASR**\n",
        "---\n",
        "Next we will initialize the MSDD model with the NeuralDiarizer pipeline.\n"
      ]
    },
    {
      "cell_type": "code",
      "execution_count": 20,
      "metadata": {
        "colab": {
          "base_uri": "https://localhost:8080/"
        },
        "id": "C7jIpBCH02RL",
        "outputId": "2b73e6f4-b290-466c-b1b4-948056c64086"
      },
      "outputs": [
        {
          "output_type": "stream",
          "name": "stdout",
          "text": [
            "[NeMo I 2024-08-20 01:13:48 msdd_models:1092] Loading pretrained diar_msdd_telephonic model from NGC\n",
            "[NeMo I 2024-08-20 01:13:48 cloud:68] Downloading from: https://api.ngc.nvidia.com/v2/models/nvidia/nemo/diar_msdd_telephonic/versions/1.0.1/files/diar_msdd_telephonic.nemo to /root/.cache/torch/NeMo/NeMo_1.22.0/diar_msdd_telephonic/3c3697a0a46f945574fa407149975a13/diar_msdd_telephonic.nemo\n",
            "[NeMo I 2024-08-20 01:13:49 common:913] Instantiating model from pre-trained checkpoint\n"
          ]
        },
        {
          "output_type": "stream",
          "name": "stderr",
          "text": [
            "[NeMo W 2024-08-20 01:13:50 modelPT:161] If you intend to do training or fine-tuning, please call the ModelPT.setup_training_data() method and provide a valid configuration file to setup the train data loader.\n",
            "    Train config : \n",
            "    manifest_filepath: null\n",
            "    emb_dir: null\n",
            "    sample_rate: 16000\n",
            "    num_spks: 2\n",
            "    soft_label_thres: 0.5\n",
            "    labels: null\n",
            "    batch_size: 15\n",
            "    emb_batch_size: 0\n",
            "    shuffle: true\n",
            "    \n",
            "[NeMo W 2024-08-20 01:13:50 modelPT:168] If you intend to do validation, please call the ModelPT.setup_validation_data() or ModelPT.setup_multiple_validation_data() method and provide a valid configuration file to setup the validation data loader(s). \n",
            "    Validation config : \n",
            "    manifest_filepath: null\n",
            "    emb_dir: null\n",
            "    sample_rate: 16000\n",
            "    num_spks: 2\n",
            "    soft_label_thres: 0.5\n",
            "    labels: null\n",
            "    batch_size: 15\n",
            "    emb_batch_size: 0\n",
            "    shuffle: false\n",
            "    \n",
            "[NeMo W 2024-08-20 01:13:50 modelPT:174] Please call the ModelPT.setup_test_data() or ModelPT.setup_multiple_test_data() method and provide a valid configuration file to setup the test data loader(s).\n",
            "    Test config : \n",
            "    manifest_filepath: null\n",
            "    emb_dir: null\n",
            "    sample_rate: 16000\n",
            "    num_spks: 2\n",
            "    soft_label_thres: 0.5\n",
            "    labels: null\n",
            "    batch_size: 15\n",
            "    emb_batch_size: 0\n",
            "    shuffle: false\n",
            "    seq_eval_mode: false\n",
            "    \n"
          ]
        },
        {
          "output_type": "stream",
          "name": "stdout",
          "text": [
            "[NeMo I 2024-08-20 01:13:50 features:289] PADDING: 16\n",
            "[NeMo I 2024-08-20 01:13:50 features:289] PADDING: 16\n",
            "[NeMo I 2024-08-20 01:13:52 save_restore_connector:249] Model EncDecDiarLabelModel was successfully restored from /root/.cache/torch/NeMo/NeMo_1.22.0/diar_msdd_telephonic/3c3697a0a46f945574fa407149975a13/diar_msdd_telephonic.nemo.\n",
            "[NeMo I 2024-08-20 01:13:52 features:289] PADDING: 16\n",
            "[NeMo I 2024-08-20 01:13:52 clustering_diarizer:127] Loading pretrained vad_multilingual_marblenet model from NGC\n",
            "[NeMo I 2024-08-20 01:13:52 cloud:68] Downloading from: https://api.ngc.nvidia.com/v2/models/nvidia/nemo/vad_multilingual_marblenet/versions/1.10.0/files/vad_multilingual_marblenet.nemo to /root/.cache/torch/NeMo/NeMo_1.22.0/vad_multilingual_marblenet/670f425c7f186060b7a7268ba6dfacb2/vad_multilingual_marblenet.nemo\n",
            "[NeMo I 2024-08-20 01:13:53 common:913] Instantiating model from pre-trained checkpoint\n"
          ]
        },
        {
          "output_type": "stream",
          "name": "stderr",
          "text": [
            "[NeMo W 2024-08-20 01:13:53 modelPT:161] If you intend to do training or fine-tuning, please call the ModelPT.setup_training_data() method and provide a valid configuration file to setup the train data loader.\n",
            "    Train config : \n",
            "    manifest_filepath: /manifests/ami_train_0.63.json,/manifests/freesound_background_train.json,/manifests/freesound_laughter_train.json,/manifests/fisher_2004_background.json,/manifests/fisher_2004_speech_sampled.json,/manifests/google_train_manifest.json,/manifests/icsi_all_0.63.json,/manifests/musan_freesound_train.json,/manifests/musan_music_train.json,/manifests/musan_soundbible_train.json,/manifests/mandarin_train_sample.json,/manifests/german_train_sample.json,/manifests/spanish_train_sample.json,/manifests/french_train_sample.json,/manifests/russian_train_sample.json\n",
            "    sample_rate: 16000\n",
            "    labels:\n",
            "    - background\n",
            "    - speech\n",
            "    batch_size: 256\n",
            "    shuffle: true\n",
            "    is_tarred: false\n",
            "    tarred_audio_filepaths: null\n",
            "    tarred_shard_strategy: scatter\n",
            "    augmentor:\n",
            "      shift:\n",
            "        prob: 0.5\n",
            "        min_shift_ms: -10.0\n",
            "        max_shift_ms: 10.0\n",
            "      white_noise:\n",
            "        prob: 0.5\n",
            "        min_level: -90\n",
            "        max_level: -46\n",
            "        norm: true\n",
            "      noise:\n",
            "        prob: 0.5\n",
            "        manifest_path: /manifests/noise_0_1_musan_fs.json\n",
            "        min_snr_db: 0\n",
            "        max_snr_db: 30\n",
            "        max_gain_db: 300.0\n",
            "        norm: true\n",
            "      gain:\n",
            "        prob: 0.5\n",
            "        min_gain_dbfs: -10.0\n",
            "        max_gain_dbfs: 10.0\n",
            "        norm: true\n",
            "    num_workers: 16\n",
            "    pin_memory: true\n",
            "    \n",
            "[NeMo W 2024-08-20 01:13:53 modelPT:168] If you intend to do validation, please call the ModelPT.setup_validation_data() or ModelPT.setup_multiple_validation_data() method and provide a valid configuration file to setup the validation data loader(s). \n",
            "    Validation config : \n",
            "    manifest_filepath: /manifests/ami_dev_0.63.json,/manifests/freesound_background_dev.json,/manifests/freesound_laughter_dev.json,/manifests/ch120_moved_0.63.json,/manifests/fisher_2005_500_speech_sampled.json,/manifests/google_dev_manifest.json,/manifests/musan_music_dev.json,/manifests/mandarin_dev.json,/manifests/german_dev.json,/manifests/spanish_dev.json,/manifests/french_dev.json,/manifests/russian_dev.json\n",
            "    sample_rate: 16000\n",
            "    labels:\n",
            "    - background\n",
            "    - speech\n",
            "    batch_size: 256\n",
            "    shuffle: false\n",
            "    val_loss_idx: 0\n",
            "    num_workers: 16\n",
            "    pin_memory: true\n",
            "    \n",
            "[NeMo W 2024-08-20 01:13:53 modelPT:174] Please call the ModelPT.setup_test_data() or ModelPT.setup_multiple_test_data() method and provide a valid configuration file to setup the test data loader(s).\n",
            "    Test config : \n",
            "    manifest_filepath: null\n",
            "    sample_rate: 16000\n",
            "    labels:\n",
            "    - background\n",
            "    - speech\n",
            "    batch_size: 128\n",
            "    shuffle: false\n",
            "    test_loss_idx: 0\n",
            "    \n"
          ]
        },
        {
          "output_type": "stream",
          "name": "stdout",
          "text": [
            "[NeMo I 2024-08-20 01:13:53 features:289] PADDING: 16\n",
            "[NeMo I 2024-08-20 01:13:53 save_restore_connector:249] Model EncDecClassificationModel was successfully restored from /root/.cache/torch/NeMo/NeMo_1.22.0/vad_multilingual_marblenet/670f425c7f186060b7a7268ba6dfacb2/vad_multilingual_marblenet.nemo.\n",
            "[NeMo I 2024-08-20 01:13:53 msdd_models:864] Multiscale Weights: [1, 1, 1, 1, 1]\n",
            "[NeMo I 2024-08-20 01:13:53 msdd_models:865] Clustering Parameters: {\n",
            "        \"oracle_num_speakers\": false,\n",
            "        \"max_num_speakers\": 8,\n",
            "        \"enhanced_count_thres\": 80,\n",
            "        \"max_rp_threshold\": 0.25,\n",
            "        \"sparse_search_volume\": 30,\n",
            "        \"maj_vote_spk_count\": false,\n",
            "        \"chunk_cluster_count\": 50,\n",
            "        \"embeddings_per_chunk\": 10000\n",
            "    }\n",
            "[NeMo I 2024-08-20 01:13:53 speaker_utils:93] Number of files to diarize: 1\n",
            "[NeMo I 2024-08-20 01:13:53 clustering_diarizer:309] Split long audio file to avoid CUDA memory issue\n"
          ]
        },
        {
          "output_type": "stream",
          "name": "stderr",
          "text": [
            "splitting manifest: 100%|██████████| 1/1 [00:12<00:00, 12.26s/it]"
          ]
        },
        {
          "output_type": "stream",
          "name": "stdout",
          "text": [
            "[NeMo I 2024-08-20 01:14:05 classification_models:273] Perform streaming frame-level VAD\n",
            "[NeMo I 2024-08-20 01:14:05 collections:445] Filtered duration for loading collection is  0.00 hours.\n",
            "[NeMo I 2024-08-20 01:14:05 collections:446] Dataset loaded with 4 items, total duration of  0.05 hours.\n",
            "[NeMo I 2024-08-20 01:14:05 collections:448] # 4 files loaded accounting to # 1 labels\n"
          ]
        },
        {
          "output_type": "stream",
          "name": "stderr",
          "text": [
            "\n",
            "vad: 100%|██████████| 4/4 [00:01<00:00,  2.17it/s]"
          ]
        },
        {
          "output_type": "stream",
          "name": "stdout",
          "text": [
            "[NeMo I 2024-08-20 01:14:07 clustering_diarizer:250] Generating predictions with overlapping input segments\n"
          ]
        },
        {
          "output_type": "stream",
          "name": "stderr",
          "text": [
            "\n",
            "                                                               "
          ]
        },
        {
          "output_type": "stream",
          "name": "stdout",
          "text": [
            "[NeMo I 2024-08-20 01:14:09 clustering_diarizer:262] Converting frame level prediction to speech/no-speech segment in start and end times format.\n"
          ]
        },
        {
          "output_type": "stream",
          "name": "stderr",
          "text": [
            "creating speech segments: 100%|██████████| 1/1 [00:00<00:00,  6.43it/s]"
          ]
        },
        {
          "output_type": "stream",
          "name": "stdout",
          "text": [
            "[NeMo I 2024-08-20 01:14:09 clustering_diarizer:287] Subsegmentation for embedding extraction: scale0, /content/temp_outputs/speaker_outputs/subsegments_scale0.json\n",
            "[NeMo I 2024-08-20 01:14:09 clustering_diarizer:343] Extracting embeddings for Diarization\n",
            "[NeMo I 2024-08-20 01:14:09 collections:445] Filtered duration for loading collection is  0.00 hours.\n",
            "[NeMo I 2024-08-20 01:14:09 collections:446] Dataset loaded with 140 items, total duration of  0.04 hours.\n",
            "[NeMo I 2024-08-20 01:14:09 collections:448] # 140 files loaded accounting to # 1 labels\n"
          ]
        },
        {
          "output_type": "stream",
          "name": "stderr",
          "text": [
            "\n",
            "[1/5] extract embeddings: 100%|██████████| 3/3 [00:00<00:00,  5.17it/s]"
          ]
        },
        {
          "output_type": "stream",
          "name": "stdout",
          "text": [
            "[NeMo I 2024-08-20 01:14:09 clustering_diarizer:389] Saved embedding files to /content/temp_outputs/speaker_outputs/embeddings\n",
            "[NeMo I 2024-08-20 01:14:09 clustering_diarizer:287] Subsegmentation for embedding extraction: scale1, /content/temp_outputs/speaker_outputs/subsegments_scale1.json\n",
            "[NeMo I 2024-08-20 01:14:09 clustering_diarizer:343] Extracting embeddings for Diarization\n",
            "[NeMo I 2024-08-20 01:14:09 collections:445] Filtered duration for loading collection is  0.00 hours.\n",
            "[NeMo I 2024-08-20 01:14:09 collections:446] Dataset loaded with 161 items, total duration of  0.04 hours.\n",
            "[NeMo I 2024-08-20 01:14:09 collections:448] # 161 files loaded accounting to # 1 labels\n"
          ]
        },
        {
          "output_type": "stream",
          "name": "stderr",
          "text": [
            "\n",
            "[2/5] extract embeddings: 100%|██████████| 3/3 [00:00<00:00,  6.63it/s]"
          ]
        },
        {
          "output_type": "stream",
          "name": "stdout",
          "text": [
            "[NeMo I 2024-08-20 01:14:10 clustering_diarizer:389] Saved embedding files to /content/temp_outputs/speaker_outputs/embeddings\n",
            "[NeMo I 2024-08-20 01:14:10 clustering_diarizer:287] Subsegmentation for embedding extraction: scale2, /content/temp_outputs/speaker_outputs/subsegments_scale2.json\n",
            "[NeMo I 2024-08-20 01:14:10 clustering_diarizer:343] Extracting embeddings for Diarization\n",
            "[NeMo I 2024-08-20 01:14:10 collections:445] Filtered duration for loading collection is  0.00 hours.\n",
            "[NeMo I 2024-08-20 01:14:10 collections:446] Dataset loaded with 195 items, total duration of  0.04 hours.\n",
            "[NeMo I 2024-08-20 01:14:10 collections:448] # 195 files loaded accounting to # 1 labels\n"
          ]
        },
        {
          "output_type": "stream",
          "name": "stderr",
          "text": [
            "\n",
            "[3/5] extract embeddings: 100%|██████████| 4/4 [00:00<00:00,  8.09it/s]"
          ]
        },
        {
          "output_type": "stream",
          "name": "stdout",
          "text": [
            "[NeMo I 2024-08-20 01:14:10 clustering_diarizer:389] Saved embedding files to /content/temp_outputs/speaker_outputs/embeddings\n",
            "[NeMo I 2024-08-20 01:14:10 clustering_diarizer:287] Subsegmentation for embedding extraction: scale3, /content/temp_outputs/speaker_outputs/subsegments_scale3.json\n"
          ]
        },
        {
          "output_type": "stream",
          "name": "stderr",
          "text": [
            "\n"
          ]
        },
        {
          "output_type": "stream",
          "name": "stdout",
          "text": [
            "[NeMo I 2024-08-20 01:14:10 clustering_diarizer:343] Extracting embeddings for Diarization\n",
            "[NeMo I 2024-08-20 01:14:10 collections:445] Filtered duration for loading collection is  0.00 hours.\n",
            "[NeMo I 2024-08-20 01:14:10 collections:446] Dataset loaded with 260 items, total duration of  0.05 hours.\n",
            "[NeMo I 2024-08-20 01:14:10 collections:448] # 260 files loaded accounting to # 1 labels\n"
          ]
        },
        {
          "output_type": "stream",
          "name": "stderr",
          "text": [
            "[4/5] extract embeddings: 100%|██████████| 5/5 [00:00<00:00,  8.25it/s]"
          ]
        },
        {
          "output_type": "stream",
          "name": "stdout",
          "text": [
            "[NeMo I 2024-08-20 01:14:11 clustering_diarizer:389] Saved embedding files to /content/temp_outputs/speaker_outputs/embeddings\n",
            "[NeMo I 2024-08-20 01:14:11 clustering_diarizer:287] Subsegmentation for embedding extraction: scale4, /content/temp_outputs/speaker_outputs/subsegments_scale4.json\n",
            "[NeMo I 2024-08-20 01:14:11 clustering_diarizer:343] Extracting embeddings for Diarization\n"
          ]
        },
        {
          "output_type": "stream",
          "name": "stderr",
          "text": [
            "\n"
          ]
        },
        {
          "output_type": "stream",
          "name": "stdout",
          "text": [
            "[NeMo I 2024-08-20 01:14:11 collections:445] Filtered duration for loading collection is  0.00 hours.\n",
            "[NeMo I 2024-08-20 01:14:11 collections:446] Dataset loaded with 395 items, total duration of  0.05 hours.\n",
            "[NeMo I 2024-08-20 01:14:11 collections:448] # 395 files loaded accounting to # 1 labels\n"
          ]
        },
        {
          "output_type": "stream",
          "name": "stderr",
          "text": [
            "[5/5] extract embeddings: 100%|██████████| 7/7 [00:00<00:00,  9.24it/s]"
          ]
        },
        {
          "output_type": "stream",
          "name": "stdout",
          "text": [
            "[NeMo I 2024-08-20 01:14:12 clustering_diarizer:389] Saved embedding files to /content/temp_outputs/speaker_outputs/embeddings\n"
          ]
        },
        {
          "output_type": "stream",
          "name": "stderr",
          "text": [
            "\n",
            "clustering: 100%|██████████| 1/1 [00:01<00:00,  1.10s/it]"
          ]
        },
        {
          "output_type": "stream",
          "name": "stdout",
          "text": [
            "[NeMo I 2024-08-20 01:14:13 clustering_diarizer:464] Outputs are saved in /content/temp_outputs directory\n"
          ]
        },
        {
          "output_type": "stream",
          "name": "stderr",
          "text": [
            "\n",
            "[NeMo W 2024-08-20 01:14:13 der:185] Check if each ground truth RTTMs were present in the provided manifest file. Skipping calculation of Diariazation Error Rate\n"
          ]
        },
        {
          "output_type": "stream",
          "name": "stdout",
          "text": [
            "[NeMo I 2024-08-20 01:14:13 msdd_models:960] Loading embedding pickle file of scale:0 at /content/temp_outputs/speaker_outputs/embeddings/subsegments_scale0_embeddings.pkl\n",
            "[NeMo I 2024-08-20 01:14:13 msdd_models:960] Loading embedding pickle file of scale:1 at /content/temp_outputs/speaker_outputs/embeddings/subsegments_scale1_embeddings.pkl\n",
            "[NeMo I 2024-08-20 01:14:13 msdd_models:960] Loading embedding pickle file of scale:2 at /content/temp_outputs/speaker_outputs/embeddings/subsegments_scale2_embeddings.pkl\n",
            "[NeMo I 2024-08-20 01:14:13 msdd_models:960] Loading embedding pickle file of scale:3 at /content/temp_outputs/speaker_outputs/embeddings/subsegments_scale3_embeddings.pkl\n",
            "[NeMo I 2024-08-20 01:14:13 msdd_models:960] Loading embedding pickle file of scale:4 at /content/temp_outputs/speaker_outputs/embeddings/subsegments_scale4_embeddings.pkl\n",
            "[NeMo I 2024-08-20 01:14:13 msdd_models:938] Loading cluster label file from /content/temp_outputs/speaker_outputs/subsegments_scale4_cluster.label\n",
            "[NeMo I 2024-08-20 01:14:13 collections:761] Filtered duration for loading collection is 0.000000.\n",
            "[NeMo I 2024-08-20 01:14:13 collections:764] Total 1 session files loaded accounting to # 1 audio clips\n"
          ]
        },
        {
          "output_type": "stream",
          "name": "stderr",
          "text": [
            "100%|██████████| 1/1 [00:00<00:00, 10.57it/s]\n"
          ]
        },
        {
          "output_type": "stream",
          "name": "stdout",
          "text": [
            "[NeMo I 2024-08-20 01:14:13 msdd_models:1403]      [Threshold: 0.7000] [use_clus_as_main=False] [diar_window=50]\n",
            "[NeMo I 2024-08-20 01:14:13 speaker_utils:93] Number of files to diarize: 1\n",
            "[NeMo I 2024-08-20 01:14:13 speaker_utils:93] Number of files to diarize: 1\n"
          ]
        },
        {
          "output_type": "stream",
          "name": "stderr",
          "text": [
            "[NeMo W 2024-08-20 01:14:13 der:185] Check if each ground truth RTTMs were present in the provided manifest file. Skipping calculation of Diariazation Error Rate\n"
          ]
        },
        {
          "output_type": "stream",
          "name": "stdout",
          "text": [
            "[NeMo I 2024-08-20 01:14:13 speaker_utils:93] Number of files to diarize: 1\n"
          ]
        },
        {
          "output_type": "stream",
          "name": "stderr",
          "text": [
            "[NeMo W 2024-08-20 01:14:13 der:185] Check if each ground truth RTTMs were present in the provided manifest file. Skipping calculation of Diariazation Error Rate\n"
          ]
        },
        {
          "output_type": "stream",
          "name": "stdout",
          "text": [
            "[NeMo I 2024-08-20 01:14:13 speaker_utils:93] Number of files to diarize: 1\n"
          ]
        },
        {
          "output_type": "stream",
          "name": "stderr",
          "text": [
            "[NeMo W 2024-08-20 01:14:13 der:185] Check if each ground truth RTTMs were present in the provided manifest file. Skipping calculation of Diariazation Error Rate\n"
          ]
        },
        {
          "output_type": "stream",
          "name": "stdout",
          "text": [
            "[NeMo I 2024-08-20 01:14:13 msdd_models:1431]   \n",
            "    \n"
          ]
        }
      ],
      "source": [
        "# Initialize NeMo MSDD diarization model\n",
        "msdd_model = NeuralDiarizer(cfg=create_config(temp_path)).to(\"cuda\")\n",
        "msdd_model.diarize()\n",
        "\n",
        "del msdd_model\n",
        "torch.cuda.empty_cache()"
      ]
    },
    {
      "cell_type": "markdown",
      "metadata": {
        "id": "nn9X_937VOIX"
      },
      "source": [
        "The VAD output is saved as `vad_out.json` and it contains:\n",
        "\n",
        "```\n",
        "{\"audio_filepath\": \"/content/temp_outputs/mono_file.wav\", \"offset\": 1.18, \"duration\": 2.46, \"label\": \"UNK\", \"uniq_id\": \"mono_file\"}\n",
        "{\"audio_filepath\": \"/content/temp_outputs/mono_file.wav\", \"offset\": 4.54, \"duration\": 2.22, \"label\": \"UNK\", \"uniq_id\": \"mono_file\"}\n",
        "\n",
        "```"
      ]
    },
    {
      "cell_type": "markdown",
      "metadata": {
        "id": "4iXinr8dVlvp"
      },
      "source": [
        "Then the embeddings from `TitaNet-L` are stored in `temp_outputs/speaker_outputs/embeddings`"
      ]
    },
    {
      "cell_type": "markdown",
      "metadata": {
        "id": "_TIpi4WAas2Y"
      },
      "source": [
        "At the end of this operation a `temp_outputs/pred_rtmms/mono_file.rtmm` file is saved which contains diarized timestamps as follows:\n",
        "\n",
        "```python\n",
        "SPEAKER mono_file 1   39.660   0.140 <NA> <NA> speaker_0 <NA> <NA>\n",
        "SPEAKER mono_file 1   40.460   1.420 <NA> <NA> speaker_0 <NA> <NA>\n",
        "SPEAKER mono_file 1   42.140   0.140 <NA> <NA> speaker_1 <NA> <NA>\n",
        "SPEAKER mono_file 1   43.180   0.540 <NA> <NA> speaker_1 <NA> <NA>\n",
        "SPEAKER mono_file 1   43.980   0.940 <NA> <NA> speaker_1 <NA> <NA>\n",
        "```"
      ]
    },
    {
      "cell_type": "markdown",
      "metadata": {
        "id": "NmkZYaDAEOAg"
      },
      "source": [
        "#### **Mapping Speakers to Sentences According to Timestamps**\n",
        "\n",
        "As transcribing a customer support conversation involves multiple speakers, we will define a function `get_sentences_speaker_mapping` that constructs a list of sentences from word-level mappings, each tagged with speaker information and timestamps. We will use an NLTK sentence tokenizer to determine when a new sentence starts, either due to a speaker change or because the current sentence(`snt`) has reached a natural break. As it processes each word, the function updates the current sentence or starts a new one, ensuring that each sentence in the output list(`snts`) captures coherent spoken segments, accurately labeled with the correct speaker and timing details.\n"
      ]
    },
    {
      "cell_type": "code",
      "execution_count": 21,
      "metadata": {
        "id": "bjjhi3FNy2yT"
      },
      "outputs": [],
      "source": [
        "def get_sentences_speaker_mapping(word_speaker_mapping, spk_ts):\n",
        "    sentence_checker = nltk.tokenize.PunktSentenceTokenizer().text_contains_sentbreak\n",
        "    s, e, spk = spk_ts[0]\n",
        "    prev_spk = spk\n",
        "\n",
        "    snts = []\n",
        "    snt = {\"speaker\": f\"Speaker {spk}\", \"start_time\": s, \"end_time\": e, \"text\": \"\"}\n",
        "\n",
        "    for wrd_dict in word_speaker_mapping:\n",
        "        wrd, spk = wrd_dict[\"word\"], wrd_dict[\"speaker\"]\n",
        "        s, e = wrd_dict[\"start_time\"], wrd_dict[\"end_time\"]\n",
        "        if spk != prev_spk or sentence_checker(snt[\"text\"] + \" \" + wrd):\n",
        "            snts.append(snt)\n",
        "            snt = {\n",
        "                \"speaker\": f\"Speaker {spk}\",\n",
        "                \"start_time\": s,\n",
        "                \"end_time\": e,\n",
        "                \"text\": \"\",\n",
        "            }\n",
        "        else:\n",
        "            snt[\"end_time\"] = e\n",
        "        snt[\"text\"] += wrd + \" \"\n",
        "        prev_spk = spk\n",
        "\n",
        "    snts.append(snt)\n",
        "    return snts"
      ]
    },
    {
      "cell_type": "markdown",
      "metadata": {
        "id": "SUuogQJUS4TD"
      },
      "source": [
        "Next, the `get_word_ts_anchors`  function is defined which returns a word's timestamp: the end (e) if option is \"end\", the midpoint if \"mid\", or the start (s) by default.\n",
        "\n",
        "Then, the `get_words_speaker_mapping` function maps words to their corresponding speakers based on timing information. At first, we will iterate through word timestamps, adjust their anchor points depending on the chosen `word_anchor_option`, and match them to the closest speaker's time span. Following that, we handle speaker turns by updating the speaker indices and ensuring words at the list's end are correctly assigned to the last speaker. Thus, our result is a list of dictionaries, each containing a word, its start and end times, and the assigned speaker."
      ]
    },
    {
      "cell_type": "code",
      "execution_count": 22,
      "metadata": {
        "id": "EHHWkivc1Iqv"
      },
      "outputs": [],
      "source": [
        "def get_word_ts_anchor(s, e, option=\"start\"):\n",
        "    if option == \"end\":\n",
        "        return e\n",
        "    elif option == \"mid\":\n",
        "        return (s + e) / 2\n",
        "    return s\n",
        "\n",
        "\n",
        "def get_words_speaker_mapping(wrd_ts, spk_ts, word_anchor_option=\"start\"):\n",
        "    s, e, sp = spk_ts[0]\n",
        "    wrd_pos, turn_idx = 0, 0\n",
        "    wrd_spk_mapping = []\n",
        "    for wrd_dict in wrd_ts:\n",
        "        ws, we, wrd = (\n",
        "            int(wrd_dict[\"start\"] * 1000),\n",
        "            int(wrd_dict[\"end\"] * 1000),\n",
        "            wrd_dict[\"word\"],\n",
        "        )\n",
        "        wrd_pos = get_word_ts_anchor(ws, we, word_anchor_option)\n",
        "        while wrd_pos > float(e):\n",
        "            turn_idx += 1\n",
        "            turn_idx = min(turn_idx, len(spk_ts) - 1)\n",
        "            s, e, sp = spk_ts[turn_idx]\n",
        "            if turn_idx == len(spk_ts) - 1:\n",
        "                e = get_word_ts_anchor(ws, we, option=\"end\")\n",
        "        wrd_spk_mapping.append(\n",
        "            {\"word\": wrd, \"start_time\": ws, \"end_time\": we, \"speaker\": sp}\n",
        "        )\n",
        "    return wrd_spk_mapping"
      ]
    },
    {
      "cell_type": "markdown",
      "metadata": {
        "id": "Fcbe666fTAFC"
      },
      "source": [
        "Then, we will read the RTMM file, which is the output from the MSDD Neural Diarizer, to map speaker labels to timestamps and use these mappings to associate speakers with sentences (wsm) based on their start times."
      ]
    },
    {
      "cell_type": "code",
      "execution_count": 23,
      "metadata": {
        "id": "E65LUGQe02zw"
      },
      "outputs": [],
      "source": [
        "# Reading timestamps <> Speaker Labels mapping\n",
        "\n",
        "speaker_ts = []\n",
        "with open(os.path.join(temp_path, \"pred_rttms\", \"mono_file.rttm\"), \"r\") as f:\n",
        "    lines = f.readlines()\n",
        "    for line in lines:\n",
        "        line_list = line.split(\" \")\n",
        "        s = int(float(line_list[5]) * 1000)\n",
        "        e = s + int(float(line_list[8]) * 1000)\n",
        "        speaker_ts.append([s, e, int(line_list[11].split(\"_\")[-1])])\n",
        "\n",
        "wsm = get_words_speaker_mapping(word_timestamps, speaker_ts, \"start\")\n",
        "ssm = get_sentences_speaker_mapping(wsm, speaker_ts)"
      ]
    },
    {
      "cell_type": "markdown",
      "metadata": {
        "id": "zZGK0aURo2MG"
      },
      "source": [
        "## **Utility Functions:**"
      ]
    },
    {
      "cell_type": "markdown",
      "metadata": {
        "id": "xQQPsAQATEom"
      },
      "source": [
        "The `format_timestamp` function converts the WhisperX output timestamps, which are in milliseconds, into an hourly formatted string (hh:mm:ss.sss), ensuring the result is always non-negative."
      ]
    },
    {
      "cell_type": "code",
      "execution_count": 24,
      "metadata": {
        "id": "IjOFh3KJzBCk"
      },
      "outputs": [],
      "source": [
        "def format_timestamp(\n",
        "    milliseconds: float, always_include_hours: bool = False, decimal_marker: str = \".\"\n",
        "):\n",
        "    assert milliseconds >= 0, \"non-negative timestamp expected\"\n",
        "\n",
        "    hours = milliseconds // 3_600_000\n",
        "    milliseconds -= hours * 3_600_000\n",
        "\n",
        "    minutes = milliseconds // 60_000\n",
        "    milliseconds -= minutes * 60_000\n",
        "\n",
        "    seconds = milliseconds // 1_000\n",
        "    milliseconds -= seconds * 1_000\n",
        "\n",
        "    hours_marker = f\"{hours:02d}:\" if always_include_hours or hours > 0 else \"\"\n",
        "    return (\n",
        "        f\"{hours_marker}{minutes:02d}:{seconds:02d}{decimal_marker}{milliseconds:03d}\"\n",
        "    )"
      ]
    },
    {
      "cell_type": "markdown",
      "metadata": {
        "id": "hCCNmHrcTLmg"
      },
      "source": [
        "To save outputs a transcript to a file in SRT format,  the `write_srt` utility formats timestamps and text content for each segment and appropriately handles special characters in dialogue."
      ]
    },
    {
      "cell_type": "code",
      "execution_count": 25,
      "metadata": {
        "id": "IaT_OZLpzDCF"
      },
      "outputs": [],
      "source": [
        "def write_srt(transcript, file):\n",
        "    \"\"\"\n",
        "    Write a transcript to a file in SRT format.\n",
        "\n",
        "    \"\"\"\n",
        "    for i, segment in enumerate(transcript, start=1):\n",
        "        # write srt lines\n",
        "        print(\n",
        "            f\"{i}\\n\"\n",
        "            f\"{format_timestamp(segment['start_time'], always_include_hours=True, decimal_marker=',')} --> \"\n",
        "            f\"{format_timestamp(segment['end_time'], always_include_hours=True, decimal_marker=',')}\\n\"\n",
        "            f\"{segment['speaker']}: {segment['text'].strip().replace('-->', '->')}\\n\",\n",
        "            file=file,\n",
        "            flush=True,\n",
        "        )"
      ]
    },
    {
      "cell_type": "markdown",
      "metadata": {
        "id": "pQigaN4hTPDr"
      },
      "source": [
        "After processing the speaker information, finally this generates an SRT-formatted transcript with speaker labels."
      ]
    },
    {
      "cell_type": "code",
      "execution_count": 26,
      "metadata": {
        "id": "GS7hhT_Fptrl"
      },
      "outputs": [],
      "source": [
        "with open(f\"{os.path.splitext(audio_path)[0]}.srt\", \"w\", encoding=\"utf-8-sig\") as srt:\n",
        "    write_srt(ssm, srt)"
      ]
    },
    {
      "cell_type": "markdown",
      "metadata": {
        "id": "3IZJ20ImWKlG"
      },
      "source": [
        "**RESULTS**"
      ]
    },
    {
      "cell_type": "markdown",
      "metadata": {
        "id": "2e2GSFeeWRpZ"
      },
      "source": [
        "The srt file contains output transcription results:\n",
        "```\n",
        "\n",
        "00:00:29,810 --> 00:00:33,453\n",
        "Speaker 0: You have seen a lot of changes, Mr Fitzpatrick, in farming.\n",
        "\n",
        "00:00:34,173 --> 00:00:35,655\n",
        "Speaker 0: What would you say was the biggest change?\n",
        "\n",
        "00:00:36,195 --> 00:00:36,996\n",
        "Speaker 1: Well, machinery.\n",
        "\n",
        "00:00:37,956 --> 00:00:41,879\n",
        "Speaker 0: And what sort of a machine would you think made the biggest impression?\n",
        "\n",
        "00:00:42,139 --> 00:00:50,226\n",
        "Speaker 1: Well, the reaper and binder is a great one, but by God, the one for cutting up the ground and throwing the crop is a powerful one too.\n",
        "\n",
        "```"
      ]
    },
    {
      "cell_type": "markdown",
      "metadata": {
        "id": "jbsUt3SwyhjD"
      },
      "source": [
        "## **Helper Functions:- Alignment with Punctuations**"
      ]
    },
    {
      "cell_type": "code",
      "execution_count": 27,
      "metadata": {
        "id": "1Swxnve8ys0M"
      },
      "outputs": [],
      "source": [
        "punct_model_langs = [\n",
        "    \"en\",\n",
        "    \"fr\",\n",
        "    \"de\",\n",
        "    \"es\",\n",
        "    \"it\",\n",
        "    \"nl\",\n",
        "    \"pt\",\n",
        "    \"bg\",\n",
        "    \"pl\",\n",
        "    \"cs\",\n",
        "    \"sk\",\n",
        "    \"sl\",\n",
        "\n",
        "]\n",
        "\n",
        "sentence_ending_punctuations = \".?!\""
      ]
    },
    {
      "cell_type": "code",
      "execution_count": 28,
      "metadata": {
        "id": "J0xrFPKOyvet"
      },
      "outputs": [],
      "source": [
        "def get_first_word_idx_of_sentence(word_idx, word_list, speaker_list, max_words):\n",
        "    is_word_sentence_end = (\n",
        "        lambda x: x >= 0 and word_list[x][-1] in sentence_ending_punctuations\n",
        "    )\n",
        "    left_idx = word_idx\n",
        "    while (\n",
        "        left_idx > 0\n",
        "        and word_idx - left_idx < max_words\n",
        "        and speaker_list[left_idx - 1] == speaker_list[left_idx]\n",
        "        and not is_word_sentence_end(left_idx - 1)\n",
        "    ):\n",
        "        left_idx -= 1\n",
        "\n",
        "    return left_idx if left_idx == 0 or is_word_sentence_end(left_idx - 1) else -1\n",
        "\n",
        "\n",
        "def get_last_word_idx_of_sentence(word_idx, word_list, max_words):\n",
        "    is_word_sentence_end = (\n",
        "        lambda x: x >= 0 and word_list[x][-1] in sentence_ending_punctuations\n",
        "    )\n",
        "    right_idx = word_idx\n",
        "    while (\n",
        "        right_idx < len(word_list)\n",
        "        and right_idx - word_idx < max_words\n",
        "        and not is_word_sentence_end(right_idx)\n",
        "    ):\n",
        "        right_idx += 1\n",
        "\n",
        "    return (\n",
        "        right_idx\n",
        "        if right_idx == len(word_list) - 1 or is_word_sentence_end(right_idx)\n",
        "        else -1\n",
        "    )"
      ]
    },
    {
      "cell_type": "code",
      "execution_count": 29,
      "metadata": {
        "id": "LOkLeLjSyznP"
      },
      "outputs": [],
      "source": [
        "def get_realigned_ws_mapping_with_punctuation(\n",
        "    word_speaker_mapping, max_words_in_sentence=50\n",
        "):\n",
        "    is_word_sentence_end = (\n",
        "        lambda x: x >= 0\n",
        "        and word_speaker_mapping[x][\"word\"][-1] in sentence_ending_punctuations\n",
        "    )\n",
        "    wsp_len = len(word_speaker_mapping)\n",
        "\n",
        "    words_list, speaker_list = [], []\n",
        "    for k, line_dict in enumerate(word_speaker_mapping):\n",
        "        word, speaker = line_dict[\"word\"], line_dict[\"speaker\"]\n",
        "        words_list.append(word)\n",
        "        speaker_list.append(speaker)\n",
        "\n",
        "    k = 0\n",
        "    while k < len(word_speaker_mapping):\n",
        "        line_dict = word_speaker_mapping[k]\n",
        "        if (\n",
        "            k < wsp_len - 1\n",
        "            and speaker_list[k] != speaker_list[k + 1]\n",
        "            and not is_word_sentence_end(k)\n",
        "        ):\n",
        "            left_idx = get_first_word_idx_of_sentence(\n",
        "                k, words_list, speaker_list, max_words_in_sentence\n",
        "            )\n",
        "            right_idx = (\n",
        "                get_last_word_idx_of_sentence(\n",
        "                    k, words_list, max_words_in_sentence - k + left_idx - 1\n",
        "                )\n",
        "                if left_idx > -1\n",
        "                else -1\n",
        "            )\n",
        "            if min(left_idx, right_idx) == -1:\n",
        "                k += 1\n",
        "                continue\n",
        "\n",
        "            spk_labels = speaker_list[left_idx : right_idx + 1]\n",
        "            mod_speaker = max(set(spk_labels), key=spk_labels.count)\n",
        "            if spk_labels.count(mod_speaker) < len(spk_labels) // 2:\n",
        "                k += 1\n",
        "                continue\n",
        "\n",
        "            speaker_list[left_idx : right_idx + 1] = [mod_speaker] * (\n",
        "                right_idx - left_idx + 1\n",
        "            )\n",
        "            k = right_idx\n",
        "\n",
        "        k += 1\n",
        "\n",
        "    k, realigned_list = 0, []\n",
        "    while k < len(word_speaker_mapping):\n",
        "        line_dict = word_speaker_mapping[k].copy()\n",
        "        line_dict[\"speaker\"] = speaker_list[k]\n",
        "        realigned_list.append(line_dict)\n",
        "        k += 1\n",
        "\n",
        "    return realigned_list"
      ]
    },
    {
      "cell_type": "code",
      "execution_count": 30,
      "metadata": {
        "id": "APWEg7xey9TV"
      },
      "outputs": [],
      "source": [
        "def get_speaker_aware_transcript(sentences_speaker_mapping, f):\n",
        "    previous_speaker = sentences_speaker_mapping[0][\"speaker\"]\n",
        "    f.write(f\"{previous_speaker}: \")\n",
        "\n",
        "    for sentence_dict in sentences_speaker_mapping:\n",
        "        speaker = sentence_dict[\"speaker\"]\n",
        "        sentence = sentence_dict[\"text\"]\n",
        "\n",
        "        # If this speaker doesn't match the previous one, start a new paragraph\n",
        "        if speaker != previous_speaker:\n",
        "            f.write(f\"\\n\\n{speaker}: \")\n",
        "            previous_speaker = speaker\n",
        "\n",
        "        # No matter what, write the current sentence\n",
        "        f.write(sentence + \" \")"
      ]
    },
    {
      "cell_type": "markdown",
      "metadata": {
        "id": "sgDrWTh5pvnN"
      },
      "source": [
        "**Optional**"
      ]
    },
    {
      "cell_type": "markdown",
      "metadata": {
        "id": "8Ruxc8S1EXtW"
      },
      "source": [
        "**Realigning Speech segments using Punctuation**\n",
        "\n",
        "---\n",
        "\n",
        "This code provides a method for disambiguating speaker labels in cases where a sentence is split between two different speakers. It uses punctuation markings to determine the dominant speaker for each sentence in the transcription.\n",
        "\n",
        "```\n",
        "Speaker A: It's got to come from somewhere else. Yeah, that one's also fun because you know the lows are\n",
        "Speaker B: going to suck, right? So it's actually it hits you on both sides.\n",
        "```\n",
        "\n",
        "For example, if a sentence is split between two speakers, the code takes the mode of speaker labels for each word in the sentence, and uses that speaker label for the whole sentence. This can help to improve the accuracy of speaker diarization, especially in cases where the Whisper model may not take fine utterances like \"hmm\" and \"yeah\" into account, but the Diarization Model (Nemo) may include them, leading to inconsistent results.\n",
        "\n",
        "The code also handles cases where one speaker is giving a monologue while other speakers are making occasional comments in the background. It ignores the comments and assigns the entire monologue to the speaker who is speaking the majority of the time. This provides a robust and reliable method for realigning speech segments to their respective speakers based on punctuation in the transcription."
      ]
    },
    {
      "cell_type": "code",
      "execution_count": 31,
      "metadata": {
        "id": "jC0tcTetzMQK"
      },
      "outputs": [],
      "source": [
        "def cleanup(path: str):\n",
        "    \"\"\"path could either be relative or absolute.\"\"\"\n",
        "    # check if file or directory exists\n",
        "    if os.path.isfile(path) or os.path.islink(path):\n",
        "        # remove file\n",
        "        os.remove(path)\n",
        "    elif os.path.isdir(path):\n",
        "        # remove directory and all its content\n",
        "        shutil.rmtree(path)\n",
        "    else:\n",
        "        raise ValueError(\"Path {} is not a file or dir.\".format(path))\n"
      ]
    },
    {
      "cell_type": "code",
      "execution_count": 32,
      "metadata": {
        "colab": {
          "base_uri": "https://localhost:8080/",
          "height": 177,
          "referenced_widgets": [
            "8fe0cad249f54486b81195c34251c206",
            "a9ef3d09f7664559bfb5d680c93f974c",
            "1440381b2fc5421abe69f203b212bc2b",
            "e8d5f1279edb4ef5b430c94015898992",
            "1ca0dcb5a33e48c0a2d8722e9642c371",
            "5b311f9f9aa94c8d835417be22370f41",
            "c8b740a48adc4a769a54c1a533b5023c",
            "6934bae1dc714717874818edb229ed39",
            "23c000d3a5b74f24876738ec1353a4ac",
            "de5ffb94059543538072065c40081119",
            "c273d30f2e474a29b78f43fa96a72090",
            "9533579b548344e399ea4b0cb2e936c0",
            "fe40b3f7afd6478e91dbb2c74d3e3dc7",
            "afae46746f7d4756b4398b6c89543eb8",
            "82f9763a4dbb477fbda62bd6a434accd",
            "bf2ad8031d0143feb4037e70affe0a61",
            "79bfa8e52c224b518dd6883f47b8c5a0",
            "5299146786be4edb91dea15310ea1e97",
            "7ceb2bc00c644496b99afef754763f57",
            "4704fdf004da469b85516a04bb058911",
            "3389a1e612844d948cc6951ff714d185",
            "d525561f2e5240bab8c6fc077fcab62a",
            "32adc8d6c7da408e88421412a9d583f2",
            "450c536f94494733bdcd3c3a07571261",
            "dc361593187d409aa0fd4bd7890ad3c5",
            "f09955bdbe914601bc3d67af6c5380aa",
            "c54833402b56480c9113eefd3481fdc8",
            "fb497229c6ca4efd94d17bc20b3a938e",
            "7c98ad3531d0417cb8766ed811d09105",
            "fd267bb7286349a8922707a7ced3eab7",
            "8013669beb444caeab548f9e414d53bb",
            "6dd1d55401d846d38cf94a414d088848",
            "8135d53e693a4b2280e34455c297438d",
            "808e10272df2458bb31ddb67d334a421",
            "cc1f74ee1deb440fab573c613c1864e9",
            "ebf70e0a22234029a3161463da8b3a54",
            "408b75f74a854f449c7baf1480b05b6f",
            "36c7137663744e20bec12a01ecefe760",
            "de3d0280dfd448dc974182aac25e81dc",
            "8787a5d92ac84fc09273fbde7640c4d3",
            "2ef3e82b27fa4f869d6c57bff7cf2589",
            "44338a6d147c4a7987e8ff647f4a43cd",
            "f5924d2e2a7d40d3bc323166476154f0",
            "8eb07a95405544d5b4500629fbe35602",
            "a49685035d7e4b8fa80b56f88ae4e8dd",
            "6e3a9ffdbb8c4c7fbcfce3798ef31171",
            "5363836f01f7451fb864585d0d609711",
            "7c57ebf086154b03b5f499a32fa2a670",
            "0dbead5a62eb40af87f5c9c0a6b474dc",
            "42d11eb236724446946de99c5a58b493",
            "af4d953b86244889b16b1b58c26f3259",
            "ed9d76e02745416dbde9ac56ad17c3c0",
            "f088e29548c8474dba22e65a2cdcd76f",
            "fa6b6e6f181e46d49222c2875ca6f565",
            "82ea220e7b694daf86442930fe8be047"
          ]
        },
        "id": "pgfC5hA41BXu",
        "outputId": "3ecba383-475f-4ccd-d6ed-3528f9a8bc50"
      },
      "outputs": [
        {
          "output_type": "display_data",
          "data": {
            "text/plain": [
              "config.json:   0%|          | 0.00/914 [00:00<?, ?B/s]"
            ],
            "application/vnd.jupyter.widget-view+json": {
              "version_major": 2,
              "version_minor": 0,
              "model_id": "8fe0cad249f54486b81195c34251c206"
            }
          },
          "metadata": {}
        },
        {
          "output_type": "display_data",
          "data": {
            "text/plain": [
              "pytorch_model.bin:   0%|          | 0.00/1.11G [00:00<?, ?B/s]"
            ],
            "application/vnd.jupyter.widget-view+json": {
              "version_major": 2,
              "version_minor": 0,
              "model_id": "9533579b548344e399ea4b0cb2e936c0"
            }
          },
          "metadata": {}
        },
        {
          "output_type": "display_data",
          "data": {
            "text/plain": [
              "tokenizer_config.json:   0%|          | 0.00/447 [00:00<?, ?B/s]"
            ],
            "application/vnd.jupyter.widget-view+json": {
              "version_major": 2,
              "version_minor": 0,
              "model_id": "32adc8d6c7da408e88421412a9d583f2"
            }
          },
          "metadata": {}
        },
        {
          "output_type": "display_data",
          "data": {
            "text/plain": [
              "tokenizer.json:   0%|          | 0.00/17.1M [00:00<?, ?B/s]"
            ],
            "application/vnd.jupyter.widget-view+json": {
              "version_major": 2,
              "version_minor": 0,
              "model_id": "808e10272df2458bb31ddb67d334a421"
            }
          },
          "metadata": {}
        },
        {
          "output_type": "display_data",
          "data": {
            "text/plain": [
              "special_tokens_map.json:   0%|          | 0.00/239 [00:00<?, ?B/s]"
            ],
            "application/vnd.jupyter.widget-view+json": {
              "version_major": 2,
              "version_minor": 0,
              "model_id": "a49685035d7e4b8fa80b56f88ae4e8dd"
            }
          },
          "metadata": {}
        }
      ],
      "source": [
        "if language in punct_model_langs:\n",
        "    # restoring punctuation in the transcript to help realign the sentences\n",
        "    punct_model = PunctuationModel(model=\"kredor/punctuate-all\")\n",
        "\n",
        "    words_list = list(map(lambda x: x[\"word\"], wsm))\n",
        "\n",
        "    labled_words = punct_model.predict(words_list)\n",
        "\n",
        "    ending_puncts = \".?!\"\n",
        "    model_puncts = \".,;:!?\"\n",
        "\n",
        "    # We don't want to punctuate U.S.A. with a period. Right?\n",
        "    is_acronym = lambda x: re.fullmatch(r\"\\b(?:[a-zA-Z]\\.){2,}\", x)\n",
        "\n",
        "    for word_dict, labeled_tuple in zip(wsm, labled_words):\n",
        "        word = word_dict[\"word\"]\n",
        "        if (\n",
        "            word\n",
        "            and labeled_tuple[1] in ending_puncts\n",
        "            and (word[-1] not in model_puncts or is_acronym(word))\n",
        "        ):\n",
        "            word += labeled_tuple[1]\n",
        "            if word.endswith(\"..\"):\n",
        "                word = word.rstrip(\".\")\n",
        "            word_dict[\"word\"] = word\n",
        "\n",
        "else:\n",
        "    logging.warning(\n",
        "        f\"Punctuation restoration is not available for {language} language. Using the original punctuation.\"\n",
        "    )\n",
        "\n",
        "wsm = get_realigned_ws_mapping_with_punctuation(wsm)\n"
      ]
    },
    {
      "cell_type": "markdown",
      "metadata": {
        "id": "vF2QAtLOFvwZ"
      },
      "source": [
        "**Cleanup and Exporing the results**"
      ]
    },
    {
      "cell_type": "code",
      "execution_count": 33,
      "metadata": {
        "id": "kFTyKI6B1MI0"
      },
      "outputs": [],
      "source": [
        "with open(f\"{os.path.splitext(audio_path)[0]}.txt\", \"w\", encoding=\"utf-8-sig\") as f:\n",
        "    get_speaker_aware_transcript(ssm, f)\n",
        "\n",
        "cleanup(temp_path)"
      ]
    },
    {
      "cell_type": "markdown",
      "metadata": {
        "id": "_TIrP1kOekN4"
      },
      "source": [
        "At the end of this a .txt file is saved which will have properly formatted transcription and Diarization:\n",
        "\n",
        "```\n",
        "Speaker 1: They had money, but they weren't minding it.  They could afford it, but more of them got out of it.  \n",
        "\n",
        "Speaker 0: And some of them, I think you told me, wouldn't have it on the land at all.  \n",
        "\n",
        "Speaker 1: You see, ten men cut it at three and six months a day.  \n",
        "\n",
        "Speaker 0: Do you remember cutting the harvest with the reaping hook?  \n",
        "\n",
        "```"
      ]
    },
    {
      "cell_type": "markdown",
      "metadata": {
        "id": "jAAm2jwBodfv"
      },
      "source": [
        "## **WORD ERROR RATE CALCULATION**"
      ]
    },
    {
      "cell_type": "code",
      "execution_count": 34,
      "metadata": {
        "id": "DTZPY3-2ongK"
      },
      "outputs": [],
      "source": [
        "!pip install -q jiwer"
      ]
    },
    {
      "cell_type": "code",
      "execution_count": 35,
      "metadata": {
        "id": "F5lt_96ytHsr"
      },
      "outputs": [],
      "source": [
        "# Define the ground truth and hypothesis\n",
        "ground_truth = \"\"\"\n",
        "I'm going to introduce you to a rather remarkable man. He's Mister Michael Fitzpatrick from Killenie Maynooth.\n",
        "Now he started to draw the old edge pension in 1927 and seven years ago he got the president's bounty on his hundredth birthday.\n",
        "Now he's from County Clare. He came up from Clare in 1940 to a land commission farm in Maynooth where he lives now you have seen a lot of changes, Mister Fitzpatrick, in farming.\n",
        "What would you say was the biggest change?\n",
        "Well, machinery.\n",
        "And what sort of a machine would you think that made the biggest impression?\n",
        "Well, the reaper and binder is a great one, but by God, the one for cutting up the ground and throwing a crop is a powerful one too.\n",
        "Well, you were. You were saying at the time you saw the mowing machine first it made a tremendous impression on you.\n",
        "It did, because it was a  wonder. How could it be done at all?\n",
        "What was the reaction of the people at that time to the mowing machine, Mr.Fitzpatrick?\n",
        "A great many of them wasn't minding it or could afford it but a more of them got at it.\n",
        "And some of them, I think you told me, wouldn't have it on the land at all.\n",
        "Well,a man that has a good farm with us...outside of us our townsland. He wouldn't allow bring in it. He used to be paying men for to cut it at three and six pence a day.\n",
        "Do you remember ah..ah cutting the harvest with the reaping hook?\n",
        "Ah, it was it was all of it... cut... for years and years and years. Nothing else ever cut it.\n",
        "And how do you think that the reaping hook compares with the combine at the present time?\n",
        "Aw well, there's an awful difference. An awful difference I see anyway because the combine did as good in one start of a day as the poor reaper and binder wouldn't bring in a week.\n",
        "Now you also remember, I think, a rather historic thing in the land history of this country, the bodyke evictions.\n",
        "I do I do.\n",
        "Could you describe for us what happened at those evictions? You were at them?\n",
        "I was at one of them for about 5 hours in the one day.\n",
        "And what happened?\n",
        "Aw they threw out...They were very cruel. They threw out children and woman on the roadside. Well, there was one of them thrown out the one day I was in it and the baby was only about three days old.\n",
        "And they were sitting, they were thrown on the banks of the road for the lake. Aw It was cruel.\n",
        "And how about the...ah... type of food you had to eat at that time, Mr. Fitzpatrick..what sort of, what did you live on?\n",
        "Well we lived, We had to live on it there a long time on an Indian meal and flour.\n",
        "\n",
        "\"\"\"\n",
        "\n",
        "assembly_ai_output = \"\"\"\n",
        "I'm going to introduce you to a rather remarkable man. He's Mister Michael Fitzpatrick from Killenie Maynooth.\n",
        "Now he started to draw the old edge pension in 1927 and seven years ago he got the president's bounty on his hundredth birthday.\n",
        "Now he's from County Clare. He came up from Clare in 1940 to a land commission farm in Maynooth where he lives now you have seen a lot of changes, Mister Fitzpatrick, in farming.\n",
        "What would you say was the biggest change?\n",
        "Well, machinery.\n",
        "And what sort of a machine would you think that made the biggest impression?\n",
        "Well, the reaper and binder is a great one, but by God, the one for cutting up the ground and throwing a crop is a powerful one too.\n",
        "Well, you were. You were saying you're at the time you saw the mowing machine for it made a tremendous impression on you.\n",
        "It did, because it is one. How could it be done at all?\n",
        "What was the reaction of the people at that time to the Moor machine, mister?\n",
        "Great money was maintained, I could afford it, but more habit.\n",
        "And some of them, I think you told me, wouldn't have it on the land at all.\n",
        "Well, I had a good father, motors land. He wouldn't allow it in it. He used to pay a minimum profit at three and sixpence a day.\n",
        "Do you remember cutting the harvest with the reaping hook?\n",
        "Oh, all of it cut for years and years and years. Nothing else about cutting.\n",
        "And how do you think that the reaping hook compares with the combine at the present time?\n",
        "Well, there's an awful difference. And now for different safety anywhere because if it started here is a poor rape around there wouldn't be enough.\n",
        "Now you also remember, I think, a rather historic thing in the land history of this country, the bodike evictions.\n",
        "Could you describe for us what happened at those evictions? You were at them?\n",
        "I was at one of them about 5 hours.\n",
        "And what happened?\n",
        "That was very cruel. That's from children and the whole shit.\n",
        " Well, there was one of them thrown out one day I was in it and the baby was only about three days old and they were sitting, they were thrown on the banks. It was cruel.\n",
        "And how about the type of food you had to eat at that time, Mr. Fisvatik, what did you live on?\n",
        "We had to live there a long time on an indian maid on plover.\n",
        "\"\"\"\n",
        "\n",
        "whisper_output = \"\"\"\n",
        "I'm going to introduce you to a rather remarkable man.  He's Mr.  Michael Fitzpatrick from Killeney, Maynooth.  Now, he started to draw the old age pension.  in nineteen twenty seven and seven years ago he got the president's bounty on his hundredth birthday.  Now, he's from County Clare.  He came up from Clare in nineteen forty to a land commission farm in Maynooth, where he lives now.  You have seen a lot of changes, Mr Fitzpatrick, in farming.  What would you say was the biggest change?\n",
        "Well, machinery.\n",
        "And what sort of a machine would you think made the biggest impression?\n",
        "Well, the reaper and binder is a great one, but by God, the one for cutting up the ground and throwing the crop is a powerful one too.\n",
        "Well, you were saying at the time you saw the mowing machine first, it made a tremendous impression on you.\n",
        "It did, because you didn't wonder how could it be done at all.\n",
        "What was the reaction of the people at that time to the mowing machine, Mr.  Scott?\n",
        "They had money, but they weren't minding it.  They could afford it, but more of them got out of it.\n",
        "And some of them, I think you told me, wouldn't have it on the land at all.\n",
        "You see, ten men cut it at three and six months a day.\n",
        "Do you remember cutting the harvest with the reaping hook?\n",
        "Oh, all of it.  Of course, for years and years and years, nothing else about cutting.\n",
        "And how do you think that the reaping hook compares with the combine at the present time?\n",
        "Oh, well, there's an awful difference.  An awful difference I see anywhere.  Because if you couldn't find it, if you wouldn't want it, start to put it there, if you put it on the vine, there wouldn't be no mice.\n",
        "Now, you also remember, I think, a rather historic thing in the land history of this country, the Bowdike evictions.  I do.  Could you describe for us what happened at those evictions?  You were at them.\n",
        "was at one of them about five hours.One day there.\n",
        "And what happened?\n",
        "Ah, that was very cruel.  They throw children and women on the roadside.  Well, there was one of them thrown out, but one day I was in it, and the baby was only about three days old.  And they were sitting, they were thrown on the bank of the river, and we all fell down like this.  Oh, it was cruel.\n",
        "And how about the type of food you had to eat at that time, Mr.  Fitzpatrick?  What sort of, what did you live on?\n",
        "Well, we had to live there a long time on an Indian maid and flowers.\n",
        "\n",
        "\"\"\"\n",
        "\n",
        "deepgram_output = \"\"\"\n",
        "I'm going to introduce you to a rather remarkable man. He's mister Michael Fitzpatrick from Kilenny, Maynooth.\n",
        "Now he started to draw the old age pension in 1927, and 7 years ago, he got the president's bounty on his 100th birthday.\n",
        "Now he's from County Clare. He came up from Clare in 1940 to a land commission farm in Maynooth where he lives now.\n",
        "You have seen a lot of changes, mister Fitzpatrick, in farming. What would you say was the biggest change? With machinery.\n",
        "And what sort of a machine do you think made the biggest impression?\n",
        "Well, the reaper and binders are graffing, but, by god, the one pulled caution up the ground and thrown a flap is a powerful one too.\n",
        "Well, you were you were saying you're at at the time you saw the mowing machine first, it it made a tremendous impression on you.\n",
        "Indeed. Because it is not how could it be done at all? What was the the reaction of the people at that time to the mower machine, mister Scott? Money.\n",
        "If I wasn't mowing in it, I could afford it, but the mower would have it.\n",
        "And some of them, I think, you told me, wouldn't have it on the land at all.\n",
        "Well, and Do do you remember, cutting the harvest with the reap and hope? Oh, probably all of it. Quite for years years years.\n",
        "That's it. It's about quite. And how do you think that the ripen hook compares with the combine no You can't come by and just go in the morning, start to bid here, and just put a report on by and there wouldn't be no noise.\n",
        "Now you also remember, I think, a rather historic thing in the land history of this country, the Bovah, Burdike evictions.\n",
        "I remember. Could you could you describe for us what happened at those evictions? You were at them. I was at one of them.\n",
        "About about by. And what happened? That's, you know, that was very cruel. That's all children and women and the bullshit.\n",
        "Well, there was one of them thrown out, put in one day, everything in it, and the baby was only about 3 days old.\n",
        "And they were sitting they were throwing on the banks of the then go for jelly. Oh, it was cruel.\n",
        "And how about the type of food you had to eat at that time, mister Fisbati? What sort of what did you live on?\n",
        "What was it? We had to live there a long time on an Indian land and trouble. \"\"\"\n",
        "\n",
        "\n",
        "gladia_whisper_zero_output = \"\"\"\n",
        "I'm going to introduce you to a rather remarkable man. He's Mr Michael Fitzpatrick from Killenie, Maynooth.\n",
        "Now... He started to draw the old age pension in 1927 and seven years ago he got the president's bounty on his hundredth birthday.\n",
        "Now he's from County Clare. He came up from Clare in 1940 to a land commission farm in Maynooth where he lives now.\n",
        "You have seen a lot of changes Mr Fitzpatrick in farming. What would you say was the biggest change? Well machinery.\n",
        "And what sort of a machine machine? What do you think made the biggest impression?\n",
        "Well, the Rupert and Binder, the great one, but by God, the one for cutting up the ground and throwing a crop is a powerful one too.\n",
        "Well, you were saying at the time you saw the mowing machine first, it made a tremendous impression on you.\n",
        "It did, because I didn't know how good it would be doing at all. What was the reaction of the people at that time to the mowing machine?\n",
        "They had great money but they weren't minding it and couldn't afford it. But the mowing got at it.\n",
        "And some of them I think you told me wouldn't have it on the land at all.\n",
        "Well, I had a good father who said about our town's land, he wouldn't have it on the land. You see, ten men cut it, at three and six months a day. Do you remember cutting the harvest with the reaping hook?\n",
        "Oh, all of it. Of course, for years and years and years, not a hint about cutting.\n",
        "How do you think that the reaping hook compares with the combine at the present time?\n",
        "Oh, well, there's an awful difference. An awful difference, I see, anyway.\n",
        "Because if you come round and you see a woman slapping her hair, you just put a wiper on and there wouldn't be no mice.\n",
        "Now you also remember, I think, a rather historic thing in the land history of this country, the Boddike Evictions. I do.\n",
        "Could you describe for us what happened at those evictions? You were at them. I was at one of them about five hours.\n",
        "One day. And what happened? Ah, they were very cruel. They threw children and women on the roadside.\n",
        "Well, there was one of them thrown out, but one day I was in it, and the baby was only about three days old.\n",
        "And they were sitting, they were thrown on the bank, and they were off on their legs. Ah, it was cruel.\n",
        "And how about the type of food you had to eat at that time, Mr Fispartic?\n",
        "What sort of, what did you live on? What did we live on? We had to live there a long time on an Indian land on the prowl. \"\"\""
      ]
    },
    {
      "cell_type": "code",
      "execution_count": 36,
      "metadata": {
        "colab": {
          "base_uri": "https://localhost:8080/"
        },
        "id": "Xx-k3-rmcHh4",
        "outputId": "92b05f0a-4bb0-410d-9cb7-bb2c2fc71c04"
      },
      "outputs": [
        {
          "output_type": "stream",
          "name": "stdout",
          "text": [
            "Ground Truth Normalised: im going to introduce you to a rather remarkable man hes mister michael fitzpatrick from killenie maynooth now he started to draw the old edge pension in 1927 and seven years ago he got the presidents bounty on his hundredth birthday now hes from county clare he came up from clare in 1940 to a land commission farm in maynooth where he lives now you have seen a lot of changes mister fitzpatrick in farming what would you say was the biggest change well machinery and what sort of a machine would you think that made the biggest impression well the reaper and binder is a great one but by god the one for cutting up the ground and throwing a crop is a powerful one too well you were you were saying at the time you saw the mowing machine first it made a tremendous impression on you it did because it was a wonder how could it be done at all what was the reaction of the people at that time to the mowing machine mrfitzpatrick a great many of them wasnt minding it or could afford it but a more of them got at it and some of them i think you told me wouldnt have it on the land at all wella man that has a good farm with usoutside of us our townsland he wouldnt allow bring in it he used to be paying men for to cut it at three and six pence a day do you remember ahah cutting the harvest with the reaping hook ah it was it was all of it cut for years and years and years nothing else ever cut it and how do you think that the reaping hook compares with the combine at the present time aw well theres an awful difference an awful difference i see anyway because the combine did as good in one start of a day as the poor reaper and binder wouldnt bring in a week now you also remember i think a rather historic thing in the land history of this country the bodyke evictions i do i do could you describe for us what happened at those evictions you were at them i was at one of them for about 5 hours in the one day and what happened aw they threw outthey were very cruel they threw out children and woman on the roadside well there was one of them thrown out the one day i was in it and the baby was only about three days old and they were sitting they were thrown on the banks of the road for the lake aw it was cruel and how about theah type of food you had to eat at that time mr fitzpatrickwhat sort of what did you live on well we lived we had to live on it there a long time on an indian meal and flour\n",
            "********\n",
            "Assembly AI Output Normalised: im going to introduce you to a rather remarkable man hes mister michael fitzpatrick from killenie maynooth now he started to draw the old edge pension in 1927 and seven years ago he got the presidents bounty on his hundredth birthday now hes from county clare he came up from clare in 1940 to a land commission farm in maynooth where he lives now you have seen a lot of changes mister fitzpatrick in farming what would you say was the biggest change well machinery and what sort of a machine would you think that made the biggest impression well the reaper and binder is a great one but by god the one for cutting up the ground and throwing a crop is a powerful one too well you were you were saying youre at the time you saw the mowing machine for it made a tremendous impression on you it did because it is one how could it be done at all what was the reaction of the people at that time to the moor machine mister great money was maintained i could afford it but more habit and some of them i think you told me wouldnt have it on the land at all well i had a good father motors land he wouldnt allow it in it he used to pay a minimum profit at three and sixpence a day do you remember cutting the harvest with the reaping hook oh all of it cut for years and years and years nothing else about cutting and how do you think that the reaping hook compares with the combine at the present time well theres an awful difference and now for different safety anywhere because if it started here is a poor rape around there wouldnt be enough now you also remember i think a rather historic thing in the land history of this country the bodike evictions could you describe for us what happened at those evictions you were at them i was at one of them about 5 hours and what happened that was very cruel thats from children and the whole shit well there was one of them thrown out one day i was in it and the baby was only about three days old and they were sitting they were thrown on the banks it was cruel and how about the type of food you had to eat at that time mr fisvatik what did you live on we had to live there a long time on an indian maid on plover\n",
            "********\n",
            " Gladia Whisper Zero Output Normalised: im going to introduce you to a rather remarkable man hes mr michael fitzpatrick from killenie maynooth now he started to draw the old age pension in 1927 and seven years ago he got the presidents bounty on his hundredth birthday now hes from county clare he came up from clare in 1940 to a land commission farm in maynooth where he lives now you have seen a lot of changes mr fitzpatrick in farming what would you say was the biggest change well machinery and what sort of a machine machine what do you think made the biggest impression well the rupert and binder the great one but by god the one for cutting up the ground and throwing a crop is a powerful one too well you were saying at the time you saw the mowing machine first it made a tremendous impression on you it did because i didnt know how good it would be doing at all what was the reaction of the people at that time to the mowing machine they had great money but they werent minding it and couldnt afford it but the mowing got at it and some of them i think you told me wouldnt have it on the land at all well i had a good father who said about our towns land he wouldnt have it on the land you see ten men cut it at three and six months a day do you remember cutting the harvest with the reaping hook oh all of it of course for years and years and years not a hint about cutting how do you think that the reaping hook compares with the combine at the present time oh well theres an awful difference an awful difference i see anyway because if you come round and you see a woman slapping her hair you just put a wiper on and there wouldnt be no mice now you also remember i think a rather historic thing in the land history of this country the boddike evictions i do could you describe for us what happened at those evictions you were at them i was at one of them about five hours one day and what happened ah they were very cruel they threw children and women on the roadside well there was one of them thrown out but one day i was in it and the baby was only about three days old and they were sitting they were thrown on the bank and they were off on their legs ah it was cruel and how about the type of food you had to eat at that time mr fispartic what sort of what did you live on what did we live on we had to live there a long time on an indian land on the prowl\n",
            "********\n",
            "Deepgram Output Normalised: im going to introduce you to a rather remarkable man hes mister michael fitzpatrick from kilenny maynooth now he started to draw the old age pension in 1927 and 7 years ago he got the presidents bounty on his 100th birthday now hes from county clare he came up from clare in 1940 to a land commission farm in maynooth where he lives now you have seen a lot of changes mister fitzpatrick in farming what would you say was the biggest change with machinery and what sort of a machine do you think made the biggest impression well the reaper and binders are graffing but by god the one pulled caution up the ground and thrown a flap is a powerful one too well you were you were saying youre at at the time you saw the mowing machine first it it made a tremendous impression on you indeed because it is not how could it be done at all what was the the reaction of the people at that time to the mower machine mister scott money if i wasnt mowing in it i could afford it but the mower would have it and some of them i think you told me wouldnt have it on the land at all well and do do you remember cutting the harvest with the reap and hope oh probably all of it quite for years years years thats it its about quite and how do you think that the ripen hook compares with the combine no you cant come by and just go in the morning start to bid here and just put a report on by and there wouldnt be no noise now you also remember i think a rather historic thing in the land history of this country the bovah burdike evictions i remember could you could you describe for us what happened at those evictions you were at them i was at one of them about about by and what happened thats you know that was very cruel thats all children and women and the bullshit well there was one of them thrown out put in one day everything in it and the baby was only about 3 days old and they were sitting they were throwing on the banks of the then go for jelly oh it was cruel and how about the type of food you had to eat at that time mister fisbati what sort of what did you live on what was it we had to live there a long time on an indian land and trouble\n",
            "********\n",
            "Whisper Output Normalised: im going to introduce you to a rather remarkable man hes mr michael fitzpatrick from killeney maynooth now he started to draw the old age pension in nineteen twenty seven and seven years ago he got the presidents bounty on his hundredth birthday now hes from county clare he came up from clare in nineteen forty to a land commission farm in maynooth where he lives now you have seen a lot of changes mr fitzpatrick in farming what would you say was the biggest change well machinery and what sort of a machine would you think made the biggest impression well the reaper and binder is a great one but by god the one for cutting up the ground and throwing the crop is a powerful one too well you were saying at the time you saw the mowing machine first it made a tremendous impression on you it did because you didnt wonder how could it be done at all what was the reaction of the people at that time to the mowing machine mr scott they had money but they werent minding it they could afford it but more of them got out of it and some of them i think you told me wouldnt have it on the land at all you see ten men cut it at three and six months a day do you remember cutting the harvest with the reaping hook oh all of it of course for years and years and years nothing else about cutting and how do you think that the reaping hook compares with the combine at the present time oh well theres an awful difference an awful difference i see anywhere because if you couldnt find it if you wouldnt want it start to put it there if you put it on the vine there wouldnt be no mice now you also remember i think a rather historic thing in the land history of this country the bowdike evictions i do could you describe for us what happened at those evictions you were at them was at one of them about five hoursone day there and what happened ah that was very cruel they throw children and women on the roadside well there was one of them thrown out but one day i was in it and the baby was only about three days old and they were sitting they were thrown on the bank of the river and we all fell down like this oh it was cruel and how about the type of food you had to eat at that time mr fitzpatrick what sort of what did you live on well we had to live there a long time on an indian maid and flowers\n",
            "********\n",
            "Assembly AI Word Error Rate: 0.24\n",
            "********\n",
            "Gladia Whisper Zero Word Error Rate: 0.26\n",
            "********\n",
            "Deepgram Word Error Rate: 0.35\n",
            "********\n",
            "Whisper Word Error Rate: 0.27\n",
            "********\n"
          ]
        }
      ],
      "source": [
        "import jiwer\n",
        "import re\n",
        "\n",
        "def preprocess_text(text):\n",
        "    # Normalize the case and strip whitespace\n",
        "    text = text.lower().strip()\n",
        "    # Remove punctuation\n",
        "    text = re.sub(r'[^\\w\\s]', '', text)\n",
        "    # Replace multiple spaces with a single space\n",
        "    text = re.sub(r'\\s+', ' ', text)\n",
        "    return text\n",
        "\n",
        "# Preprocess both ground truth and AI output\n",
        "ground_truth_clean = preprocess_text(ground_truth)\n",
        "assembly_ai_output_clean = preprocess_text(assembly_ai_output)\n",
        "whisper_output_clean = preprocess_text(whisper_output)\n",
        "deepgram_output_clean = preprocess_text(deepgram_output)\n",
        "gladia_whisper_zero_output_clean = preprocess_text(gladia_whisper_zero_output)\n",
        "\n",
        "print(f\"Ground Truth Normalised:\",ground_truth_clean)\n",
        "\n",
        "print(\"********\")\n",
        "\n",
        "print(f\"Assembly AI Output Normalised:\", assembly_ai_output_clean)\n",
        "\n",
        "\n",
        "print(\"********\")\n",
        "\n",
        "print(f\" Gladia Whisper Zero Output Normalised:\", gladia_whisper_zero_output_clean)\n",
        "\n",
        "print(\"********\")\n",
        "\n",
        "\n",
        "\n",
        "print(f\"Deepgram Output Normalised:\", deepgram_output_clean)\n",
        "\n",
        "\n",
        "print(\"********\")\n",
        "\n",
        "print(f\"Whisper Output Normalised:\", whisper_output_clean)\n",
        "\n",
        "print(\"********\")\n",
        "\n",
        "aai_wer = jiwer.wer(\n",
        "    ground_truth_clean,\n",
        "    assembly_ai_output_clean,\n",
        ")\n",
        "\n",
        "gladia_wer = jiwer.wer(\n",
        "    ground_truth_clean,\n",
        "    gladia_whisper_zero_output_clean,)\n",
        "\n",
        "\n",
        "dgram_wer = jiwer.wer(\n",
        "    ground_truth_clean,\n",
        "    deepgram_output_clean\n",
        ")\n",
        "\n",
        "whisper_wer = jiwer.wer(\n",
        "    ground_truth_clean,\n",
        "    whisper_output_clean\n",
        ")\n",
        "\n",
        "print(f\"Assembly AI Word Error Rate: {aai_wer:.2f}\")\n",
        "print(\"********\")\n",
        "print(f\"Gladia Whisper Zero Word Error Rate: {gladia_wer:.2f}\")\n",
        "print(\"********\")\n",
        "print(f\"Deepgram Word Error Rate: {dgram_wer:.2f}\")\n",
        "print(\"********\")\n",
        "print(f\"Whisper Word Error Rate: {whisper_wer:.2f}\")\n",
        "print(\"********\")"
      ]
    },
    {
      "cell_type": "markdown",
      "metadata": {
        "id": "2vGuwCoo8_jf"
      },
      "source": [
        "## **DIARIZATION ERROR RATE**"
      ]
    },
    {
      "cell_type": "code",
      "execution_count": 37,
      "metadata": {
        "id": "gMmHjCDGsT7Y"
      },
      "outputs": [],
      "source": [
        "!pip install -qq pyannote.audio"
      ]
    },
    {
      "cell_type": "code",
      "execution_count": 38,
      "metadata": {
        "colab": {
          "base_uri": "https://localhost:8080/"
        },
        "id": "sfj-kODQJJ_K",
        "outputId": "62a7be65-43a0-4bf6-9c0a-5ad7534b8b11"
      },
      "outputs": [
        {
          "output_type": "stream",
          "name": "stdout",
          "text": [
            "Assembly AI Diarization Error Rate: 2.58%\n",
            "********\n",
            "Whisper Diarization Error Rate: 5.81%\n"
          ]
        }
      ],
      "source": [
        "from pyannote.core import Annotation, Segment\n",
        "from pyannote.metrics.diarization import DiarizationErrorRate\n",
        "\n",
        "# Create annotations for ground truth and hypothesis\n",
        "ground_truth = Annotation()\n",
        "assembly_ai_output = Annotation()\n",
        "whisper_output = Annotation()\n",
        "\n",
        "# Assuming we have start times and durations (in seconds)\n",
        "# Ground Truth (you would fill in actual start times and durations)\n",
        "ground_truth[Segment(0, 35)] = 'A'\n",
        "ground_truth[Segment(36, 37)] = 'B'\n",
        "ground_truth[Segment(37, 41)] = 'A'\n",
        "ground_truth[Segment(42, 50)] = 'B'\n",
        "ground_truth[Segment(51, 56)] = 'A'\n",
        "ground_truth[Segment(57, 61)] = 'B'\n",
        "ground_truth[Segment(62, 67)] = 'A'\n",
        "ground_truth[Segment(67, 72)] = 'B'\n",
        "ground_truth[Segment(73, 77)] = 'A'\n",
        "ground_truth[Segment(77,87)] = 'B'\n",
        "ground_truth[Segment(88, 92)] = 'A'\n",
        "ground_truth[Segment(93, 99)] = 'B'\n",
        "ground_truth[Segment(99, 103)] = 'A'\n",
        "ground_truth[Segment(104, 116)] = 'B'\n",
        "ground_truth[Segment(116, 124)] = 'A'\n",
        "ground_truth[Segment(124, 126)] = 'B'\n",
        "ground_truth[Segment(126, 129)] = 'A'\n",
        "ground_truth[Segment(130, 135)] = 'B'\n",
        "ground_truth[Segment(136, 136)] = 'A'\n",
        "ground_truth[Segment(137, 155)] = 'B'\n",
        "ground_truth[Segment(156, 163)] = 'A'\n",
        "ground_truth[Segment(164, 169)] = 'B'\n",
        "\n",
        "# Assembly AI Output (assuming some errors)\n",
        "assembly_ai_output[Segment(0, 35)] = 'A'\n",
        "assembly_ai_output[Segment(36, 37)] = 'B'  # Overlap error, different end times\n",
        "assembly_ai_output[Segment(37, 41)] = 'A'  # Shift in time\n",
        "assembly_ai_output[Segment(42, 50)] = 'B'\n",
        "assembly_ai_output[Segment(51, 56)] = 'A'\n",
        "assembly_ai_output[Segment(57, 61)] = 'B'\n",
        "assembly_ai_output[Segment(62, 67)] = 'A'\n",
        "assembly_ai_output[Segment(67, 72)] = 'B'\n",
        "assembly_ai_output[Segment(73, 77)] = 'A'\n",
        "assembly_ai_output[Segment(77, 87)] = 'B'\n",
        "assembly_ai_output[Segment(88, 92)] = 'A'\n",
        "assembly_ai_output[Segment(93, 99)] = 'B'\n",
        "assembly_ai_output[Segment(99, 103)] = 'A'\n",
        "assembly_ai_output[Segment(104, 116)] = 'B'\n",
        "assembly_ai_output[Segment(116, 129)] = 'A'\n",
        "assembly_ai_output[Segment(130, 133)] = 'B'\n",
        "assembly_ai_output[Segment(136, 136)] = 'A'\n",
        "assembly_ai_output[Segment(137, 155)] = 'B'\n",
        "assembly_ai_output[Segment(156, 163)] = 'A'\n",
        "assembly_ai_output[Segment(164, 169)] = 'B'\n",
        "\n",
        "\n",
        "\n",
        "# Whisper Output (assuming some errors)\n",
        "whisper_output[Segment(0, 35)] = 'A'\n",
        "whisper_output[Segment(36, 37)] = 'B'  # Overlap error, different end times\n",
        "whisper_output[Segment(37, 41)] = 'A'  # Shift in time\n",
        "whisper_output[Segment(42, 50)] = 'B'\n",
        "whisper_output[Segment(51, 56)] = 'A'\n",
        "whisper_output[Segment(57, 61)] = 'B'\n",
        "whisper_output[Segment(62, 67)] = 'A'\n",
        "whisper_output[Segment(67, 72)] = 'B'\n",
        "whisper_output[Segment(73, 77)] = 'A'\n",
        "whisper_output[Segment(84, 87)] = 'B'\n",
        "whisper_output[Segment(88, 92)] = 'A'\n",
        "whisper_output[Segment(93, 99)] = 'B'\n",
        "whisper_output[Segment(99, 103)] = 'A'\n",
        "whisper_output[Segment(104, 116)] = 'B'\n",
        "whisper_output[Segment(116, 124)] = 'A'\n",
        "whisper_output[Segment(124, 126)] = 'B'\n",
        "whisper_output[Segment(126, 129)] = 'A'\n",
        "whisper_output[Segment(130, 133)] = 'B'\n",
        "whisper_output[Segment(136, 136)] = 'A'\n",
        "whisper_output[Segment(137, 155)] = 'B'\n",
        "whisper_output[Segment(156, 163)] = 'A'\n",
        "whisper_output[Segment(164, 169)] = 'B'\n",
        "\n",
        "\n",
        "# Initialize metric\n",
        "metric = DiarizationErrorRate()\n",
        "\n",
        "# Calculate DER\n",
        "aai_der = metric(ground_truth, assembly_ai_output)\n",
        "print(f\"Assembly AI Diarization Error Rate: {aai_der:.2%}\")\n",
        "\n",
        "print(\"********\")\n",
        "\n",
        "whisper_der = metric(ground_truth, whisper_output)\n",
        "print(f\"Whisper Diarization Error Rate: {whisper_der:.2%}\")"
      ]
    }
  ],
  "metadata": {
    "accelerator": "GPU",
    "colab": {
      "gpuType": "T4",
      "provenance": [],
      "include_colab_link": true
    },
    "kernelspec": {
      "display_name": "Python 3",
      "name": "python3"
    },
    "language_info": {
      "codemirror_mode": {
        "name": "ipython",
        "version": 3
      },
      "file_extension": ".py",
      "mimetype": "text/x-python",
      "name": "python",
      "nbconvert_exporter": "python",
      "pygments_lexer": "ipython3",
      "version": "3.10.12"
    },
    "widgets": {
      "application/vnd.jupyter.widget-state+json": {
        "ef68ab08c6ab4924864ad3d454d6816b": {
          "model_module": "@jupyter-widgets/controls",
          "model_name": "HBoxModel",
          "model_module_version": "1.5.0",
          "state": {
            "_dom_classes": [],
            "_model_module": "@jupyter-widgets/controls",
            "_model_module_version": "1.5.0",
            "_model_name": "HBoxModel",
            "_view_count": null,
            "_view_module": "@jupyter-widgets/controls",
            "_view_module_version": "1.5.0",
            "_view_name": "HBoxView",
            "box_style": "",
            "children": [
              "IPY_MODEL_81fc18fd53254fb29446bd585130abbc",
              "IPY_MODEL_c814514c5f3e4bce8975739054c7430b",
              "IPY_MODEL_3844dbb1480d46c79716e5ebcecc79b2"
            ],
            "layout": "IPY_MODEL_fb761c95657b4518a80dde42391b1443"
          }
        },
        "81fc18fd53254fb29446bd585130abbc": {
          "model_module": "@jupyter-widgets/controls",
          "model_name": "HTMLModel",
          "model_module_version": "1.5.0",
          "state": {
            "_dom_classes": [],
            "_model_module": "@jupyter-widgets/controls",
            "_model_module_version": "1.5.0",
            "_model_name": "HTMLModel",
            "_view_count": null,
            "_view_module": "@jupyter-widgets/controls",
            "_view_module_version": "1.5.0",
            "_view_name": "HTMLView",
            "description": "",
            "description_tooltip": null,
            "layout": "IPY_MODEL_1c03acb1e882488ca9612a2272537923",
            "placeholder": "​",
            "style": "IPY_MODEL_6a531de95f694e3ab5d3110077a1d75e",
            "value": "model.bin: 100%"
          }
        },
        "c814514c5f3e4bce8975739054c7430b": {
          "model_module": "@jupyter-widgets/controls",
          "model_name": "FloatProgressModel",
          "model_module_version": "1.5.0",
          "state": {
            "_dom_classes": [],
            "_model_module": "@jupyter-widgets/controls",
            "_model_module_version": "1.5.0",
            "_model_name": "FloatProgressModel",
            "_view_count": null,
            "_view_module": "@jupyter-widgets/controls",
            "_view_module_version": "1.5.0",
            "_view_name": "ProgressView",
            "bar_style": "success",
            "description": "",
            "description_tooltip": null,
            "layout": "IPY_MODEL_dbcf74829e03434aa97583827e822819",
            "max": 3087284237,
            "min": 0,
            "orientation": "horizontal",
            "style": "IPY_MODEL_8fe66ba3151f44a692228e9228fb3773",
            "value": 3087284237
          }
        },
        "3844dbb1480d46c79716e5ebcecc79b2": {
          "model_module": "@jupyter-widgets/controls",
          "model_name": "HTMLModel",
          "model_module_version": "1.5.0",
          "state": {
            "_dom_classes": [],
            "_model_module": "@jupyter-widgets/controls",
            "_model_module_version": "1.5.0",
            "_model_name": "HTMLModel",
            "_view_count": null,
            "_view_module": "@jupyter-widgets/controls",
            "_view_module_version": "1.5.0",
            "_view_name": "HTMLView",
            "description": "",
            "description_tooltip": null,
            "layout": "IPY_MODEL_9e0a322f8c974770a19a08479dd6232a",
            "placeholder": "​",
            "style": "IPY_MODEL_f586ab3edc7d4c55a5cd34060ba439c7",
            "value": " 3.09G/3.09G [00:22&lt;00:00, 70.8MB/s]"
          }
        },
        "fb761c95657b4518a80dde42391b1443": {
          "model_module": "@jupyter-widgets/base",
          "model_name": "LayoutModel",
          "model_module_version": "1.2.0",
          "state": {
            "_model_module": "@jupyter-widgets/base",
            "_model_module_version": "1.2.0",
            "_model_name": "LayoutModel",
            "_view_count": null,
            "_view_module": "@jupyter-widgets/base",
            "_view_module_version": "1.2.0",
            "_view_name": "LayoutView",
            "align_content": null,
            "align_items": null,
            "align_self": null,
            "border": null,
            "bottom": null,
            "display": null,
            "flex": null,
            "flex_flow": null,
            "grid_area": null,
            "grid_auto_columns": null,
            "grid_auto_flow": null,
            "grid_auto_rows": null,
            "grid_column": null,
            "grid_gap": null,
            "grid_row": null,
            "grid_template_areas": null,
            "grid_template_columns": null,
            "grid_template_rows": null,
            "height": null,
            "justify_content": null,
            "justify_items": null,
            "left": null,
            "margin": null,
            "max_height": null,
            "max_width": null,
            "min_height": null,
            "min_width": null,
            "object_fit": null,
            "object_position": null,
            "order": null,
            "overflow": null,
            "overflow_x": null,
            "overflow_y": null,
            "padding": null,
            "right": null,
            "top": null,
            "visibility": null,
            "width": null
          }
        },
        "1c03acb1e882488ca9612a2272537923": {
          "model_module": "@jupyter-widgets/base",
          "model_name": "LayoutModel",
          "model_module_version": "1.2.0",
          "state": {
            "_model_module": "@jupyter-widgets/base",
            "_model_module_version": "1.2.0",
            "_model_name": "LayoutModel",
            "_view_count": null,
            "_view_module": "@jupyter-widgets/base",
            "_view_module_version": "1.2.0",
            "_view_name": "LayoutView",
            "align_content": null,
            "align_items": null,
            "align_self": null,
            "border": null,
            "bottom": null,
            "display": null,
            "flex": null,
            "flex_flow": null,
            "grid_area": null,
            "grid_auto_columns": null,
            "grid_auto_flow": null,
            "grid_auto_rows": null,
            "grid_column": null,
            "grid_gap": null,
            "grid_row": null,
            "grid_template_areas": null,
            "grid_template_columns": null,
            "grid_template_rows": null,
            "height": null,
            "justify_content": null,
            "justify_items": null,
            "left": null,
            "margin": null,
            "max_height": null,
            "max_width": null,
            "min_height": null,
            "min_width": null,
            "object_fit": null,
            "object_position": null,
            "order": null,
            "overflow": null,
            "overflow_x": null,
            "overflow_y": null,
            "padding": null,
            "right": null,
            "top": null,
            "visibility": null,
            "width": null
          }
        },
        "6a531de95f694e3ab5d3110077a1d75e": {
          "model_module": "@jupyter-widgets/controls",
          "model_name": "DescriptionStyleModel",
          "model_module_version": "1.5.0",
          "state": {
            "_model_module": "@jupyter-widgets/controls",
            "_model_module_version": "1.5.0",
            "_model_name": "DescriptionStyleModel",
            "_view_count": null,
            "_view_module": "@jupyter-widgets/base",
            "_view_module_version": "1.2.0",
            "_view_name": "StyleView",
            "description_width": ""
          }
        },
        "dbcf74829e03434aa97583827e822819": {
          "model_module": "@jupyter-widgets/base",
          "model_name": "LayoutModel",
          "model_module_version": "1.2.0",
          "state": {
            "_model_module": "@jupyter-widgets/base",
            "_model_module_version": "1.2.0",
            "_model_name": "LayoutModel",
            "_view_count": null,
            "_view_module": "@jupyter-widgets/base",
            "_view_module_version": "1.2.0",
            "_view_name": "LayoutView",
            "align_content": null,
            "align_items": null,
            "align_self": null,
            "border": null,
            "bottom": null,
            "display": null,
            "flex": null,
            "flex_flow": null,
            "grid_area": null,
            "grid_auto_columns": null,
            "grid_auto_flow": null,
            "grid_auto_rows": null,
            "grid_column": null,
            "grid_gap": null,
            "grid_row": null,
            "grid_template_areas": null,
            "grid_template_columns": null,
            "grid_template_rows": null,
            "height": null,
            "justify_content": null,
            "justify_items": null,
            "left": null,
            "margin": null,
            "max_height": null,
            "max_width": null,
            "min_height": null,
            "min_width": null,
            "object_fit": null,
            "object_position": null,
            "order": null,
            "overflow": null,
            "overflow_x": null,
            "overflow_y": null,
            "padding": null,
            "right": null,
            "top": null,
            "visibility": null,
            "width": null
          }
        },
        "8fe66ba3151f44a692228e9228fb3773": {
          "model_module": "@jupyter-widgets/controls",
          "model_name": "ProgressStyleModel",
          "model_module_version": "1.5.0",
          "state": {
            "_model_module": "@jupyter-widgets/controls",
            "_model_module_version": "1.5.0",
            "_model_name": "ProgressStyleModel",
            "_view_count": null,
            "_view_module": "@jupyter-widgets/base",
            "_view_module_version": "1.2.0",
            "_view_name": "StyleView",
            "bar_color": null,
            "description_width": ""
          }
        },
        "9e0a322f8c974770a19a08479dd6232a": {
          "model_module": "@jupyter-widgets/base",
          "model_name": "LayoutModel",
          "model_module_version": "1.2.0",
          "state": {
            "_model_module": "@jupyter-widgets/base",
            "_model_module_version": "1.2.0",
            "_model_name": "LayoutModel",
            "_view_count": null,
            "_view_module": "@jupyter-widgets/base",
            "_view_module_version": "1.2.0",
            "_view_name": "LayoutView",
            "align_content": null,
            "align_items": null,
            "align_self": null,
            "border": null,
            "bottom": null,
            "display": null,
            "flex": null,
            "flex_flow": null,
            "grid_area": null,
            "grid_auto_columns": null,
            "grid_auto_flow": null,
            "grid_auto_rows": null,
            "grid_column": null,
            "grid_gap": null,
            "grid_row": null,
            "grid_template_areas": null,
            "grid_template_columns": null,
            "grid_template_rows": null,
            "height": null,
            "justify_content": null,
            "justify_items": null,
            "left": null,
            "margin": null,
            "max_height": null,
            "max_width": null,
            "min_height": null,
            "min_width": null,
            "object_fit": null,
            "object_position": null,
            "order": null,
            "overflow": null,
            "overflow_x": null,
            "overflow_y": null,
            "padding": null,
            "right": null,
            "top": null,
            "visibility": null,
            "width": null
          }
        },
        "f586ab3edc7d4c55a5cd34060ba439c7": {
          "model_module": "@jupyter-widgets/controls",
          "model_name": "DescriptionStyleModel",
          "model_module_version": "1.5.0",
          "state": {
            "_model_module": "@jupyter-widgets/controls",
            "_model_module_version": "1.5.0",
            "_model_name": "DescriptionStyleModel",
            "_view_count": null,
            "_view_module": "@jupyter-widgets/base",
            "_view_module_version": "1.2.0",
            "_view_name": "StyleView",
            "description_width": ""
          }
        },
        "7dca26843cde48abb93cf5c33f25fff5": {
          "model_module": "@jupyter-widgets/controls",
          "model_name": "HBoxModel",
          "model_module_version": "1.5.0",
          "state": {
            "_dom_classes": [],
            "_model_module": "@jupyter-widgets/controls",
            "_model_module_version": "1.5.0",
            "_model_name": "HBoxModel",
            "_view_count": null,
            "_view_module": "@jupyter-widgets/controls",
            "_view_module_version": "1.5.0",
            "_view_name": "HBoxView",
            "box_style": "",
            "children": [
              "IPY_MODEL_bc955ec33a4446218e8a2d32c99f17f4",
              "IPY_MODEL_62c23f5c69bd4505bc381132d3be0eeb",
              "IPY_MODEL_25c9273574174aeeaa395f42b0d88a71"
            ],
            "layout": "IPY_MODEL_0d614ceebfde4034a302ef30679d2827"
          }
        },
        "bc955ec33a4446218e8a2d32c99f17f4": {
          "model_module": "@jupyter-widgets/controls",
          "model_name": "HTMLModel",
          "model_module_version": "1.5.0",
          "state": {
            "_dom_classes": [],
            "_model_module": "@jupyter-widgets/controls",
            "_model_module_version": "1.5.0",
            "_model_name": "HTMLModel",
            "_view_count": null,
            "_view_module": "@jupyter-widgets/controls",
            "_view_module_version": "1.5.0",
            "_view_name": "HTMLView",
            "description": "",
            "description_tooltip": null,
            "layout": "IPY_MODEL_43ec34bd451147208972ed720a3e239a",
            "placeholder": "​",
            "style": "IPY_MODEL_633655344c754994ba79430048c971c0",
            "value": "tokenizer.json: 100%"
          }
        },
        "62c23f5c69bd4505bc381132d3be0eeb": {
          "model_module": "@jupyter-widgets/controls",
          "model_name": "FloatProgressModel",
          "model_module_version": "1.5.0",
          "state": {
            "_dom_classes": [],
            "_model_module": "@jupyter-widgets/controls",
            "_model_module_version": "1.5.0",
            "_model_name": "FloatProgressModel",
            "_view_count": null,
            "_view_module": "@jupyter-widgets/controls",
            "_view_module_version": "1.5.0",
            "_view_name": "ProgressView",
            "bar_style": "success",
            "description": "",
            "description_tooltip": null,
            "layout": "IPY_MODEL_37aaac1f1830479b9b7889046cb0dbdd",
            "max": 2480617,
            "min": 0,
            "orientation": "horizontal",
            "style": "IPY_MODEL_33de383efc8c4ce2ae9fbc343e879ce8",
            "value": 2480617
          }
        },
        "25c9273574174aeeaa395f42b0d88a71": {
          "model_module": "@jupyter-widgets/controls",
          "model_name": "HTMLModel",
          "model_module_version": "1.5.0",
          "state": {
            "_dom_classes": [],
            "_model_module": "@jupyter-widgets/controls",
            "_model_module_version": "1.5.0",
            "_model_name": "HTMLModel",
            "_view_count": null,
            "_view_module": "@jupyter-widgets/controls",
            "_view_module_version": "1.5.0",
            "_view_name": "HTMLView",
            "description": "",
            "description_tooltip": null,
            "layout": "IPY_MODEL_6537a911e5ca498fa74376664d331826",
            "placeholder": "​",
            "style": "IPY_MODEL_a4868a34bad8420d94b0d6ced58ace92",
            "value": " 2.48M/2.48M [00:00&lt;00:00, 3.89MB/s]"
          }
        },
        "0d614ceebfde4034a302ef30679d2827": {
          "model_module": "@jupyter-widgets/base",
          "model_name": "LayoutModel",
          "model_module_version": "1.2.0",
          "state": {
            "_model_module": "@jupyter-widgets/base",
            "_model_module_version": "1.2.0",
            "_model_name": "LayoutModel",
            "_view_count": null,
            "_view_module": "@jupyter-widgets/base",
            "_view_module_version": "1.2.0",
            "_view_name": "LayoutView",
            "align_content": null,
            "align_items": null,
            "align_self": null,
            "border": null,
            "bottom": null,
            "display": null,
            "flex": null,
            "flex_flow": null,
            "grid_area": null,
            "grid_auto_columns": null,
            "grid_auto_flow": null,
            "grid_auto_rows": null,
            "grid_column": null,
            "grid_gap": null,
            "grid_row": null,
            "grid_template_areas": null,
            "grid_template_columns": null,
            "grid_template_rows": null,
            "height": null,
            "justify_content": null,
            "justify_items": null,
            "left": null,
            "margin": null,
            "max_height": null,
            "max_width": null,
            "min_height": null,
            "min_width": null,
            "object_fit": null,
            "object_position": null,
            "order": null,
            "overflow": null,
            "overflow_x": null,
            "overflow_y": null,
            "padding": null,
            "right": null,
            "top": null,
            "visibility": null,
            "width": null
          }
        },
        "43ec34bd451147208972ed720a3e239a": {
          "model_module": "@jupyter-widgets/base",
          "model_name": "LayoutModel",
          "model_module_version": "1.2.0",
          "state": {
            "_model_module": "@jupyter-widgets/base",
            "_model_module_version": "1.2.0",
            "_model_name": "LayoutModel",
            "_view_count": null,
            "_view_module": "@jupyter-widgets/base",
            "_view_module_version": "1.2.0",
            "_view_name": "LayoutView",
            "align_content": null,
            "align_items": null,
            "align_self": null,
            "border": null,
            "bottom": null,
            "display": null,
            "flex": null,
            "flex_flow": null,
            "grid_area": null,
            "grid_auto_columns": null,
            "grid_auto_flow": null,
            "grid_auto_rows": null,
            "grid_column": null,
            "grid_gap": null,
            "grid_row": null,
            "grid_template_areas": null,
            "grid_template_columns": null,
            "grid_template_rows": null,
            "height": null,
            "justify_content": null,
            "justify_items": null,
            "left": null,
            "margin": null,
            "max_height": null,
            "max_width": null,
            "min_height": null,
            "min_width": null,
            "object_fit": null,
            "object_position": null,
            "order": null,
            "overflow": null,
            "overflow_x": null,
            "overflow_y": null,
            "padding": null,
            "right": null,
            "top": null,
            "visibility": null,
            "width": null
          }
        },
        "633655344c754994ba79430048c971c0": {
          "model_module": "@jupyter-widgets/controls",
          "model_name": "DescriptionStyleModel",
          "model_module_version": "1.5.0",
          "state": {
            "_model_module": "@jupyter-widgets/controls",
            "_model_module_version": "1.5.0",
            "_model_name": "DescriptionStyleModel",
            "_view_count": null,
            "_view_module": "@jupyter-widgets/base",
            "_view_module_version": "1.2.0",
            "_view_name": "StyleView",
            "description_width": ""
          }
        },
        "37aaac1f1830479b9b7889046cb0dbdd": {
          "model_module": "@jupyter-widgets/base",
          "model_name": "LayoutModel",
          "model_module_version": "1.2.0",
          "state": {
            "_model_module": "@jupyter-widgets/base",
            "_model_module_version": "1.2.0",
            "_model_name": "LayoutModel",
            "_view_count": null,
            "_view_module": "@jupyter-widgets/base",
            "_view_module_version": "1.2.0",
            "_view_name": "LayoutView",
            "align_content": null,
            "align_items": null,
            "align_self": null,
            "border": null,
            "bottom": null,
            "display": null,
            "flex": null,
            "flex_flow": null,
            "grid_area": null,
            "grid_auto_columns": null,
            "grid_auto_flow": null,
            "grid_auto_rows": null,
            "grid_column": null,
            "grid_gap": null,
            "grid_row": null,
            "grid_template_areas": null,
            "grid_template_columns": null,
            "grid_template_rows": null,
            "height": null,
            "justify_content": null,
            "justify_items": null,
            "left": null,
            "margin": null,
            "max_height": null,
            "max_width": null,
            "min_height": null,
            "min_width": null,
            "object_fit": null,
            "object_position": null,
            "order": null,
            "overflow": null,
            "overflow_x": null,
            "overflow_y": null,
            "padding": null,
            "right": null,
            "top": null,
            "visibility": null,
            "width": null
          }
        },
        "33de383efc8c4ce2ae9fbc343e879ce8": {
          "model_module": "@jupyter-widgets/controls",
          "model_name": "ProgressStyleModel",
          "model_module_version": "1.5.0",
          "state": {
            "_model_module": "@jupyter-widgets/controls",
            "_model_module_version": "1.5.0",
            "_model_name": "ProgressStyleModel",
            "_view_count": null,
            "_view_module": "@jupyter-widgets/base",
            "_view_module_version": "1.2.0",
            "_view_name": "StyleView",
            "bar_color": null,
            "description_width": ""
          }
        },
        "6537a911e5ca498fa74376664d331826": {
          "model_module": "@jupyter-widgets/base",
          "model_name": "LayoutModel",
          "model_module_version": "1.2.0",
          "state": {
            "_model_module": "@jupyter-widgets/base",
            "_model_module_version": "1.2.0",
            "_model_name": "LayoutModel",
            "_view_count": null,
            "_view_module": "@jupyter-widgets/base",
            "_view_module_version": "1.2.0",
            "_view_name": "LayoutView",
            "align_content": null,
            "align_items": null,
            "align_self": null,
            "border": null,
            "bottom": null,
            "display": null,
            "flex": null,
            "flex_flow": null,
            "grid_area": null,
            "grid_auto_columns": null,
            "grid_auto_flow": null,
            "grid_auto_rows": null,
            "grid_column": null,
            "grid_gap": null,
            "grid_row": null,
            "grid_template_areas": null,
            "grid_template_columns": null,
            "grid_template_rows": null,
            "height": null,
            "justify_content": null,
            "justify_items": null,
            "left": null,
            "margin": null,
            "max_height": null,
            "max_width": null,
            "min_height": null,
            "min_width": null,
            "object_fit": null,
            "object_position": null,
            "order": null,
            "overflow": null,
            "overflow_x": null,
            "overflow_y": null,
            "padding": null,
            "right": null,
            "top": null,
            "visibility": null,
            "width": null
          }
        },
        "a4868a34bad8420d94b0d6ced58ace92": {
          "model_module": "@jupyter-widgets/controls",
          "model_name": "DescriptionStyleModel",
          "model_module_version": "1.5.0",
          "state": {
            "_model_module": "@jupyter-widgets/controls",
            "_model_module_version": "1.5.0",
            "_model_name": "DescriptionStyleModel",
            "_view_count": null,
            "_view_module": "@jupyter-widgets/base",
            "_view_module_version": "1.2.0",
            "_view_name": "StyleView",
            "description_width": ""
          }
        },
        "8a0dad88bc2d48439450bba51d072c85": {
          "model_module": "@jupyter-widgets/controls",
          "model_name": "HBoxModel",
          "model_module_version": "1.5.0",
          "state": {
            "_dom_classes": [],
            "_model_module": "@jupyter-widgets/controls",
            "_model_module_version": "1.5.0",
            "_model_name": "HBoxModel",
            "_view_count": null,
            "_view_module": "@jupyter-widgets/controls",
            "_view_module_version": "1.5.0",
            "_view_name": "HBoxView",
            "box_style": "",
            "children": [
              "IPY_MODEL_0dd8620178c54b60b1a2f224a62cda16",
              "IPY_MODEL_346b8f2f1000420ca5d0a2ac0f928481",
              "IPY_MODEL_351afa4e42654cc0b96e07b64e869e46"
            ],
            "layout": "IPY_MODEL_0beb631c43fd4e1487f295e33f63b814"
          }
        },
        "0dd8620178c54b60b1a2f224a62cda16": {
          "model_module": "@jupyter-widgets/controls",
          "model_name": "HTMLModel",
          "model_module_version": "1.5.0",
          "state": {
            "_dom_classes": [],
            "_model_module": "@jupyter-widgets/controls",
            "_model_module_version": "1.5.0",
            "_model_name": "HTMLModel",
            "_view_count": null,
            "_view_module": "@jupyter-widgets/controls",
            "_view_module_version": "1.5.0",
            "_view_name": "HTMLView",
            "description": "",
            "description_tooltip": null,
            "layout": "IPY_MODEL_41e0408dbc374b7a92bae675ad91bc96",
            "placeholder": "​",
            "style": "IPY_MODEL_6832d25058a549969d49519cbab3f79a",
            "value": "vocabulary.json: 100%"
          }
        },
        "346b8f2f1000420ca5d0a2ac0f928481": {
          "model_module": "@jupyter-widgets/controls",
          "model_name": "FloatProgressModel",
          "model_module_version": "1.5.0",
          "state": {
            "_dom_classes": [],
            "_model_module": "@jupyter-widgets/controls",
            "_model_module_version": "1.5.0",
            "_model_name": "FloatProgressModel",
            "_view_count": null,
            "_view_module": "@jupyter-widgets/controls",
            "_view_module_version": "1.5.0",
            "_view_name": "ProgressView",
            "bar_style": "success",
            "description": "",
            "description_tooltip": null,
            "layout": "IPY_MODEL_a2a82d1735274f2eb53917575453f0d6",
            "max": 1068114,
            "min": 0,
            "orientation": "horizontal",
            "style": "IPY_MODEL_b80003c694e5496c9df677003d066d7f",
            "value": 1068114
          }
        },
        "351afa4e42654cc0b96e07b64e869e46": {
          "model_module": "@jupyter-widgets/controls",
          "model_name": "HTMLModel",
          "model_module_version": "1.5.0",
          "state": {
            "_dom_classes": [],
            "_model_module": "@jupyter-widgets/controls",
            "_model_module_version": "1.5.0",
            "_model_name": "HTMLModel",
            "_view_count": null,
            "_view_module": "@jupyter-widgets/controls",
            "_view_module_version": "1.5.0",
            "_view_name": "HTMLView",
            "description": "",
            "description_tooltip": null,
            "layout": "IPY_MODEL_e693144e30fe439183e5da05e0efd8ef",
            "placeholder": "​",
            "style": "IPY_MODEL_9990de2fb46a403aa5e1f5b654d2afb6",
            "value": " 1.07M/1.07M [00:00&lt;00:00, 5.12MB/s]"
          }
        },
        "0beb631c43fd4e1487f295e33f63b814": {
          "model_module": "@jupyter-widgets/base",
          "model_name": "LayoutModel",
          "model_module_version": "1.2.0",
          "state": {
            "_model_module": "@jupyter-widgets/base",
            "_model_module_version": "1.2.0",
            "_model_name": "LayoutModel",
            "_view_count": null,
            "_view_module": "@jupyter-widgets/base",
            "_view_module_version": "1.2.0",
            "_view_name": "LayoutView",
            "align_content": null,
            "align_items": null,
            "align_self": null,
            "border": null,
            "bottom": null,
            "display": null,
            "flex": null,
            "flex_flow": null,
            "grid_area": null,
            "grid_auto_columns": null,
            "grid_auto_flow": null,
            "grid_auto_rows": null,
            "grid_column": null,
            "grid_gap": null,
            "grid_row": null,
            "grid_template_areas": null,
            "grid_template_columns": null,
            "grid_template_rows": null,
            "height": null,
            "justify_content": null,
            "justify_items": null,
            "left": null,
            "margin": null,
            "max_height": null,
            "max_width": null,
            "min_height": null,
            "min_width": null,
            "object_fit": null,
            "object_position": null,
            "order": null,
            "overflow": null,
            "overflow_x": null,
            "overflow_y": null,
            "padding": null,
            "right": null,
            "top": null,
            "visibility": null,
            "width": null
          }
        },
        "41e0408dbc374b7a92bae675ad91bc96": {
          "model_module": "@jupyter-widgets/base",
          "model_name": "LayoutModel",
          "model_module_version": "1.2.0",
          "state": {
            "_model_module": "@jupyter-widgets/base",
            "_model_module_version": "1.2.0",
            "_model_name": "LayoutModel",
            "_view_count": null,
            "_view_module": "@jupyter-widgets/base",
            "_view_module_version": "1.2.0",
            "_view_name": "LayoutView",
            "align_content": null,
            "align_items": null,
            "align_self": null,
            "border": null,
            "bottom": null,
            "display": null,
            "flex": null,
            "flex_flow": null,
            "grid_area": null,
            "grid_auto_columns": null,
            "grid_auto_flow": null,
            "grid_auto_rows": null,
            "grid_column": null,
            "grid_gap": null,
            "grid_row": null,
            "grid_template_areas": null,
            "grid_template_columns": null,
            "grid_template_rows": null,
            "height": null,
            "justify_content": null,
            "justify_items": null,
            "left": null,
            "margin": null,
            "max_height": null,
            "max_width": null,
            "min_height": null,
            "min_width": null,
            "object_fit": null,
            "object_position": null,
            "order": null,
            "overflow": null,
            "overflow_x": null,
            "overflow_y": null,
            "padding": null,
            "right": null,
            "top": null,
            "visibility": null,
            "width": null
          }
        },
        "6832d25058a549969d49519cbab3f79a": {
          "model_module": "@jupyter-widgets/controls",
          "model_name": "DescriptionStyleModel",
          "model_module_version": "1.5.0",
          "state": {
            "_model_module": "@jupyter-widgets/controls",
            "_model_module_version": "1.5.0",
            "_model_name": "DescriptionStyleModel",
            "_view_count": null,
            "_view_module": "@jupyter-widgets/base",
            "_view_module_version": "1.2.0",
            "_view_name": "StyleView",
            "description_width": ""
          }
        },
        "a2a82d1735274f2eb53917575453f0d6": {
          "model_module": "@jupyter-widgets/base",
          "model_name": "LayoutModel",
          "model_module_version": "1.2.0",
          "state": {
            "_model_module": "@jupyter-widgets/base",
            "_model_module_version": "1.2.0",
            "_model_name": "LayoutModel",
            "_view_count": null,
            "_view_module": "@jupyter-widgets/base",
            "_view_module_version": "1.2.0",
            "_view_name": "LayoutView",
            "align_content": null,
            "align_items": null,
            "align_self": null,
            "border": null,
            "bottom": null,
            "display": null,
            "flex": null,
            "flex_flow": null,
            "grid_area": null,
            "grid_auto_columns": null,
            "grid_auto_flow": null,
            "grid_auto_rows": null,
            "grid_column": null,
            "grid_gap": null,
            "grid_row": null,
            "grid_template_areas": null,
            "grid_template_columns": null,
            "grid_template_rows": null,
            "height": null,
            "justify_content": null,
            "justify_items": null,
            "left": null,
            "margin": null,
            "max_height": null,
            "max_width": null,
            "min_height": null,
            "min_width": null,
            "object_fit": null,
            "object_position": null,
            "order": null,
            "overflow": null,
            "overflow_x": null,
            "overflow_y": null,
            "padding": null,
            "right": null,
            "top": null,
            "visibility": null,
            "width": null
          }
        },
        "b80003c694e5496c9df677003d066d7f": {
          "model_module": "@jupyter-widgets/controls",
          "model_name": "ProgressStyleModel",
          "model_module_version": "1.5.0",
          "state": {
            "_model_module": "@jupyter-widgets/controls",
            "_model_module_version": "1.5.0",
            "_model_name": "ProgressStyleModel",
            "_view_count": null,
            "_view_module": "@jupyter-widgets/base",
            "_view_module_version": "1.2.0",
            "_view_name": "StyleView",
            "bar_color": null,
            "description_width": ""
          }
        },
        "e693144e30fe439183e5da05e0efd8ef": {
          "model_module": "@jupyter-widgets/base",
          "model_name": "LayoutModel",
          "model_module_version": "1.2.0",
          "state": {
            "_model_module": "@jupyter-widgets/base",
            "_model_module_version": "1.2.0",
            "_model_name": "LayoutModel",
            "_view_count": null,
            "_view_module": "@jupyter-widgets/base",
            "_view_module_version": "1.2.0",
            "_view_name": "LayoutView",
            "align_content": null,
            "align_items": null,
            "align_self": null,
            "border": null,
            "bottom": null,
            "display": null,
            "flex": null,
            "flex_flow": null,
            "grid_area": null,
            "grid_auto_columns": null,
            "grid_auto_flow": null,
            "grid_auto_rows": null,
            "grid_column": null,
            "grid_gap": null,
            "grid_row": null,
            "grid_template_areas": null,
            "grid_template_columns": null,
            "grid_template_rows": null,
            "height": null,
            "justify_content": null,
            "justify_items": null,
            "left": null,
            "margin": null,
            "max_height": null,
            "max_width": null,
            "min_height": null,
            "min_width": null,
            "object_fit": null,
            "object_position": null,
            "order": null,
            "overflow": null,
            "overflow_x": null,
            "overflow_y": null,
            "padding": null,
            "right": null,
            "top": null,
            "visibility": null,
            "width": null
          }
        },
        "9990de2fb46a403aa5e1f5b654d2afb6": {
          "model_module": "@jupyter-widgets/controls",
          "model_name": "DescriptionStyleModel",
          "model_module_version": "1.5.0",
          "state": {
            "_model_module": "@jupyter-widgets/controls",
            "_model_module_version": "1.5.0",
            "_model_name": "DescriptionStyleModel",
            "_view_count": null,
            "_view_module": "@jupyter-widgets/base",
            "_view_module_version": "1.2.0",
            "_view_name": "StyleView",
            "description_width": ""
          }
        },
        "832c85ddc8c842989ac60d1fa670c7ec": {
          "model_module": "@jupyter-widgets/controls",
          "model_name": "HBoxModel",
          "model_module_version": "1.5.0",
          "state": {
            "_dom_classes": [],
            "_model_module": "@jupyter-widgets/controls",
            "_model_module_version": "1.5.0",
            "_model_name": "HBoxModel",
            "_view_count": null,
            "_view_module": "@jupyter-widgets/controls",
            "_view_module_version": "1.5.0",
            "_view_name": "HBoxView",
            "box_style": "",
            "children": [
              "IPY_MODEL_af5980a101dd430bb81a6d8a005e8a18",
              "IPY_MODEL_bde3539826c84ffa97eea20e5cd68da4",
              "IPY_MODEL_08fd9e3f2ef44a20ae127a08e4ecda04"
            ],
            "layout": "IPY_MODEL_9d9474af6edf4d6e8318f1035983d417"
          }
        },
        "af5980a101dd430bb81a6d8a005e8a18": {
          "model_module": "@jupyter-widgets/controls",
          "model_name": "HTMLModel",
          "model_module_version": "1.5.0",
          "state": {
            "_dom_classes": [],
            "_model_module": "@jupyter-widgets/controls",
            "_model_module_version": "1.5.0",
            "_model_name": "HTMLModel",
            "_view_count": null,
            "_view_module": "@jupyter-widgets/controls",
            "_view_module_version": "1.5.0",
            "_view_name": "HTMLView",
            "description": "",
            "description_tooltip": null,
            "layout": "IPY_MODEL_61066883abae4a27bc458cc0f3a63b3a",
            "placeholder": "​",
            "style": "IPY_MODEL_eb5b647e232245fbac2f20fd510c4b54",
            "value": "preprocessor_config.json: 100%"
          }
        },
        "bde3539826c84ffa97eea20e5cd68da4": {
          "model_module": "@jupyter-widgets/controls",
          "model_name": "FloatProgressModel",
          "model_module_version": "1.5.0",
          "state": {
            "_dom_classes": [],
            "_model_module": "@jupyter-widgets/controls",
            "_model_module_version": "1.5.0",
            "_model_name": "FloatProgressModel",
            "_view_count": null,
            "_view_module": "@jupyter-widgets/controls",
            "_view_module_version": "1.5.0",
            "_view_name": "ProgressView",
            "bar_style": "success",
            "description": "",
            "description_tooltip": null,
            "layout": "IPY_MODEL_e9511ac34c8d4c2392b8d1b5787bf93c",
            "max": 340,
            "min": 0,
            "orientation": "horizontal",
            "style": "IPY_MODEL_c312a8868261484299fdb3ad6f981eb2",
            "value": 340
          }
        },
        "08fd9e3f2ef44a20ae127a08e4ecda04": {
          "model_module": "@jupyter-widgets/controls",
          "model_name": "HTMLModel",
          "model_module_version": "1.5.0",
          "state": {
            "_dom_classes": [],
            "_model_module": "@jupyter-widgets/controls",
            "_model_module_version": "1.5.0",
            "_model_name": "HTMLModel",
            "_view_count": null,
            "_view_module": "@jupyter-widgets/controls",
            "_view_module_version": "1.5.0",
            "_view_name": "HTMLView",
            "description": "",
            "description_tooltip": null,
            "layout": "IPY_MODEL_bff43658003b46b68798096f6b824c93",
            "placeholder": "​",
            "style": "IPY_MODEL_b8ee7ef2352a4e85b551017a6f98a3fe",
            "value": " 340/340 [00:00&lt;00:00, 4.41kB/s]"
          }
        },
        "9d9474af6edf4d6e8318f1035983d417": {
          "model_module": "@jupyter-widgets/base",
          "model_name": "LayoutModel",
          "model_module_version": "1.2.0",
          "state": {
            "_model_module": "@jupyter-widgets/base",
            "_model_module_version": "1.2.0",
            "_model_name": "LayoutModel",
            "_view_count": null,
            "_view_module": "@jupyter-widgets/base",
            "_view_module_version": "1.2.0",
            "_view_name": "LayoutView",
            "align_content": null,
            "align_items": null,
            "align_self": null,
            "border": null,
            "bottom": null,
            "display": null,
            "flex": null,
            "flex_flow": null,
            "grid_area": null,
            "grid_auto_columns": null,
            "grid_auto_flow": null,
            "grid_auto_rows": null,
            "grid_column": null,
            "grid_gap": null,
            "grid_row": null,
            "grid_template_areas": null,
            "grid_template_columns": null,
            "grid_template_rows": null,
            "height": null,
            "justify_content": null,
            "justify_items": null,
            "left": null,
            "margin": null,
            "max_height": null,
            "max_width": null,
            "min_height": null,
            "min_width": null,
            "object_fit": null,
            "object_position": null,
            "order": null,
            "overflow": null,
            "overflow_x": null,
            "overflow_y": null,
            "padding": null,
            "right": null,
            "top": null,
            "visibility": null,
            "width": null
          }
        },
        "61066883abae4a27bc458cc0f3a63b3a": {
          "model_module": "@jupyter-widgets/base",
          "model_name": "LayoutModel",
          "model_module_version": "1.2.0",
          "state": {
            "_model_module": "@jupyter-widgets/base",
            "_model_module_version": "1.2.0",
            "_model_name": "LayoutModel",
            "_view_count": null,
            "_view_module": "@jupyter-widgets/base",
            "_view_module_version": "1.2.0",
            "_view_name": "LayoutView",
            "align_content": null,
            "align_items": null,
            "align_self": null,
            "border": null,
            "bottom": null,
            "display": null,
            "flex": null,
            "flex_flow": null,
            "grid_area": null,
            "grid_auto_columns": null,
            "grid_auto_flow": null,
            "grid_auto_rows": null,
            "grid_column": null,
            "grid_gap": null,
            "grid_row": null,
            "grid_template_areas": null,
            "grid_template_columns": null,
            "grid_template_rows": null,
            "height": null,
            "justify_content": null,
            "justify_items": null,
            "left": null,
            "margin": null,
            "max_height": null,
            "max_width": null,
            "min_height": null,
            "min_width": null,
            "object_fit": null,
            "object_position": null,
            "order": null,
            "overflow": null,
            "overflow_x": null,
            "overflow_y": null,
            "padding": null,
            "right": null,
            "top": null,
            "visibility": null,
            "width": null
          }
        },
        "eb5b647e232245fbac2f20fd510c4b54": {
          "model_module": "@jupyter-widgets/controls",
          "model_name": "DescriptionStyleModel",
          "model_module_version": "1.5.0",
          "state": {
            "_model_module": "@jupyter-widgets/controls",
            "_model_module_version": "1.5.0",
            "_model_name": "DescriptionStyleModel",
            "_view_count": null,
            "_view_module": "@jupyter-widgets/base",
            "_view_module_version": "1.2.0",
            "_view_name": "StyleView",
            "description_width": ""
          }
        },
        "e9511ac34c8d4c2392b8d1b5787bf93c": {
          "model_module": "@jupyter-widgets/base",
          "model_name": "LayoutModel",
          "model_module_version": "1.2.0",
          "state": {
            "_model_module": "@jupyter-widgets/base",
            "_model_module_version": "1.2.0",
            "_model_name": "LayoutModel",
            "_view_count": null,
            "_view_module": "@jupyter-widgets/base",
            "_view_module_version": "1.2.0",
            "_view_name": "LayoutView",
            "align_content": null,
            "align_items": null,
            "align_self": null,
            "border": null,
            "bottom": null,
            "display": null,
            "flex": null,
            "flex_flow": null,
            "grid_area": null,
            "grid_auto_columns": null,
            "grid_auto_flow": null,
            "grid_auto_rows": null,
            "grid_column": null,
            "grid_gap": null,
            "grid_row": null,
            "grid_template_areas": null,
            "grid_template_columns": null,
            "grid_template_rows": null,
            "height": null,
            "justify_content": null,
            "justify_items": null,
            "left": null,
            "margin": null,
            "max_height": null,
            "max_width": null,
            "min_height": null,
            "min_width": null,
            "object_fit": null,
            "object_position": null,
            "order": null,
            "overflow": null,
            "overflow_x": null,
            "overflow_y": null,
            "padding": null,
            "right": null,
            "top": null,
            "visibility": null,
            "width": null
          }
        },
        "c312a8868261484299fdb3ad6f981eb2": {
          "model_module": "@jupyter-widgets/controls",
          "model_name": "ProgressStyleModel",
          "model_module_version": "1.5.0",
          "state": {
            "_model_module": "@jupyter-widgets/controls",
            "_model_module_version": "1.5.0",
            "_model_name": "ProgressStyleModel",
            "_view_count": null,
            "_view_module": "@jupyter-widgets/base",
            "_view_module_version": "1.2.0",
            "_view_name": "StyleView",
            "bar_color": null,
            "description_width": ""
          }
        },
        "bff43658003b46b68798096f6b824c93": {
          "model_module": "@jupyter-widgets/base",
          "model_name": "LayoutModel",
          "model_module_version": "1.2.0",
          "state": {
            "_model_module": "@jupyter-widgets/base",
            "_model_module_version": "1.2.0",
            "_model_name": "LayoutModel",
            "_view_count": null,
            "_view_module": "@jupyter-widgets/base",
            "_view_module_version": "1.2.0",
            "_view_name": "LayoutView",
            "align_content": null,
            "align_items": null,
            "align_self": null,
            "border": null,
            "bottom": null,
            "display": null,
            "flex": null,
            "flex_flow": null,
            "grid_area": null,
            "grid_auto_columns": null,
            "grid_auto_flow": null,
            "grid_auto_rows": null,
            "grid_column": null,
            "grid_gap": null,
            "grid_row": null,
            "grid_template_areas": null,
            "grid_template_columns": null,
            "grid_template_rows": null,
            "height": null,
            "justify_content": null,
            "justify_items": null,
            "left": null,
            "margin": null,
            "max_height": null,
            "max_width": null,
            "min_height": null,
            "min_width": null,
            "object_fit": null,
            "object_position": null,
            "order": null,
            "overflow": null,
            "overflow_x": null,
            "overflow_y": null,
            "padding": null,
            "right": null,
            "top": null,
            "visibility": null,
            "width": null
          }
        },
        "b8ee7ef2352a4e85b551017a6f98a3fe": {
          "model_module": "@jupyter-widgets/controls",
          "model_name": "DescriptionStyleModel",
          "model_module_version": "1.5.0",
          "state": {
            "_model_module": "@jupyter-widgets/controls",
            "_model_module_version": "1.5.0",
            "_model_name": "DescriptionStyleModel",
            "_view_count": null,
            "_view_module": "@jupyter-widgets/base",
            "_view_module_version": "1.2.0",
            "_view_name": "StyleView",
            "description_width": ""
          }
        },
        "fc8be0a445034403a5770245f4650a4c": {
          "model_module": "@jupyter-widgets/controls",
          "model_name": "HBoxModel",
          "model_module_version": "1.5.0",
          "state": {
            "_dom_classes": [],
            "_model_module": "@jupyter-widgets/controls",
            "_model_module_version": "1.5.0",
            "_model_name": "HBoxModel",
            "_view_count": null,
            "_view_module": "@jupyter-widgets/controls",
            "_view_module_version": "1.5.0",
            "_view_name": "HBoxView",
            "box_style": "",
            "children": [
              "IPY_MODEL_16ab59eee8314dc28cc7cfe62661dd5d",
              "IPY_MODEL_b9c4daae4da4479d9943799fafeb2147",
              "IPY_MODEL_3c5291a5c0c54f18a4f6a44112fd0006"
            ],
            "layout": "IPY_MODEL_64a9b07efe4f4373a302a33fb5656545"
          }
        },
        "16ab59eee8314dc28cc7cfe62661dd5d": {
          "model_module": "@jupyter-widgets/controls",
          "model_name": "HTMLModel",
          "model_module_version": "1.5.0",
          "state": {
            "_dom_classes": [],
            "_model_module": "@jupyter-widgets/controls",
            "_model_module_version": "1.5.0",
            "_model_name": "HTMLModel",
            "_view_count": null,
            "_view_module": "@jupyter-widgets/controls",
            "_view_module_version": "1.5.0",
            "_view_name": "HTMLView",
            "description": "",
            "description_tooltip": null,
            "layout": "IPY_MODEL_8099eb4c19b84f53b6100d7afd8c8d34",
            "placeholder": "​",
            "style": "IPY_MODEL_82d929773e58485fbecafc4f95ecda9e",
            "value": "config.json: 100%"
          }
        },
        "b9c4daae4da4479d9943799fafeb2147": {
          "model_module": "@jupyter-widgets/controls",
          "model_name": "FloatProgressModel",
          "model_module_version": "1.5.0",
          "state": {
            "_dom_classes": [],
            "_model_module": "@jupyter-widgets/controls",
            "_model_module_version": "1.5.0",
            "_model_name": "FloatProgressModel",
            "_view_count": null,
            "_view_module": "@jupyter-widgets/controls",
            "_view_module_version": "1.5.0",
            "_view_name": "ProgressView",
            "bar_style": "success",
            "description": "",
            "description_tooltip": null,
            "layout": "IPY_MODEL_bdd082a7b3ea4d499b0e141ad97810a6",
            "max": 2394,
            "min": 0,
            "orientation": "horizontal",
            "style": "IPY_MODEL_a53240816ef1438cbb23df50d25ed7c0",
            "value": 2394
          }
        },
        "3c5291a5c0c54f18a4f6a44112fd0006": {
          "model_module": "@jupyter-widgets/controls",
          "model_name": "HTMLModel",
          "model_module_version": "1.5.0",
          "state": {
            "_dom_classes": [],
            "_model_module": "@jupyter-widgets/controls",
            "_model_module_version": "1.5.0",
            "_model_name": "HTMLModel",
            "_view_count": null,
            "_view_module": "@jupyter-widgets/controls",
            "_view_module_version": "1.5.0",
            "_view_name": "HTMLView",
            "description": "",
            "description_tooltip": null,
            "layout": "IPY_MODEL_b94cbce2a43e4e449fb0192ebbc5318c",
            "placeholder": "​",
            "style": "IPY_MODEL_b58d31695b9f452fad50fce736dbfa79",
            "value": " 2.39k/2.39k [00:00&lt;00:00, 60.5kB/s]"
          }
        },
        "64a9b07efe4f4373a302a33fb5656545": {
          "model_module": "@jupyter-widgets/base",
          "model_name": "LayoutModel",
          "model_module_version": "1.2.0",
          "state": {
            "_model_module": "@jupyter-widgets/base",
            "_model_module_version": "1.2.0",
            "_model_name": "LayoutModel",
            "_view_count": null,
            "_view_module": "@jupyter-widgets/base",
            "_view_module_version": "1.2.0",
            "_view_name": "LayoutView",
            "align_content": null,
            "align_items": null,
            "align_self": null,
            "border": null,
            "bottom": null,
            "display": null,
            "flex": null,
            "flex_flow": null,
            "grid_area": null,
            "grid_auto_columns": null,
            "grid_auto_flow": null,
            "grid_auto_rows": null,
            "grid_column": null,
            "grid_gap": null,
            "grid_row": null,
            "grid_template_areas": null,
            "grid_template_columns": null,
            "grid_template_rows": null,
            "height": null,
            "justify_content": null,
            "justify_items": null,
            "left": null,
            "margin": null,
            "max_height": null,
            "max_width": null,
            "min_height": null,
            "min_width": null,
            "object_fit": null,
            "object_position": null,
            "order": null,
            "overflow": null,
            "overflow_x": null,
            "overflow_y": null,
            "padding": null,
            "right": null,
            "top": null,
            "visibility": null,
            "width": null
          }
        },
        "8099eb4c19b84f53b6100d7afd8c8d34": {
          "model_module": "@jupyter-widgets/base",
          "model_name": "LayoutModel",
          "model_module_version": "1.2.0",
          "state": {
            "_model_module": "@jupyter-widgets/base",
            "_model_module_version": "1.2.0",
            "_model_name": "LayoutModel",
            "_view_count": null,
            "_view_module": "@jupyter-widgets/base",
            "_view_module_version": "1.2.0",
            "_view_name": "LayoutView",
            "align_content": null,
            "align_items": null,
            "align_self": null,
            "border": null,
            "bottom": null,
            "display": null,
            "flex": null,
            "flex_flow": null,
            "grid_area": null,
            "grid_auto_columns": null,
            "grid_auto_flow": null,
            "grid_auto_rows": null,
            "grid_column": null,
            "grid_gap": null,
            "grid_row": null,
            "grid_template_areas": null,
            "grid_template_columns": null,
            "grid_template_rows": null,
            "height": null,
            "justify_content": null,
            "justify_items": null,
            "left": null,
            "margin": null,
            "max_height": null,
            "max_width": null,
            "min_height": null,
            "min_width": null,
            "object_fit": null,
            "object_position": null,
            "order": null,
            "overflow": null,
            "overflow_x": null,
            "overflow_y": null,
            "padding": null,
            "right": null,
            "top": null,
            "visibility": null,
            "width": null
          }
        },
        "82d929773e58485fbecafc4f95ecda9e": {
          "model_module": "@jupyter-widgets/controls",
          "model_name": "DescriptionStyleModel",
          "model_module_version": "1.5.0",
          "state": {
            "_model_module": "@jupyter-widgets/controls",
            "_model_module_version": "1.5.0",
            "_model_name": "DescriptionStyleModel",
            "_view_count": null,
            "_view_module": "@jupyter-widgets/base",
            "_view_module_version": "1.2.0",
            "_view_name": "StyleView",
            "description_width": ""
          }
        },
        "bdd082a7b3ea4d499b0e141ad97810a6": {
          "model_module": "@jupyter-widgets/base",
          "model_name": "LayoutModel",
          "model_module_version": "1.2.0",
          "state": {
            "_model_module": "@jupyter-widgets/base",
            "_model_module_version": "1.2.0",
            "_model_name": "LayoutModel",
            "_view_count": null,
            "_view_module": "@jupyter-widgets/base",
            "_view_module_version": "1.2.0",
            "_view_name": "LayoutView",
            "align_content": null,
            "align_items": null,
            "align_self": null,
            "border": null,
            "bottom": null,
            "display": null,
            "flex": null,
            "flex_flow": null,
            "grid_area": null,
            "grid_auto_columns": null,
            "grid_auto_flow": null,
            "grid_auto_rows": null,
            "grid_column": null,
            "grid_gap": null,
            "grid_row": null,
            "grid_template_areas": null,
            "grid_template_columns": null,
            "grid_template_rows": null,
            "height": null,
            "justify_content": null,
            "justify_items": null,
            "left": null,
            "margin": null,
            "max_height": null,
            "max_width": null,
            "min_height": null,
            "min_width": null,
            "object_fit": null,
            "object_position": null,
            "order": null,
            "overflow": null,
            "overflow_x": null,
            "overflow_y": null,
            "padding": null,
            "right": null,
            "top": null,
            "visibility": null,
            "width": null
          }
        },
        "a53240816ef1438cbb23df50d25ed7c0": {
          "model_module": "@jupyter-widgets/controls",
          "model_name": "ProgressStyleModel",
          "model_module_version": "1.5.0",
          "state": {
            "_model_module": "@jupyter-widgets/controls",
            "_model_module_version": "1.5.0",
            "_model_name": "ProgressStyleModel",
            "_view_count": null,
            "_view_module": "@jupyter-widgets/base",
            "_view_module_version": "1.2.0",
            "_view_name": "StyleView",
            "bar_color": null,
            "description_width": ""
          }
        },
        "b94cbce2a43e4e449fb0192ebbc5318c": {
          "model_module": "@jupyter-widgets/base",
          "model_name": "LayoutModel",
          "model_module_version": "1.2.0",
          "state": {
            "_model_module": "@jupyter-widgets/base",
            "_model_module_version": "1.2.0",
            "_model_name": "LayoutModel",
            "_view_count": null,
            "_view_module": "@jupyter-widgets/base",
            "_view_module_version": "1.2.0",
            "_view_name": "LayoutView",
            "align_content": null,
            "align_items": null,
            "align_self": null,
            "border": null,
            "bottom": null,
            "display": null,
            "flex": null,
            "flex_flow": null,
            "grid_area": null,
            "grid_auto_columns": null,
            "grid_auto_flow": null,
            "grid_auto_rows": null,
            "grid_column": null,
            "grid_gap": null,
            "grid_row": null,
            "grid_template_areas": null,
            "grid_template_columns": null,
            "grid_template_rows": null,
            "height": null,
            "justify_content": null,
            "justify_items": null,
            "left": null,
            "margin": null,
            "max_height": null,
            "max_width": null,
            "min_height": null,
            "min_width": null,
            "object_fit": null,
            "object_position": null,
            "order": null,
            "overflow": null,
            "overflow_x": null,
            "overflow_y": null,
            "padding": null,
            "right": null,
            "top": null,
            "visibility": null,
            "width": null
          }
        },
        "b58d31695b9f452fad50fce736dbfa79": {
          "model_module": "@jupyter-widgets/controls",
          "model_name": "DescriptionStyleModel",
          "model_module_version": "1.5.0",
          "state": {
            "_model_module": "@jupyter-widgets/controls",
            "_model_module_version": "1.5.0",
            "_model_name": "DescriptionStyleModel",
            "_view_count": null,
            "_view_module": "@jupyter-widgets/base",
            "_view_module_version": "1.2.0",
            "_view_name": "StyleView",
            "description_width": ""
          }
        },
        "8fe0cad249f54486b81195c34251c206": {
          "model_module": "@jupyter-widgets/controls",
          "model_name": "HBoxModel",
          "model_module_version": "1.5.0",
          "state": {
            "_dom_classes": [],
            "_model_module": "@jupyter-widgets/controls",
            "_model_module_version": "1.5.0",
            "_model_name": "HBoxModel",
            "_view_count": null,
            "_view_module": "@jupyter-widgets/controls",
            "_view_module_version": "1.5.0",
            "_view_name": "HBoxView",
            "box_style": "",
            "children": [
              "IPY_MODEL_a9ef3d09f7664559bfb5d680c93f974c",
              "IPY_MODEL_1440381b2fc5421abe69f203b212bc2b",
              "IPY_MODEL_e8d5f1279edb4ef5b430c94015898992"
            ],
            "layout": "IPY_MODEL_1ca0dcb5a33e48c0a2d8722e9642c371"
          }
        },
        "a9ef3d09f7664559bfb5d680c93f974c": {
          "model_module": "@jupyter-widgets/controls",
          "model_name": "HTMLModel",
          "model_module_version": "1.5.0",
          "state": {
            "_dom_classes": [],
            "_model_module": "@jupyter-widgets/controls",
            "_model_module_version": "1.5.0",
            "_model_name": "HTMLModel",
            "_view_count": null,
            "_view_module": "@jupyter-widgets/controls",
            "_view_module_version": "1.5.0",
            "_view_name": "HTMLView",
            "description": "",
            "description_tooltip": null,
            "layout": "IPY_MODEL_5b311f9f9aa94c8d835417be22370f41",
            "placeholder": "​",
            "style": "IPY_MODEL_c8b740a48adc4a769a54c1a533b5023c",
            "value": "config.json: 100%"
          }
        },
        "1440381b2fc5421abe69f203b212bc2b": {
          "model_module": "@jupyter-widgets/controls",
          "model_name": "FloatProgressModel",
          "model_module_version": "1.5.0",
          "state": {
            "_dom_classes": [],
            "_model_module": "@jupyter-widgets/controls",
            "_model_module_version": "1.5.0",
            "_model_name": "FloatProgressModel",
            "_view_count": null,
            "_view_module": "@jupyter-widgets/controls",
            "_view_module_version": "1.5.0",
            "_view_name": "ProgressView",
            "bar_style": "success",
            "description": "",
            "description_tooltip": null,
            "layout": "IPY_MODEL_6934bae1dc714717874818edb229ed39",
            "max": 914,
            "min": 0,
            "orientation": "horizontal",
            "style": "IPY_MODEL_23c000d3a5b74f24876738ec1353a4ac",
            "value": 914
          }
        },
        "e8d5f1279edb4ef5b430c94015898992": {
          "model_module": "@jupyter-widgets/controls",
          "model_name": "HTMLModel",
          "model_module_version": "1.5.0",
          "state": {
            "_dom_classes": [],
            "_model_module": "@jupyter-widgets/controls",
            "_model_module_version": "1.5.0",
            "_model_name": "HTMLModel",
            "_view_count": null,
            "_view_module": "@jupyter-widgets/controls",
            "_view_module_version": "1.5.0",
            "_view_name": "HTMLView",
            "description": "",
            "description_tooltip": null,
            "layout": "IPY_MODEL_de5ffb94059543538072065c40081119",
            "placeholder": "​",
            "style": "IPY_MODEL_c273d30f2e474a29b78f43fa96a72090",
            "value": " 914/914 [00:00&lt;00:00, 53.4kB/s]"
          }
        },
        "1ca0dcb5a33e48c0a2d8722e9642c371": {
          "model_module": "@jupyter-widgets/base",
          "model_name": "LayoutModel",
          "model_module_version": "1.2.0",
          "state": {
            "_model_module": "@jupyter-widgets/base",
            "_model_module_version": "1.2.0",
            "_model_name": "LayoutModel",
            "_view_count": null,
            "_view_module": "@jupyter-widgets/base",
            "_view_module_version": "1.2.0",
            "_view_name": "LayoutView",
            "align_content": null,
            "align_items": null,
            "align_self": null,
            "border": null,
            "bottom": null,
            "display": null,
            "flex": null,
            "flex_flow": null,
            "grid_area": null,
            "grid_auto_columns": null,
            "grid_auto_flow": null,
            "grid_auto_rows": null,
            "grid_column": null,
            "grid_gap": null,
            "grid_row": null,
            "grid_template_areas": null,
            "grid_template_columns": null,
            "grid_template_rows": null,
            "height": null,
            "justify_content": null,
            "justify_items": null,
            "left": null,
            "margin": null,
            "max_height": null,
            "max_width": null,
            "min_height": null,
            "min_width": null,
            "object_fit": null,
            "object_position": null,
            "order": null,
            "overflow": null,
            "overflow_x": null,
            "overflow_y": null,
            "padding": null,
            "right": null,
            "top": null,
            "visibility": null,
            "width": null
          }
        },
        "5b311f9f9aa94c8d835417be22370f41": {
          "model_module": "@jupyter-widgets/base",
          "model_name": "LayoutModel",
          "model_module_version": "1.2.0",
          "state": {
            "_model_module": "@jupyter-widgets/base",
            "_model_module_version": "1.2.0",
            "_model_name": "LayoutModel",
            "_view_count": null,
            "_view_module": "@jupyter-widgets/base",
            "_view_module_version": "1.2.0",
            "_view_name": "LayoutView",
            "align_content": null,
            "align_items": null,
            "align_self": null,
            "border": null,
            "bottom": null,
            "display": null,
            "flex": null,
            "flex_flow": null,
            "grid_area": null,
            "grid_auto_columns": null,
            "grid_auto_flow": null,
            "grid_auto_rows": null,
            "grid_column": null,
            "grid_gap": null,
            "grid_row": null,
            "grid_template_areas": null,
            "grid_template_columns": null,
            "grid_template_rows": null,
            "height": null,
            "justify_content": null,
            "justify_items": null,
            "left": null,
            "margin": null,
            "max_height": null,
            "max_width": null,
            "min_height": null,
            "min_width": null,
            "object_fit": null,
            "object_position": null,
            "order": null,
            "overflow": null,
            "overflow_x": null,
            "overflow_y": null,
            "padding": null,
            "right": null,
            "top": null,
            "visibility": null,
            "width": null
          }
        },
        "c8b740a48adc4a769a54c1a533b5023c": {
          "model_module": "@jupyter-widgets/controls",
          "model_name": "DescriptionStyleModel",
          "model_module_version": "1.5.0",
          "state": {
            "_model_module": "@jupyter-widgets/controls",
            "_model_module_version": "1.5.0",
            "_model_name": "DescriptionStyleModel",
            "_view_count": null,
            "_view_module": "@jupyter-widgets/base",
            "_view_module_version": "1.2.0",
            "_view_name": "StyleView",
            "description_width": ""
          }
        },
        "6934bae1dc714717874818edb229ed39": {
          "model_module": "@jupyter-widgets/base",
          "model_name": "LayoutModel",
          "model_module_version": "1.2.0",
          "state": {
            "_model_module": "@jupyter-widgets/base",
            "_model_module_version": "1.2.0",
            "_model_name": "LayoutModel",
            "_view_count": null,
            "_view_module": "@jupyter-widgets/base",
            "_view_module_version": "1.2.0",
            "_view_name": "LayoutView",
            "align_content": null,
            "align_items": null,
            "align_self": null,
            "border": null,
            "bottom": null,
            "display": null,
            "flex": null,
            "flex_flow": null,
            "grid_area": null,
            "grid_auto_columns": null,
            "grid_auto_flow": null,
            "grid_auto_rows": null,
            "grid_column": null,
            "grid_gap": null,
            "grid_row": null,
            "grid_template_areas": null,
            "grid_template_columns": null,
            "grid_template_rows": null,
            "height": null,
            "justify_content": null,
            "justify_items": null,
            "left": null,
            "margin": null,
            "max_height": null,
            "max_width": null,
            "min_height": null,
            "min_width": null,
            "object_fit": null,
            "object_position": null,
            "order": null,
            "overflow": null,
            "overflow_x": null,
            "overflow_y": null,
            "padding": null,
            "right": null,
            "top": null,
            "visibility": null,
            "width": null
          }
        },
        "23c000d3a5b74f24876738ec1353a4ac": {
          "model_module": "@jupyter-widgets/controls",
          "model_name": "ProgressStyleModel",
          "model_module_version": "1.5.0",
          "state": {
            "_model_module": "@jupyter-widgets/controls",
            "_model_module_version": "1.5.0",
            "_model_name": "ProgressStyleModel",
            "_view_count": null,
            "_view_module": "@jupyter-widgets/base",
            "_view_module_version": "1.2.0",
            "_view_name": "StyleView",
            "bar_color": null,
            "description_width": ""
          }
        },
        "de5ffb94059543538072065c40081119": {
          "model_module": "@jupyter-widgets/base",
          "model_name": "LayoutModel",
          "model_module_version": "1.2.0",
          "state": {
            "_model_module": "@jupyter-widgets/base",
            "_model_module_version": "1.2.0",
            "_model_name": "LayoutModel",
            "_view_count": null,
            "_view_module": "@jupyter-widgets/base",
            "_view_module_version": "1.2.0",
            "_view_name": "LayoutView",
            "align_content": null,
            "align_items": null,
            "align_self": null,
            "border": null,
            "bottom": null,
            "display": null,
            "flex": null,
            "flex_flow": null,
            "grid_area": null,
            "grid_auto_columns": null,
            "grid_auto_flow": null,
            "grid_auto_rows": null,
            "grid_column": null,
            "grid_gap": null,
            "grid_row": null,
            "grid_template_areas": null,
            "grid_template_columns": null,
            "grid_template_rows": null,
            "height": null,
            "justify_content": null,
            "justify_items": null,
            "left": null,
            "margin": null,
            "max_height": null,
            "max_width": null,
            "min_height": null,
            "min_width": null,
            "object_fit": null,
            "object_position": null,
            "order": null,
            "overflow": null,
            "overflow_x": null,
            "overflow_y": null,
            "padding": null,
            "right": null,
            "top": null,
            "visibility": null,
            "width": null
          }
        },
        "c273d30f2e474a29b78f43fa96a72090": {
          "model_module": "@jupyter-widgets/controls",
          "model_name": "DescriptionStyleModel",
          "model_module_version": "1.5.0",
          "state": {
            "_model_module": "@jupyter-widgets/controls",
            "_model_module_version": "1.5.0",
            "_model_name": "DescriptionStyleModel",
            "_view_count": null,
            "_view_module": "@jupyter-widgets/base",
            "_view_module_version": "1.2.0",
            "_view_name": "StyleView",
            "description_width": ""
          }
        },
        "9533579b548344e399ea4b0cb2e936c0": {
          "model_module": "@jupyter-widgets/controls",
          "model_name": "HBoxModel",
          "model_module_version": "1.5.0",
          "state": {
            "_dom_classes": [],
            "_model_module": "@jupyter-widgets/controls",
            "_model_module_version": "1.5.0",
            "_model_name": "HBoxModel",
            "_view_count": null,
            "_view_module": "@jupyter-widgets/controls",
            "_view_module_version": "1.5.0",
            "_view_name": "HBoxView",
            "box_style": "",
            "children": [
              "IPY_MODEL_fe40b3f7afd6478e91dbb2c74d3e3dc7",
              "IPY_MODEL_afae46746f7d4756b4398b6c89543eb8",
              "IPY_MODEL_82f9763a4dbb477fbda62bd6a434accd"
            ],
            "layout": "IPY_MODEL_bf2ad8031d0143feb4037e70affe0a61"
          }
        },
        "fe40b3f7afd6478e91dbb2c74d3e3dc7": {
          "model_module": "@jupyter-widgets/controls",
          "model_name": "HTMLModel",
          "model_module_version": "1.5.0",
          "state": {
            "_dom_classes": [],
            "_model_module": "@jupyter-widgets/controls",
            "_model_module_version": "1.5.0",
            "_model_name": "HTMLModel",
            "_view_count": null,
            "_view_module": "@jupyter-widgets/controls",
            "_view_module_version": "1.5.0",
            "_view_name": "HTMLView",
            "description": "",
            "description_tooltip": null,
            "layout": "IPY_MODEL_79bfa8e52c224b518dd6883f47b8c5a0",
            "placeholder": "​",
            "style": "IPY_MODEL_5299146786be4edb91dea15310ea1e97",
            "value": "pytorch_model.bin: 100%"
          }
        },
        "afae46746f7d4756b4398b6c89543eb8": {
          "model_module": "@jupyter-widgets/controls",
          "model_name": "FloatProgressModel",
          "model_module_version": "1.5.0",
          "state": {
            "_dom_classes": [],
            "_model_module": "@jupyter-widgets/controls",
            "_model_module_version": "1.5.0",
            "_model_name": "FloatProgressModel",
            "_view_count": null,
            "_view_module": "@jupyter-widgets/controls",
            "_view_module_version": "1.5.0",
            "_view_name": "ProgressView",
            "bar_style": "success",
            "description": "",
            "description_tooltip": null,
            "layout": "IPY_MODEL_7ceb2bc00c644496b99afef754763f57",
            "max": 1109901745,
            "min": 0,
            "orientation": "horizontal",
            "style": "IPY_MODEL_4704fdf004da469b85516a04bb058911",
            "value": 1109901745
          }
        },
        "82f9763a4dbb477fbda62bd6a434accd": {
          "model_module": "@jupyter-widgets/controls",
          "model_name": "HTMLModel",
          "model_module_version": "1.5.0",
          "state": {
            "_dom_classes": [],
            "_model_module": "@jupyter-widgets/controls",
            "_model_module_version": "1.5.0",
            "_model_name": "HTMLModel",
            "_view_count": null,
            "_view_module": "@jupyter-widgets/controls",
            "_view_module_version": "1.5.0",
            "_view_name": "HTMLView",
            "description": "",
            "description_tooltip": null,
            "layout": "IPY_MODEL_3389a1e612844d948cc6951ff714d185",
            "placeholder": "​",
            "style": "IPY_MODEL_d525561f2e5240bab8c6fc077fcab62a",
            "value": " 1.11G/1.11G [00:12&lt;00:00, 134MB/s]"
          }
        },
        "bf2ad8031d0143feb4037e70affe0a61": {
          "model_module": "@jupyter-widgets/base",
          "model_name": "LayoutModel",
          "model_module_version": "1.2.0",
          "state": {
            "_model_module": "@jupyter-widgets/base",
            "_model_module_version": "1.2.0",
            "_model_name": "LayoutModel",
            "_view_count": null,
            "_view_module": "@jupyter-widgets/base",
            "_view_module_version": "1.2.0",
            "_view_name": "LayoutView",
            "align_content": null,
            "align_items": null,
            "align_self": null,
            "border": null,
            "bottom": null,
            "display": null,
            "flex": null,
            "flex_flow": null,
            "grid_area": null,
            "grid_auto_columns": null,
            "grid_auto_flow": null,
            "grid_auto_rows": null,
            "grid_column": null,
            "grid_gap": null,
            "grid_row": null,
            "grid_template_areas": null,
            "grid_template_columns": null,
            "grid_template_rows": null,
            "height": null,
            "justify_content": null,
            "justify_items": null,
            "left": null,
            "margin": null,
            "max_height": null,
            "max_width": null,
            "min_height": null,
            "min_width": null,
            "object_fit": null,
            "object_position": null,
            "order": null,
            "overflow": null,
            "overflow_x": null,
            "overflow_y": null,
            "padding": null,
            "right": null,
            "top": null,
            "visibility": null,
            "width": null
          }
        },
        "79bfa8e52c224b518dd6883f47b8c5a0": {
          "model_module": "@jupyter-widgets/base",
          "model_name": "LayoutModel",
          "model_module_version": "1.2.0",
          "state": {
            "_model_module": "@jupyter-widgets/base",
            "_model_module_version": "1.2.0",
            "_model_name": "LayoutModel",
            "_view_count": null,
            "_view_module": "@jupyter-widgets/base",
            "_view_module_version": "1.2.0",
            "_view_name": "LayoutView",
            "align_content": null,
            "align_items": null,
            "align_self": null,
            "border": null,
            "bottom": null,
            "display": null,
            "flex": null,
            "flex_flow": null,
            "grid_area": null,
            "grid_auto_columns": null,
            "grid_auto_flow": null,
            "grid_auto_rows": null,
            "grid_column": null,
            "grid_gap": null,
            "grid_row": null,
            "grid_template_areas": null,
            "grid_template_columns": null,
            "grid_template_rows": null,
            "height": null,
            "justify_content": null,
            "justify_items": null,
            "left": null,
            "margin": null,
            "max_height": null,
            "max_width": null,
            "min_height": null,
            "min_width": null,
            "object_fit": null,
            "object_position": null,
            "order": null,
            "overflow": null,
            "overflow_x": null,
            "overflow_y": null,
            "padding": null,
            "right": null,
            "top": null,
            "visibility": null,
            "width": null
          }
        },
        "5299146786be4edb91dea15310ea1e97": {
          "model_module": "@jupyter-widgets/controls",
          "model_name": "DescriptionStyleModel",
          "model_module_version": "1.5.0",
          "state": {
            "_model_module": "@jupyter-widgets/controls",
            "_model_module_version": "1.5.0",
            "_model_name": "DescriptionStyleModel",
            "_view_count": null,
            "_view_module": "@jupyter-widgets/base",
            "_view_module_version": "1.2.0",
            "_view_name": "StyleView",
            "description_width": ""
          }
        },
        "7ceb2bc00c644496b99afef754763f57": {
          "model_module": "@jupyter-widgets/base",
          "model_name": "LayoutModel",
          "model_module_version": "1.2.0",
          "state": {
            "_model_module": "@jupyter-widgets/base",
            "_model_module_version": "1.2.0",
            "_model_name": "LayoutModel",
            "_view_count": null,
            "_view_module": "@jupyter-widgets/base",
            "_view_module_version": "1.2.0",
            "_view_name": "LayoutView",
            "align_content": null,
            "align_items": null,
            "align_self": null,
            "border": null,
            "bottom": null,
            "display": null,
            "flex": null,
            "flex_flow": null,
            "grid_area": null,
            "grid_auto_columns": null,
            "grid_auto_flow": null,
            "grid_auto_rows": null,
            "grid_column": null,
            "grid_gap": null,
            "grid_row": null,
            "grid_template_areas": null,
            "grid_template_columns": null,
            "grid_template_rows": null,
            "height": null,
            "justify_content": null,
            "justify_items": null,
            "left": null,
            "margin": null,
            "max_height": null,
            "max_width": null,
            "min_height": null,
            "min_width": null,
            "object_fit": null,
            "object_position": null,
            "order": null,
            "overflow": null,
            "overflow_x": null,
            "overflow_y": null,
            "padding": null,
            "right": null,
            "top": null,
            "visibility": null,
            "width": null
          }
        },
        "4704fdf004da469b85516a04bb058911": {
          "model_module": "@jupyter-widgets/controls",
          "model_name": "ProgressStyleModel",
          "model_module_version": "1.5.0",
          "state": {
            "_model_module": "@jupyter-widgets/controls",
            "_model_module_version": "1.5.0",
            "_model_name": "ProgressStyleModel",
            "_view_count": null,
            "_view_module": "@jupyter-widgets/base",
            "_view_module_version": "1.2.0",
            "_view_name": "StyleView",
            "bar_color": null,
            "description_width": ""
          }
        },
        "3389a1e612844d948cc6951ff714d185": {
          "model_module": "@jupyter-widgets/base",
          "model_name": "LayoutModel",
          "model_module_version": "1.2.0",
          "state": {
            "_model_module": "@jupyter-widgets/base",
            "_model_module_version": "1.2.0",
            "_model_name": "LayoutModel",
            "_view_count": null,
            "_view_module": "@jupyter-widgets/base",
            "_view_module_version": "1.2.0",
            "_view_name": "LayoutView",
            "align_content": null,
            "align_items": null,
            "align_self": null,
            "border": null,
            "bottom": null,
            "display": null,
            "flex": null,
            "flex_flow": null,
            "grid_area": null,
            "grid_auto_columns": null,
            "grid_auto_flow": null,
            "grid_auto_rows": null,
            "grid_column": null,
            "grid_gap": null,
            "grid_row": null,
            "grid_template_areas": null,
            "grid_template_columns": null,
            "grid_template_rows": null,
            "height": null,
            "justify_content": null,
            "justify_items": null,
            "left": null,
            "margin": null,
            "max_height": null,
            "max_width": null,
            "min_height": null,
            "min_width": null,
            "object_fit": null,
            "object_position": null,
            "order": null,
            "overflow": null,
            "overflow_x": null,
            "overflow_y": null,
            "padding": null,
            "right": null,
            "top": null,
            "visibility": null,
            "width": null
          }
        },
        "d525561f2e5240bab8c6fc077fcab62a": {
          "model_module": "@jupyter-widgets/controls",
          "model_name": "DescriptionStyleModel",
          "model_module_version": "1.5.0",
          "state": {
            "_model_module": "@jupyter-widgets/controls",
            "_model_module_version": "1.5.0",
            "_model_name": "DescriptionStyleModel",
            "_view_count": null,
            "_view_module": "@jupyter-widgets/base",
            "_view_module_version": "1.2.0",
            "_view_name": "StyleView",
            "description_width": ""
          }
        },
        "32adc8d6c7da408e88421412a9d583f2": {
          "model_module": "@jupyter-widgets/controls",
          "model_name": "HBoxModel",
          "model_module_version": "1.5.0",
          "state": {
            "_dom_classes": [],
            "_model_module": "@jupyter-widgets/controls",
            "_model_module_version": "1.5.0",
            "_model_name": "HBoxModel",
            "_view_count": null,
            "_view_module": "@jupyter-widgets/controls",
            "_view_module_version": "1.5.0",
            "_view_name": "HBoxView",
            "box_style": "",
            "children": [
              "IPY_MODEL_450c536f94494733bdcd3c3a07571261",
              "IPY_MODEL_dc361593187d409aa0fd4bd7890ad3c5",
              "IPY_MODEL_f09955bdbe914601bc3d67af6c5380aa"
            ],
            "layout": "IPY_MODEL_c54833402b56480c9113eefd3481fdc8"
          }
        },
        "450c536f94494733bdcd3c3a07571261": {
          "model_module": "@jupyter-widgets/controls",
          "model_name": "HTMLModel",
          "model_module_version": "1.5.0",
          "state": {
            "_dom_classes": [],
            "_model_module": "@jupyter-widgets/controls",
            "_model_module_version": "1.5.0",
            "_model_name": "HTMLModel",
            "_view_count": null,
            "_view_module": "@jupyter-widgets/controls",
            "_view_module_version": "1.5.0",
            "_view_name": "HTMLView",
            "description": "",
            "description_tooltip": null,
            "layout": "IPY_MODEL_fb497229c6ca4efd94d17bc20b3a938e",
            "placeholder": "​",
            "style": "IPY_MODEL_7c98ad3531d0417cb8766ed811d09105",
            "value": "tokenizer_config.json: 100%"
          }
        },
        "dc361593187d409aa0fd4bd7890ad3c5": {
          "model_module": "@jupyter-widgets/controls",
          "model_name": "FloatProgressModel",
          "model_module_version": "1.5.0",
          "state": {
            "_dom_classes": [],
            "_model_module": "@jupyter-widgets/controls",
            "_model_module_version": "1.5.0",
            "_model_name": "FloatProgressModel",
            "_view_count": null,
            "_view_module": "@jupyter-widgets/controls",
            "_view_module_version": "1.5.0",
            "_view_name": "ProgressView",
            "bar_style": "success",
            "description": "",
            "description_tooltip": null,
            "layout": "IPY_MODEL_fd267bb7286349a8922707a7ced3eab7",
            "max": 447,
            "min": 0,
            "orientation": "horizontal",
            "style": "IPY_MODEL_8013669beb444caeab548f9e414d53bb",
            "value": 447
          }
        },
        "f09955bdbe914601bc3d67af6c5380aa": {
          "model_module": "@jupyter-widgets/controls",
          "model_name": "HTMLModel",
          "model_module_version": "1.5.0",
          "state": {
            "_dom_classes": [],
            "_model_module": "@jupyter-widgets/controls",
            "_model_module_version": "1.5.0",
            "_model_name": "HTMLModel",
            "_view_count": null,
            "_view_module": "@jupyter-widgets/controls",
            "_view_module_version": "1.5.0",
            "_view_name": "HTMLView",
            "description": "",
            "description_tooltip": null,
            "layout": "IPY_MODEL_6dd1d55401d846d38cf94a414d088848",
            "placeholder": "​",
            "style": "IPY_MODEL_8135d53e693a4b2280e34455c297438d",
            "value": " 447/447 [00:00&lt;00:00, 25.1kB/s]"
          }
        },
        "c54833402b56480c9113eefd3481fdc8": {
          "model_module": "@jupyter-widgets/base",
          "model_name": "LayoutModel",
          "model_module_version": "1.2.0",
          "state": {
            "_model_module": "@jupyter-widgets/base",
            "_model_module_version": "1.2.0",
            "_model_name": "LayoutModel",
            "_view_count": null,
            "_view_module": "@jupyter-widgets/base",
            "_view_module_version": "1.2.0",
            "_view_name": "LayoutView",
            "align_content": null,
            "align_items": null,
            "align_self": null,
            "border": null,
            "bottom": null,
            "display": null,
            "flex": null,
            "flex_flow": null,
            "grid_area": null,
            "grid_auto_columns": null,
            "grid_auto_flow": null,
            "grid_auto_rows": null,
            "grid_column": null,
            "grid_gap": null,
            "grid_row": null,
            "grid_template_areas": null,
            "grid_template_columns": null,
            "grid_template_rows": null,
            "height": null,
            "justify_content": null,
            "justify_items": null,
            "left": null,
            "margin": null,
            "max_height": null,
            "max_width": null,
            "min_height": null,
            "min_width": null,
            "object_fit": null,
            "object_position": null,
            "order": null,
            "overflow": null,
            "overflow_x": null,
            "overflow_y": null,
            "padding": null,
            "right": null,
            "top": null,
            "visibility": null,
            "width": null
          }
        },
        "fb497229c6ca4efd94d17bc20b3a938e": {
          "model_module": "@jupyter-widgets/base",
          "model_name": "LayoutModel",
          "model_module_version": "1.2.0",
          "state": {
            "_model_module": "@jupyter-widgets/base",
            "_model_module_version": "1.2.0",
            "_model_name": "LayoutModel",
            "_view_count": null,
            "_view_module": "@jupyter-widgets/base",
            "_view_module_version": "1.2.0",
            "_view_name": "LayoutView",
            "align_content": null,
            "align_items": null,
            "align_self": null,
            "border": null,
            "bottom": null,
            "display": null,
            "flex": null,
            "flex_flow": null,
            "grid_area": null,
            "grid_auto_columns": null,
            "grid_auto_flow": null,
            "grid_auto_rows": null,
            "grid_column": null,
            "grid_gap": null,
            "grid_row": null,
            "grid_template_areas": null,
            "grid_template_columns": null,
            "grid_template_rows": null,
            "height": null,
            "justify_content": null,
            "justify_items": null,
            "left": null,
            "margin": null,
            "max_height": null,
            "max_width": null,
            "min_height": null,
            "min_width": null,
            "object_fit": null,
            "object_position": null,
            "order": null,
            "overflow": null,
            "overflow_x": null,
            "overflow_y": null,
            "padding": null,
            "right": null,
            "top": null,
            "visibility": null,
            "width": null
          }
        },
        "7c98ad3531d0417cb8766ed811d09105": {
          "model_module": "@jupyter-widgets/controls",
          "model_name": "DescriptionStyleModel",
          "model_module_version": "1.5.0",
          "state": {
            "_model_module": "@jupyter-widgets/controls",
            "_model_module_version": "1.5.0",
            "_model_name": "DescriptionStyleModel",
            "_view_count": null,
            "_view_module": "@jupyter-widgets/base",
            "_view_module_version": "1.2.0",
            "_view_name": "StyleView",
            "description_width": ""
          }
        },
        "fd267bb7286349a8922707a7ced3eab7": {
          "model_module": "@jupyter-widgets/base",
          "model_name": "LayoutModel",
          "model_module_version": "1.2.0",
          "state": {
            "_model_module": "@jupyter-widgets/base",
            "_model_module_version": "1.2.0",
            "_model_name": "LayoutModel",
            "_view_count": null,
            "_view_module": "@jupyter-widgets/base",
            "_view_module_version": "1.2.0",
            "_view_name": "LayoutView",
            "align_content": null,
            "align_items": null,
            "align_self": null,
            "border": null,
            "bottom": null,
            "display": null,
            "flex": null,
            "flex_flow": null,
            "grid_area": null,
            "grid_auto_columns": null,
            "grid_auto_flow": null,
            "grid_auto_rows": null,
            "grid_column": null,
            "grid_gap": null,
            "grid_row": null,
            "grid_template_areas": null,
            "grid_template_columns": null,
            "grid_template_rows": null,
            "height": null,
            "justify_content": null,
            "justify_items": null,
            "left": null,
            "margin": null,
            "max_height": null,
            "max_width": null,
            "min_height": null,
            "min_width": null,
            "object_fit": null,
            "object_position": null,
            "order": null,
            "overflow": null,
            "overflow_x": null,
            "overflow_y": null,
            "padding": null,
            "right": null,
            "top": null,
            "visibility": null,
            "width": null
          }
        },
        "8013669beb444caeab548f9e414d53bb": {
          "model_module": "@jupyter-widgets/controls",
          "model_name": "ProgressStyleModel",
          "model_module_version": "1.5.0",
          "state": {
            "_model_module": "@jupyter-widgets/controls",
            "_model_module_version": "1.5.0",
            "_model_name": "ProgressStyleModel",
            "_view_count": null,
            "_view_module": "@jupyter-widgets/base",
            "_view_module_version": "1.2.0",
            "_view_name": "StyleView",
            "bar_color": null,
            "description_width": ""
          }
        },
        "6dd1d55401d846d38cf94a414d088848": {
          "model_module": "@jupyter-widgets/base",
          "model_name": "LayoutModel",
          "model_module_version": "1.2.0",
          "state": {
            "_model_module": "@jupyter-widgets/base",
            "_model_module_version": "1.2.0",
            "_model_name": "LayoutModel",
            "_view_count": null,
            "_view_module": "@jupyter-widgets/base",
            "_view_module_version": "1.2.0",
            "_view_name": "LayoutView",
            "align_content": null,
            "align_items": null,
            "align_self": null,
            "border": null,
            "bottom": null,
            "display": null,
            "flex": null,
            "flex_flow": null,
            "grid_area": null,
            "grid_auto_columns": null,
            "grid_auto_flow": null,
            "grid_auto_rows": null,
            "grid_column": null,
            "grid_gap": null,
            "grid_row": null,
            "grid_template_areas": null,
            "grid_template_columns": null,
            "grid_template_rows": null,
            "height": null,
            "justify_content": null,
            "justify_items": null,
            "left": null,
            "margin": null,
            "max_height": null,
            "max_width": null,
            "min_height": null,
            "min_width": null,
            "object_fit": null,
            "object_position": null,
            "order": null,
            "overflow": null,
            "overflow_x": null,
            "overflow_y": null,
            "padding": null,
            "right": null,
            "top": null,
            "visibility": null,
            "width": null
          }
        },
        "8135d53e693a4b2280e34455c297438d": {
          "model_module": "@jupyter-widgets/controls",
          "model_name": "DescriptionStyleModel",
          "model_module_version": "1.5.0",
          "state": {
            "_model_module": "@jupyter-widgets/controls",
            "_model_module_version": "1.5.0",
            "_model_name": "DescriptionStyleModel",
            "_view_count": null,
            "_view_module": "@jupyter-widgets/base",
            "_view_module_version": "1.2.0",
            "_view_name": "StyleView",
            "description_width": ""
          }
        },
        "808e10272df2458bb31ddb67d334a421": {
          "model_module": "@jupyter-widgets/controls",
          "model_name": "HBoxModel",
          "model_module_version": "1.5.0",
          "state": {
            "_dom_classes": [],
            "_model_module": "@jupyter-widgets/controls",
            "_model_module_version": "1.5.0",
            "_model_name": "HBoxModel",
            "_view_count": null,
            "_view_module": "@jupyter-widgets/controls",
            "_view_module_version": "1.5.0",
            "_view_name": "HBoxView",
            "box_style": "",
            "children": [
              "IPY_MODEL_cc1f74ee1deb440fab573c613c1864e9",
              "IPY_MODEL_ebf70e0a22234029a3161463da8b3a54",
              "IPY_MODEL_408b75f74a854f449c7baf1480b05b6f"
            ],
            "layout": "IPY_MODEL_36c7137663744e20bec12a01ecefe760"
          }
        },
        "cc1f74ee1deb440fab573c613c1864e9": {
          "model_module": "@jupyter-widgets/controls",
          "model_name": "HTMLModel",
          "model_module_version": "1.5.0",
          "state": {
            "_dom_classes": [],
            "_model_module": "@jupyter-widgets/controls",
            "_model_module_version": "1.5.0",
            "_model_name": "HTMLModel",
            "_view_count": null,
            "_view_module": "@jupyter-widgets/controls",
            "_view_module_version": "1.5.0",
            "_view_name": "HTMLView",
            "description": "",
            "description_tooltip": null,
            "layout": "IPY_MODEL_de3d0280dfd448dc974182aac25e81dc",
            "placeholder": "​",
            "style": "IPY_MODEL_8787a5d92ac84fc09273fbde7640c4d3",
            "value": "tokenizer.json: 100%"
          }
        },
        "ebf70e0a22234029a3161463da8b3a54": {
          "model_module": "@jupyter-widgets/controls",
          "model_name": "FloatProgressModel",
          "model_module_version": "1.5.0",
          "state": {
            "_dom_classes": [],
            "_model_module": "@jupyter-widgets/controls",
            "_model_module_version": "1.5.0",
            "_model_name": "FloatProgressModel",
            "_view_count": null,
            "_view_module": "@jupyter-widgets/controls",
            "_view_module_version": "1.5.0",
            "_view_name": "ProgressView",
            "bar_style": "success",
            "description": "",
            "description_tooltip": null,
            "layout": "IPY_MODEL_2ef3e82b27fa4f869d6c57bff7cf2589",
            "max": 17082758,
            "min": 0,
            "orientation": "horizontal",
            "style": "IPY_MODEL_44338a6d147c4a7987e8ff647f4a43cd",
            "value": 17082758
          }
        },
        "408b75f74a854f449c7baf1480b05b6f": {
          "model_module": "@jupyter-widgets/controls",
          "model_name": "HTMLModel",
          "model_module_version": "1.5.0",
          "state": {
            "_dom_classes": [],
            "_model_module": "@jupyter-widgets/controls",
            "_model_module_version": "1.5.0",
            "_model_name": "HTMLModel",
            "_view_count": null,
            "_view_module": "@jupyter-widgets/controls",
            "_view_module_version": "1.5.0",
            "_view_name": "HTMLView",
            "description": "",
            "description_tooltip": null,
            "layout": "IPY_MODEL_f5924d2e2a7d40d3bc323166476154f0",
            "placeholder": "​",
            "style": "IPY_MODEL_8eb07a95405544d5b4500629fbe35602",
            "value": " 17.1M/17.1M [00:00&lt;00:00, 198MB/s]"
          }
        },
        "36c7137663744e20bec12a01ecefe760": {
          "model_module": "@jupyter-widgets/base",
          "model_name": "LayoutModel",
          "model_module_version": "1.2.0",
          "state": {
            "_model_module": "@jupyter-widgets/base",
            "_model_module_version": "1.2.0",
            "_model_name": "LayoutModel",
            "_view_count": null,
            "_view_module": "@jupyter-widgets/base",
            "_view_module_version": "1.2.0",
            "_view_name": "LayoutView",
            "align_content": null,
            "align_items": null,
            "align_self": null,
            "border": null,
            "bottom": null,
            "display": null,
            "flex": null,
            "flex_flow": null,
            "grid_area": null,
            "grid_auto_columns": null,
            "grid_auto_flow": null,
            "grid_auto_rows": null,
            "grid_column": null,
            "grid_gap": null,
            "grid_row": null,
            "grid_template_areas": null,
            "grid_template_columns": null,
            "grid_template_rows": null,
            "height": null,
            "justify_content": null,
            "justify_items": null,
            "left": null,
            "margin": null,
            "max_height": null,
            "max_width": null,
            "min_height": null,
            "min_width": null,
            "object_fit": null,
            "object_position": null,
            "order": null,
            "overflow": null,
            "overflow_x": null,
            "overflow_y": null,
            "padding": null,
            "right": null,
            "top": null,
            "visibility": null,
            "width": null
          }
        },
        "de3d0280dfd448dc974182aac25e81dc": {
          "model_module": "@jupyter-widgets/base",
          "model_name": "LayoutModel",
          "model_module_version": "1.2.0",
          "state": {
            "_model_module": "@jupyter-widgets/base",
            "_model_module_version": "1.2.0",
            "_model_name": "LayoutModel",
            "_view_count": null,
            "_view_module": "@jupyter-widgets/base",
            "_view_module_version": "1.2.0",
            "_view_name": "LayoutView",
            "align_content": null,
            "align_items": null,
            "align_self": null,
            "border": null,
            "bottom": null,
            "display": null,
            "flex": null,
            "flex_flow": null,
            "grid_area": null,
            "grid_auto_columns": null,
            "grid_auto_flow": null,
            "grid_auto_rows": null,
            "grid_column": null,
            "grid_gap": null,
            "grid_row": null,
            "grid_template_areas": null,
            "grid_template_columns": null,
            "grid_template_rows": null,
            "height": null,
            "justify_content": null,
            "justify_items": null,
            "left": null,
            "margin": null,
            "max_height": null,
            "max_width": null,
            "min_height": null,
            "min_width": null,
            "object_fit": null,
            "object_position": null,
            "order": null,
            "overflow": null,
            "overflow_x": null,
            "overflow_y": null,
            "padding": null,
            "right": null,
            "top": null,
            "visibility": null,
            "width": null
          }
        },
        "8787a5d92ac84fc09273fbde7640c4d3": {
          "model_module": "@jupyter-widgets/controls",
          "model_name": "DescriptionStyleModel",
          "model_module_version": "1.5.0",
          "state": {
            "_model_module": "@jupyter-widgets/controls",
            "_model_module_version": "1.5.0",
            "_model_name": "DescriptionStyleModel",
            "_view_count": null,
            "_view_module": "@jupyter-widgets/base",
            "_view_module_version": "1.2.0",
            "_view_name": "StyleView",
            "description_width": ""
          }
        },
        "2ef3e82b27fa4f869d6c57bff7cf2589": {
          "model_module": "@jupyter-widgets/base",
          "model_name": "LayoutModel",
          "model_module_version": "1.2.0",
          "state": {
            "_model_module": "@jupyter-widgets/base",
            "_model_module_version": "1.2.0",
            "_model_name": "LayoutModel",
            "_view_count": null,
            "_view_module": "@jupyter-widgets/base",
            "_view_module_version": "1.2.0",
            "_view_name": "LayoutView",
            "align_content": null,
            "align_items": null,
            "align_self": null,
            "border": null,
            "bottom": null,
            "display": null,
            "flex": null,
            "flex_flow": null,
            "grid_area": null,
            "grid_auto_columns": null,
            "grid_auto_flow": null,
            "grid_auto_rows": null,
            "grid_column": null,
            "grid_gap": null,
            "grid_row": null,
            "grid_template_areas": null,
            "grid_template_columns": null,
            "grid_template_rows": null,
            "height": null,
            "justify_content": null,
            "justify_items": null,
            "left": null,
            "margin": null,
            "max_height": null,
            "max_width": null,
            "min_height": null,
            "min_width": null,
            "object_fit": null,
            "object_position": null,
            "order": null,
            "overflow": null,
            "overflow_x": null,
            "overflow_y": null,
            "padding": null,
            "right": null,
            "top": null,
            "visibility": null,
            "width": null
          }
        },
        "44338a6d147c4a7987e8ff647f4a43cd": {
          "model_module": "@jupyter-widgets/controls",
          "model_name": "ProgressStyleModel",
          "model_module_version": "1.5.0",
          "state": {
            "_model_module": "@jupyter-widgets/controls",
            "_model_module_version": "1.5.0",
            "_model_name": "ProgressStyleModel",
            "_view_count": null,
            "_view_module": "@jupyter-widgets/base",
            "_view_module_version": "1.2.0",
            "_view_name": "StyleView",
            "bar_color": null,
            "description_width": ""
          }
        },
        "f5924d2e2a7d40d3bc323166476154f0": {
          "model_module": "@jupyter-widgets/base",
          "model_name": "LayoutModel",
          "model_module_version": "1.2.0",
          "state": {
            "_model_module": "@jupyter-widgets/base",
            "_model_module_version": "1.2.0",
            "_model_name": "LayoutModel",
            "_view_count": null,
            "_view_module": "@jupyter-widgets/base",
            "_view_module_version": "1.2.0",
            "_view_name": "LayoutView",
            "align_content": null,
            "align_items": null,
            "align_self": null,
            "border": null,
            "bottom": null,
            "display": null,
            "flex": null,
            "flex_flow": null,
            "grid_area": null,
            "grid_auto_columns": null,
            "grid_auto_flow": null,
            "grid_auto_rows": null,
            "grid_column": null,
            "grid_gap": null,
            "grid_row": null,
            "grid_template_areas": null,
            "grid_template_columns": null,
            "grid_template_rows": null,
            "height": null,
            "justify_content": null,
            "justify_items": null,
            "left": null,
            "margin": null,
            "max_height": null,
            "max_width": null,
            "min_height": null,
            "min_width": null,
            "object_fit": null,
            "object_position": null,
            "order": null,
            "overflow": null,
            "overflow_x": null,
            "overflow_y": null,
            "padding": null,
            "right": null,
            "top": null,
            "visibility": null,
            "width": null
          }
        },
        "8eb07a95405544d5b4500629fbe35602": {
          "model_module": "@jupyter-widgets/controls",
          "model_name": "DescriptionStyleModel",
          "model_module_version": "1.5.0",
          "state": {
            "_model_module": "@jupyter-widgets/controls",
            "_model_module_version": "1.5.0",
            "_model_name": "DescriptionStyleModel",
            "_view_count": null,
            "_view_module": "@jupyter-widgets/base",
            "_view_module_version": "1.2.0",
            "_view_name": "StyleView",
            "description_width": ""
          }
        },
        "a49685035d7e4b8fa80b56f88ae4e8dd": {
          "model_module": "@jupyter-widgets/controls",
          "model_name": "HBoxModel",
          "model_module_version": "1.5.0",
          "state": {
            "_dom_classes": [],
            "_model_module": "@jupyter-widgets/controls",
            "_model_module_version": "1.5.0",
            "_model_name": "HBoxModel",
            "_view_count": null,
            "_view_module": "@jupyter-widgets/controls",
            "_view_module_version": "1.5.0",
            "_view_name": "HBoxView",
            "box_style": "",
            "children": [
              "IPY_MODEL_6e3a9ffdbb8c4c7fbcfce3798ef31171",
              "IPY_MODEL_5363836f01f7451fb864585d0d609711",
              "IPY_MODEL_7c57ebf086154b03b5f499a32fa2a670"
            ],
            "layout": "IPY_MODEL_0dbead5a62eb40af87f5c9c0a6b474dc"
          }
        },
        "6e3a9ffdbb8c4c7fbcfce3798ef31171": {
          "model_module": "@jupyter-widgets/controls",
          "model_name": "HTMLModel",
          "model_module_version": "1.5.0",
          "state": {
            "_dom_classes": [],
            "_model_module": "@jupyter-widgets/controls",
            "_model_module_version": "1.5.0",
            "_model_name": "HTMLModel",
            "_view_count": null,
            "_view_module": "@jupyter-widgets/controls",
            "_view_module_version": "1.5.0",
            "_view_name": "HTMLView",
            "description": "",
            "description_tooltip": null,
            "layout": "IPY_MODEL_42d11eb236724446946de99c5a58b493",
            "placeholder": "​",
            "style": "IPY_MODEL_af4d953b86244889b16b1b58c26f3259",
            "value": "special_tokens_map.json: 100%"
          }
        },
        "5363836f01f7451fb864585d0d609711": {
          "model_module": "@jupyter-widgets/controls",
          "model_name": "FloatProgressModel",
          "model_module_version": "1.5.0",
          "state": {
            "_dom_classes": [],
            "_model_module": "@jupyter-widgets/controls",
            "_model_module_version": "1.5.0",
            "_model_name": "FloatProgressModel",
            "_view_count": null,
            "_view_module": "@jupyter-widgets/controls",
            "_view_module_version": "1.5.0",
            "_view_name": "ProgressView",
            "bar_style": "success",
            "description": "",
            "description_tooltip": null,
            "layout": "IPY_MODEL_ed9d76e02745416dbde9ac56ad17c3c0",
            "max": 239,
            "min": 0,
            "orientation": "horizontal",
            "style": "IPY_MODEL_f088e29548c8474dba22e65a2cdcd76f",
            "value": 239
          }
        },
        "7c57ebf086154b03b5f499a32fa2a670": {
          "model_module": "@jupyter-widgets/controls",
          "model_name": "HTMLModel",
          "model_module_version": "1.5.0",
          "state": {
            "_dom_classes": [],
            "_model_module": "@jupyter-widgets/controls",
            "_model_module_version": "1.5.0",
            "_model_name": "HTMLModel",
            "_view_count": null,
            "_view_module": "@jupyter-widgets/controls",
            "_view_module_version": "1.5.0",
            "_view_name": "HTMLView",
            "description": "",
            "description_tooltip": null,
            "layout": "IPY_MODEL_fa6b6e6f181e46d49222c2875ca6f565",
            "placeholder": "​",
            "style": "IPY_MODEL_82ea220e7b694daf86442930fe8be047",
            "value": " 239/239 [00:00&lt;00:00, 9.08kB/s]"
          }
        },
        "0dbead5a62eb40af87f5c9c0a6b474dc": {
          "model_module": "@jupyter-widgets/base",
          "model_name": "LayoutModel",
          "model_module_version": "1.2.0",
          "state": {
            "_model_module": "@jupyter-widgets/base",
            "_model_module_version": "1.2.0",
            "_model_name": "LayoutModel",
            "_view_count": null,
            "_view_module": "@jupyter-widgets/base",
            "_view_module_version": "1.2.0",
            "_view_name": "LayoutView",
            "align_content": null,
            "align_items": null,
            "align_self": null,
            "border": null,
            "bottom": null,
            "display": null,
            "flex": null,
            "flex_flow": null,
            "grid_area": null,
            "grid_auto_columns": null,
            "grid_auto_flow": null,
            "grid_auto_rows": null,
            "grid_column": null,
            "grid_gap": null,
            "grid_row": null,
            "grid_template_areas": null,
            "grid_template_columns": null,
            "grid_template_rows": null,
            "height": null,
            "justify_content": null,
            "justify_items": null,
            "left": null,
            "margin": null,
            "max_height": null,
            "max_width": null,
            "min_height": null,
            "min_width": null,
            "object_fit": null,
            "object_position": null,
            "order": null,
            "overflow": null,
            "overflow_x": null,
            "overflow_y": null,
            "padding": null,
            "right": null,
            "top": null,
            "visibility": null,
            "width": null
          }
        },
        "42d11eb236724446946de99c5a58b493": {
          "model_module": "@jupyter-widgets/base",
          "model_name": "LayoutModel",
          "model_module_version": "1.2.0",
          "state": {
            "_model_module": "@jupyter-widgets/base",
            "_model_module_version": "1.2.0",
            "_model_name": "LayoutModel",
            "_view_count": null,
            "_view_module": "@jupyter-widgets/base",
            "_view_module_version": "1.2.0",
            "_view_name": "LayoutView",
            "align_content": null,
            "align_items": null,
            "align_self": null,
            "border": null,
            "bottom": null,
            "display": null,
            "flex": null,
            "flex_flow": null,
            "grid_area": null,
            "grid_auto_columns": null,
            "grid_auto_flow": null,
            "grid_auto_rows": null,
            "grid_column": null,
            "grid_gap": null,
            "grid_row": null,
            "grid_template_areas": null,
            "grid_template_columns": null,
            "grid_template_rows": null,
            "height": null,
            "justify_content": null,
            "justify_items": null,
            "left": null,
            "margin": null,
            "max_height": null,
            "max_width": null,
            "min_height": null,
            "min_width": null,
            "object_fit": null,
            "object_position": null,
            "order": null,
            "overflow": null,
            "overflow_x": null,
            "overflow_y": null,
            "padding": null,
            "right": null,
            "top": null,
            "visibility": null,
            "width": null
          }
        },
        "af4d953b86244889b16b1b58c26f3259": {
          "model_module": "@jupyter-widgets/controls",
          "model_name": "DescriptionStyleModel",
          "model_module_version": "1.5.0",
          "state": {
            "_model_module": "@jupyter-widgets/controls",
            "_model_module_version": "1.5.0",
            "_model_name": "DescriptionStyleModel",
            "_view_count": null,
            "_view_module": "@jupyter-widgets/base",
            "_view_module_version": "1.2.0",
            "_view_name": "StyleView",
            "description_width": ""
          }
        },
        "ed9d76e02745416dbde9ac56ad17c3c0": {
          "model_module": "@jupyter-widgets/base",
          "model_name": "LayoutModel",
          "model_module_version": "1.2.0",
          "state": {
            "_model_module": "@jupyter-widgets/base",
            "_model_module_version": "1.2.0",
            "_model_name": "LayoutModel",
            "_view_count": null,
            "_view_module": "@jupyter-widgets/base",
            "_view_module_version": "1.2.0",
            "_view_name": "LayoutView",
            "align_content": null,
            "align_items": null,
            "align_self": null,
            "border": null,
            "bottom": null,
            "display": null,
            "flex": null,
            "flex_flow": null,
            "grid_area": null,
            "grid_auto_columns": null,
            "grid_auto_flow": null,
            "grid_auto_rows": null,
            "grid_column": null,
            "grid_gap": null,
            "grid_row": null,
            "grid_template_areas": null,
            "grid_template_columns": null,
            "grid_template_rows": null,
            "height": null,
            "justify_content": null,
            "justify_items": null,
            "left": null,
            "margin": null,
            "max_height": null,
            "max_width": null,
            "min_height": null,
            "min_width": null,
            "object_fit": null,
            "object_position": null,
            "order": null,
            "overflow": null,
            "overflow_x": null,
            "overflow_y": null,
            "padding": null,
            "right": null,
            "top": null,
            "visibility": null,
            "width": null
          }
        },
        "f088e29548c8474dba22e65a2cdcd76f": {
          "model_module": "@jupyter-widgets/controls",
          "model_name": "ProgressStyleModel",
          "model_module_version": "1.5.0",
          "state": {
            "_model_module": "@jupyter-widgets/controls",
            "_model_module_version": "1.5.0",
            "_model_name": "ProgressStyleModel",
            "_view_count": null,
            "_view_module": "@jupyter-widgets/base",
            "_view_module_version": "1.2.0",
            "_view_name": "StyleView",
            "bar_color": null,
            "description_width": ""
          }
        },
        "fa6b6e6f181e46d49222c2875ca6f565": {
          "model_module": "@jupyter-widgets/base",
          "model_name": "LayoutModel",
          "model_module_version": "1.2.0",
          "state": {
            "_model_module": "@jupyter-widgets/base",
            "_model_module_version": "1.2.0",
            "_model_name": "LayoutModel",
            "_view_count": null,
            "_view_module": "@jupyter-widgets/base",
            "_view_module_version": "1.2.0",
            "_view_name": "LayoutView",
            "align_content": null,
            "align_items": null,
            "align_self": null,
            "border": null,
            "bottom": null,
            "display": null,
            "flex": null,
            "flex_flow": null,
            "grid_area": null,
            "grid_auto_columns": null,
            "grid_auto_flow": null,
            "grid_auto_rows": null,
            "grid_column": null,
            "grid_gap": null,
            "grid_row": null,
            "grid_template_areas": null,
            "grid_template_columns": null,
            "grid_template_rows": null,
            "height": null,
            "justify_content": null,
            "justify_items": null,
            "left": null,
            "margin": null,
            "max_height": null,
            "max_width": null,
            "min_height": null,
            "min_width": null,
            "object_fit": null,
            "object_position": null,
            "order": null,
            "overflow": null,
            "overflow_x": null,
            "overflow_y": null,
            "padding": null,
            "right": null,
            "top": null,
            "visibility": null,
            "width": null
          }
        },
        "82ea220e7b694daf86442930fe8be047": {
          "model_module": "@jupyter-widgets/controls",
          "model_name": "DescriptionStyleModel",
          "model_module_version": "1.5.0",
          "state": {
            "_model_module": "@jupyter-widgets/controls",
            "_model_module_version": "1.5.0",
            "_model_name": "DescriptionStyleModel",
            "_view_count": null,
            "_view_module": "@jupyter-widgets/base",
            "_view_module_version": "1.2.0",
            "_view_name": "StyleView",
            "description_width": ""
          }
        }
      }
    }
  },
  "nbformat": 4,
  "nbformat_minor": 0
}