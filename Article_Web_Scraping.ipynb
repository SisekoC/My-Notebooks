{
  "cells": [
    {
      "cell_type": "markdown",
      "metadata": {
        "id": "view-in-github",
        "colab_type": "text"
      },
      "source": [
        "<a href=\"https://colab.research.google.com/github/SisekoC/OpenCV/blob/main/Article_Web_Scraping.ipynb\" target=\"_parent\"><img src=\"https://colab.research.google.com/assets/colab-badge.svg\" alt=\"Open In Colab\"/></a>"
      ]
    },
    {
      "cell_type": "code",
      "execution_count": 1,
      "id": "b4ec3122",
      "metadata": {
        "id": "b4ec3122"
      },
      "outputs": [],
      "source": [
        "import requests\n",
        "from bs4 import BeautifulSoup"
      ]
    },
    {
      "cell_type": "code",
      "execution_count": 2,
      "id": "d3db5e23",
      "metadata": {
        "id": "d3db5e23"
      },
      "outputs": [],
      "source": [
        "url = \"https://content.guardianapis.com/technology/artificialintelligenceai?&api-key=01dd6b39-66d5-4ed8-8335-9dd17fe41a3f&type=article&page=1\""
      ]
    },
    {
      "cell_type": "code",
      "execution_count": 3,
      "id": "f73a8fe2",
      "metadata": {
        "id": "f73a8fe2"
      },
      "outputs": [],
      "source": [
        "response=requests.get(url)"
      ]
    },
    {
      "cell_type": "code",
      "execution_count": 4,
      "id": "b8ddd166",
      "metadata": {
        "colab": {
          "base_uri": "https://localhost:8080/"
        },
        "id": "b8ddd166",
        "outputId": "0f6a66fc-02b7-4d13-8552-e054ca0f493c"
      },
      "outputs": [
        {
          "output_type": "execute_result",
          "data": {
            "text/plain": [
              "<Response [200]>"
            ]
          },
          "metadata": {},
          "execution_count": 4
        }
      ],
      "source": [
        "response"
      ]
    },
    {
      "cell_type": "code",
      "execution_count": 5,
      "id": "b20916fb",
      "metadata": {
        "id": "b20916fb"
      },
      "outputs": [],
      "source": [
        "x=response.json()"
      ]
    },
    {
      "cell_type": "code",
      "execution_count": 6,
      "id": "695743f4",
      "metadata": {
        "colab": {
          "base_uri": "https://localhost:8080/"
        },
        "id": "695743f4",
        "outputId": "72cafdf0-513c-4d72-b6b9-acb131ef8267"
      },
      "outputs": [
        {
          "output_type": "execute_result",
          "data": {
            "text/plain": [
              "{'response': {'status': 'ok',\n",
              "  'userTier': 'developer',\n",
              "  'total': 2469,\n",
              "  'startIndex': 1,\n",
              "  'pageSize': 10,\n",
              "  'currentPage': 1,\n",
              "  'pages': 247,\n",
              "  'orderBy': 'newest',\n",
              "  'tag': {'id': 'technology/artificialintelligenceai',\n",
              "   'type': 'keyword',\n",
              "   'sectionId': 'technology',\n",
              "   'sectionName': 'Technology',\n",
              "   'webTitle': 'Artificial intelligence (AI)',\n",
              "   'webUrl': 'https://www.theguardian.com/technology/artificialintelligenceai',\n",
              "   'apiUrl': 'https://content.guardianapis.com/technology/artificialintelligenceai'},\n",
              "  'results': [{'id': 'technology/article/2024/sep/09/apple-ai-iphone-16',\n",
              "    'type': 'article',\n",
              "    'sectionId': 'technology',\n",
              "    'sectionName': 'Technology',\n",
              "    'webPublicationDate': '2024-09-09T19:27:37Z',\n",
              "    'webTitle': 'Apple reveals iPhone 16 and ‘Apple Intelligence’ AI features',\n",
              "    'webUrl': 'https://www.theguardian.com/technology/article/2024/sep/09/apple-ai-iphone-16',\n",
              "    'apiUrl': 'https://content.guardianapis.com/technology/article/2024/sep/09/apple-ai-iphone-16',\n",
              "    'isHosted': False,\n",
              "    'pillarId': 'pillar/news',\n",
              "    'pillarName': 'News'},\n",
              "   {'id': 'business/article/2024/sep/09/bp-ai-deal-palantir-oil-gas-artificial-intelligence',\n",
              "    'type': 'article',\n",
              "    'sectionId': 'business',\n",
              "    'sectionName': 'Business',\n",
              "    'webPublicationDate': '2024-09-09T14:32:29Z',\n",
              "    'webTitle': 'BP extends use of AI in five-year deal with spy tech firm Palantir',\n",
              "    'webUrl': 'https://www.theguardian.com/business/article/2024/sep/09/bp-ai-deal-palantir-oil-gas-artificial-intelligence',\n",
              "    'apiUrl': 'https://content.guardianapis.com/business/article/2024/sep/09/bp-ai-deal-palantir-oil-gas-artificial-intelligence',\n",
              "    'isHosted': False,\n",
              "    'pillarId': 'pillar/news',\n",
              "    'pillarName': 'News'},\n",
              "   {'id': 'world/article/2024/sep/09/first-edition-nvidia-stocks',\n",
              "    'type': 'article',\n",
              "    'sectionId': 'world',\n",
              "    'sectionName': 'World news',\n",
              "    'webPublicationDate': '2024-09-09T05:39:23Z',\n",
              "    'webTitle': 'Monday briefing: What Nvidia’s stock market plunge means for the AI industry',\n",
              "    'webUrl': 'https://www.theguardian.com/world/article/2024/sep/09/first-edition-nvidia-stocks',\n",
              "    'apiUrl': 'https://content.guardianapis.com/world/article/2024/sep/09/first-edition-nvidia-stocks',\n",
              "    'isHosted': False,\n",
              "    'pillarId': 'pillar/news',\n",
              "    'pillarName': 'News'},\n",
              "   {'id': 'culture/article/2024/sep/08/levy-smartphones-creatives-ai-threat-uk-artists-labour',\n",
              "    'type': 'article',\n",
              "    'sectionId': 'culture',\n",
              "    'sectionName': 'Culture',\n",
              "    'webPublicationDate': '2024-09-08T08:00:40Z',\n",
              "    'webTitle': 'Put levy on smartphones to help creatives survive AI threat, top UK artists tell Labour',\n",
              "    'webUrl': 'https://www.theguardian.com/culture/article/2024/sep/08/levy-smartphones-creatives-ai-threat-uk-artists-labour',\n",
              "    'apiUrl': 'https://content.guardianapis.com/culture/article/2024/sep/08/levy-smartphones-creatives-ai-threat-uk-artists-labour',\n",
              "    'isHosted': False,\n",
              "    'pillarId': 'pillar/arts',\n",
              "    'pillarName': 'Arts'},\n",
              "   {'id': 'commentisfree/article/2024/sep/07/elon-musk-women-testosterone',\n",
              "    'type': 'article',\n",
              "    'sectionId': 'commentisfree',\n",
              "    'sectionName': 'Opinion',\n",
              "    'webPublicationDate': '2024-09-07T13:00:18Z',\n",
              "    'webTitle': 'Elon Musk is intrigued by the idea women can’t think freely because of ‘low T’ | Arwa Mahdawi',\n",
              "    'webUrl': 'https://www.theguardian.com/commentisfree/article/2024/sep/07/elon-musk-women-testosterone',\n",
              "    'apiUrl': 'https://content.guardianapis.com/commentisfree/article/2024/sep/07/elon-musk-women-testosterone',\n",
              "    'isHosted': False,\n",
              "    'pillarId': 'pillar/opinion',\n",
              "    'pillarName': 'Opinion'},\n",
              "   {'id': 'technology/article/2024/sep/07/david-pocock-deepfake-video-anthony-albanese-peter-dutton-ai-election-regulation',\n",
              "    'type': 'article',\n",
              "    'sectionId': 'technology',\n",
              "    'sectionName': 'Technology',\n",
              "    'webPublicationDate': '2024-09-07T08:19:41Z',\n",
              "    'webTitle': 'David Pocock calls for election ban on AI deepfakes with fake videos of Albanese and Dutton',\n",
              "    'webUrl': 'https://www.theguardian.com/technology/article/2024/sep/07/david-pocock-deepfake-video-anthony-albanese-peter-dutton-ai-election-regulation',\n",
              "    'apiUrl': 'https://content.guardianapis.com/technology/article/2024/sep/07/david-pocock-deepfake-video-anthony-albanese-peter-dutton-ai-election-regulation',\n",
              "    'isHosted': False,\n",
              "    'pillarId': 'pillar/news',\n",
              "    'pillarName': 'News'},\n",
              "   {'id': 'technology/article/2024/sep/05/uk-signs-first-international-treaty-to-implement-ai-safeguards',\n",
              "    'type': 'article',\n",
              "    'sectionId': 'technology',\n",
              "    'sectionName': 'Technology',\n",
              "    'webPublicationDate': '2024-09-05T14:52:16Z',\n",
              "    'webTitle': 'UK signs first international treaty to implement AI safeguards',\n",
              "    'webUrl': 'https://www.theguardian.com/technology/article/2024/sep/05/uk-signs-first-international-treaty-to-implement-ai-safeguards',\n",
              "    'apiUrl': 'https://content.guardianapis.com/technology/article/2024/sep/05/uk-signs-first-international-treaty-to-implement-ai-safeguards',\n",
              "    'isHosted': False,\n",
              "    'pillarId': 'pillar/news',\n",
              "    'pillarName': 'News'},\n",
              "   {'id': 'business/article/2024/sep/05/john-lewis-to-bring-back-never-knowingly-undersold-price-policy',\n",
              "    'type': 'article',\n",
              "    'sectionId': 'business',\n",
              "    'sectionName': 'Business',\n",
              "    'webPublicationDate': '2024-09-05T12:04:14Z',\n",
              "    'webTitle': 'John Lewis brings back ‘never knowingly undersold’ promise',\n",
              "    'webUrl': 'https://www.theguardian.com/business/article/2024/sep/05/john-lewis-to-bring-back-never-knowingly-undersold-price-policy',\n",
              "    'apiUrl': 'https://content.guardianapis.com/business/article/2024/sep/05/john-lewis-to-bring-back-never-knowingly-undersold-price-policy',\n",
              "    'isHosted': False,\n",
              "    'pillarId': 'pillar/news',\n",
              "    'pillarName': 'News'},\n",
              "   {'id': 'us-news/article/2024/sep/05/voters-ai-deepfakes-poll',\n",
              "    'type': 'article',\n",
              "    'sectionId': 'us-news',\n",
              "    'sectionName': 'US news',\n",
              "    'webPublicationDate': '2024-09-05T10:30:37Z',\n",
              "    'webTitle': 'Republican voters less confident than Democrats in spotting AI deepfakes, poll shows',\n",
              "    'webUrl': 'https://www.theguardian.com/us-news/article/2024/sep/05/voters-ai-deepfakes-poll',\n",
              "    'apiUrl': 'https://content.guardianapis.com/us-news/article/2024/sep/05/voters-ai-deepfakes-poll',\n",
              "    'isHosted': False,\n",
              "    'pillarId': 'pillar/news',\n",
              "    'pillarName': 'News'},\n",
              "   {'id': 'business/article/2024/sep/05/m-and-s-using-ai-to-advise-shoppers-body-shape-style-preferences',\n",
              "    'type': 'article',\n",
              "    'sectionId': 'business',\n",
              "    'sectionName': 'Business',\n",
              "    'webPublicationDate': '2024-09-05T05:00:57Z',\n",
              "    'webTitle': 'M&S using AI as personalised style guru in hopes to boost sales',\n",
              "    'webUrl': 'https://www.theguardian.com/business/article/2024/sep/05/m-and-s-using-ai-to-advise-shoppers-body-shape-style-preferences',\n",
              "    'apiUrl': 'https://content.guardianapis.com/business/article/2024/sep/05/m-and-s-using-ai-to-advise-shoppers-body-shape-style-preferences',\n",
              "    'isHosted': False,\n",
              "    'pillarId': 'pillar/news',\n",
              "    'pillarName': 'News'}],\n",
              "  'leadContent': [{'id': 'technology/article/2024/sep/07/if-journalism-is-going-up-in-smoke-i-might-as-well-get-high-off-the-fumes-confessions-of-a-chatbot-helper',\n",
              "    'type': 'article',\n",
              "    'sectionId': 'technology',\n",
              "    'sectionName': 'Technology',\n",
              "    'webPublicationDate': '2024-09-07T15:00:20Z',\n",
              "    'webTitle': '‘If journalism is going up in smoke, I might as well get high off the fumes’: confessions of a chatbot helper',\n",
              "    'webUrl': 'https://www.theguardian.com/technology/article/2024/sep/07/if-journalism-is-going-up-in-smoke-i-might-as-well-get-high-off-the-fumes-confessions-of-a-chatbot-helper',\n",
              "    'apiUrl': 'https://content.guardianapis.com/technology/article/2024/sep/07/if-journalism-is-going-up-in-smoke-i-might-as-well-get-high-off-the-fumes-confessions-of-a-chatbot-helper',\n",
              "    'tags': [],\n",
              "    'references': [],\n",
              "    'isHosted': False,\n",
              "    'pillarId': 'pillar/news',\n",
              "    'pillarName': 'News'},\n",
              "   {'id': 'technology/article/2024/sep/07/david-pocock-deepfake-video-anthony-albanese-peter-dutton-ai-election-regulation',\n",
              "    'type': 'article',\n",
              "    'sectionId': 'technology',\n",
              "    'sectionName': 'Technology',\n",
              "    'webPublicationDate': '2024-09-07T08:19:41Z',\n",
              "    'webTitle': 'David Pocock calls for election ban on AI deepfakes with fake videos of Albanese and Dutton',\n",
              "    'webUrl': 'https://www.theguardian.com/technology/article/2024/sep/07/david-pocock-deepfake-video-anthony-albanese-peter-dutton-ai-election-regulation',\n",
              "    'apiUrl': 'https://content.guardianapis.com/technology/article/2024/sep/07/david-pocock-deepfake-video-anthony-albanese-peter-dutton-ai-election-regulation',\n",
              "    'tags': [],\n",
              "    'references': [],\n",
              "    'isHosted': False,\n",
              "    'pillarId': 'pillar/news',\n",
              "    'pillarName': 'News'},\n",
              "   {'id': 'technology/article/2024/sep/05/uk-signs-first-international-treaty-to-implement-ai-safeguards',\n",
              "    'type': 'article',\n",
              "    'sectionId': 'technology',\n",
              "    'sectionName': 'Technology',\n",
              "    'webPublicationDate': '2024-09-05T14:52:16Z',\n",
              "    'webTitle': 'UK signs first international treaty to implement AI safeguards',\n",
              "    'webUrl': 'https://www.theguardian.com/technology/article/2024/sep/05/uk-signs-first-international-treaty-to-implement-ai-safeguards',\n",
              "    'apiUrl': 'https://content.guardianapis.com/technology/article/2024/sep/05/uk-signs-first-international-treaty-to-implement-ai-safeguards',\n",
              "    'tags': [],\n",
              "    'references': [],\n",
              "    'isHosted': False,\n",
              "    'pillarId': 'pillar/news',\n",
              "    'pillarName': 'News'},\n",
              "   {'id': 'technology/article/2024/aug/29/california-ai-regulation-bill',\n",
              "    'type': 'article',\n",
              "    'sectionId': 'technology',\n",
              "    'sectionName': 'Technology',\n",
              "    'webPublicationDate': '2024-08-29T15:37:25Z',\n",
              "    'webTitle': 'California advances landmark legislation to regulate large AI models',\n",
              "    'webUrl': 'https://www.theguardian.com/technology/article/2024/aug/29/california-ai-regulation-bill',\n",
              "    'apiUrl': 'https://content.guardianapis.com/technology/article/2024/aug/29/california-ai-regulation-bill',\n",
              "    'tags': [],\n",
              "    'references': [],\n",
              "    'isHosted': False,\n",
              "    'pillarId': 'pillar/news',\n",
              "    'pillarName': 'News'},\n",
              "   {'id': 'technology/article/2024/aug/24/trump-taylor-swift-deepfakes-ai',\n",
              "    'type': 'article',\n",
              "    'sectionId': 'technology',\n",
              "    'sectionName': 'Technology',\n",
              "    'webPublicationDate': '2024-08-26T13:45:36Z',\n",
              "    'webTitle': 'How did Donald Trump end up posting Taylor Swift deepfakes?',\n",
              "    'webUrl': 'https://www.theguardian.com/technology/article/2024/aug/24/trump-taylor-swift-deepfakes-ai',\n",
              "    'apiUrl': 'https://content.guardianapis.com/technology/article/2024/aug/24/trump-taylor-swift-deepfakes-ai',\n",
              "    'tags': [],\n",
              "    'references': [],\n",
              "    'isHosted': False,\n",
              "    'pillarId': 'pillar/news',\n",
              "    'pillarName': 'News'},\n",
              "   {'id': 'technology/article/2024/aug/25/register-aims-to-quash-fears-over-racist-and-biased-ai-tools-used-on-uk-public',\n",
              "    'type': 'article',\n",
              "    'sectionId': 'technology',\n",
              "    'sectionName': 'Technology',\n",
              "    'webPublicationDate': '2024-08-25T05:00:05Z',\n",
              "    'webTitle': 'Warnings AI tools used by government on UK public are ‘racist and biased’',\n",
              "    'webUrl': 'https://www.theguardian.com/technology/article/2024/aug/25/register-aims-to-quash-fears-over-racist-and-biased-ai-tools-used-on-uk-public',\n",
              "    'apiUrl': 'https://content.guardianapis.com/technology/article/2024/aug/25/register-aims-to-quash-fears-over-racist-and-biased-ai-tools-used-on-uk-public',\n",
              "    'tags': [],\n",
              "    'references': [],\n",
              "    'isHosted': False,\n",
              "    'pillarId': 'pillar/news',\n",
              "    'pillarName': 'News'},\n",
              "   {'id': 'technology/article/2024/aug/24/apple-intelligence-iphone-ios-18-siri-chat-gpt-launch',\n",
              "    'type': 'article',\n",
              "    'sectionId': 'technology',\n",
              "    'sectionName': 'Technology',\n",
              "    'webPublicationDate': '2024-08-24T15:00:36Z',\n",
              "    'webTitle': 'Apple Intelligence is coming. Here’s what it means for your iPhone',\n",
              "    'webUrl': 'https://www.theguardian.com/technology/article/2024/aug/24/apple-intelligence-iphone-ios-18-siri-chat-gpt-launch',\n",
              "    'apiUrl': 'https://content.guardianapis.com/technology/article/2024/aug/24/apple-intelligence-iphone-ios-18-siri-chat-gpt-launch',\n",
              "    'tags': [],\n",
              "    'references': [],\n",
              "    'isHosted': False,\n",
              "    'pillarId': 'pillar/news',\n",
              "    'pillarName': 'News'},\n",
              "   {'id': 'technology/article/2024/aug/24/yuval-noah-harari-ai-book-extract-nexus',\n",
              "    'type': 'article',\n",
              "    'sectionId': 'technology',\n",
              "    'sectionName': 'Technology',\n",
              "    'webPublicationDate': '2024-08-24T11:00:31Z',\n",
              "    'webTitle': '‘Never summon a power you can’t control’: Yuval Noah Harari on how AI could threaten democracy and divide the world',\n",
              "    'webUrl': 'https://www.theguardian.com/technology/article/2024/aug/24/yuval-noah-harari-ai-book-extract-nexus',\n",
              "    'apiUrl': 'https://content.guardianapis.com/technology/article/2024/aug/24/yuval-noah-harari-ai-book-extract-nexus',\n",
              "    'tags': [],\n",
              "    'references': [],\n",
              "    'isHosted': False,\n",
              "    'pillarId': 'pillar/news',\n",
              "    'pillarName': 'News'},\n",
              "   {'id': 'technology/article/2024/aug/21/privacy-regulator-drops-pursuit-of-clearview-ai-over-use-of-australians-images-in-facial-recognition-tech-ntwnfb',\n",
              "    'type': 'article',\n",
              "    'sectionId': 'technology',\n",
              "    'sectionName': 'Technology',\n",
              "    'webPublicationDate': '2024-08-21T05:16:47Z',\n",
              "    'webTitle': 'Privacy regulator drops pursuit of Clearview AI as Greens call for more scrutiny on use of Australians’ images',\n",
              "    'webUrl': 'https://www.theguardian.com/technology/article/2024/aug/21/privacy-regulator-drops-pursuit-of-clearview-ai-over-use-of-australians-images-in-facial-recognition-tech-ntwnfb',\n",
              "    'apiUrl': 'https://content.guardianapis.com/technology/article/2024/aug/21/privacy-regulator-drops-pursuit-of-clearview-ai-over-use-of-australians-images-in-facial-recognition-tech-ntwnfb',\n",
              "    'tags': [],\n",
              "    'references': [],\n",
              "    'isHosted': False,\n",
              "    'pillarId': 'pillar/news',\n",
              "    'pillarName': 'News'},\n",
              "   {'id': 'technology/article/2024/aug/20/anthropic-ai-lawsuit-author',\n",
              "    'type': 'article',\n",
              "    'sectionId': 'technology',\n",
              "    'sectionName': 'Technology',\n",
              "    'webPublicationDate': '2024-08-20T15:26:44Z',\n",
              "    'webTitle': 'Authors sue Anthropic for copyright infringement over AI training',\n",
              "    'webUrl': 'https://www.theguardian.com/technology/article/2024/aug/20/anthropic-ai-lawsuit-author',\n",
              "    'apiUrl': 'https://content.guardianapis.com/technology/article/2024/aug/20/anthropic-ai-lawsuit-author',\n",
              "    'tags': [],\n",
              "    'references': [],\n",
              "    'isHosted': False,\n",
              "    'pillarId': 'pillar/news',\n",
              "    'pillarName': 'News'}]}}"
            ]
          },
          "metadata": {},
          "execution_count": 6
        }
      ],
      "source": [
        "x"
      ]
    },
    {
      "cell_type": "code",
      "execution_count": 7,
      "id": "f72876fd",
      "metadata": {
        "colab": {
          "base_uri": "https://localhost:8080/"
        },
        "id": "f72876fd",
        "outputId": "9c736fc0-4683-49c6-f6b9-fa0a660d3f8f"
      },
      "outputs": [
        {
          "output_type": "stream",
          "name": "stdout",
          "text": [
            "https://www.theguardian.com/technology/article/2024/sep/09/apple-ai-iphone-16\n",
            "\n",
            "\n",
            "https://www.theguardian.com/business/article/2024/sep/09/bp-ai-deal-palantir-oil-gas-artificial-intelligence\n",
            "\n",
            "\n",
            "https://www.theguardian.com/world/article/2024/sep/09/first-edition-nvidia-stocks\n",
            "\n",
            "\n",
            "https://www.theguardian.com/culture/article/2024/sep/08/levy-smartphones-creatives-ai-threat-uk-artists-labour\n",
            "\n",
            "\n",
            "https://www.theguardian.com/commentisfree/article/2024/sep/07/elon-musk-women-testosterone\n",
            "\n",
            "\n",
            "https://www.theguardian.com/technology/article/2024/sep/07/david-pocock-deepfake-video-anthony-albanese-peter-dutton-ai-election-regulation\n",
            "\n",
            "\n",
            "https://www.theguardian.com/technology/article/2024/sep/05/uk-signs-first-international-treaty-to-implement-ai-safeguards\n",
            "\n",
            "\n",
            "https://www.theguardian.com/business/article/2024/sep/05/john-lewis-to-bring-back-never-knowingly-undersold-price-policy\n",
            "\n",
            "\n",
            "https://www.theguardian.com/us-news/article/2024/sep/05/voters-ai-deepfakes-poll\n",
            "\n",
            "\n",
            "https://www.theguardian.com/business/article/2024/sep/05/m-and-s-using-ai-to-advise-shoppers-body-shape-style-preferences\n",
            "\n",
            "\n"
          ]
        }
      ],
      "source": [
        "web_urls = [item['webUrl'] for item in x['response']['results']]\n",
        "\n",
        "for url in web_urls:\n",
        "    print(url)\n",
        "    print(\"\\n\")"
      ]
    },
    {
      "cell_type": "code",
      "execution_count": 8,
      "id": "9cfad7bd",
      "metadata": {
        "id": "9cfad7bd"
      },
      "outputs": [],
      "source": [
        "import os\n",
        "from datetime import datetime\n",
        "\n",
        "# Create a folder with the current date and time format\n",
        "current_datetime = datetime.now()\n",
        "folder_name = current_datetime.strftime('%H_%M_%d_%m_%Y')\n",
        "\n",
        "if not os.path.exists(folder_name):\n",
        "    os.makedirs(folder_name)"
      ]
    },
    {
      "cell_type": "code",
      "execution_count": 9,
      "id": "a8412b96",
      "metadata": {
        "colab": {
          "base_uri": "https://localhost:8080/"
        },
        "id": "a8412b96",
        "outputId": "3c3156bf-b059-49eb-9727-36c7850ff777"
      },
      "outputs": [
        {
          "output_type": "stream",
          "name": "stdout",
          "text": [
            "Executed Perfectly\n"
          ]
        }
      ],
      "source": [
        "def save_content_to_file(url, folder, filename):\n",
        "    try:\n",
        "        response = requests.get(url)\n",
        "        if response.status_code == 200:\n",
        "            soup = BeautifulSoup(response.text, 'html.parser')\n",
        "\n",
        "            with open(os.path.join(folder, filename), 'w', encoding='utf-8') as file:\n",
        "                for header in soup.find_all(['h1']):\n",
        "                    file.write(\"Tile: \" + header.text + '\\n'*5)\n",
        "                for paragraph in soup.find_all('p'):\n",
        "                    file.write(paragraph.text + '\\n')\n",
        "        else:\n",
        "            print(\"Failed to retrieve the page:\", url)\n",
        "    except Exception as e:\n",
        "        print(\"An error occurred:\", e)\n",
        "\n",
        "# Loop through the list of web URLs and save content to separate text files\n",
        "for index, url in enumerate(web_urls):\n",
        "    filename = f'article_{index}.txt'  # Create a unique filename for each article\n",
        "    save_content_to_file(url, folder_name, filename)\n",
        "\n",
        "print(\"Executed Perfectly\")"
      ]
    },
    {
      "cell_type": "code",
      "source": [],
      "metadata": {
        "id": "805CnMfn5C68"
      },
      "id": "805CnMfn5C68",
      "execution_count": null,
      "outputs": []
    }
  ],
  "metadata": {
    "kernelspec": {
      "display_name": "Python 3 (ipykernel)",
      "language": "python",
      "name": "python3"
    },
    "language_info": {
      "codemirror_mode": {
        "name": "ipython",
        "version": 3
      },
      "file_extension": ".py",
      "mimetype": "text/x-python",
      "name": "python",
      "nbconvert_exporter": "python",
      "pygments_lexer": "ipython3",
      "version": "3.11.5"
    },
    "colab": {
      "provenance": [],
      "include_colab_link": true
    }
  },
  "nbformat": 4,
  "nbformat_minor": 5
}