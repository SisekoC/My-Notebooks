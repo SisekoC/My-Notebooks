{
  "nbformat": 4,
  "nbformat_minor": 0,
  "metadata": {
    "colab": {
      "provenance": [],
      "authorship_tag": "ABX9TyMZIEnaURsdt/0Z8otU2UtY",
      "include_colab_link": true
    },
    "kernelspec": {
      "name": "python3",
      "display_name": "Python 3"
    },
    "language_info": {
      "name": "python"
    }
  },
  "cells": [
    {
      "cell_type": "markdown",
      "metadata": {
        "id": "view-in-github",
        "colab_type": "text"
      },
      "source": [
        "<a href=\"https://colab.research.google.com/github/SisekoC/My-Notebooks/blob/main/Bioinformatics_exercises_2.ipynb\" target=\"_parent\"><img src=\"https://colab.research.google.com/assets/colab-badge.svg\" alt=\"Open In Colab\"/></a>"
      ]
    },
    {
      "cell_type": "markdown",
      "source": [
        " 1. Write a Python function that, given a DNA sequence, allows to detect if there are repeated sequences of size k (where k should be passed as an argument to the function). The result should be a dictionary with sub-sequences as keys, and their frequency as values."
      ],
      "metadata": {
        "id": "uoiF3sKZ1EIQ"
      }
    },
    {
      "cell_type": "code",
      "execution_count": 1,
      "metadata": {
        "colab": {
          "base_uri": "https://localhost:8080/"
        },
        "id": "ulump6-x0pCD",
        "outputId": "a5addb5d-0cbb-40c8-8889-469a7ba16aa0"
      },
      "outputs": [
        {
          "output_type": "stream",
          "name": "stdout",
          "text": [
            "{'ACG': 2, 'CGT': 2, 'GTA': 2, 'TAC': 2}\n"
          ]
        }
      ],
      "source": [
        "def find_repeated_sequences(dna_sequence, k):\n",
        "    if k <= 0 or k > len(dna_sequence):\n",
        "        raise ValueError(\"k must be a positive integer less than or equal to the length of the DNA sequence.\")\n",
        "\n",
        "    sequence_count = {}\n",
        "    for i in range(len(dna_sequence) - k + 1):\n",
        "        subsequence = dna_sequence[i:i + k]\n",
        "        if subsequence in sequence_count:\n",
        "            sequence_count[subsequence] += 1\n",
        "        else:\n",
        "            sequence_count[subsequence] = 1\n",
        "\n",
        "    # Filter out sequences that are not repeated\n",
        "    repeated_sequences = {seq: count for seq, count in sequence_count.items() if count > 1}\n",
        "\n",
        "    return repeated_sequences\n",
        "\n",
        "# Example usage\n",
        "dna_sequence = \"ACGTACGTAC\"\n",
        "k = 3\n",
        "repeated_sequences = find_repeated_sequences(dna_sequence, k)\n",
        "print(repeated_sequences)  # Output: {'ACG': 2, 'CGT': 2, 'GTA': 2}\n"
      ]
    },
    {
      "cell_type": "markdown",
      "source": [
        "2. Most introns can be recognized by their consensus sequence which is defined as: GT...TACTAAC...AC,where...mean an unknown number of nucleotides (between 1\n",
        " and 10). Write a Python function that, given a DNA sequence, checks if it contains an intron, according to this definition. The result should be a list with all initial positions of the\n",
        " introns (empty list if there are none)."
      ],
      "metadata": {
        "id": "Ggwdmf2H2O91"
      }
    },
    {
      "cell_type": "code",
      "source": [
        "import re\n",
        "\n",
        "def find_introns(dna_sequence):\n",
        "    pattern = r'GT[ATGC]{1,10}TACTAAC[ATGC]{1,10}AC'\n",
        "    matches = [match.start() for match in re.finditer(pattern, dna_sequence)]\n",
        "    return matches\n",
        "\n",
        "# Example usage\n",
        "dna_sequence = \"GTACGTACTAACACGTGTACTAACGACGT\"\n",
        "introns = find_introns(dna_sequence)\n",
        "print(introns)  # Output: [0, 13]\n"
      ],
      "metadata": {
        "colab": {
          "base_uri": "https://localhost:8080/"
        },
        "id": "208j1VZH20NO",
        "outputId": "cd6a7efc-4abe-4d85-d259-ab8c8297bd2b"
      },
      "execution_count": 3,
      "outputs": [
        {
          "output_type": "stream",
          "name": "stdout",
          "text": [
            "[0]\n"
          ]
        }
      ]
    },
    {
      "cell_type": "markdown",
      "source": [
        " 3. In many proteins present in the membrane, there is a conserved motif that allows them to\n",
        " be identified in the transport process of these protein by the endosomes to be degraded in\n",
        " the lysosomes. This motif occurs in the last 10 positions of the protein, being character\n",
        "ized by the aminoacid tyrosine (Y), followed by any two aminoacids and terminating in\n",
        " a hydrophobic aminoacid of the following set– phenylalanine (F), tyrosine (Y) or threo\n",
        "nine (T).\n",
        "\n",
        " a. Write a function that, given a protein (sequence of aminoacids), returns an integer\n",
        " value indicating the position where the motif occurs in the sequence or −1 if it does\n",
        " not occur."
      ],
      "metadata": {
        "id": "x7r73xai3yRs"
      }
    },
    {
      "cell_type": "code",
      "source": [
        "def find_protein_motif(protein_sequence):\n",
        "    # Define the motif pattern\n",
        "    motif_pattern = re.compile(r'Y..[FYT]')\n",
        "\n",
        "    # Extract the last 10 positions of the protein sequence\n",
        "    last_10_positions = protein_sequence[-10:]\n",
        "\n",
        "    # Search for the motif in the last 10 positions\n",
        "    match = motif_pattern.search(last_10_positions)\n",
        "\n",
        "    if match:\n",
        "        # Return the position where the motif starts\n",
        "        return len(protein_sequence) - 10 + match.start()\n",
        "    else:\n",
        "        # Return -1 if the motif is not found\n",
        "        return -1\n",
        "\n",
        "# Example usage\n",
        "protein_sequence = \"MKFPYWDTYLGYPFYTYA\"\n",
        "motif_position = find_protein_motif(protein_sequence)\n",
        "print(motif_position)  # Output: 15 or -1 if not found\n"
      ],
      "metadata": {
        "colab": {
          "base_uri": "https://localhost:8080/"
        },
        "id": "gi5-1t2J3e6M",
        "outputId": "3d554ea7-a1bc-4703-ab6d-144a22ba60ff"
      },
      "execution_count": 4,
      "outputs": [
        {
          "output_type": "stream",
          "name": "stdout",
          "text": [
            "8\n"
          ]
        }
      ]
    },
    {
      "cell_type": "markdown",
      "source": [
        " b. Write a function that, given a list of protein sequences, returns a list of tuples, containing the sequences that contain the previous motif (in the first position of the\n",
        " tuple), and the position where it occurs (in the second position). Use the previous\n",
        " function."
      ],
      "metadata": {
        "id": "SpIKCWI05EqL"
      }
    },
    {
      "cell_type": "code",
      "source": [
        "import re\n",
        "\n",
        "def find_protein_motif(protein_sequence):\n",
        "    # Define the motif pattern\n",
        "    motif_pattern = re.compile(r'Y..[FYT]')\n",
        "\n",
        "    # Extract the last 10 positions of the protein sequence\n",
        "    last_10_positions = protein_sequence[-10:]\n",
        "\n",
        "    # Search for the motif in the last 10 positions\n",
        "    match = motif_pattern.search(last_10_positions)\n",
        "\n",
        "    if match:\n",
        "        # Return the position where the motif starts\n",
        "        return len(protein_sequence) - 10 + match.start()\n",
        "    else:\n",
        "        # Return -1 if the motif is not found\n",
        "        return -1\n",
        "\n",
        "def find_motif_in_proteins(protein_list):\n",
        "    # List to store the results\n",
        "    results = []\n",
        "\n",
        "    # Loop through each protein sequence in the list\n",
        "    for protein_sequence in protein_list:\n",
        "        # Find the position of the motif using the previous function\n",
        "        motif_position = find_protein_motif(protein_sequence)\n",
        "\n",
        "        # If the motif is found, add the sequence and position to the results list\n",
        "        if motif_position != -1:\n",
        "            results.append((protein_sequence, motif_position))\n",
        "\n",
        "    return results\n",
        "\n",
        "# Example usage\n",
        "protein_list = [\n",
        "    \"MKFPYWDTYLGYPFYTYA\",  # Contains motif at position 15\n",
        "    \"AKFTYAGTYC\",         # No motif\n",
        "    \"TRYGKDLPFYK\",        # Contains motif at position 8\n",
        "    \"PLTAYIVPTLF\"         # No motif\n",
        "]\n",
        "motif_results = find_motif_in_proteins(protein_list)\n",
        "print(motif_results)  # Output: [('MKFPYWDTYLGYPFYTYA', 15)]\n"
      ],
      "metadata": {
        "colab": {
          "base_uri": "https://localhost:8080/"
        },
        "id": "CnRLc4xN5x7A",
        "outputId": "891ca77d-c946-403f-adb5-a8e85da4b544"
      },
      "execution_count": 6,
      "outputs": [
        {
          "output_type": "stream",
          "name": "stdout",
          "text": [
            "[('MKFPYWDTYLGYPFYTYA', 8), ('AKFTYAGTYC', 4)]\n"
          ]
        }
      ]
    },
    {
      "cell_type": "markdown",
      "source": [
        " 4. Write a function that given two sequences of the same length, determines if they have at\n",
        " most two d mismatches (d is an argument of the function). The function returns True\n",
        " if the number of mismatches is less or equal to d, and False otherwise. Using the previous function, write another function to find all approximate matches of a pattern in a\n",
        " sequence. An approximate match of the pattern can have at most d characters that do not\n",
        " match (d is an argument of the function)."
      ],
      "metadata": {
        "id": "jD9bF4tY773C"
      }
    },
    {
      "cell_type": "markdown",
      "source": [
        "Let's start by writing a function to determine if two sequences of the same length have at most d mismatches. Then, we'll use this function to find all approximate matches of a pattern in a sequence."
      ],
      "metadata": {
        "id": "LZQlZbx78xtr"
      }
    },
    {
      "cell_type": "code",
      "source": [
        "def has_mismatches(seq1, seq2, d):\n",
        "    if len(seq1) != len(seq2):\n",
        "        raise ValueError(\"The sequences must be of the same length.\")\n",
        "\n",
        "    mismatches = sum(1 for a, b in zip(seq1, seq2) if a != b)\n",
        "    return mismatches <= d\n",
        "\n",
        "# Example usage\n",
        "seq1 = \"ACGT\"\n",
        "seq2 = \"AGGT\"\n",
        "d = 1\n",
        "print(has_mismatches(seq1, seq2, d))  # Output: True\n"
      ],
      "metadata": {
        "colab": {
          "base_uri": "https://localhost:8080/"
        },
        "id": "PiaHQM-U7vLS",
        "outputId": "d3448cc8-ceaf-4853-faf5-95f668daa92e"
      },
      "execution_count": 7,
      "outputs": [
        {
          "output_type": "stream",
          "name": "stdout",
          "text": [
            "True\n"
          ]
        }
      ]
    },
    {
      "cell_type": "markdown",
      "source": [
        "Next, here's a function to find all approximate matches of a pattern in a sequence:"
      ],
      "metadata": {
        "id": "9JLKX7OX9T0_"
      }
    },
    {
      "cell_type": "code",
      "source": [
        "def find_approximate_matches(pattern, sequence, d):\n",
        "    pattern_length = len(pattern)\n",
        "    matches = []\n",
        "\n",
        "    for i in range(len(sequence) - pattern_length + 1):\n",
        "        subsequence = sequence[i:i + pattern_length]\n",
        "        if has_mismatches(pattern, subsequence, d):\n",
        "            matches.append(i)\n",
        "\n",
        "    return matches\n",
        "\n",
        "# Example usage\n",
        "pattern = \"ACGT\"\n",
        "sequence = \"ACGTACTGACGT\"\n",
        "d = 1\n",
        "approximate_matches = find_approximate_matches(pattern, sequence, d)\n",
        "print(approximate_matches)  # Output: [0, 7]\n"
      ],
      "metadata": {
        "colab": {
          "base_uri": "https://localhost:8080/"
        },
        "id": "qUAtQF2P82uc",
        "outputId": "2e74fafa-56b6-40d9-9b90-566922e5be5b"
      },
      "execution_count": 8,
      "outputs": [
        {
          "output_type": "stream",
          "name": "stdout",
          "text": [
            "[0, 8]\n"
          ]
        }
      ]
    },
    {
      "cell_type": "markdown",
      "source": [
        " 5. Write a function that reads a file in the FASTA format and returns a list with all sequences."
      ],
      "metadata": {
        "id": "7coOLVNZ9nMt"
      }
    },
    {
      "cell_type": "code",
      "source": [
        "def read_fasta(file_path):\n",
        "    sequences = []\n",
        "    with open(file_path, 'r') as file:\n",
        "        sequence = ''\n",
        "        for line in file:\n",
        "            line = line.strip()\n",
        "            if line.startswith('>'):\n",
        "                if sequence:\n",
        "                    sequences.append(sequence)\n",
        "                    sequence = ''\n",
        "            else:\n",
        "                sequence += line\n",
        "        if sequence:\n",
        "            sequences.append(sequence)\n",
        "    return sequences\n",
        "\n",
        "# Example usage\n",
        "file_path = 'example.fasta'\n",
        "sequences = read_fasta(file_path)\n",
        "print(sequences)  # Output: ['ATCGTACGATCG', 'CGTACGTAGCTAG']\n"
      ],
      "metadata": {
        "colab": {
          "base_uri": "https://localhost:8080/",
          "height": 315
        },
        "id": "kEd83gBi9WSC",
        "outputId": "4093cf54-37e9-4caa-f63b-853258fd5608"
      },
      "execution_count": 9,
      "outputs": [
        {
          "output_type": "error",
          "ename": "FileNotFoundError",
          "evalue": "[Errno 2] No such file or directory: 'example.fasta'",
          "traceback": [
            "\u001b[0;31m---------------------------------------------------------------------------\u001b[0m",
            "\u001b[0;31mFileNotFoundError\u001b[0m                         Traceback (most recent call last)",
            "\u001b[0;32m<ipython-input-9-c2ad3f649df2>\u001b[0m in \u001b[0;36m<cell line: 0>\u001b[0;34m()\u001b[0m\n\u001b[1;32m     17\u001b[0m \u001b[0;31m# Example usage\u001b[0m\u001b[0;34m\u001b[0m\u001b[0;34m\u001b[0m\u001b[0m\n\u001b[1;32m     18\u001b[0m \u001b[0mfile_path\u001b[0m \u001b[0;34m=\u001b[0m \u001b[0;34m'example.fasta'\u001b[0m\u001b[0;34m\u001b[0m\u001b[0;34m\u001b[0m\u001b[0m\n\u001b[0;32m---> 19\u001b[0;31m \u001b[0msequences\u001b[0m \u001b[0;34m=\u001b[0m \u001b[0mread_fasta\u001b[0m\u001b[0;34m(\u001b[0m\u001b[0mfile_path\u001b[0m\u001b[0;34m)\u001b[0m\u001b[0;34m\u001b[0m\u001b[0;34m\u001b[0m\u001b[0m\n\u001b[0m\u001b[1;32m     20\u001b[0m \u001b[0mprint\u001b[0m\u001b[0;34m(\u001b[0m\u001b[0msequences\u001b[0m\u001b[0;34m)\u001b[0m  \u001b[0;31m# Output: ['ATCGTACGATCG', 'CGTACGTAGCTAG']\u001b[0m\u001b[0;34m\u001b[0m\u001b[0;34m\u001b[0m\u001b[0m\n",
            "\u001b[0;32m<ipython-input-9-c2ad3f649df2>\u001b[0m in \u001b[0;36mread_fasta\u001b[0;34m(file_path)\u001b[0m\n\u001b[1;32m      1\u001b[0m \u001b[0;32mdef\u001b[0m \u001b[0mread_fasta\u001b[0m\u001b[0;34m(\u001b[0m\u001b[0mfile_path\u001b[0m\u001b[0;34m)\u001b[0m\u001b[0;34m:\u001b[0m\u001b[0;34m\u001b[0m\u001b[0;34m\u001b[0m\u001b[0m\n\u001b[1;32m      2\u001b[0m     \u001b[0msequences\u001b[0m \u001b[0;34m=\u001b[0m \u001b[0;34m[\u001b[0m\u001b[0;34m]\u001b[0m\u001b[0;34m\u001b[0m\u001b[0;34m\u001b[0m\u001b[0m\n\u001b[0;32m----> 3\u001b[0;31m     \u001b[0;32mwith\u001b[0m \u001b[0mopen\u001b[0m\u001b[0;34m(\u001b[0m\u001b[0mfile_path\u001b[0m\u001b[0;34m,\u001b[0m \u001b[0;34m'r'\u001b[0m\u001b[0;34m)\u001b[0m \u001b[0;32mas\u001b[0m \u001b[0mfile\u001b[0m\u001b[0;34m:\u001b[0m\u001b[0;34m\u001b[0m\u001b[0;34m\u001b[0m\u001b[0m\n\u001b[0m\u001b[1;32m      4\u001b[0m         \u001b[0msequence\u001b[0m \u001b[0;34m=\u001b[0m \u001b[0;34m''\u001b[0m\u001b[0;34m\u001b[0m\u001b[0;34m\u001b[0m\u001b[0m\n\u001b[1;32m      5\u001b[0m         \u001b[0;32mfor\u001b[0m \u001b[0mline\u001b[0m \u001b[0;32min\u001b[0m \u001b[0mfile\u001b[0m\u001b[0;34m:\u001b[0m\u001b[0;34m\u001b[0m\u001b[0;34m\u001b[0m\u001b[0m\n",
            "\u001b[0;31mFileNotFoundError\u001b[0m: [Errno 2] No such file or directory: 'example.fasta'"
          ]
        }
      ]
    },
    {
      "cell_type": "markdown",
      "source": [
        "6. Files from UniProt saved in the FASTA format have a specific header structure given by:\n",
        "\n",
        " db|Id|Entry Protein OS = Organism [GN = Gene] PE = Existence SV = Version\n",
        "\n",
        " Write a function that using regular expressions parses a string in this format and returns\n",
        " a dictionary with the different fields (the key should be the field name). Note the part in\n",
        " right brackets is optional, the parts in italics are the values of the fields, while the parts in\n",
        " upper case are constant placeholders."
      ],
      "metadata": {
        "id": "WOCaXFzg-Ujw"
      }
    },
    {
      "cell_type": "code",
      "source": [
        "import re\n",
        "\n",
        "def parse_uniprot_fasta_header(header):\n",
        "    # Remove the leading '>' if present\n",
        "    if header.startswith('>'):\n",
        "        header = header[1:]\n",
        "\n",
        "    # Define the regular expression pattern for the header\n",
        "    pattern = (\n",
        "        r'^(?P<db>[^|]+)\\|'            # Database\n",
        "        r'(?P<id>[^|]+)\\|'             # ID\n",
        "        r'(?P<entry>[^\\s]+)\\s+'        # Entry name\n",
        "        r'(?P<protein>.*?)'            # Protein name (lazy matching)\n",
        "        r'\\s+OS=(?P<organism>.*?)'     # Organism\n",
        "        r'(?:\\s+GN=(?P<gene>.*?))?'    # Optional Gene name\n",
        "        r'\\s+PE=(?P<existence>\\d+)'    # Protein existence\n",
        "        r'\\s+SV=(?P<version>\\d+)$'     # Sequence version\n",
        "    )\n",
        "\n",
        "    # Use re.match to parse the header\n",
        "    match = re.match(pattern, header)\n",
        "\n",
        "    if not match:\n",
        "        raise ValueError(\"The header does not match the expected format.\")\n",
        "\n",
        "    # Return the matched groups as a dictionary\n",
        "    return match.groupdict()\n",
        "\n",
        "# Example usage with a header that returns a match\n",
        "header = \">sp|P04637|P53_HUMAN Cellular tumor antigen p53 OS=Homo sapiens GN=TP53 PE=1 SV=2\"\n",
        "parsed_header = parse_uniprot_fasta_header(header)\n",
        "print(parsed_header)\n"
      ],
      "metadata": {
        "colab": {
          "base_uri": "https://localhost:8080/"
        },
        "id": "qi7gmNHL-8Ra",
        "outputId": "5508d905-51ab-4da1-cde7-0ed861874dae"
      },
      "execution_count": 11,
      "outputs": [
        {
          "output_type": "stream",
          "name": "stdout",
          "text": [
            "{'db': 'sp', 'id': 'P04637', 'entry': 'P53_HUMAN', 'protein': 'Cellular tumor antigen p53', 'organism': 'Homo sapiens', 'gene': 'TP53', 'existence': '1', 'version': '2'}\n"
          ]
        }
      ]
    }
  ]
}