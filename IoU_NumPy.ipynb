{
  "cells": [
    {
      "cell_type": "markdown",
      "metadata": {
        "id": "view-in-github",
        "colab_type": "text"
      },
      "source": [
        "<a href=\"https://colab.research.google.com/github/SisekoC/My-Notebooks/blob/main/IoU_NumPy.ipynb\" target=\"_parent\"><img src=\"https://colab.research.google.com/assets/colab-badge.svg\" alt=\"Open In Colab\"/></a>"
      ]
    },
    {
      "cell_type": "markdown",
      "id": "89690779",
      "metadata": {
        "id": "89690779"
      },
      "source": [
        "# IOU Calculation Using NumPy\n",
        "\n",
        "<img src=\"https://learnopencv.com/wp-content/uploads/2022/06/kites-iou-calculate.jpg\" alt=\"Kite detection\">"
      ]
    },
    {
      "cell_type": "code",
      "execution_count": null,
      "id": "a5a88d3e",
      "metadata": {
        "id": "a5a88d3e"
      },
      "outputs": [],
      "source": [
        "import numpy as np"
      ]
    },
    {
      "cell_type": "markdown",
      "id": "cfad9b95",
      "metadata": {
        "id": "cfad9b95"
      },
      "source": [
        "### Bounding Box Coordinates"
      ]
    },
    {
      "cell_type": "code",
      "execution_count": null,
      "id": "edd1e927",
      "metadata": {
        "id": "edd1e927"
      },
      "outputs": [],
      "source": [
        "ground_truth_bbox = np.array([1202, 123, 1650, 868], dtype=np.float32)\n",
        "\n",
        "prediction_bbox = np.array([1162.0001, 92.0021, 1619.9832, 694.0033], dtype=np.float32)"
      ]
    },
    {
      "cell_type": "markdown",
      "id": "816bbfd4",
      "metadata": {
        "id": "816bbfd4"
      },
      "source": [
        "### Function to Calculate IoU"
      ]
    },
    {
      "cell_type": "code",
      "execution_count": null,
      "id": "d2937d1f",
      "metadata": {
        "id": "d2937d1f"
      },
      "outputs": [],
      "source": [
        "def get_iou(ground_truth, pred):\n",
        "    # coordinates of the area of intersection.\n",
        "    ix1 = np.maximum(ground_truth[0], pred[0])\n",
        "    iy1 = np.maximum(ground_truth[1], pred[1])\n",
        "    ix2 = np.minimum(ground_truth[2], pred[2])\n",
        "    iy2 = np.minimum(ground_truth[3], pred[3])\n",
        "\n",
        "    # Intersection height and width.\n",
        "    i_height = np.maximum(iy2 - iy1 + 1, np.array(0.))\n",
        "    i_width = np.maximum(ix2 - ix1 + 1, np.array(0.))\n",
        "\n",
        "    area_of_intersection = i_height * i_width\n",
        "\n",
        "    # Ground Truth dimensions.\n",
        "    gt_height = ground_truth[3] - ground_truth[1] + 1\n",
        "    gt_width = ground_truth[2] - ground_truth[0] + 1\n",
        "\n",
        "    # Prediction dimensions.\n",
        "    pd_height = pred[3] - pred[1] + 1\n",
        "    pd_width = pred[2] - pred[0] + 1\n",
        "\n",
        "    area_of_union = gt_height * gt_width + pd_height * pd_width - area_of_intersection\n",
        "\n",
        "    iou = area_of_intersection / area_of_union\n",
        "\n",
        "    return iou"
      ]
    },
    {
      "cell_type": "markdown",
      "id": "9b165ac6",
      "metadata": {
        "id": "9b165ac6"
      },
      "source": [
        "### Get IoU"
      ]
    },
    {
      "cell_type": "code",
      "execution_count": null,
      "id": "187d1423",
      "metadata": {
        "id": "187d1423",
        "outputId": "c474eb31-fed7-4c93-cc5e-370739593d8f",
        "colab": {
          "base_uri": "https://localhost:8080/"
        }
      },
      "outputs": [
        {
          "output_type": "stream",
          "name": "stdout",
          "text": [
            "IOU:  0.6441399913136432\n"
          ]
        }
      ],
      "source": [
        "iou = get_iou(ground_truth_bbox, prediction_bbox)\n",
        "print('IOU: ', iou)"
      ]
    },
    {
      "cell_type": "code",
      "source": [],
      "metadata": {
        "id": "Z9fwnqsZZuaM"
      },
      "id": "Z9fwnqsZZuaM",
      "execution_count": null,
      "outputs": []
    }
  ],
  "metadata": {
    "kernelspec": {
      "display_name": "yolor-ipyKernel",
      "language": "python",
      "name": "yolor"
    },
    "language_info": {
      "codemirror_mode": {
        "name": "ipython",
        "version": 3
      },
      "file_extension": ".py",
      "mimetype": "text/x-python",
      "name": "python",
      "nbconvert_exporter": "python",
      "pygments_lexer": "ipython3",
      "version": "3.6.13"
    },
    "colab": {
      "provenance": [],
      "include_colab_link": true
    }
  },
  "nbformat": 4,
  "nbformat_minor": 5
}