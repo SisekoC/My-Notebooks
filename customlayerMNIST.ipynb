{
  "nbformat": 4,
  "nbformat_minor": 0,
  "metadata": {
    "colab": {
      "provenance": [],
      "include_colab_link": true
    },
    "kernelspec": {
      "name": "python3",
      "display_name": "Python 3"
    },
    "accelerator": "GPU"
  },
  "cells": [
    {
      "cell_type": "markdown",
      "metadata": {
        "id": "view-in-github",
        "colab_type": "text"
      },
      "source": [
        "<a href=\"https://colab.research.google.com/github/SisekoC/My-Notebooks/blob/main/customlayerMNIST.ipynb\" target=\"_parent\"><img src=\"https://colab.research.google.com/assets/colab-badge.svg\" alt=\"Open In Colab\"/></a>"
      ]
    },
    {
      "cell_type": "code",
      "metadata": {
        "id": "Uug_U5xQ_xyI",
        "colab": {
          "base_uri": "https://localhost:8080/"
        },
        "outputId": "88f8ecd1-e526-4c1b-a2d0-9aafbdd8d080"
      },
      "source": [
        "import tensorflow as tf\n",
        "print(\"Version of tensorflow is : \",tf.__version__)\n",
        "from tensorflow.keras.layers import Layer , Dense, Flatten , Lambda\n",
        "from tensorflow.keras.models import Sequential\n",
        "from tensorflow.keras.datasets import mnist\n",
        "from tensorflow.nn import softmax , relu\n",
        "from tensorflow.keras.losses import categorical_crossentropy\n",
        "from tensorflow.keras.optimizers import RMSprop\n",
        "import tensorflow.keras.backend as k\n",
        "\n",
        "import numpy as np"
      ],
      "execution_count": 1,
      "outputs": [
        {
          "output_type": "stream",
          "name": "stdout",
          "text": [
            "Version of tensorflow is :  2.17.0\n"
          ]
        }
      ]
    },
    {
      "cell_type": "markdown",
      "metadata": {
        "id": "Ussyc00pAItU"
      },
      "source": [
        "**CUSTOM DENSE LAYER CLASS**"
      ]
    },
    {
      "cell_type": "code",
      "metadata": {
        "id": "gvQlfn3D_6o9"
      },
      "source": [
        "#CUSTOM DENSE LAYER CLASS\n",
        "class SimpleDense(Layer):\n",
        "    def __init__(self , units = 32):\n",
        "        super(SimpleDense , self).__init__()\n",
        "        self.units = units\n",
        "\n",
        "    def build(self , input_shape):\n",
        "        w_init = tf.random_normal_initializer()\n",
        "        self.w = tf.Variable(name = \"kernal\" ,\n",
        "                             initial_value = w_init(shape = (input_shape[-1] , self.units) , dtype=\"float32\") ,\n",
        "                             trainable=True )\n",
        "\n",
        "        b_init = tf.zeros_initializer()\n",
        "        self.b = tf.Variable(name = \"bias\",\n",
        "                             initial_value = b_init(shape = (self.units) , dtype = \"float32\") ,\n",
        "                             trainable=True)\n",
        "    def call(self , inputs):\n",
        "        return tf.matmul(inputs , self.w) + self.b"
      ],
      "execution_count": 3,
      "outputs": []
    },
    {
      "cell_type": "code",
      "metadata": {
        "id": "kZZ3qb4dANVT",
        "colab": {
          "base_uri": "https://localhost:8080/"
        },
        "outputId": "a31fefb9-a20b-4fd0-a42b-072a88f4d9ef"
      },
      "source": [
        "(train_data , train_label) , (test_data , test_label) = mnist.load_data()\n",
        "\n",
        "train_data = train_data / 255.0\n",
        "test_data  = test_data  / 255.0\n",
        "\n",
        "train_label = tf.keras.utils.to_categorical(train_label)\n",
        "test_label  = tf.keras.utils.to_categorical(test_label)"
      ],
      "execution_count": 4,
      "outputs": [
        {
          "output_type": "stream",
          "name": "stdout",
          "text": [
            "Downloading data from https://storage.googleapis.com/tensorflow/tf-keras-datasets/mnist.npz\n",
            "\u001b[1m11490434/11490434\u001b[0m \u001b[32m━━━━━━━━━━━━━━━━━━━━\u001b[0m\u001b[37m\u001b[0m \u001b[1m0s\u001b[0m 0us/step\n"
          ]
        }
      ]
    },
    {
      "cell_type": "code",
      "metadata": {
        "id": "lK-4jOcVAibP"
      },
      "source": [
        "def plot_his(h):\n",
        "  history = h.history\n",
        "  f , ax = plt.subplots(1,2,figsize=(16,5))\n",
        "  ax[0].plot(history['acc'] , label=\"train\")\n",
        "  ax[0].plot(history['val_acc'] , label=\"test\")\n",
        "  ax[0].legend()\n",
        "\n",
        "  ax[1].plot(history['loss'] , label=\"train\")\n",
        "  ax[1].plot(history['val_loss'] , label=\"test\")\n",
        "  ax[1].legend()"
      ],
      "execution_count": 7,
      "outputs": []
    },
    {
      "cell_type": "code",
      "metadata": {
        "colab": {
          "base_uri": "https://localhost:8080/"
        },
        "id": "w6HPir2BBpg7",
        "outputId": "85f87b1a-450a-434b-d91d-9ecf3f53b10a"
      },
      "source": [
        "model_dense = Sequential([\n",
        "    Flatten(input_shape=(28,28)),\n",
        "    Dense(128 , activation = 'relu'),\n",
        "    Dense(10 , activation = 'softmax')\n",
        "])\n",
        "model_dense.compile(loss = 'categorical_crossentropy' , optimizer = 'RMSprop' , metrics = ['accuracy'])\n",
        "model_dense.fit(train_data , train_label , epochs = 5)\n",
        "model_dense.evaluate(test_data , test_label)"
      ],
      "execution_count": 9,
      "outputs": [
        {
          "output_type": "stream",
          "name": "stdout",
          "text": [
            "Epoch 1/5\n",
            "\u001b[1m1875/1875\u001b[0m \u001b[32m━━━━━━━━━━━━━━━━━━━━\u001b[0m\u001b[37m\u001b[0m \u001b[1m8s\u001b[0m 4ms/step - accuracy: 0.8862 - loss: 0.4037\n",
            "Epoch 2/5\n",
            "\u001b[1m1875/1875\u001b[0m \u001b[32m━━━━━━━━━━━━━━━━━━━━\u001b[0m\u001b[37m\u001b[0m \u001b[1m16s\u001b[0m 7ms/step - accuracy: 0.9630 - loss: 0.1288\n",
            "Epoch 3/5\n",
            "\u001b[1m1875/1875\u001b[0m \u001b[32m━━━━━━━━━━━━━━━━━━━━\u001b[0m\u001b[37m\u001b[0m \u001b[1m7s\u001b[0m 4ms/step - accuracy: 0.9751 - loss: 0.0864\n",
            "Epoch 4/5\n",
            "\u001b[1m1875/1875\u001b[0m \u001b[32m━━━━━━━━━━━━━━━━━━━━\u001b[0m\u001b[37m\u001b[0m \u001b[1m7s\u001b[0m 4ms/step - accuracy: 0.9803 - loss: 0.0665\n",
            "Epoch 5/5\n",
            "\u001b[1m1875/1875\u001b[0m \u001b[32m━━━━━━━━━━━━━━━━━━━━\u001b[0m\u001b[37m\u001b[0m \u001b[1m6s\u001b[0m 3ms/step - accuracy: 0.9846 - loss: 0.0529\n",
            "\u001b[1m313/313\u001b[0m \u001b[32m━━━━━━━━━━━━━━━━━━━━\u001b[0m\u001b[37m\u001b[0m \u001b[1m1s\u001b[0m 2ms/step - accuracy: 0.9719 - loss: 0.1061\n"
          ]
        },
        {
          "output_type": "execute_result",
          "data": {
            "text/plain": [
              "[0.09208817780017853, 0.9757000207901001]"
            ]
          },
          "metadata": {},
          "execution_count": 9
        }
      ]
    },
    {
      "cell_type": "code",
      "metadata": {
        "colab": {
          "base_uri": "https://localhost:8080/"
        },
        "id": "wD2aCvDrLWy_",
        "outputId": "22c783ab-7e95-4b1a-90fb-aaa46307afd3"
      },
      "source": [
        "model_simpledense = Sequential([\n",
        "    Flatten(input_shape=(28,28)),\n",
        "    SimpleDense(128),\n",
        "    Dense(10 , activation = 'softmax')\n",
        "])\n",
        "model_simpledense.compile(loss = 'categorical_crossentropy' , optimizer = 'RMSprop' , metrics = ['accuracy'])\n",
        "model_simpledense.fit(train_data , train_label , epochs = 5)\n",
        "model_simpledense.evaluate(test_data , test_label)"
      ],
      "execution_count": 10,
      "outputs": [
        {
          "output_type": "stream",
          "name": "stdout",
          "text": [
            "Epoch 1/5\n",
            "\u001b[1m1875/1875\u001b[0m \u001b[32m━━━━━━━━━━━━━━━━━━━━\u001b[0m\u001b[37m\u001b[0m \u001b[1m4s\u001b[0m 2ms/step - accuracy: 0.7108 - loss: 1.0619\n",
            "Epoch 2/5\n",
            "\u001b[1m1875/1875\u001b[0m \u001b[32m━━━━━━━━━━━━━━━━━━━━\u001b[0m\u001b[37m\u001b[0m \u001b[1m6s\u001b[0m 2ms/step - accuracy: 0.8734 - loss: 0.4439\n",
            "Epoch 3/5\n",
            "\u001b[1m1875/1875\u001b[0m \u001b[32m━━━━━━━━━━━━━━━━━━━━\u001b[0m\u001b[37m\u001b[0m \u001b[1m4s\u001b[0m 2ms/step - accuracy: 0.8841 - loss: 0.4026\n",
            "Epoch 4/5\n",
            "\u001b[1m1875/1875\u001b[0m \u001b[32m━━━━━━━━━━━━━━━━━━━━\u001b[0m\u001b[37m\u001b[0m \u001b[1m5s\u001b[0m 2ms/step - accuracy: 0.8891 - loss: 0.3823\n",
            "Epoch 5/5\n",
            "\u001b[1m1875/1875\u001b[0m \u001b[32m━━━━━━━━━━━━━━━━━━━━\u001b[0m\u001b[37m\u001b[0m \u001b[1m6s\u001b[0m 2ms/step - accuracy: 0.8906 - loss: 0.3789\n",
            "\u001b[1m313/313\u001b[0m \u001b[32m━━━━━━━━━━━━━━━━━━━━\u001b[0m\u001b[37m\u001b[0m \u001b[1m1s\u001b[0m 2ms/step - accuracy: 0.8856 - loss: 0.3968\n"
          ]
        },
        {
          "output_type": "execute_result",
          "data": {
            "text/plain": [
              "[0.3444273769855499, 0.9007999897003174]"
            ]
          },
          "metadata": {},
          "execution_count": 10
        }
      ]
    },
    {
      "cell_type": "code",
      "metadata": {
        "colab": {
          "base_uri": "https://localhost:8080/"
        },
        "id": "ohhFCp-DNHdf",
        "outputId": "d256ef59-9062-462d-9269-4f0dc678354f"
      },
      "source": [
        "model_simpledense_lambda = Sequential([\n",
        "    Flatten(input_shape=(28,28)),\n",
        "    SimpleDense(128),\n",
        "    Lambda(lambda x : tf.abs(x)),\n",
        "    Dense(10 , activation = 'softmax')\n",
        "])\n",
        "model_simpledense_lambda.compile(loss = 'categorical_crossentropy' , optimizer = 'RMSprop' , metrics = ['accuracy'])\n",
        "model_simpledense_lambda.fit(train_data , train_label , epochs = 5)\n",
        "model_simpledense_lambda.evaluate(test_data , test_label)"
      ],
      "execution_count": 11,
      "outputs": [
        {
          "output_type": "stream",
          "name": "stdout",
          "text": [
            "Epoch 1/5\n",
            "\u001b[1m1875/1875\u001b[0m \u001b[32m━━━━━━━━━━━━━━━━━━━━\u001b[0m\u001b[37m\u001b[0m \u001b[1m4s\u001b[0m 2ms/step - accuracy: 0.5698 - loss: 1.5385\n",
            "Epoch 2/5\n",
            "\u001b[1m1875/1875\u001b[0m \u001b[32m━━━━━━━━━━━━━━━━━━━━\u001b[0m\u001b[37m\u001b[0m \u001b[1m6s\u001b[0m 2ms/step - accuracy: 0.8272 - loss: 0.6638\n",
            "Epoch 3/5\n",
            "\u001b[1m1875/1875\u001b[0m \u001b[32m━━━━━━━━━━━━━━━━━━━━\u001b[0m\u001b[37m\u001b[0m \u001b[1m4s\u001b[0m 2ms/step - accuracy: 0.8421 - loss: 0.5549\n",
            "Epoch 4/5\n",
            "\u001b[1m1875/1875\u001b[0m \u001b[32m━━━━━━━━━━━━━━━━━━━━\u001b[0m\u001b[37m\u001b[0m \u001b[1m7s\u001b[0m 3ms/step - accuracy: 0.8483 - loss: 0.5164\n",
            "Epoch 5/5\n",
            "\u001b[1m1875/1875\u001b[0m \u001b[32m━━━━━━━━━━━━━━━━━━━━\u001b[0m\u001b[37m\u001b[0m \u001b[1m3s\u001b[0m 2ms/step - accuracy: 0.8521 - loss: 0.4927\n",
            "\u001b[1m313/313\u001b[0m \u001b[32m━━━━━━━━━━━━━━━━━━━━\u001b[0m\u001b[37m\u001b[0m \u001b[1m1s\u001b[0m 2ms/step - accuracy: 0.8415 - loss: 0.5175\n"
          ]
        },
        {
          "output_type": "execute_result",
          "data": {
            "text/plain": [
              "[0.4446850121021271, 0.8666999936103821]"
            ]
          },
          "metadata": {},
          "execution_count": 11
        }
      ]
    },
    {
      "cell_type": "code",
      "source": [],
      "metadata": {
        "id": "SHTI9R9-jcwy"
      },
      "execution_count": null,
      "outputs": []
    }
  ]
}