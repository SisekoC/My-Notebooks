{
  "nbformat": 4,
  "nbformat_minor": 0,
  "metadata": {
    "colab": {
      "provenance": [],
      "include_colab_link": true
    },
    "kernelspec": {
      "name": "python3",
      "display_name": "Python 3"
    },
    "language_info": {
      "name": "python"
    }
  },
  "cells": [
    {
      "cell_type": "markdown",
      "metadata": {
        "id": "view-in-github",
        "colab_type": "text"
      },
      "source": [
        "<a href=\"https://colab.research.google.com/github/SisekoC/My-Notebooks/blob/main/self_attention.ipynb\" target=\"_parent\"><img src=\"https://colab.research.google.com/assets/colab-badge.svg\" alt=\"Open In Colab\"/></a>"
      ]
    },
    {
      "cell_type": "markdown",
      "metadata": {
        "id": "yOFn0WjjXr2B"
      },
      "source": [
        "#Self-attention"
      ]
    },
    {
      "cell_type": "code",
      "metadata": {
        "id": "tyk3ybvYXnHu"
      },
      "source": [
        "import numpy as np\n",
        "import tensorflow as tf"
      ],
      "execution_count": 3,
      "outputs": []
    },
    {
      "cell_type": "markdown",
      "metadata": {
        "id": "XtRRq7wmX7ys"
      },
      "source": [
        "##Step 1: Preparing inputs"
      ]
    },
    {
      "cell_type": "code",
      "metadata": {
        "id": "P0c54R30YEZk"
      },
      "source": [
        "x = [[1, 0, 1, 0],  # input 1\n",
        "     [0, 2, 0, 2],  # input 2\n",
        "     [1, 1, 1, 1]]  # input 3\n",
        "\n",
        "x = np.array(x, dtype=np.float32)"
      ],
      "execution_count": 4,
      "outputs": []
    },
    {
      "cell_type": "markdown",
      "metadata": {
        "id": "cire_KEMYkIt"
      },
      "source": [
        "##Step 2 Initialize the weights"
      ]
    },
    {
      "cell_type": "code",
      "metadata": {
        "id": "MzQnEQyHYmpN"
      },
      "source": [
        "w_key = [[0, 0, 1],\n",
        "         [1, 1, 0],\n",
        "         [0, 1, 0],\n",
        "         [1, 1, 0]]\n",
        "\n",
        "w_query = [[1, 0, 1],\n",
        "           [1, 0, 0],\n",
        "           [0, 0, 1],\n",
        "           [0, 1, 1]]\n",
        "\n",
        "w_value = [[0, 2, 1],\n",
        "           [0, 3, 0],\n",
        "           [1, 0, 3],\n",
        "           [1, 1, 0]]\n",
        "\n",
        "w_key = np.array(w_key, dtype=np.float32)\n",
        "w_query = np.array(w_query, dtype=np.float32)\n",
        "w_value = np.array(w_value, dtype=np.float32)"
      ],
      "execution_count": 5,
      "outputs": []
    },
    {
      "cell_type": "markdown",
      "metadata": {
        "id": "ecF6Vrq1b3kk"
      },
      "source": [
        "##Step 3 Determine key, query and value"
      ]
    },
    {
      "cell_type": "code",
      "metadata": {
        "colab": {
          "base_uri": "https://localhost:8080/"
        },
        "id": "fmspQnWfcFHH",
        "outputId": "96b0d0ba-823f-4ffa-cf7c-7551aa848817"
      },
      "source": [
        "keys = x @ w_key\n",
        "querys = x @ w_query\n",
        "values = x @ w_value\n",
        "\n",
        "print('Keys: \\n', keys)\n",
        "print('Querys: \\n', querys)\n",
        "print('Values: \\n', values)"
      ],
      "execution_count": 6,
      "outputs": [
        {
          "output_type": "stream",
          "name": "stdout",
          "text": [
            "Keys: \n",
            " [[0. 1. 1.]\n",
            " [4. 4. 0.]\n",
            " [2. 3. 1.]]\n",
            "Querys: \n",
            " [[1. 0. 2.]\n",
            " [2. 2. 2.]\n",
            " [2. 1. 3.]]\n",
            "Values: \n",
            " [[1. 2. 4.]\n",
            " [2. 8. 0.]\n",
            " [2. 6. 4.]]\n"
          ]
        }
      ]
    },
    {
      "cell_type": "markdown",
      "metadata": {
        "id": "hTu3f5PSfLQ-"
      },
      "source": [
        "##Step 4 Calculate attention scores"
      ]
    },
    {
      "cell_type": "code",
      "metadata": {
        "colab": {
          "base_uri": "https://localhost:8080/"
        },
        "id": "wHW48xpYfcZF",
        "outputId": "3557d8bb-889b-40b2-a752-8558b6c4a473"
      },
      "source": [
        "attn_scores = querys @ keys.T\n",
        "print(attn_scores)"
      ],
      "execution_count": 7,
      "outputs": [
        {
          "output_type": "stream",
          "name": "stdout",
          "text": [
            "[[ 2.  4.  4.]\n",
            " [ 4. 16. 12.]\n",
            " [ 4. 12. 10.]]\n"
          ]
        }
      ]
    },
    {
      "cell_type": "markdown",
      "metadata": {
        "id": "RPvnjAmmgHUO"
      },
      "source": [
        "##Step 5 Calculate softmax"
      ]
    },
    {
      "cell_type": "code",
      "metadata": {
        "colab": {
          "base_uri": "https://localhost:8080/"
        },
        "id": "qAW5QWTIgT_T",
        "outputId": "6b4cdc35-0a22-4577-c547-c0c13600613e"
      },
      "source": [
        "attn_scores_softmax = np.round_(tf.nn.softmax(attn_scores, axis=-1), decimals=1)\n",
        "print(attn_scores_softmax)"
      ],
      "execution_count": 8,
      "outputs": [
        {
          "output_type": "stream",
          "name": "stdout",
          "text": [
            "[[0.1 0.5 0.5]\n",
            " [0.  1.  0. ]\n",
            " [0.  0.9 0.1]]\n"
          ]
        }
      ]
    },
    {
      "cell_type": "markdown",
      "metadata": {
        "id": "Jd2bE_wzkz-6"
      },
      "source": [
        "##Step 6 Multiplying scores and values"
      ]
    },
    {
      "cell_type": "code",
      "metadata": {
        "colab": {
          "base_uri": "https://localhost:8080/"
        },
        "id": "OsRCJnFFlKjb",
        "outputId": "b1085d15-8b38-4565-8c83-f484d61cb54b"
      },
      "source": [
        "weighted_values = values[:, None] * attn_scores_softmax.T[:, :, None]\n",
        "print(weighted_values)"
      ],
      "execution_count": 9,
      "outputs": [
        {
          "output_type": "stream",
          "name": "stdout",
          "text": [
            "[[[0.1 0.2 0.4]\n",
            "  [0.  0.  0. ]\n",
            "  [0.  0.  0. ]]\n",
            "\n",
            " [[1.  4.  0. ]\n",
            "  [2.  8.  0. ]\n",
            "  [1.8 7.2 0. ]]\n",
            "\n",
            " [[1.  3.  2. ]\n",
            "  [0.  0.  0. ]\n",
            "  [0.2 0.6 0.4]]]\n"
          ]
        }
      ]
    },
    {
      "cell_type": "markdown",
      "metadata": {
        "id": "toP8zcCLl7Yo"
      },
      "source": [
        "##Step 7 Sum of weighted values"
      ]
    },
    {
      "cell_type": "code",
      "metadata": {
        "colab": {
          "base_uri": "https://localhost:8080/"
        },
        "id": "1G0hGuCMmDTs",
        "outputId": "c7e5da28-d267-4a1a-a596-10eceaa8ddf7"
      },
      "source": [
        "outputs = np.sum(weighted_values, axis=0)\n",
        "print(outputs)"
      ],
      "execution_count": 10,
      "outputs": [
        {
          "output_type": "stream",
          "name": "stdout",
          "text": [
            "[[2.1       7.2       2.4      ]\n",
            " [2.        8.        0.       ]\n",
            " [2.        7.7999997 0.4      ]]\n"
          ]
        }
      ]
    },
    {
      "cell_type": "code",
      "source": [],
      "metadata": {
        "id": "M9fzMRw52bls"
      },
      "execution_count": null,
      "outputs": []
    }
  ]
}