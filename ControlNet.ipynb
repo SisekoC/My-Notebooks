{
  "nbformat": 4,
  "nbformat_minor": 0,
  "metadata": {
    "colab": {
      "provenance": [],
      "include_colab_link": true
    },
    "kernelspec": {
      "name": "python3",
      "display_name": "Python 3"
    },
    "language_info": {
      "name": "python"
    },
    "accelerator": "GPU",
    "gpuClass": "standard"
  },
  "cells": [
    {
      "cell_type": "markdown",
      "metadata": {
        "id": "view-in-github",
        "colab_type": "text"
      },
      "source": [
        "<a href=\"https://colab.research.google.com/github/SisekoC/OpenCV/blob/main/ControlNet.ipynb\" target=\"_parent\"><img src=\"https://colab.research.google.com/assets/colab-badge.svg\" alt=\"Open In Colab\"/></a>"
      ]
    },
    {
      "cell_type": "markdown",
      "source": [
        "## Clone the GitHub Repository"
      ],
      "metadata": {
        "id": "s1rkBGhYUUwE"
      }
    },
    {
      "cell_type": "code",
      "source": [
        "!git clone https://github.com/lllyasviel/ControlNet.git"
      ],
      "metadata": {
        "colab": {
          "base_uri": "https://localhost:8080/"
        },
        "id": "NOCkBoSBUZwq",
        "outputId": "364b81ff-b893-47cd-c0b5-9c69f4ef4f51"
      },
      "execution_count": null,
      "outputs": [
        {
          "output_type": "stream",
          "name": "stdout",
          "text": [
            "fatal: destination path 'ControlNet' already exists and is not an empty directory.\n"
          ]
        }
      ]
    },
    {
      "cell_type": "code",
      "source": [
        "%cd ControlNet/"
      ],
      "metadata": {
        "colab": {
          "base_uri": "https://localhost:8080/"
        },
        "id": "Gf86Tz4YUdEj",
        "outputId": "22708cbc-a178-4c63-f02a-d3c465e3b598"
      },
      "execution_count": null,
      "outputs": [
        {
          "output_type": "stream",
          "name": "stdout",
          "text": [
            "/content/ControlNet\n"
          ]
        }
      ]
    },
    {
      "cell_type": "code",
      "source": [
        "%%writefile requirements.txt\n",
        "xformers\n",
        "numpy==1.23.1\n",
        "gradio==3.16.2\n",
        "albumentations==1.3.0\n",
        "opencv-contrib-python\n",
        "imageio==2.9.0\n",
        "imageio-ffmpeg==0.4.2\n",
        "pytorch-lightning==1.9.2\n",
        "omegaconf==2.1.1\n",
        "test-tube>=0.7.5\n",
        "streamlit==1.12.1\n",
        "einops==0.3.0\n",
        "transformers==4.19.2\n",
        "webdataset==0.2.5\n",
        "kornia==0.6\n",
        "open_clip_torch==2.0.2\n",
        "invisible-watermark>=0.1.5\n",
        "streamlit-drawable-canvas==0.8.0\n",
        "torchmetrics==0.7.0\n",
        "timm==0.6.12\n",
        "addict==2.4.0\n",
        "yapf==0.32.0\n",
        "prettytable==3.6.0\n",
        "safetensors==0.2.7\n",
        "basicsr==1.4.2\n",
        "einops"
      ],
      "metadata": {
        "colab": {
          "base_uri": "https://localhost:8080/"
        },
        "id": "0ZJ5GoiTYvvq",
        "outputId": "798c32a6-6a0e-41c4-b647-4b78cecd332d"
      },
      "execution_count": null,
      "outputs": [
        {
          "output_type": "stream",
          "name": "stdout",
          "text": [
            "Overwriting requirements.txt\n"
          ]
        }
      ]
    },
    {
      "cell_type": "code",
      "source": [
        "import torch\n",
        "torch.version.cuda"
      ],
      "metadata": {
        "colab": {
          "base_uri": "https://localhost:8080/",
          "height": 36
        },
        "id": "DuznRHvEY1Pj",
        "outputId": "17d500d2-2209-4aa8-f3f0-f8626c8fe647"
      },
      "execution_count": null,
      "outputs": [
        {
          "output_type": "execute_result",
          "data": {
            "text/plain": [
              "'12.1'"
            ],
            "application/vnd.google.colaboratory.intrinsic+json": {
              "type": "string"
            }
          },
          "metadata": {},
          "execution_count": 4
        }
      ]
    },
    {
      "cell_type": "code",
      "source": [
        "!pip install -r requirements.txt"
      ],
      "metadata": {
        "colab": {
          "base_uri": "https://localhost:8080/"
        },
        "id": "FyRVvif6WZA3",
        "outputId": "fd4677e4-0900-43c9-d4a0-5672b53de5cc"
      },
      "execution_count": null,
      "outputs": [
        {
          "output_type": "stream",
          "name": "stdout",
          "text": [
            "Requirement already satisfied: xformers in /usr/local/lib/python3.10/dist-packages (from -r requirements.txt (line 1)) (0.0.27.post2)\n",
            "Requirement already satisfied: numpy==1.23.1 in /usr/local/lib/python3.10/dist-packages (from -r requirements.txt (line 2)) (1.23.1)\n",
            "Requirement already satisfied: gradio==3.16.2 in /usr/local/lib/python3.10/dist-packages (from -r requirements.txt (line 3)) (3.16.2)\n",
            "Requirement already satisfied: albumentations==1.3.0 in /usr/local/lib/python3.10/dist-packages (from -r requirements.txt (line 4)) (1.3.0)\n",
            "Requirement already satisfied: opencv-contrib-python in /usr/local/lib/python3.10/dist-packages (from -r requirements.txt (line 5)) (4.10.0.84)\n",
            "Requirement already satisfied: imageio==2.9.0 in /usr/local/lib/python3.10/dist-packages (from -r requirements.txt (line 6)) (2.9.0)\n",
            "Requirement already satisfied: imageio-ffmpeg==0.4.2 in /usr/local/lib/python3.10/dist-packages (from -r requirements.txt (line 7)) (0.4.2)\n",
            "Requirement already satisfied: pytorch-lightning==1.9.2 in /usr/local/lib/python3.10/dist-packages (from -r requirements.txt (line 8)) (1.9.2)\n",
            "Requirement already satisfied: omegaconf==2.1.1 in /usr/local/lib/python3.10/dist-packages (from -r requirements.txt (line 9)) (2.1.1)\n",
            "Requirement already satisfied: test-tube>=0.7.5 in /usr/local/lib/python3.10/dist-packages (from -r requirements.txt (line 10)) (0.7.5)\n",
            "Requirement already satisfied: streamlit==1.12.1 in /usr/local/lib/python3.10/dist-packages (from -r requirements.txt (line 11)) (1.12.1)\n",
            "Requirement already satisfied: einops==0.3.0 in /usr/local/lib/python3.10/dist-packages (from -r requirements.txt (line 12)) (0.3.0)\n",
            "Requirement already satisfied: transformers==4.19.2 in /usr/local/lib/python3.10/dist-packages (from -r requirements.txt (line 13)) (4.19.2)\n",
            "Requirement already satisfied: webdataset==0.2.5 in /usr/local/lib/python3.10/dist-packages (from -r requirements.txt (line 14)) (0.2.5)\n",
            "Requirement already satisfied: kornia==0.6 in /usr/local/lib/python3.10/dist-packages (from -r requirements.txt (line 15)) (0.6.0)\n",
            "Requirement already satisfied: open_clip_torch==2.0.2 in /usr/local/lib/python3.10/dist-packages (from -r requirements.txt (line 16)) (2.0.2)\n",
            "Requirement already satisfied: invisible-watermark>=0.1.5 in /usr/local/lib/python3.10/dist-packages (from -r requirements.txt (line 17)) (0.2.0)\n",
            "Requirement already satisfied: streamlit-drawable-canvas==0.8.0 in /usr/local/lib/python3.10/dist-packages (from -r requirements.txt (line 18)) (0.8.0)\n",
            "Requirement already satisfied: torchmetrics==0.7.0 in /usr/local/lib/python3.10/dist-packages (from -r requirements.txt (line 19)) (0.7.0)\n",
            "Requirement already satisfied: timm==0.6.12 in /usr/local/lib/python3.10/dist-packages (from -r requirements.txt (line 20)) (0.6.12)\n",
            "Requirement already satisfied: addict==2.4.0 in /usr/local/lib/python3.10/dist-packages (from -r requirements.txt (line 21)) (2.4.0)\n",
            "Requirement already satisfied: yapf==0.32.0 in /usr/local/lib/python3.10/dist-packages (from -r requirements.txt (line 22)) (0.32.0)\n",
            "Requirement already satisfied: prettytable==3.6.0 in /usr/local/lib/python3.10/dist-packages (from -r requirements.txt (line 23)) (3.6.0)\n",
            "Requirement already satisfied: safetensors==0.2.7 in /usr/local/lib/python3.10/dist-packages (from -r requirements.txt (line 24)) (0.2.7)\n",
            "Requirement already satisfied: basicsr==1.4.2 in /usr/local/lib/python3.10/dist-packages (from -r requirements.txt (line 25)) (1.4.2)\n",
            "Requirement already satisfied: aiofiles in /usr/local/lib/python3.10/dist-packages (from gradio==3.16.2->-r requirements.txt (line 3)) (24.1.0)\n",
            "Requirement already satisfied: aiohttp in /usr/local/lib/python3.10/dist-packages (from gradio==3.16.2->-r requirements.txt (line 3)) (3.10.5)\n",
            "Requirement already satisfied: altair>=4.2.0 in /usr/local/lib/python3.10/dist-packages (from gradio==3.16.2->-r requirements.txt (line 3)) (4.2.2)\n",
            "Requirement already satisfied: fastapi in /usr/local/lib/python3.10/dist-packages (from gradio==3.16.2->-r requirements.txt (line 3)) (0.112.1)\n",
            "Requirement already satisfied: ffmpy in /usr/local/lib/python3.10/dist-packages (from gradio==3.16.2->-r requirements.txt (line 3)) (0.4.0)\n",
            "Requirement already satisfied: fsspec in /usr/local/lib/python3.10/dist-packages (from gradio==3.16.2->-r requirements.txt (line 3)) (2024.6.1)\n",
            "Requirement already satisfied: httpx in /usr/local/lib/python3.10/dist-packages (from gradio==3.16.2->-r requirements.txt (line 3)) (0.27.0)\n",
            "Requirement already satisfied: jinja2 in /usr/local/lib/python3.10/dist-packages (from gradio==3.16.2->-r requirements.txt (line 3)) (3.1.4)\n",
            "Requirement already satisfied: markdown-it-py[linkify,plugins] in /usr/local/lib/python3.10/dist-packages (from gradio==3.16.2->-r requirements.txt (line 3)) (3.0.0)\n",
            "Requirement already satisfied: markupsafe in /usr/local/lib/python3.10/dist-packages (from gradio==3.16.2->-r requirements.txt (line 3)) (2.1.5)\n",
            "Requirement already satisfied: matplotlib in /usr/local/lib/python3.10/dist-packages (from gradio==3.16.2->-r requirements.txt (line 3)) (3.7.1)\n",
            "Requirement already satisfied: orjson in /usr/local/lib/python3.10/dist-packages (from gradio==3.16.2->-r requirements.txt (line 3)) (3.10.7)\n",
            "Requirement already satisfied: pandas in /usr/local/lib/python3.10/dist-packages (from gradio==3.16.2->-r requirements.txt (line 3)) (2.1.4)\n",
            "Requirement already satisfied: pillow in /usr/local/lib/python3.10/dist-packages (from gradio==3.16.2->-r requirements.txt (line 3)) (9.4.0)\n",
            "Requirement already satisfied: pycryptodome in /usr/local/lib/python3.10/dist-packages (from gradio==3.16.2->-r requirements.txt (line 3)) (3.20.0)\n",
            "Requirement already satisfied: pydantic in /usr/local/lib/python3.10/dist-packages (from gradio==3.16.2->-r requirements.txt (line 3)) (2.8.2)\n",
            "Requirement already satisfied: pydub in /usr/local/lib/python3.10/dist-packages (from gradio==3.16.2->-r requirements.txt (line 3)) (0.25.1)\n",
            "Requirement already satisfied: python-multipart in /usr/local/lib/python3.10/dist-packages (from gradio==3.16.2->-r requirements.txt (line 3)) (0.0.9)\n",
            "Requirement already satisfied: pyyaml in /usr/local/lib/python3.10/dist-packages (from gradio==3.16.2->-r requirements.txt (line 3)) (6.0.2)\n",
            "Requirement already satisfied: requests in /usr/local/lib/python3.10/dist-packages (from gradio==3.16.2->-r requirements.txt (line 3)) (2.32.3)\n",
            "Requirement already satisfied: typing-extensions in /usr/local/lib/python3.10/dist-packages (from gradio==3.16.2->-r requirements.txt (line 3)) (4.12.2)\n",
            "Requirement already satisfied: uvicorn in /usr/local/lib/python3.10/dist-packages (from gradio==3.16.2->-r requirements.txt (line 3)) (0.30.6)\n",
            "Requirement already satisfied: websockets>=10.0 in /usr/local/lib/python3.10/dist-packages (from gradio==3.16.2->-r requirements.txt (line 3)) (13.0)\n",
            "Requirement already satisfied: scipy in /usr/local/lib/python3.10/dist-packages (from albumentations==1.3.0->-r requirements.txt (line 4)) (1.13.1)\n",
            "Requirement already satisfied: scikit-image>=0.16.1 in /usr/local/lib/python3.10/dist-packages (from albumentations==1.3.0->-r requirements.txt (line 4)) (0.20.0)\n",
            "Requirement already satisfied: qudida>=0.0.4 in /usr/local/lib/python3.10/dist-packages (from albumentations==1.3.0->-r requirements.txt (line 4)) (0.0.4)\n",
            "Requirement already satisfied: opencv-python-headless>=4.1.1 in /usr/local/lib/python3.10/dist-packages (from albumentations==1.3.0->-r requirements.txt (line 4)) (4.10.0.84)\n",
            "Requirement already satisfied: torch>=1.10.0 in /usr/local/lib/python3.10/dist-packages (from pytorch-lightning==1.9.2->-r requirements.txt (line 8)) (2.4.0)\n",
            "Requirement already satisfied: tqdm>=4.57.0 in /usr/local/lib/python3.10/dist-packages (from pytorch-lightning==1.9.2->-r requirements.txt (line 8)) (4.66.5)\n",
            "Requirement already satisfied: packaging>=17.1 in /usr/local/lib/python3.10/dist-packages (from pytorch-lightning==1.9.2->-r requirements.txt (line 8)) (24.1)\n",
            "Requirement already satisfied: lightning-utilities>=0.6.0.post0 in /usr/local/lib/python3.10/dist-packages (from pytorch-lightning==1.9.2->-r requirements.txt (line 8)) (0.11.6)\n",
            "Requirement already satisfied: antlr4-python3-runtime==4.8 in /usr/local/lib/python3.10/dist-packages (from omegaconf==2.1.1->-r requirements.txt (line 9)) (4.8)\n",
            "Requirement already satisfied: blinker>=1.0.0 in /usr/lib/python3/dist-packages (from streamlit==1.12.1->-r requirements.txt (line 11)) (1.4)\n",
            "Requirement already satisfied: cachetools>=4.0 in /usr/local/lib/python3.10/dist-packages (from streamlit==1.12.1->-r requirements.txt (line 11)) (5.5.0)\n",
            "Requirement already satisfied: click>=7.0 in /usr/local/lib/python3.10/dist-packages (from streamlit==1.12.1->-r requirements.txt (line 11)) (8.1.7)\n",
            "Requirement already satisfied: importlib-metadata>=1.4 in /usr/local/lib/python3.10/dist-packages (from streamlit==1.12.1->-r requirements.txt (line 11)) (8.4.0)\n",
            "Requirement already satisfied: protobuf<4,>=3.12 in /usr/local/lib/python3.10/dist-packages (from streamlit==1.12.1->-r requirements.txt (line 11)) (3.20.3)\n",
            "Requirement already satisfied: pyarrow>=4.0 in /usr/local/lib/python3.10/dist-packages (from streamlit==1.12.1->-r requirements.txt (line 11)) (14.0.2)\n",
            "Requirement already satisfied: pydeck>=0.1.dev5 in /usr/local/lib/python3.10/dist-packages (from streamlit==1.12.1->-r requirements.txt (line 11)) (0.9.1)\n",
            "Requirement already satisfied: pympler>=0.9 in /usr/local/lib/python3.10/dist-packages (from streamlit==1.12.1->-r requirements.txt (line 11)) (1.1)\n",
            "Requirement already satisfied: python-dateutil in /usr/local/lib/python3.10/dist-packages (from streamlit==1.12.1->-r requirements.txt (line 11)) (2.8.2)\n",
            "Requirement already satisfied: rich>=10.11.0 in /usr/local/lib/python3.10/dist-packages (from streamlit==1.12.1->-r requirements.txt (line 11)) (13.7.1)\n",
            "Requirement already satisfied: semver in /usr/local/lib/python3.10/dist-packages (from streamlit==1.12.1->-r requirements.txt (line 11)) (3.0.2)\n",
            "Requirement already satisfied: toml in /usr/local/lib/python3.10/dist-packages (from streamlit==1.12.1->-r requirements.txt (line 11)) (0.10.2)\n",
            "Requirement already satisfied: tornado>=5.0 in /usr/local/lib/python3.10/dist-packages (from streamlit==1.12.1->-r requirements.txt (line 11)) (6.3.3)\n",
            "Requirement already satisfied: tzlocal>=1.1 in /usr/local/lib/python3.10/dist-packages (from streamlit==1.12.1->-r requirements.txt (line 11)) (5.2)\n",
            "Requirement already satisfied: validators>=0.2 in /usr/local/lib/python3.10/dist-packages (from streamlit==1.12.1->-r requirements.txt (line 11)) (0.33.0)\n",
            "Requirement already satisfied: gitpython!=3.1.19 in /usr/local/lib/python3.10/dist-packages (from streamlit==1.12.1->-r requirements.txt (line 11)) (3.1.43)\n",
            "Requirement already satisfied: watchdog in /usr/local/lib/python3.10/dist-packages (from streamlit==1.12.1->-r requirements.txt (line 11)) (4.0.2)\n",
            "Requirement already satisfied: filelock in /usr/local/lib/python3.10/dist-packages (from transformers==4.19.2->-r requirements.txt (line 13)) (3.15.4)\n",
            "Requirement already satisfied: huggingface-hub<1.0,>=0.1.0 in /usr/local/lib/python3.10/dist-packages (from transformers==4.19.2->-r requirements.txt (line 13)) (0.23.5)\n",
            "Requirement already satisfied: regex!=2019.12.17 in /usr/local/lib/python3.10/dist-packages (from transformers==4.19.2->-r requirements.txt (line 13)) (2024.5.15)\n",
            "Requirement already satisfied: tokenizers!=0.11.3,<0.13,>=0.11.1 in /usr/local/lib/python3.10/dist-packages (from transformers==4.19.2->-r requirements.txt (line 13)) (0.12.1)\n",
            "Requirement already satisfied: braceexpand in /usr/local/lib/python3.10/dist-packages (from webdataset==0.2.5->-r requirements.txt (line 14)) (0.1.7)\n",
            "Requirement already satisfied: torchvision in /usr/local/lib/python3.10/dist-packages (from open_clip_torch==2.0.2->-r requirements.txt (line 16)) (0.19.0)\n",
            "Requirement already satisfied: ftfy in /usr/local/lib/python3.10/dist-packages (from open_clip_torch==2.0.2->-r requirements.txt (line 16)) (6.2.3)\n",
            "Requirement already satisfied: pyDeprecate==0.3.* in /usr/local/lib/python3.10/dist-packages (from torchmetrics==0.7.0->-r requirements.txt (line 19)) (0.3.2)\n",
            "Requirement already satisfied: wcwidth in /usr/local/lib/python3.10/dist-packages (from prettytable==3.6.0->-r requirements.txt (line 23)) (0.2.13)\n",
            "Requirement already satisfied: future in /usr/local/lib/python3.10/dist-packages (from basicsr==1.4.2->-r requirements.txt (line 25)) (1.0.0)\n",
            "Requirement already satisfied: lmdb in /usr/local/lib/python3.10/dist-packages (from basicsr==1.4.2->-r requirements.txt (line 25)) (1.5.1)\n",
            "Requirement already satisfied: opencv-python in /usr/local/lib/python3.10/dist-packages (from basicsr==1.4.2->-r requirements.txt (line 25)) (4.10.0.84)\n",
            "Requirement already satisfied: tb-nightly in /usr/local/lib/python3.10/dist-packages (from basicsr==1.4.2->-r requirements.txt (line 25)) (2.18.0a20240823)\n",
            "Requirement already satisfied: sympy in /usr/local/lib/python3.10/dist-packages (from torch>=1.10.0->pytorch-lightning==1.9.2->-r requirements.txt (line 8)) (1.13.2)\n",
            "Requirement already satisfied: networkx in /usr/local/lib/python3.10/dist-packages (from torch>=1.10.0->pytorch-lightning==1.9.2->-r requirements.txt (line 8)) (3.3)\n",
            "Requirement already satisfied: nvidia-cuda-nvrtc-cu12==12.1.105 in /usr/local/lib/python3.10/dist-packages (from torch>=1.10.0->pytorch-lightning==1.9.2->-r requirements.txt (line 8)) (12.1.105)\n",
            "Requirement already satisfied: nvidia-cuda-runtime-cu12==12.1.105 in /usr/local/lib/python3.10/dist-packages (from torch>=1.10.0->pytorch-lightning==1.9.2->-r requirements.txt (line 8)) (12.1.105)\n",
            "Requirement already satisfied: nvidia-cuda-cupti-cu12==12.1.105 in /usr/local/lib/python3.10/dist-packages (from torch>=1.10.0->pytorch-lightning==1.9.2->-r requirements.txt (line 8)) (12.1.105)\n",
            "Requirement already satisfied: nvidia-cudnn-cu12==9.1.0.70 in /usr/local/lib/python3.10/dist-packages (from torch>=1.10.0->pytorch-lightning==1.9.2->-r requirements.txt (line 8)) (9.1.0.70)\n",
            "Requirement already satisfied: nvidia-cublas-cu12==12.1.3.1 in /usr/local/lib/python3.10/dist-packages (from torch>=1.10.0->pytorch-lightning==1.9.2->-r requirements.txt (line 8)) (12.1.3.1)\n",
            "Requirement already satisfied: nvidia-cufft-cu12==11.0.2.54 in /usr/local/lib/python3.10/dist-packages (from torch>=1.10.0->pytorch-lightning==1.9.2->-r requirements.txt (line 8)) (11.0.2.54)\n",
            "Requirement already satisfied: nvidia-curand-cu12==10.3.2.106 in /usr/local/lib/python3.10/dist-packages (from torch>=1.10.0->pytorch-lightning==1.9.2->-r requirements.txt (line 8)) (10.3.2.106)\n",
            "Requirement already satisfied: nvidia-cusolver-cu12==11.4.5.107 in /usr/local/lib/python3.10/dist-packages (from torch>=1.10.0->pytorch-lightning==1.9.2->-r requirements.txt (line 8)) (11.4.5.107)\n",
            "Requirement already satisfied: nvidia-cusparse-cu12==12.1.0.106 in /usr/local/lib/python3.10/dist-packages (from torch>=1.10.0->pytorch-lightning==1.9.2->-r requirements.txt (line 8)) (12.1.0.106)\n",
            "Requirement already satisfied: nvidia-nccl-cu12==2.20.5 in /usr/local/lib/python3.10/dist-packages (from torch>=1.10.0->pytorch-lightning==1.9.2->-r requirements.txt (line 8)) (2.20.5)\n",
            "Requirement already satisfied: nvidia-nvtx-cu12==12.1.105 in /usr/local/lib/python3.10/dist-packages (from torch>=1.10.0->pytorch-lightning==1.9.2->-r requirements.txt (line 8)) (12.1.105)\n",
            "Requirement already satisfied: triton==3.0.0 in /usr/local/lib/python3.10/dist-packages (from torch>=1.10.0->pytorch-lightning==1.9.2->-r requirements.txt (line 8)) (3.0.0)\n",
            "Requirement already satisfied: nvidia-nvjitlink-cu12 in /usr/local/lib/python3.10/dist-packages (from nvidia-cusolver-cu12==11.4.5.107->torch>=1.10.0->pytorch-lightning==1.9.2->-r requirements.txt (line 8)) (12.6.20)\n",
            "Requirement already satisfied: tensorboard>=1.15.0 in /usr/local/lib/python3.10/dist-packages (from test-tube>=0.7.5->-r requirements.txt (line 10)) (2.17.0)\n",
            "Requirement already satisfied: PyWavelets>=1.1.1 in /usr/local/lib/python3.10/dist-packages (from invisible-watermark>=0.1.5->-r requirements.txt (line 17)) (1.7.0)\n",
            "Requirement already satisfied: entrypoints in /usr/local/lib/python3.10/dist-packages (from altair>=4.2.0->gradio==3.16.2->-r requirements.txt (line 3)) (0.4)\n",
            "Requirement already satisfied: jsonschema>=3.0 in /usr/local/lib/python3.10/dist-packages (from altair>=4.2.0->gradio==3.16.2->-r requirements.txt (line 3)) (4.23.0)\n",
            "Requirement already satisfied: toolz in /usr/local/lib/python3.10/dist-packages (from altair>=4.2.0->gradio==3.16.2->-r requirements.txt (line 3)) (0.12.1)\n",
            "Requirement already satisfied: aiohappyeyeballs>=2.3.0 in /usr/local/lib/python3.10/dist-packages (from aiohttp->gradio==3.16.2->-r requirements.txt (line 3)) (2.4.0)\n",
            "Requirement already satisfied: aiosignal>=1.1.2 in /usr/local/lib/python3.10/dist-packages (from aiohttp->gradio==3.16.2->-r requirements.txt (line 3)) (1.3.1)\n",
            "Requirement already satisfied: attrs>=17.3.0 in /usr/local/lib/python3.10/dist-packages (from aiohttp->gradio==3.16.2->-r requirements.txt (line 3)) (24.2.0)\n",
            "Requirement already satisfied: frozenlist>=1.1.1 in /usr/local/lib/python3.10/dist-packages (from aiohttp->gradio==3.16.2->-r requirements.txt (line 3)) (1.4.1)\n",
            "Requirement already satisfied: multidict<7.0,>=4.5 in /usr/local/lib/python3.10/dist-packages (from aiohttp->gradio==3.16.2->-r requirements.txt (line 3)) (6.0.5)\n",
            "Requirement already satisfied: yarl<2.0,>=1.0 in /usr/local/lib/python3.10/dist-packages (from aiohttp->gradio==3.16.2->-r requirements.txt (line 3)) (1.9.4)\n",
            "Requirement already satisfied: async-timeout<5.0,>=4.0 in /usr/local/lib/python3.10/dist-packages (from aiohttp->gradio==3.16.2->-r requirements.txt (line 3)) (4.0.3)\n",
            "Requirement already satisfied: gitdb<5,>=4.0.1 in /usr/local/lib/python3.10/dist-packages (from gitpython!=3.1.19->streamlit==1.12.1->-r requirements.txt (line 11)) (4.0.11)\n",
            "Requirement already satisfied: zipp>=0.5 in /usr/local/lib/python3.10/dist-packages (from importlib-metadata>=1.4->streamlit==1.12.1->-r requirements.txt (line 11)) (3.20.0)\n",
            "Requirement already satisfied: setuptools in /usr/local/lib/python3.10/dist-packages (from lightning-utilities>=0.6.0.post0->pytorch-lightning==1.9.2->-r requirements.txt (line 8)) (71.0.4)\n",
            "Requirement already satisfied: pytz>=2020.1 in /usr/local/lib/python3.10/dist-packages (from pandas->gradio==3.16.2->-r requirements.txt (line 3)) (2024.1)\n",
            "Requirement already satisfied: tzdata>=2022.1 in /usr/local/lib/python3.10/dist-packages (from pandas->gradio==3.16.2->-r requirements.txt (line 3)) (2024.1)\n",
            "Requirement already satisfied: six>=1.5 in /usr/local/lib/python3.10/dist-packages (from python-dateutil->streamlit==1.12.1->-r requirements.txt (line 11)) (1.16.0)\n",
            "Requirement already satisfied: scikit-learn>=0.19.1 in /usr/local/lib/python3.10/dist-packages (from qudida>=0.0.4->albumentations==1.3.0->-r requirements.txt (line 4)) (1.3.2)\n",
            "Requirement already satisfied: charset-normalizer<4,>=2 in /usr/local/lib/python3.10/dist-packages (from requests->gradio==3.16.2->-r requirements.txt (line 3)) (3.3.2)\n",
            "Requirement already satisfied: idna<4,>=2.5 in /usr/local/lib/python3.10/dist-packages (from requests->gradio==3.16.2->-r requirements.txt (line 3)) (3.7)\n",
            "Requirement already satisfied: urllib3<3,>=1.21.1 in /usr/local/lib/python3.10/dist-packages (from requests->gradio==3.16.2->-r requirements.txt (line 3)) (2.0.7)\n",
            "Requirement already satisfied: certifi>=2017.4.17 in /usr/local/lib/python3.10/dist-packages (from requests->gradio==3.16.2->-r requirements.txt (line 3)) (2024.7.4)\n",
            "Requirement already satisfied: pygments<3.0.0,>=2.13.0 in /usr/local/lib/python3.10/dist-packages (from rich>=10.11.0->streamlit==1.12.1->-r requirements.txt (line 11)) (2.16.1)\n",
            "Requirement already satisfied: tifffile>=2019.7.26 in /usr/local/lib/python3.10/dist-packages (from scikit-image>=0.16.1->albumentations==1.3.0->-r requirements.txt (line 4)) (2024.8.10)\n",
            "Requirement already satisfied: lazy_loader>=0.1 in /usr/local/lib/python3.10/dist-packages (from scikit-image>=0.16.1->albumentations==1.3.0->-r requirements.txt (line 4)) (0.4)\n",
            "Requirement already satisfied: absl-py>=0.4 in /usr/local/lib/python3.10/dist-packages (from tensorboard>=1.15.0->test-tube>=0.7.5->-r requirements.txt (line 10)) (1.4.0)\n",
            "Requirement already satisfied: grpcio>=1.48.2 in /usr/local/lib/python3.10/dist-packages (from tensorboard>=1.15.0->test-tube>=0.7.5->-r requirements.txt (line 10)) (1.64.1)\n",
            "Requirement already satisfied: markdown>=2.6.8 in /usr/local/lib/python3.10/dist-packages (from tensorboard>=1.15.0->test-tube>=0.7.5->-r requirements.txt (line 10)) (3.7)\n",
            "Requirement already satisfied: tensorboard-data-server<0.8.0,>=0.7.0 in /usr/local/lib/python3.10/dist-packages (from tensorboard>=1.15.0->test-tube>=0.7.5->-r requirements.txt (line 10)) (0.7.2)\n",
            "Requirement already satisfied: werkzeug>=1.0.1 in /usr/local/lib/python3.10/dist-packages (from tensorboard>=1.15.0->test-tube>=0.7.5->-r requirements.txt (line 10)) (3.0.3)\n",
            "Requirement already satisfied: starlette<0.39.0,>=0.37.2 in /usr/local/lib/python3.10/dist-packages (from fastapi->gradio==3.16.2->-r requirements.txt (line 3)) (0.38.2)\n",
            "Requirement already satisfied: annotated-types>=0.4.0 in /usr/local/lib/python3.10/dist-packages (from pydantic->gradio==3.16.2->-r requirements.txt (line 3)) (0.7.0)\n",
            "Requirement already satisfied: pydantic-core==2.20.1 in /usr/local/lib/python3.10/dist-packages (from pydantic->gradio==3.16.2->-r requirements.txt (line 3)) (2.20.1)\n",
            "Requirement already satisfied: anyio in /usr/local/lib/python3.10/dist-packages (from httpx->gradio==3.16.2->-r requirements.txt (line 3)) (3.7.1)\n",
            "Requirement already satisfied: httpcore==1.* in /usr/local/lib/python3.10/dist-packages (from httpx->gradio==3.16.2->-r requirements.txt (line 3)) (1.0.5)\n",
            "Requirement already satisfied: sniffio in /usr/local/lib/python3.10/dist-packages (from httpx->gradio==3.16.2->-r requirements.txt (line 3)) (1.3.1)\n",
            "Requirement already satisfied: h11<0.15,>=0.13 in /usr/local/lib/python3.10/dist-packages (from httpcore==1.*->httpx->gradio==3.16.2->-r requirements.txt (line 3)) (0.14.0)\n",
            "Requirement already satisfied: mdurl~=0.1 in /usr/local/lib/python3.10/dist-packages (from markdown-it-py[linkify,plugins]->gradio==3.16.2->-r requirements.txt (line 3)) (0.1.2)\n",
            "Requirement already satisfied: mdit-py-plugins in /usr/local/lib/python3.10/dist-packages (from markdown-it-py[linkify,plugins]->gradio==3.16.2->-r requirements.txt (line 3)) (0.4.1)\n",
            "Requirement already satisfied: linkify-it-py<3,>=1 in /usr/local/lib/python3.10/dist-packages (from markdown-it-py[linkify,plugins]->gradio==3.16.2->-r requirements.txt (line 3)) (2.0.3)\n",
            "Requirement already satisfied: contourpy>=1.0.1 in /usr/local/lib/python3.10/dist-packages (from matplotlib->gradio==3.16.2->-r requirements.txt (line 3)) (1.2.1)\n",
            "Requirement already satisfied: cycler>=0.10 in /usr/local/lib/python3.10/dist-packages (from matplotlib->gradio==3.16.2->-r requirements.txt (line 3)) (0.12.1)\n",
            "Requirement already satisfied: fonttools>=4.22.0 in /usr/local/lib/python3.10/dist-packages (from matplotlib->gradio==3.16.2->-r requirements.txt (line 3)) (4.53.1)\n",
            "Requirement already satisfied: kiwisolver>=1.0.1 in /usr/local/lib/python3.10/dist-packages (from matplotlib->gradio==3.16.2->-r requirements.txt (line 3)) (1.4.5)\n",
            "Requirement already satisfied: pyparsing>=2.3.1 in /usr/local/lib/python3.10/dist-packages (from matplotlib->gradio==3.16.2->-r requirements.txt (line 3)) (3.1.2)\n",
            "Requirement already satisfied: smmap<6,>=3.0.1 in /usr/local/lib/python3.10/dist-packages (from gitdb<5,>=4.0.1->gitpython!=3.1.19->streamlit==1.12.1->-r requirements.txt (line 11)) (5.0.1)\n",
            "Requirement already satisfied: jsonschema-specifications>=2023.03.6 in /usr/local/lib/python3.10/dist-packages (from jsonschema>=3.0->altair>=4.2.0->gradio==3.16.2->-r requirements.txt (line 3)) (2023.12.1)\n",
            "Requirement already satisfied: referencing>=0.28.4 in /usr/local/lib/python3.10/dist-packages (from jsonschema>=3.0->altair>=4.2.0->gradio==3.16.2->-r requirements.txt (line 3)) (0.35.1)\n",
            "Requirement already satisfied: rpds-py>=0.7.1 in /usr/local/lib/python3.10/dist-packages (from jsonschema>=3.0->altair>=4.2.0->gradio==3.16.2->-r requirements.txt (line 3)) (0.20.0)\n",
            "Requirement already satisfied: uc-micro-py in /usr/local/lib/python3.10/dist-packages (from linkify-it-py<3,>=1->markdown-it-py[linkify,plugins]->gradio==3.16.2->-r requirements.txt (line 3)) (1.0.3)\n",
            "Requirement already satisfied: joblib>=1.1.1 in /usr/local/lib/python3.10/dist-packages (from scikit-learn>=0.19.1->qudida>=0.0.4->albumentations==1.3.0->-r requirements.txt (line 4)) (1.4.2)\n",
            "Requirement already satisfied: threadpoolctl>=2.0.0 in /usr/local/lib/python3.10/dist-packages (from scikit-learn>=0.19.1->qudida>=0.0.4->albumentations==1.3.0->-r requirements.txt (line 4)) (3.5.0)\n",
            "Requirement already satisfied: exceptiongroup in /usr/local/lib/python3.10/dist-packages (from anyio->httpx->gradio==3.16.2->-r requirements.txt (line 3)) (1.2.2)\n",
            "Requirement already satisfied: mpmath<1.4,>=1.1.0 in /usr/local/lib/python3.10/dist-packages (from sympy->torch>=1.10.0->pytorch-lightning==1.9.2->-r requirements.txt (line 8)) (1.3.0)\n"
          ]
        }
      ]
    },
    {
      "cell_type": "markdown",
      "source": [
        "## Download Models"
      ],
      "metadata": {
        "id": "ZjQvztllUlgu"
      }
    },
    {
      "cell_type": "code",
      "source": [
        "%cd models"
      ],
      "metadata": {
        "colab": {
          "base_uri": "https://localhost:8080/"
        },
        "id": "L4sWfG5qUs4G",
        "outputId": "997b3484-9f5f-49d8-e59b-fd6a243c36d6"
      },
      "execution_count": null,
      "outputs": [
        {
          "output_type": "stream",
          "name": "stdout",
          "text": [
            "/content/ControlNet/models\n"
          ]
        }
      ]
    },
    {
      "cell_type": "markdown",
      "source": [
        "# Uncommet the required model to start the download."
      ],
      "metadata": {
        "id": "tG9KmJUWIiEz"
      }
    },
    {
      "cell_type": "code",
      "source": [
        "%%writefile download_models.sh\n",
        "wget https://huggingface.co/lllyasviel/ControlNet/resolve/main/models/control_sd15_canny.pth\n",
        "wget https://huggingface.co/lllyasviel/ControlNet/blob/main/models/control_sd15_depth.pth\n",
        "wget https://huggingface.co/lllyasviel/ControlNet/resolve/main/models/control_sd15_hed.pth\n",
        "wget https://huggingface.co/lllyasviel/ControlNet/resolve/main/models/control_sd15_mlsd.pth\n",
        "wget https://huggingface.co/lllyasviel/ControlNet/resolve/main/models/control_sd15_openpose.pth\n",
        "wget https://huggingface.co/lllyasviel/ControlNet/resolve/main/models/control_sd15_scribble.pth\n",
        "wget https://huggingface.co/lllyasviel/ControlNet/blob/main/models/control_sd15_seg.pth"
      ],
      "metadata": {
        "colab": {
          "base_uri": "https://localhost:8080/"
        },
        "id": "6jzPZSlpUuDi",
        "outputId": "cc2498d0-565d-4e82-80b8-0c6c279cc963"
      },
      "execution_count": null,
      "outputs": [
        {
          "output_type": "stream",
          "name": "stdout",
          "text": [
            "Writing download_models.sh\n"
          ]
        }
      ]
    },
    {
      "cell_type": "code",
      "source": [
        "!sh download_models.sh"
      ],
      "metadata": {
        "colab": {
          "base_uri": "https://localhost:8080/"
        },
        "id": "1b-JBAFPU1r-",
        "outputId": "37a2b6b6-7539-4118-a8af-72460883bffc"
      },
      "execution_count": null,
      "outputs": [
        {
          "output_type": "stream",
          "name": "stdout",
          "text": [
            "--2024-08-24 01:53:44--  https://huggingface.co/lllyasviel/ControlNet/resolve/main/models/control_sd15_canny.pth\n",
            "Resolving huggingface.co (huggingface.co)... 13.33.28.112, 13.33.28.94, 13.33.28.87, ...\n",
            "Connecting to huggingface.co (huggingface.co)|13.33.28.112|:443... connected.\n",
            "HTTP request sent, awaiting response... 302 Found\n",
            "Location: https://cdn-lfs.huggingface.co/repos/f6/65/f665e553e8fd16131981a96c629e785939f08080bb3cbf8d2b7f5ddbd9e6100a/4de384b16bc2d7a1fb258ca0cbd941d7dd0a721ae996aff89f905299d6923f45?response-content-disposition=inline%3B+filename*%3DUTF-8%27%27control_sd15_canny.pth%3B+filename%3D%22control_sd15_canny.pth%22%3B&Expires=1724723624&Policy=eyJTdGF0ZW1lbnQiOlt7IkNvbmRpdGlvbiI6eyJEYXRlTGVzc1RoYW4iOnsiQVdTOkVwb2NoVGltZSI6MTcyNDcyMzYyNH19LCJSZXNvdXJjZSI6Imh0dHBzOi8vY2RuLWxmcy5odWdnaW5nZmFjZS5jby9yZXBvcy9mNi82NS9mNjY1ZTU1M2U4ZmQxNjEzMTk4MWE5NmM2MjllNzg1OTM5ZjA4MDgwYmIzY2JmOGQyYjdmNWRkYmQ5ZTYxMDBhLzRkZTM4NGIxNmJjMmQ3YTFmYjI1OGNhMGNiZDk0MWQ3ZGQwYTcyMWFlOTk2YWZmODlmOTA1Mjk5ZDY5MjNmNDU%7EcmVzcG9uc2UtY29udGVudC1kaXNwb3NpdGlvbj0qIn1dfQ__&Signature=IoQaPgP%7EqXNWruoqjPpqMIT42N9hVsN9zYwhLogh0WD-NN3-XU6AP0LL9JO7qqJa%7EuQc9S-9ZtEEZX7Z2qXBMJnKlopLoK9jfg74Wwlgkzyk%7Eyye13pBtrGuDNC60mlx4PUBXS3T9dhyJUHJjNhb9afR6UPW0yV6RZNilyEcp%7EYjRFQ4YMAKgfadrsAGpyI5ZE-RWqKDlhpwEEsYtZ9-3iTAhgTTqzy-SxkZenG2C99Z86E6xXntMQtVWDN7rzoeYkwNm9QyL4OSluc-jriwgUSymbx-r7CYKT14yZeKPNfGvDYgUPxVwQRe6-NHGDyld%7EfMjpZCl9hKjOmOQ-49Ew__&Key-Pair-Id=K3ESJI6DHPFC7 [following]\n",
            "--2024-08-24 01:53:44--  https://cdn-lfs.huggingface.co/repos/f6/65/f665e553e8fd16131981a96c629e785939f08080bb3cbf8d2b7f5ddbd9e6100a/4de384b16bc2d7a1fb258ca0cbd941d7dd0a721ae996aff89f905299d6923f45?response-content-disposition=inline%3B+filename*%3DUTF-8%27%27control_sd15_canny.pth%3B+filename%3D%22control_sd15_canny.pth%22%3B&Expires=1724723624&Policy=eyJTdGF0ZW1lbnQiOlt7IkNvbmRpdGlvbiI6eyJEYXRlTGVzc1RoYW4iOnsiQVdTOkVwb2NoVGltZSI6MTcyNDcyMzYyNH19LCJSZXNvdXJjZSI6Imh0dHBzOi8vY2RuLWxmcy5odWdnaW5nZmFjZS5jby9yZXBvcy9mNi82NS9mNjY1ZTU1M2U4ZmQxNjEzMTk4MWE5NmM2MjllNzg1OTM5ZjA4MDgwYmIzY2JmOGQyYjdmNWRkYmQ5ZTYxMDBhLzRkZTM4NGIxNmJjMmQ3YTFmYjI1OGNhMGNiZDk0MWQ3ZGQwYTcyMWFlOTk2YWZmODlmOTA1Mjk5ZDY5MjNmNDU%7EcmVzcG9uc2UtY29udGVudC1kaXNwb3NpdGlvbj0qIn1dfQ__&Signature=IoQaPgP%7EqXNWruoqjPpqMIT42N9hVsN9zYwhLogh0WD-NN3-XU6AP0LL9JO7qqJa%7EuQc9S-9ZtEEZX7Z2qXBMJnKlopLoK9jfg74Wwlgkzyk%7Eyye13pBtrGuDNC60mlx4PUBXS3T9dhyJUHJjNhb9afR6UPW0yV6RZNilyEcp%7EYjRFQ4YMAKgfadrsAGpyI5ZE-RWqKDlhpwEEsYtZ9-3iTAhgTTqzy-SxkZenG2C99Z86E6xXntMQtVWDN7rzoeYkwNm9QyL4OSluc-jriwgUSymbx-r7CYKT14yZeKPNfGvDYgUPxVwQRe6-NHGDyld%7EfMjpZCl9hKjOmOQ-49Ew__&Key-Pair-Id=K3ESJI6DHPFC7\n",
            "Resolving cdn-lfs.huggingface.co (cdn-lfs.huggingface.co)... 52.84.229.55, 52.84.229.123, 52.84.229.82, ...\n",
            "Connecting to cdn-lfs.huggingface.co (cdn-lfs.huggingface.co)|52.84.229.55|:443... connected.\n",
            "HTTP request sent, awaiting response... 200 OK\n",
            "Length: 5710753329 (5.3G) [binary/octet-stream]\n",
            "Saving to: ‘control_sd15_canny.pth’\n",
            "\n",
            "control_sd15_canny. 100%[===================>]   5.32G  12.8MB/s    in 12m 39s \n",
            "\n",
            "2024-08-24 02:06:24 (7.18 MB/s) - ‘control_sd15_canny.pth’ saved [5710753329/5710753329]\n",
            "\n",
            "--2024-08-24 02:06:24--  https://huggingface.co/lllyasviel/ControlNet/blob/main/models/control_sd15_depth.pth\n",
            "Resolving huggingface.co (huggingface.co)... 13.33.28.87, 13.33.28.94, 13.33.28.54, ...\n",
            "Connecting to huggingface.co (huggingface.co)|13.33.28.87|:443... connected.\n",
            "HTTP request sent, awaiting response... 200 OK\n",
            "Length: 45892 (45K) [text/html]\n",
            "Saving to: ‘control_sd15_depth.pth’\n",
            "\n",
            "control_sd15_depth. 100%[===================>]  44.82K   212KB/s    in 0.2s    \n",
            "\n",
            "2024-08-24 02:06:24 (212 KB/s) - ‘control_sd15_depth.pth’ saved [45892/45892]\n",
            "\n",
            "--2024-08-24 02:06:24--  https://huggingface.co/lllyasviel/ControlNet/resolve/main/models/control_sd15_hed.pth\n",
            "Resolving huggingface.co (huggingface.co)... 13.33.28.54, 13.33.28.94, 13.33.28.87, ...\n",
            "Connecting to huggingface.co (huggingface.co)|13.33.28.54|:443... connected.\n",
            "HTTP request sent, awaiting response... 302 Found\n",
            "Location: https://cdn-lfs.huggingface.co/repos/f6/65/f665e553e8fd16131981a96c629e785939f08080bb3cbf8d2b7f5ddbd9e6100a/00ad5ff2c3ce279332650d79f24a912ef8aa411382fcbde2a20e6239cce65d9c?response-content-disposition=inline%3B+filename*%3DUTF-8%27%27control_sd15_hed.pth%3B+filename%3D%22control_sd15_hed.pth%22%3B&Expires=1724724384&Policy=eyJTdGF0ZW1lbnQiOlt7IkNvbmRpdGlvbiI6eyJEYXRlTGVzc1RoYW4iOnsiQVdTOkVwb2NoVGltZSI6MTcyNDcyNDM4NH19LCJSZXNvdXJjZSI6Imh0dHBzOi8vY2RuLWxmcy5odWdnaW5nZmFjZS5jby9yZXBvcy9mNi82NS9mNjY1ZTU1M2U4ZmQxNjEzMTk4MWE5NmM2MjllNzg1OTM5ZjA4MDgwYmIzY2JmOGQyYjdmNWRkYmQ5ZTYxMDBhLzAwYWQ1ZmYyYzNjZTI3OTMzMjY1MGQ3OWYyNGE5MTJlZjhhYTQxMTM4MmZjYmRlMmEyMGU2MjM5Y2NlNjVkOWM%7EcmVzcG9uc2UtY29udGVudC1kaXNwb3NpdGlvbj0qIn1dfQ__&Signature=kl4QzrLNl%7E85PJt%7ExKMdGNKw%7E-XRfqjVGBO-%7ENWIAwZOqunQ7gUnPM6yiutfP5OQ-k-JxapzKdvVJupJxN4wC0Da%7EYMhlFalrZEaElDrJGCIgf%7E-qE5YpLKxUBJzSzf2PaOX17AhQghXJ6eYy742k9mpS3IA-xT9GzWy-xKziVs1xg0B377%7E9DW-FiSg5woyL0oTa3Hop9rPt%7E1UJFUIyoHevQjfyPnp%7EIsNRnBDHdsdky3sgzvsbbsWkEgN34n1MKh428muKlae0c5PGzn5kShyMTJlsgyFWPG-bsGZufnEJ8fO87BDNVx9ZVVyMUZ9oRRMkqpKJNnmqOSzwWlgDA__&Key-Pair-Id=K3ESJI6DHPFC7 [following]\n",
            "--2024-08-24 02:06:25--  https://cdn-lfs.huggingface.co/repos/f6/65/f665e553e8fd16131981a96c629e785939f08080bb3cbf8d2b7f5ddbd9e6100a/00ad5ff2c3ce279332650d79f24a912ef8aa411382fcbde2a20e6239cce65d9c?response-content-disposition=inline%3B+filename*%3DUTF-8%27%27control_sd15_hed.pth%3B+filename%3D%22control_sd15_hed.pth%22%3B&Expires=1724724384&Policy=eyJTdGF0ZW1lbnQiOlt7IkNvbmRpdGlvbiI6eyJEYXRlTGVzc1RoYW4iOnsiQVdTOkVwb2NoVGltZSI6MTcyNDcyNDM4NH19LCJSZXNvdXJjZSI6Imh0dHBzOi8vY2RuLWxmcy5odWdnaW5nZmFjZS5jby9yZXBvcy9mNi82NS9mNjY1ZTU1M2U4ZmQxNjEzMTk4MWE5NmM2MjllNzg1OTM5ZjA4MDgwYmIzY2JmOGQyYjdmNWRkYmQ5ZTYxMDBhLzAwYWQ1ZmYyYzNjZTI3OTMzMjY1MGQ3OWYyNGE5MTJlZjhhYTQxMTM4MmZjYmRlMmEyMGU2MjM5Y2NlNjVkOWM%7EcmVzcG9uc2UtY29udGVudC1kaXNwb3NpdGlvbj0qIn1dfQ__&Signature=kl4QzrLNl%7E85PJt%7ExKMdGNKw%7E-XRfqjVGBO-%7ENWIAwZOqunQ7gUnPM6yiutfP5OQ-k-JxapzKdvVJupJxN4wC0Da%7EYMhlFalrZEaElDrJGCIgf%7E-qE5YpLKxUBJzSzf2PaOX17AhQghXJ6eYy742k9mpS3IA-xT9GzWy-xKziVs1xg0B377%7E9DW-FiSg5woyL0oTa3Hop9rPt%7E1UJFUIyoHevQjfyPnp%7EIsNRnBDHdsdky3sgzvsbbsWkEgN34n1MKh428muKlae0c5PGzn5kShyMTJlsgyFWPG-bsGZufnEJ8fO87BDNVx9ZVVyMUZ9oRRMkqpKJNnmqOSzwWlgDA__&Key-Pair-Id=K3ESJI6DHPFC7\n",
            "Resolving cdn-lfs.huggingface.co (cdn-lfs.huggingface.co)... 52.84.229.55, 52.84.229.79, 52.84.229.82, ...\n",
            "Connecting to cdn-lfs.huggingface.co (cdn-lfs.huggingface.co)|52.84.229.55|:443... connected.\n",
            "HTTP request sent, awaiting response... 200 OK\n",
            "Length: 5710750165 (5.3G) [binary/octet-stream]\n",
            "Saving to: ‘control_sd15_hed.pth’\n",
            "\n",
            "control_sd15_hed.pt 100%[===================>]   5.32G   213MB/s    in 31s     \n",
            "\n",
            "2024-08-24 02:06:55 (176 MB/s) - ‘control_sd15_hed.pth’ saved [5710750165/5710750165]\n",
            "\n",
            "--2024-08-24 02:06:55--  https://huggingface.co/lllyasviel/ControlNet/resolve/main/models/control_sd15_mlsd.pth\n",
            "Resolving huggingface.co (huggingface.co)... 13.33.28.94, 13.33.28.112, 13.33.28.87, ...\n",
            "Connecting to huggingface.co (huggingface.co)|13.33.28.94|:443... connected.\n",
            "HTTP request sent, awaiting response... 302 Found\n",
            "Location: https://cdn-lfs.huggingface.co/repos/f6/65/f665e553e8fd16131981a96c629e785939f08080bb3cbf8d2b7f5ddbd9e6100a/4520b22400756ac96be61f900a59ab648ec487127beb7a095a708a4d3472b6eb?response-content-disposition=inline%3B+filename*%3DUTF-8%27%27control_sd15_mlsd.pth%3B+filename%3D%22control_sd15_mlsd.pth%22%3B&Expires=1724724416&Policy=eyJTdGF0ZW1lbnQiOlt7IkNvbmRpdGlvbiI6eyJEYXRlTGVzc1RoYW4iOnsiQVdTOkVwb2NoVGltZSI6MTcyNDcyNDQxNn19LCJSZXNvdXJjZSI6Imh0dHBzOi8vY2RuLWxmcy5odWdnaW5nZmFjZS5jby9yZXBvcy9mNi82NS9mNjY1ZTU1M2U4ZmQxNjEzMTk4MWE5NmM2MjllNzg1OTM5ZjA4MDgwYmIzY2JmOGQyYjdmNWRkYmQ5ZTYxMDBhLzQ1MjBiMjI0MDA3NTZhYzk2YmU2MWY5MDBhNTlhYjY0OGVjNDg3MTI3YmViN2EwOTVhNzA4YTRkMzQ3MmI2ZWI%7EcmVzcG9uc2UtY29udGVudC1kaXNwb3NpdGlvbj0qIn1dfQ__&Signature=M8rIKqs9NTqLEHXSSTAvCHf1o68NdRFkWk9mmkrOUKdqk77Sw7HXpxxdEU9smupOx4M-DeuMz1JeRFsYNOR48OQ3LWSphBjmO%7E2ligSIu7GXGWmeH-ExFnu4i3KmONfnlZfQ%7EKSA4tNh4WxMliqN0VT7hQt5SvkIfYRIQILwzXk6lGuAzxn1KyIj6dmY8PqBoTTnoKO6T9Er7xYD4wy5W3eUdd60CUL3zJFGXTa2Sk-2rLkq1-ZWh36SgMa7BgmMzTVEpTHmPfDNr-Nwgm2Yy6fibDevdaA0NlxKpI1-abmXDB8vHyxhwNSZm8pX4KIrqWEyI1sg95vR0GgnKfvVAw__&Key-Pair-Id=K3ESJI6DHPFC7 [following]\n",
            "--2024-08-24 02:06:56--  https://cdn-lfs.huggingface.co/repos/f6/65/f665e553e8fd16131981a96c629e785939f08080bb3cbf8d2b7f5ddbd9e6100a/4520b22400756ac96be61f900a59ab648ec487127beb7a095a708a4d3472b6eb?response-content-disposition=inline%3B+filename*%3DUTF-8%27%27control_sd15_mlsd.pth%3B+filename%3D%22control_sd15_mlsd.pth%22%3B&Expires=1724724416&Policy=eyJTdGF0ZW1lbnQiOlt7IkNvbmRpdGlvbiI6eyJEYXRlTGVzc1RoYW4iOnsiQVdTOkVwb2NoVGltZSI6MTcyNDcyNDQxNn19LCJSZXNvdXJjZSI6Imh0dHBzOi8vY2RuLWxmcy5odWdnaW5nZmFjZS5jby9yZXBvcy9mNi82NS9mNjY1ZTU1M2U4ZmQxNjEzMTk4MWE5NmM2MjllNzg1OTM5ZjA4MDgwYmIzY2JmOGQyYjdmNWRkYmQ5ZTYxMDBhLzQ1MjBiMjI0MDA3NTZhYzk2YmU2MWY5MDBhNTlhYjY0OGVjNDg3MTI3YmViN2EwOTVhNzA4YTRkMzQ3MmI2ZWI%7EcmVzcG9uc2UtY29udGVudC1kaXNwb3NpdGlvbj0qIn1dfQ__&Signature=M8rIKqs9NTqLEHXSSTAvCHf1o68NdRFkWk9mmkrOUKdqk77Sw7HXpxxdEU9smupOx4M-DeuMz1JeRFsYNOR48OQ3LWSphBjmO%7E2ligSIu7GXGWmeH-ExFnu4i3KmONfnlZfQ%7EKSA4tNh4WxMliqN0VT7hQt5SvkIfYRIQILwzXk6lGuAzxn1KyIj6dmY8PqBoTTnoKO6T9Er7xYD4wy5W3eUdd60CUL3zJFGXTa2Sk-2rLkq1-ZWh36SgMa7BgmMzTVEpTHmPfDNr-Nwgm2Yy6fibDevdaA0NlxKpI1-abmXDB8vHyxhwNSZm8pX4KIrqWEyI1sg95vR0GgnKfvVAw__&Key-Pair-Id=K3ESJI6DHPFC7\n",
            "Resolving cdn-lfs.huggingface.co (cdn-lfs.huggingface.co)... 52.84.229.79, 52.84.229.82, 52.84.229.123, ...\n",
            "Connecting to cdn-lfs.huggingface.co (cdn-lfs.huggingface.co)|52.84.229.79|:443... connected.\n",
            "HTTP request sent, awaiting response... 200 OK\n",
            "Length: 5710751843 (5.3G) [binary/octet-stream]\n",
            "Saving to: ‘control_sd15_mlsd.pth’\n",
            "\n",
            "control_sd15_mlsd.p 100%[===================>]   5.32G  3.49MB/s    in 9m 53s  \n",
            "\n",
            "2024-08-24 02:16:50 (9.18 MB/s) - ‘control_sd15_mlsd.pth’ saved [5710751843/5710751843]\n",
            "\n",
            "--2024-08-24 02:16:50--  https://huggingface.co/lllyasviel/ControlNet/resolve/main/models/control_sd15_openpose.pth\n",
            "Resolving huggingface.co (huggingface.co)... 13.33.28.54, 13.33.28.94, 13.33.28.112, ...\n",
            "Connecting to huggingface.co (huggingface.co)|13.33.28.54|:443... connected.\n",
            "HTTP request sent, awaiting response... 302 Found\n",
            "Location: https://cdn-lfs.huggingface.co/repos/f6/65/f665e553e8fd16131981a96c629e785939f08080bb3cbf8d2b7f5ddbd9e6100a/d19ffffeeaff6d9feb2204b234c3e1b9aec039ab3e63fca07f4fe5646f2ef591?response-content-disposition=inline%3B+filename*%3DUTF-8%27%27control_sd15_openpose.pth%3B+filename%3D%22control_sd15_openpose.pth%22%3B&Expires=1724725010&Policy=eyJTdGF0ZW1lbnQiOlt7IkNvbmRpdGlvbiI6eyJEYXRlTGVzc1RoYW4iOnsiQVdTOkVwb2NoVGltZSI6MTcyNDcyNTAxMH19LCJSZXNvdXJjZSI6Imh0dHBzOi8vY2RuLWxmcy5odWdnaW5nZmFjZS5jby9yZXBvcy9mNi82NS9mNjY1ZTU1M2U4ZmQxNjEzMTk4MWE5NmM2MjllNzg1OTM5ZjA4MDgwYmIzY2JmOGQyYjdmNWRkYmQ5ZTYxMDBhL2QxOWZmZmZlZWFmZjZkOWZlYjIyMDRiMjM0YzNlMWI5YWVjMDM5YWIzZTYzZmNhMDdmNGZlNTY0NmYyZWY1OTE%7EcmVzcG9uc2UtY29udGVudC1kaXNwb3NpdGlvbj0qIn1dfQ__&Signature=iAAPwlozYFvB44KxhKp7s8uY14p3oHpvFKOitqFds9UcgW939xRPpoxe707pHnIYlGc%7EC17ZCT0cbjIhUgTb0mG7twcgKuO20jxgas5esazHpfGZsowBeqsRayMcRVCIXHhiX-MfoKAKtnk-UvnA3BeIPLlMj3mzwgdggN1odvEUCxxpIZFWygF-XFH8pTwgLfvlsg4xOQB5d6INkmmOMTjc-pBOmyUCrj9fZKfCB8Hd76IhFewmpQ0WxIz32qWzdqWvga3jeXBRrau2w5KflrG7i4PrheIw93WEhQMDUi62sYVVa1COseqT3XISz1tLGfMpfZ9OcPkGFYD93ke8iA__&Key-Pair-Id=K3ESJI6DHPFC7 [following]\n",
            "--2024-08-24 02:16:50--  https://cdn-lfs.huggingface.co/repos/f6/65/f665e553e8fd16131981a96c629e785939f08080bb3cbf8d2b7f5ddbd9e6100a/d19ffffeeaff6d9feb2204b234c3e1b9aec039ab3e63fca07f4fe5646f2ef591?response-content-disposition=inline%3B+filename*%3DUTF-8%27%27control_sd15_openpose.pth%3B+filename%3D%22control_sd15_openpose.pth%22%3B&Expires=1724725010&Policy=eyJTdGF0ZW1lbnQiOlt7IkNvbmRpdGlvbiI6eyJEYXRlTGVzc1RoYW4iOnsiQVdTOkVwb2NoVGltZSI6MTcyNDcyNTAxMH19LCJSZXNvdXJjZSI6Imh0dHBzOi8vY2RuLWxmcy5odWdnaW5nZmFjZS5jby9yZXBvcy9mNi82NS9mNjY1ZTU1M2U4ZmQxNjEzMTk4MWE5NmM2MjllNzg1OTM5ZjA4MDgwYmIzY2JmOGQyYjdmNWRkYmQ5ZTYxMDBhL2QxOWZmZmZlZWFmZjZkOWZlYjIyMDRiMjM0YzNlMWI5YWVjMDM5YWIzZTYzZmNhMDdmNGZlNTY0NmYyZWY1OTE%7EcmVzcG9uc2UtY29udGVudC1kaXNwb3NpdGlvbj0qIn1dfQ__&Signature=iAAPwlozYFvB44KxhKp7s8uY14p3oHpvFKOitqFds9UcgW939xRPpoxe707pHnIYlGc%7EC17ZCT0cbjIhUgTb0mG7twcgKuO20jxgas5esazHpfGZsowBeqsRayMcRVCIXHhiX-MfoKAKtnk-UvnA3BeIPLlMj3mzwgdggN1odvEUCxxpIZFWygF-XFH8pTwgLfvlsg4xOQB5d6INkmmOMTjc-pBOmyUCrj9fZKfCB8Hd76IhFewmpQ0WxIz32qWzdqWvga3jeXBRrau2w5KflrG7i4PrheIw93WEhQMDUi62sYVVa1COseqT3XISz1tLGfMpfZ9OcPkGFYD93ke8iA__&Key-Pair-Id=K3ESJI6DHPFC7\n",
            "Resolving cdn-lfs.huggingface.co (cdn-lfs.huggingface.co)... 52.84.229.123, 52.84.229.55, 52.84.229.79, ...\n",
            "Connecting to cdn-lfs.huggingface.co (cdn-lfs.huggingface.co)|52.84.229.123|:443... connected.\n",
            "HTTP request sent, awaiting response... 200 OK\n",
            "Length: 5710751843 (5.3G) [binary/octet-stream]\n",
            "Saving to: ‘control_sd15_openpose.pth’\n",
            "\n",
            "control_sd15_openpo 100%[===================>]   5.32G   143MB/s    in 36s     \n",
            "\n",
            "2024-08-24 02:17:27 (150 MB/s) - ‘control_sd15_openpose.pth’ saved [5710751843/5710751843]\n",
            "\n",
            "--2024-08-24 02:17:27--  https://huggingface.co/lllyasviel/ControlNet/resolve/main/models/control_sd15_scribble.pth\n",
            "Resolving huggingface.co (huggingface.co)... 13.33.28.54, 13.33.28.94, 13.33.28.112, ...\n",
            "Connecting to huggingface.co (huggingface.co)|13.33.28.54|:443... connected.\n",
            "HTTP request sent, awaiting response... 302 Found\n",
            "Location: https://cdn-lfs.huggingface.co/repos/f6/65/f665e553e8fd16131981a96c629e785939f08080bb3cbf8d2b7f5ddbd9e6100a/591bc5a70a167821634fc3d4870217d7501bd839615540d1cc158579390e9ad3?response-content-disposition=inline%3B+filename*%3DUTF-8%27%27control_sd15_scribble.pth%3B+filename%3D%22control_sd15_scribble.pth%22%3B&Expires=1724725047&Policy=eyJTdGF0ZW1lbnQiOlt7IkNvbmRpdGlvbiI6eyJEYXRlTGVzc1RoYW4iOnsiQVdTOkVwb2NoVGltZSI6MTcyNDcyNTA0N319LCJSZXNvdXJjZSI6Imh0dHBzOi8vY2RuLWxmcy5odWdnaW5nZmFjZS5jby9yZXBvcy9mNi82NS9mNjY1ZTU1M2U4ZmQxNjEzMTk4MWE5NmM2MjllNzg1OTM5ZjA4MDgwYmIzY2JmOGQyYjdmNWRkYmQ5ZTYxMDBhLzU5MWJjNWE3MGExNjc4MjE2MzRmYzNkNDg3MDIxN2Q3NTAxYmQ4Mzk2MTU1NDBkMWNjMTU4NTc5MzkwZTlhZDM%7EcmVzcG9uc2UtY29udGVudC1kaXNwb3NpdGlvbj0qIn1dfQ__&Signature=DmEvScPCu7tk%7EMpovdXmG3LA5NTZgh4p6AbPTIlBobHrFr6gm0qm5jSetBH79d9v4XnQ0hAJJFTTpxRtkfz8xdDex%7EUsD%7EErEVN98JYcvkBc3lnAqhvdzi1jdXRuouV8rJIZnzmGlEILkQUTD-JSsL-YGRz6XYjKfASVB1Z%7E9BHqB6C7%7EoFBWuYIYKUtVNr30HzivDmhLTUPpxJiW3XDg80n8UmIZO6OajbWZo7EEK7vAOwDsmCFAwgxmQpXjOVUfyLV2Zj76LQnVhtl3lSTUUabR82SUqPPJ-bTRzwlb48yoQRLh9P5utlVwWuqjF0edkobh%7EYZomitUCELyJsyPA__&Key-Pair-Id=K3ESJI6DHPFC7 [following]\n",
            "--2024-08-24 02:17:27--  https://cdn-lfs.huggingface.co/repos/f6/65/f665e553e8fd16131981a96c629e785939f08080bb3cbf8d2b7f5ddbd9e6100a/591bc5a70a167821634fc3d4870217d7501bd839615540d1cc158579390e9ad3?response-content-disposition=inline%3B+filename*%3DUTF-8%27%27control_sd15_scribble.pth%3B+filename%3D%22control_sd15_scribble.pth%22%3B&Expires=1724725047&Policy=eyJTdGF0ZW1lbnQiOlt7IkNvbmRpdGlvbiI6eyJEYXRlTGVzc1RoYW4iOnsiQVdTOkVwb2NoVGltZSI6MTcyNDcyNTA0N319LCJSZXNvdXJjZSI6Imh0dHBzOi8vY2RuLWxmcy5odWdnaW5nZmFjZS5jby9yZXBvcy9mNi82NS9mNjY1ZTU1M2U4ZmQxNjEzMTk4MWE5NmM2MjllNzg1OTM5ZjA4MDgwYmIzY2JmOGQyYjdmNWRkYmQ5ZTYxMDBhLzU5MWJjNWE3MGExNjc4MjE2MzRmYzNkNDg3MDIxN2Q3NTAxYmQ4Mzk2MTU1NDBkMWNjMTU4NTc5MzkwZTlhZDM%7EcmVzcG9uc2UtY29udGVudC1kaXNwb3NpdGlvbj0qIn1dfQ__&Signature=DmEvScPCu7tk%7EMpovdXmG3LA5NTZgh4p6AbPTIlBobHrFr6gm0qm5jSetBH79d9v4XnQ0hAJJFTTpxRtkfz8xdDex%7EUsD%7EErEVN98JYcvkBc3lnAqhvdzi1jdXRuouV8rJIZnzmGlEILkQUTD-JSsL-YGRz6XYjKfASVB1Z%7E9BHqB6C7%7EoFBWuYIYKUtVNr30HzivDmhLTUPpxJiW3XDg80n8UmIZO6OajbWZo7EEK7vAOwDsmCFAwgxmQpXjOVUfyLV2Zj76LQnVhtl3lSTUUabR82SUqPPJ-bTRzwlb48yoQRLh9P5utlVwWuqjF0edkobh%7EYZomitUCELyJsyPA__&Key-Pair-Id=K3ESJI6DHPFC7\n",
            "Resolving cdn-lfs.huggingface.co (cdn-lfs.huggingface.co)... 52.84.229.123, 52.84.229.79, 52.84.229.82, ...\n",
            "Connecting to cdn-lfs.huggingface.co (cdn-lfs.huggingface.co)|52.84.229.123|:443... connected.\n",
            "HTTP request sent, awaiting response... 200 OK\n",
            "Length: 5710757851 (5.3G) [binary/octet-stream]\n",
            "Saving to: ‘control_sd15_scribble.pth’\n",
            "\n",
            "control_sd15_scribb 100%[===================>]   5.32G   141MB/s    in 50s     \n",
            "\n",
            "2024-08-24 02:18:18 (109 MB/s) - ‘control_sd15_scribble.pth’ saved [5710757851/5710757851]\n",
            "\n",
            "--2024-08-24 02:18:18--  https://huggingface.co/lllyasviel/ControlNet/blob/main/models/control_sd15_seg.pth\n",
            "Resolving huggingface.co (huggingface.co)... 13.33.28.54, 13.33.28.87, 13.33.28.112, ...\n",
            "Connecting to huggingface.co (huggingface.co)|13.33.28.54|:443... connected.\n",
            "HTTP request sent, awaiting response... 200 OK\n",
            "Length: 45862 (45K) [text/html]\n",
            "Saving to: ‘control_sd15_seg.pth’\n",
            "\n",
            "control_sd15_seg.pt 100%[===================>]  44.79K  --.-KB/s    in 0.002s  \n",
            "\n",
            "2024-08-24 02:18:18 (28.7 MB/s) - ‘control_sd15_seg.pth’ saved [45862/45862]\n",
            "\n"
          ]
        }
      ]
    },
    {
      "cell_type": "code",
      "source": [
        "%cd .."
      ],
      "metadata": {
        "colab": {
          "base_uri": "https://localhost:8080/"
        },
        "id": "sVoTATdJWSiZ",
        "outputId": "a70b5ea4-91d1-45be-8d44-d8647fbaa5b2"
      },
      "execution_count": null,
      "outputs": [
        {
          "output_type": "stream",
          "name": "stdout",
          "text": [
            "/content/ControlNet\n"
          ]
        }
      ]
    },
    {
      "cell_type": "code",
      "source": [
        "%%writefile config.py\n",
        "save_memory = True"
      ],
      "metadata": {
        "colab": {
          "base_uri": "https://localhost:8080/"
        },
        "id": "QBjXEfHD08V2",
        "outputId": "1e167862-68c3-4cb9-8670-4913a564d8a7"
      },
      "execution_count": null,
      "outputs": [
        {
          "output_type": "stream",
          "name": "stdout",
          "text": [
            "Overwriting config.py\n"
          ]
        }
      ]
    },
    {
      "cell_type": "code",
      "source": [
        "with open('gradio_annotator.py') as inputfile:\n",
        "   lines = inputfile.read()\n",
        "lines = lines.replace(\"block.launch(server_name='0.0.0.0')\",\n",
        "                      \"block.launch(server_name='0.0.0.0', share=True)\")\n",
        "with open('gradio_annotator.py', 'w') as inputfile:\n",
        "   inputfile.write(lines)\n",
        "\n",
        "with open('gradio_seg2image.py') as inputfile:\n",
        "   lines = inputfile.read()\n",
        "lines = lines.replace(\"block.launch(server_name='0.0.0.0')\",\n",
        "                      \"block.launch(server_name='0.0.0.0', share=True)\")\n",
        "with open('gradio_seg2image.py', 'w') as inputfile:\n",
        "   inputfile.write(lines)\n",
        "\n",
        "with open('gradio_canny2image.py') as inputfile:\n",
        "   lines = inputfile.read()\n",
        "lines = lines.replace(\"block.launch(server_name='0.0.0.0')\",\n",
        "                      \"block.launch(server_name='0.0.0.0', share=True)\")\n",
        "with open('gradio_canny2image.py', 'w') as inputfile:\n",
        "   inputfile.write(lines)\n",
        "\n",
        "with open('gradio_depth2image.py') as inputfile:\n",
        "   lines = inputfile.read()\n",
        "lines = lines.replace(\"block.launch(server_name='0.0.0.0')\",\n",
        "                      \"block.launch(server_name='0.0.0.0', share=True)\")\n",
        "with open('gradio_depth2image.py', 'w') as inputfile:\n",
        "   inputfile.write(lines)\n",
        "\n",
        "with open('gradio_fake_scribble2image.py') as inputfile:\n",
        "   lines = inputfile.read()\n",
        "lines = lines.replace(\"block.launch(server_name='0.0.0.0')\",\n",
        "                      \"block.launch(server_name='0.0.0.0', share=True)\")\n",
        "with open('gradio_fake_scribble2image.py', 'w') as inputfile:\n",
        "   inputfile.write(lines)\n",
        "\n",
        "with open('gradio_hed2image.py') as inputfile:\n",
        "   lines = inputfile.read()\n",
        "lines = lines.replace(\"block.launch(server_name='0.0.0.0')\",\n",
        "                      \"block.launch(server_name='0.0.0.0', share=True)\")\n",
        "with open('gradio_hed2image.py', 'w') as inputfile:\n",
        "   inputfile.write(lines)\n",
        "\n",
        "with open('gradio_hough2image.py') as inputfile:\n",
        "   lines = inputfile.read()\n",
        "lines = lines.replace(\"block.launch(server_name='0.0.0.0')\",\n",
        "                      \"block.launch(server_name='0.0.0.0', share=True)\")\n",
        "with open('gradio_hough2image.py', 'w') as inputfile:\n",
        "   inputfile.write(lines)\n",
        "\n",
        "with open('gradio_normal2image.py') as inputfile:\n",
        "   lines = inputfile.read()\n",
        "lines = lines.replace(\"block.launch(server_name='0.0.0.0')\",\n",
        "                      \"block.launch(server_name='0.0.0.0', share=True)\")\n",
        "with open('gradio_normal2image.py', 'w') as inputfile:\n",
        "   inputfile.write(lines)\n",
        "\n",
        "with open('gradio_pose2image.py') as inputfile:\n",
        "   lines = inputfile.read()\n",
        "lines = lines.replace(\"block.launch(server_name='0.0.0.0')\",\n",
        "                      \"block.launch(server_name='0.0.0.0', share=True)\")\n",
        "with open('gradio_pose2image.py', 'w') as inputfile:\n",
        "   inputfile.write(lines)\n",
        "\n",
        "with open('gradio_scribble2image.py') as inputfile:\n",
        "   lines = inputfile.read()\n",
        "lines = lines.replace(\"block.launch(server_name='0.0.0.0')\",\n",
        "                      \"block.launch(server_name='0.0.0.0', share=True)\")\n",
        "with open('gradio_scribble2image.py', 'w') as inputfile:\n",
        "   inputfile.write(lines)\n",
        "\n",
        "with open('gradio_scribble2image_interactive.py') as inputfile:\n",
        "   lines = inputfile.read()\n",
        "lines = lines.replace(\"block.launch(server_name='0.0.0.0')\",\n",
        "                      \"block.launch(server_name='0.0.0.0', share=True)\")\n",
        "with open('gradio_scribble2image_interactive.py', 'w') as inputfile:\n",
        "   inputfile.write(lines)"
      ],
      "metadata": {
        "id": "PJPAATTocegs"
      },
      "execution_count": null,
      "outputs": []
    },
    {
      "cell_type": "code",
      "source": [
        "!python gradio_canny2image.py\n",
        "# !python gradio_seg2image.py\n",
        "# !python gradio_hed2image.py"
      ],
      "metadata": {
        "colab": {
          "base_uri": "https://localhost:8080/"
        },
        "id": "cEP_P0qbV-MD",
        "outputId": "eb0d38ec-6bee-4604-8abe-2fed7a039150"
      },
      "execution_count": null,
      "outputs": [
        {
          "metadata": {
            "tags": null
          },
          "name": "stdout",
          "output_type": "stream",
          "text": [
            "/usr/local/lib/python3.10/dist-packages/xformers/ops/fmha/flash.py:211: FutureWarning: `torch.library.impl_abstract` was renamed to `torch.library.register_fake`. Please use that instead; we will remove `torch.library.impl_abstract` in a future version of PyTorch.\n",
            "  @torch.library.impl_abstract(\"xformers_flash::flash_fwd\")\n",
            "/usr/local/lib/python3.10/dist-packages/xformers/ops/fmha/flash.py:344: FutureWarning: `torch.library.impl_abstract` was renamed to `torch.library.register_fake`. Please use that instead; we will remove `torch.library.impl_abstract` in a future version of PyTorch.\n",
            "  @torch.library.impl_abstract(\"xformers_flash::flash_bwd\")\n",
            "logging improved.\n",
            "Enabled sliced_attention.\n",
            "/usr/local/lib/python3.10/dist-packages/pytorch_lightning/utilities/distributed.py:258: LightningDeprecationWarning: `pytorch_lightning.utilities.distributed.rank_zero_only` has been deprecated in v1.8.1 and will be removed in v2.0.0. You can import it from `pytorch_lightning.utilities` instead.\n",
            "  rank_zero_deprecation(\n",
            "ControlLDM: Running in eps-prediction mode\n",
            "Setting up MemoryEfficientCrossAttention. Query dim is 320, context_dim is None and using 8 heads.\n",
            "Setting up MemoryEfficientCrossAttention. Query dim is 320, context_dim is 768 and using 8 heads.\n",
            "Setting up MemoryEfficientCrossAttention. Query dim is 320, context_dim is None and using 8 heads.\n",
            "Setting up MemoryEfficientCrossAttention. Query dim is 320, context_dim is 768 and using 8 heads.\n",
            "Setting up MemoryEfficientCrossAttention. Query dim is 640, context_dim is None and using 8 heads.\n",
            "Setting up MemoryEfficientCrossAttention. Query dim is 640, context_dim is 768 and using 8 heads.\n",
            "Setting up MemoryEfficientCrossAttention. Query dim is 640, context_dim is None and using 8 heads.\n",
            "Setting up MemoryEfficientCrossAttention. Query dim is 640, context_dim is 768 and using 8 heads.\n",
            "Setting up MemoryEfficientCrossAttention. Query dim is 1280, context_dim is None and using 8 heads.\n",
            "Setting up MemoryEfficientCrossAttention. Query dim is 1280, context_dim is 768 and using 8 heads.\n",
            "Setting up MemoryEfficientCrossAttention. Query dim is 1280, context_dim is None and using 8 heads.\n",
            "Setting up MemoryEfficientCrossAttention. Query dim is 1280, context_dim is 768 and using 8 heads.\n",
            "Setting up MemoryEfficientCrossAttention. Query dim is 1280, context_dim is None and using 8 heads.\n",
            "Setting up MemoryEfficientCrossAttention. Query dim is 1280, context_dim is 768 and using 8 heads.\n",
            "Setting up MemoryEfficientCrossAttention. Query dim is 1280, context_dim is None and using 8 heads.\n",
            "Setting up MemoryEfficientCrossAttention. Query dim is 1280, context_dim is 768 and using 8 heads.\n",
            "Setting up MemoryEfficientCrossAttention. Query dim is 1280, context_dim is None and using 8 heads.\n",
            "Setting up MemoryEfficientCrossAttention. Query dim is 1280, context_dim is 768 and using 8 heads.\n",
            "Setting up MemoryEfficientCrossAttention. Query dim is 1280, context_dim is None and using 8 heads.\n",
            "Setting up MemoryEfficientCrossAttention. Query dim is 1280, context_dim is 768 and using 8 heads.\n",
            "Setting up MemoryEfficientCrossAttention. Query dim is 640, context_dim is None and using 8 heads.\n",
            "Setting up MemoryEfficientCrossAttention. Query dim is 640, context_dim is 768 and using 8 heads.\n",
            "Setting up MemoryEfficientCrossAttention. Query dim is 640, context_dim is None and using 8 heads.\n",
            "Setting up MemoryEfficientCrossAttention. Query dim is 640, context_dim is 768 and using 8 heads.\n",
            "Setting up MemoryEfficientCrossAttention. Query dim is 640, context_dim is None and using 8 heads.\n",
            "Setting up MemoryEfficientCrossAttention. Query dim is 640, context_dim is 768 and using 8 heads.\n",
            "Setting up MemoryEfficientCrossAttention. Query dim is 320, context_dim is None and using 8 heads.\n",
            "Setting up MemoryEfficientCrossAttention. Query dim is 320, context_dim is 768 and using 8 heads.\n",
            "Setting up MemoryEfficientCrossAttention. Query dim is 320, context_dim is None and using 8 heads.\n",
            "Setting up MemoryEfficientCrossAttention. Query dim is 320, context_dim is 768 and using 8 heads.\n",
            "Setting up MemoryEfficientCrossAttention. Query dim is 320, context_dim is None and using 8 heads.\n",
            "Setting up MemoryEfficientCrossAttention. Query dim is 320, context_dim is 768 and using 8 heads.\n",
            "DiffusionWrapper has 859.52 M params.\n",
            "making attention of type 'vanilla-xformers' with 512 in_channels\n",
            "building MemoryEfficientAttnBlock with 512 in_channels...\n",
            "Working with z of shape (1, 4, 32, 32) = 4096 dimensions.\n",
            "making attention of type 'vanilla-xformers' with 512 in_channels\n",
            "building MemoryEfficientAttnBlock with 512 in_channels...\n",
            "/usr/local/lib/python3.10/dist-packages/transformers/modeling_utils.py:392: FutureWarning: You are using `torch.load` with `weights_only=False` (the current default value), which uses the default pickle module implicitly. It is possible to construct malicious pickle data which will execute arbitrary code during unpickling (See https://github.com/pytorch/pytorch/blob/main/SECURITY.md#untrusted-models for more details). In a future release, the default value for `weights_only` will be flipped to `True`. This limits the functions that could be executed during unpickling. Arbitrary objects will no longer be allowed to be loaded via this mode unless they are explicitly allowlisted by the user via `torch.serialization.add_safe_globals`. We recommend you start setting `weights_only=True` for any use case where you don't have full control of the loaded file. Please open an issue on GitHub for any issues related to this experimental feature.\n",
            "  return torch.load(checkpoint_file, map_location=\"cpu\")\n",
            "Setting up MemoryEfficientCrossAttention. Query dim is 320, context_dim is None and using 8 heads.\n",
            "Setting up MemoryEfficientCrossAttention. Query dim is 320, context_dim is 768 and using 8 heads.\n",
            "Setting up MemoryEfficientCrossAttention. Query dim is 320, context_dim is None and using 8 heads.\n",
            "Setting up MemoryEfficientCrossAttention. Query dim is 320, context_dim is 768 and using 8 heads.\n",
            "Setting up MemoryEfficientCrossAttention. Query dim is 640, context_dim is None and using 8 heads.\n",
            "Setting up MemoryEfficientCrossAttention. Query dim is 640, context_dim is 768 and using 8 heads.\n",
            "Setting up MemoryEfficientCrossAttention. Query dim is 640, context_dim is None and using 8 heads.\n",
            "Setting up MemoryEfficientCrossAttention. Query dim is 640, context_dim is 768 and using 8 heads.\n",
            "Setting up MemoryEfficientCrossAttention. Query dim is 1280, context_dim is None and using 8 heads.\n",
            "Setting up MemoryEfficientCrossAttention. Query dim is 1280, context_dim is 768 and using 8 heads.\n",
            "Setting up MemoryEfficientCrossAttention. Query dim is 1280, context_dim is None and using 8 heads.\n",
            "Setting up MemoryEfficientCrossAttention. Query dim is 1280, context_dim is 768 and using 8 heads.\n",
            "Setting up MemoryEfficientCrossAttention. Query dim is 1280, context_dim is None and using 8 heads.\n",
            "Setting up MemoryEfficientCrossAttention. Query dim is 1280, context_dim is 768 and using 8 heads.\n",
            "Loaded model config from [./models/cldm_v15.yaml]\n",
            "/content/ControlNet/cldm/model.py:18: FutureWarning: You are using `torch.load` with `weights_only=False` (the current default value), which uses the default pickle module implicitly. It is possible to construct malicious pickle data which will execute arbitrary code during unpickling (See https://github.com/pytorch/pytorch/blob/main/SECURITY.md#untrusted-models for more details). In a future release, the default value for `weights_only` will be flipped to `True`. This limits the functions that could be executed during unpickling. Arbitrary objects will no longer be allowed to be loaded via this mode unless they are explicitly allowlisted by the user via `torch.serialization.add_safe_globals`. We recommend you start setting `weights_only=True` for any use case where you don't have full control of the loaded file. Please open an issue on GitHub for any issues related to this experimental feature.\n",
            "  state_dict = get_state_dict(torch.load(ckpt_path, map_location=torch.device(location)))\n",
            "Loaded state_dict from [./models/control_sd15_canny.pth]\n",
            "Running on local URL:  http://0.0.0.0:7860\n",
            "Running on public URL: https://df9f0e11-d62c-4afd.gradio.live\n",
            "\n",
            "This share link expires in 72 hours. For free permanent hosting and GPU upgrades (NEW!), check out Spaces: https://huggingface.co/spaces\n",
            "Task exception was never retrieved\n",
            "future: <Task finished name='n5fkht2bgml_0' coro=<Queue.process_events() done, defined at /usr/local/lib/python3.10/dist-packages/gradio/queueing.py:324> exception=AssertionError('No event data')>\n",
            "Traceback (most recent call last):\n",
            "  File \"/usr/local/lib/python3.10/dist-packages/gradio/queueing.py\", line 338, in process_events\n",
            "    response = await self.call_prediction(awake_events, batch)\n",
            "  File \"/usr/local/lib/python3.10/dist-packages/gradio/queueing.py\", line 298, in call_prediction\n",
            "    assert data is not None, \"No event data\"\n",
            "AssertionError: No event data\n",
            "Task exception was never retrieved\n",
            "future: <Task finished name='n5fkht2bgml_1' coro=<Queue.process_events() done, defined at /usr/local/lib/python3.10/dist-packages/gradio/queueing.py:324> exception=AssertionError('No event data')>\n",
            "Traceback (most recent call last):\n",
            "  File \"/usr/local/lib/python3.10/dist-packages/gradio/queueing.py\", line 338, in process_events\n",
            "    response = await self.call_prediction(awake_events, batch)\n",
            "  File \"/usr/local/lib/python3.10/dist-packages/gradio/queueing.py\", line 298, in call_prediction\n",
            "    assert data is not None, \"No event data\"\n",
            "AssertionError: No event data\n",
            "Task exception was never retrieved\n",
            "future: <Task finished name='odk3ff1mgtf_0' coro=<Queue.process_events() done, defined at /usr/local/lib/python3.10/dist-packages/gradio/queueing.py:324> exception=AssertionError('No event data')>\n",
            "Traceback (most recent call last):\n",
            "  File \"/usr/local/lib/python3.10/dist-packages/gradio/queueing.py\", line 338, in process_events\n",
            "    response = await self.call_prediction(awake_events, batch)\n",
            "  File \"/usr/local/lib/python3.10/dist-packages/gradio/queueing.py\", line 298, in call_prediction\n",
            "    assert data is not None, \"No event data\"\n",
            "AssertionError: No event data\n"
          ]
        }
      ]
    },
    {
      "cell_type": "code",
      "source": [],
      "metadata": {
        "id": "O5pakxbExZKn"
      },
      "execution_count": null,
      "outputs": []
    }
  ]
}