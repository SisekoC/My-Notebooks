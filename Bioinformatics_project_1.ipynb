{
  "nbformat": 4,
  "nbformat_minor": 0,
  "metadata": {
    "colab": {
      "provenance": [],
      "authorship_tag": "ABX9TyNKod1FWQHFSdXsNRlqGuEe",
      "include_colab_link": true
    },
    "kernelspec": {
      "name": "python3",
      "display_name": "Python 3"
    },
    "language_info": {
      "name": "python"
    }
  },
  "cells": [
    {
      "cell_type": "markdown",
      "metadata": {
        "id": "view-in-github",
        "colab_type": "text"
      },
      "source": [
        "<a href=\"https://colab.research.google.com/github/SisekoC/My-Notebooks/blob/main/Bioinformatics_project_1.ipynb\" target=\"_parent\"><img src=\"https://colab.research.google.com/assets/colab-badge.svg\" alt=\"Open In Colab\"/></a>"
      ]
    },
    {
      "cell_type": "code",
      "execution_count": 1,
      "metadata": {
        "colab": {
          "base_uri": "https://localhost:8080/"
        },
        "id": "V5Dbxw0i4BfD",
        "outputId": "2d1824b8-327a-40ae-a65d-c6a092e51a82"
      },
      "outputs": [
        {
          "output_type": "stream",
          "name": "stdout",
          "text": [
            "DNA Sequence: ATGCGTACGTA\n",
            "Valid DNA Sequence: True\n",
            "DNA Reverse Complement: TACGTACGCAT\n",
            "RNA Sequence: AUGCGUACGUA\n",
            "Valid RNA Sequence: True\n",
            "RNA Reverse Complement: UACGUACGCAU\n",
            "Protein Sequence: MRTYQKPAEDGWTMIEQKRYF\n",
            "Valid Protein Sequence: True\n"
          ]
        }
      ],
      "source": [
        "class MySeq:\n",
        "    \"\"\"Class for biological sequences.\"\"\"\n",
        "\n",
        "    def __init__(self, seq, seq_type=\"DNA\"):\n",
        "        self.seq = seq.upper()\n",
        "        self.seq_type = seq_type\n",
        "\n",
        "    def __len__(self):\n",
        "        return len(self.seq)\n",
        "\n",
        "    def __getitem__(self, n):\n",
        "        return self.seq[n]\n",
        "\n",
        "    def __getslice__(self, i, j):\n",
        "        return self.seq[i:j]\n",
        "\n",
        "    def __str__(self):\n",
        "        return self.seq\n",
        "\n",
        "    def get_seq_biotype(self):\n",
        "        return self.seq_type\n",
        "\n",
        "    def show_info_seq(self):\n",
        "        print(f\"Sequence: {self.seq} biotype: {self.seq_type}\")\n",
        "\n",
        "    def alphabet(self):\n",
        "        return None\n",
        "\n",
        "    def validate(self):\n",
        "        alp = self.alphabet()\n",
        "        res = True\n",
        "        i = 0\n",
        "        while i < len(self.seq) and res:\n",
        "            if self.seq[i] not in alp:\n",
        "                res = False\n",
        "            else:\n",
        "                i += 1\n",
        "        return res\n",
        "\n",
        "\n",
        "class DNASeq(MySeq):\n",
        "    \"\"\"Class for DNA sequences.\"\"\"\n",
        "\n",
        "    def __init__(self, seq):\n",
        "        super().__init__(seq, \"DNA\")\n",
        "\n",
        "    def alphabet(self):\n",
        "        return \"ACGT\"\n",
        "\n",
        "    def transcription(self):\n",
        "        return RNASeq(self.seq.replace(\"T\", \"U\"))\n",
        "\n",
        "    def reverse_comp(self):\n",
        "        comp = {\"A\": \"T\", \"T\": \"A\", \"C\": \"G\", \"G\": \"C\"}\n",
        "        rev_comp_seq = \"\".join(comp[base] for base in reversed(self.seq))\n",
        "        return DNASeq(rev_comp_seq)\n",
        "\n",
        "\n",
        "class RNASeq(MySeq):\n",
        "    \"\"\"Class for RNA sequences.\"\"\"\n",
        "\n",
        "    def __init__(self, seq):\n",
        "        super().__init__(seq, \"RNA\")\n",
        "\n",
        "    def alphabet(self):\n",
        "        return \"ACGU\"\n",
        "\n",
        "    def reverse_comp(self):\n",
        "        comp = {\"A\": \"U\", \"U\": \"A\", \"C\": \"G\", \"G\": \"C\"}\n",
        "        rev_comp_seq = \"\".join(comp[base] for base in reversed(self.seq))\n",
        "        return RNASeq(rev_comp_seq)\n",
        "\n",
        "\n",
        "class ProteinSeq(MySeq):\n",
        "    \"\"\"Class for Protein sequences.\"\"\"\n",
        "\n",
        "    def __init__(self, seq):\n",
        "        super().__init__(seq, \"PROTEIN\")\n",
        "\n",
        "    def alphabet(self):\n",
        "        return \"ACDEFGHIKLMNPQRSTVWY\"\n",
        "\n",
        "\n",
        "# Example usage\n",
        "dna_seq = DNASeq(\"ATGCGTACGTA\")\n",
        "rna_seq = dna_seq.transcription()\n",
        "protein_seq = ProteinSeq(\"MRTYQKPAEDGWTMIEQKRYF\")\n",
        "\n",
        "print(\"DNA Sequence:\", dna_seq)\n",
        "print(\"Valid DNA Sequence:\", dna_seq.validate())\n",
        "print(\"DNA Reverse Complement:\", dna_seq.reverse_comp())\n",
        "\n",
        "print(\"RNA Sequence:\", rna_seq)\n",
        "print(\"Valid RNA Sequence:\", rna_seq.validate())\n",
        "print(\"RNA Reverse Complement:\", rna_seq.reverse_comp())\n",
        "\n",
        "print(\"Protein Sequence:\", protein_seq)\n",
        "print(\"Valid Protein Sequence:\", protein_seq.validate())\n"
      ]
    },
    {
      "cell_type": "code",
      "source": [],
      "metadata": {
        "id": "p1ZzTUsO4SVl"
      },
      "execution_count": null,
      "outputs": []
    }
  ]
}